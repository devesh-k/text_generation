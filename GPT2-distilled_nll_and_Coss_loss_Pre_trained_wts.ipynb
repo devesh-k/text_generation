{
 "cells": [
  {
   "cell_type": "markdown",
   "id": "ff3de735",
   "metadata": {},
   "source": [
    "## In this notebook, we scale the Cosine with (1-lambda)  "
   ]
  },
  {
   "cell_type": "code",
   "execution_count": null,
   "id": "aac992e1",
   "metadata": {},
   "outputs": [],
   "source": []
  },
  {
   "cell_type": "code",
   "execution_count": 1,
   "id": "b6492f3e",
   "metadata": {
    "scrolled": true
   },
   "outputs": [
    {
     "name": "stdout",
     "output_type": "stream",
     "text": [
      "Looking in indexes: https://pypi.org/simple, https://pypi.ngc.nvidia.com\n",
      "Requirement already satisfied: jupyter in /opt/conda/lib/python3.8/site-packages (1.0.0)\n",
      "Requirement already satisfied: ipywidgets in /opt/conda/lib/python3.8/site-packages (8.1.3)\n",
      "Requirement already satisfied: nbconvert in /opt/conda/lib/python3.8/site-packages (from jupyter) (6.3.0)\n",
      "Requirement already satisfied: qtconsole in /opt/conda/lib/python3.8/site-packages (from jupyter) (5.5.2)\n",
      "Requirement already satisfied: ipykernel in /opt/conda/lib/python3.8/site-packages (from jupyter) (6.29.5)\n",
      "Requirement already satisfied: jupyter-console in /opt/conda/lib/python3.8/site-packages (from jupyter) (6.6.3)\n",
      "Requirement already satisfied: notebook in /opt/conda/lib/python3.8/site-packages (from jupyter) (6.4.1)\n",
      "Requirement already satisfied: widgetsnbextension~=4.0.11 in /opt/conda/lib/python3.8/site-packages (from ipywidgets) (4.0.11)\n",
      "Requirement already satisfied: jupyterlab-widgets~=3.0.11 in /opt/conda/lib/python3.8/site-packages (from ipywidgets) (3.0.11)\n",
      "Requirement already satisfied: comm>=0.1.3 in /opt/conda/lib/python3.8/site-packages (from ipywidgets) (0.2.2)\n",
      "Requirement already satisfied: ipython>=6.1.0 in /opt/conda/lib/python3.8/site-packages (from ipywidgets) (7.30.0)\n",
      "Requirement already satisfied: traitlets>=4.3.1 in /opt/conda/lib/python3.8/site-packages (from ipywidgets) (5.14.3)\n",
      "Requirement already satisfied: pexpect>4.3 in /opt/conda/lib/python3.8/site-packages (from ipython>=6.1.0->ipywidgets) (4.8.0)\n",
      "Requirement already satisfied: backcall in /opt/conda/lib/python3.8/site-packages (from ipython>=6.1.0->ipywidgets) (0.2.0)\n",
      "Requirement already satisfied: jedi>=0.16 in /opt/conda/lib/python3.8/site-packages (from ipython>=6.1.0->ipywidgets) (0.18.1)\n",
      "Requirement already satisfied: pygments in /opt/conda/lib/python3.8/site-packages (from ipython>=6.1.0->ipywidgets) (2.10.0)\n",
      "Requirement already satisfied: matplotlib-inline in /opt/conda/lib/python3.8/site-packages (from ipython>=6.1.0->ipywidgets) (0.1.3)\n",
      "Requirement already satisfied: pickleshare in /opt/conda/lib/python3.8/site-packages (from ipython>=6.1.0->ipywidgets) (0.7.5)\n",
      "Requirement already satisfied: setuptools>=18.5 in /opt/conda/lib/python3.8/site-packages (from ipython>=6.1.0->ipywidgets) (59.4.0)\n",
      "Requirement already satisfied: decorator in /opt/conda/lib/python3.8/site-packages (from ipython>=6.1.0->ipywidgets) (5.1.0)\n",
      "Requirement already satisfied: prompt-toolkit!=3.0.0,!=3.0.1,<3.1.0,>=2.0.0 in /opt/conda/lib/python3.8/site-packages (from ipython>=6.1.0->ipywidgets) (3.0.47)\n",
      "Requirement already satisfied: parso<0.9.0,>=0.8.0 in /opt/conda/lib/python3.8/site-packages (from jedi>=0.16->ipython>=6.1.0->ipywidgets) (0.8.3)\n",
      "Requirement already satisfied: ptyprocess>=0.5 in /opt/conda/lib/python3.8/site-packages (from pexpect>4.3->ipython>=6.1.0->ipywidgets) (0.7.0)\n",
      "Requirement already satisfied: wcwidth in /opt/conda/lib/python3.8/site-packages (from prompt-toolkit!=3.0.0,!=3.0.1,<3.1.0,>=2.0.0->ipython>=6.1.0->ipywidgets) (0.2.5)\n",
      "Requirement already satisfied: psutil in /opt/conda/lib/python3.8/site-packages (from ipykernel->jupyter) (5.8.0)\n",
      "Requirement already satisfied: packaging in /opt/conda/lib/python3.8/site-packages (from ipykernel->jupyter) (21.3)\n",
      "Requirement already satisfied: tornado>=6.1 in /opt/conda/lib/python3.8/site-packages (from ipykernel->jupyter) (6.1)\n",
      "Requirement already satisfied: jupyter-client>=6.1.12 in /opt/conda/lib/python3.8/site-packages (from ipykernel->jupyter) (7.1.0)\n",
      "Requirement already satisfied: jupyter-core!=5.0.*,>=4.12 in /opt/conda/lib/python3.8/site-packages (from ipykernel->jupyter) (5.7.2)\n",
      "Requirement already satisfied: debugpy>=1.6.5 in /opt/conda/lib/python3.8/site-packages (from ipykernel->jupyter) (1.8.2)\n",
      "Requirement already satisfied: pyzmq>=24 in /opt/conda/lib/python3.8/site-packages (from ipykernel->jupyter) (26.0.3)\n",
      "Requirement already satisfied: nest-asyncio in /opt/conda/lib/python3.8/site-packages (from ipykernel->jupyter) (1.5.4)\n",
      "Requirement already satisfied: entrypoints in /opt/conda/lib/python3.8/site-packages (from jupyter-client>=6.1.12->ipykernel->jupyter) (0.3)\n",
      "Requirement already satisfied: python-dateutil>=2.1 in /opt/conda/lib/python3.8/site-packages (from jupyter-client>=6.1.12->ipykernel->jupyter) (2.8.2)\n",
      "Requirement already satisfied: platformdirs>=2.5 in /opt/conda/lib/python3.8/site-packages (from jupyter-core!=5.0.*,>=4.12->ipykernel->jupyter) (4.2.2)\n",
      "Requirement already satisfied: six>=1.5 in /opt/conda/lib/python3.8/site-packages (from python-dateutil>=2.1->jupyter-client>=6.1.12->ipykernel->jupyter) (1.16.0)\n",
      "Requirement already satisfied: nbclient<0.6.0,>=0.5.0 in /opt/conda/lib/python3.8/site-packages (from nbconvert->jupyter) (0.5.9)\n",
      "Requirement already satisfied: bleach in /opt/conda/lib/python3.8/site-packages (from nbconvert->jupyter) (4.1.0)\n",
      "Requirement already satisfied: testpath in /opt/conda/lib/python3.8/site-packages (from nbconvert->jupyter) (0.5.0)\n",
      "Requirement already satisfied: defusedxml in /opt/conda/lib/python3.8/site-packages (from nbconvert->jupyter) (0.7.1)\n",
      "Requirement already satisfied: pandocfilters>=1.4.1 in /opt/conda/lib/python3.8/site-packages (from nbconvert->jupyter) (1.5.0)\n",
      "Requirement already satisfied: jupyterlab-pygments in /opt/conda/lib/python3.8/site-packages (from nbconvert->jupyter) (0.1.2)\n",
      "Requirement already satisfied: jinja2>=2.4 in /opt/conda/lib/python3.8/site-packages (from nbconvert->jupyter) (3.0.3)\n",
      "Requirement already satisfied: mistune<2,>=0.8.1 in /opt/conda/lib/python3.8/site-packages (from nbconvert->jupyter) (0.8.4)\n",
      "Requirement already satisfied: nbformat>=4.4 in /opt/conda/lib/python3.8/site-packages (from nbconvert->jupyter) (5.1.3)\n",
      "Requirement already satisfied: MarkupSafe>=2.0 in /opt/conda/lib/python3.8/site-packages (from jinja2>=2.4->nbconvert->jupyter) (2.0.1)\n",
      "Requirement already satisfied: jsonschema!=2.5.0,>=2.4 in /opt/conda/lib/python3.8/site-packages (from nbformat>=4.4->nbconvert->jupyter) (4.2.1)\n",
      "Requirement already satisfied: ipython-genutils in /opt/conda/lib/python3.8/site-packages (from nbformat>=4.4->nbconvert->jupyter) (0.2.0)\n",
      "Requirement already satisfied: attrs>=17.4.0 in /opt/conda/lib/python3.8/site-packages (from jsonschema!=2.5.0,>=2.4->nbformat>=4.4->nbconvert->jupyter) (21.2.0)\n",
      "Requirement already satisfied: importlib-resources>=1.4.0 in /opt/conda/lib/python3.8/site-packages (from jsonschema!=2.5.0,>=2.4->nbformat>=4.4->nbconvert->jupyter) (5.4.0)\n",
      "Requirement already satisfied: pyrsistent!=0.17.0,!=0.17.1,!=0.17.2,>=0.14.0 in /opt/conda/lib/python3.8/site-packages (from jsonschema!=2.5.0,>=2.4->nbformat>=4.4->nbconvert->jupyter) (0.18.0)\n",
      "Requirement already satisfied: zipp>=3.1.0 in /opt/conda/lib/python3.8/site-packages (from importlib-resources>=1.4.0->jsonschema!=2.5.0,>=2.4->nbformat>=4.4->nbconvert->jupyter) (3.6.0)\n",
      "Requirement already satisfied: webencodings in /opt/conda/lib/python3.8/site-packages (from bleach->nbconvert->jupyter) (0.5.1)\n",
      "Requirement already satisfied: prometheus-client in /opt/conda/lib/python3.8/site-packages (from notebook->jupyter) (0.12.0)\n",
      "Requirement already satisfied: argon2-cffi in /opt/conda/lib/python3.8/site-packages (from notebook->jupyter) (21.1.0)\n",
      "Requirement already satisfied: terminado>=0.8.3 in /opt/conda/lib/python3.8/site-packages (from notebook->jupyter) (0.12.1)\n",
      "Requirement already satisfied: Send2Trash>=1.5.0 in /opt/conda/lib/python3.8/site-packages (from notebook->jupyter) (1.8.0)\n",
      "Requirement already satisfied: cffi>=1.0.0 in /opt/conda/lib/python3.8/site-packages (from argon2-cffi->notebook->jupyter) (1.15.0)\n",
      "Requirement already satisfied: pycparser in /opt/conda/lib/python3.8/site-packages (from cffi>=1.0.0->argon2-cffi->notebook->jupyter) (2.21)\n",
      "Requirement already satisfied: pyparsing!=3.0.5,>=2.0.2 in /opt/conda/lib/python3.8/site-packages (from packaging->ipykernel->jupyter) (3.0.6)\n",
      "Requirement already satisfied: qtpy>=2.4.0 in /opt/conda/lib/python3.8/site-packages (from qtconsole->jupyter) (2.4.1)\n",
      "\u001b[33mWARNING: Running pip as the 'root' user can result in broken permissions and conflicting behaviour with the system package manager. It is recommended to use a virtual environment instead: https://pip.pypa.io/warnings/venv\u001b[0m\n"
     ]
    }
   ],
   "source": [
    "#installing some libraries\n",
    "!pip install --upgrade jupyter ipywidgets\n",
    "\n"
   ]
  },
  {
   "cell_type": "code",
   "execution_count": 2,
   "id": "b528c179",
   "metadata": {},
   "outputs": [],
   "source": [
    "import matplotlib.pyplot as plt\n",
    "import seaborn as sns\n",
    "import torch, transformers\n",
    "from torch.utils.data import Dataset, DataLoader\n",
    "from transformers import AutoTokenizer\n",
    "from transformers import PreTrainedModel, PretrainedConfig\n",
    "from transformers import AutoModel, AutoConfig,AutoModelForCausalLM, AutoConfig\n",
    "\n",
    "\n",
    "import torch.nn as nn\n",
    "import torch.nn.functional as F\n",
    "#from datasets import load_dataset\n",
    "import pandas as pd, numpy as np\n",
    "from torch import cuda\n",
    "import datetime\n",
    "import warnings,itertools\n",
    "from torch.optim.lr_scheduler import LambdaLR\n",
    "from torch.cuda.amp import autocast, GradScaler\n",
    "import json,math\n",
    "pre_train = False\n",
    "\n",
    "# Ignore all warnings\n",
    "warnings.filterwarnings('ignore')\n",
    "#pip install transformers bitsandbytes>=0.39.0 -q\n",
    "import zipfile,logging"
   ]
  },
  {
   "cell_type": "code",
   "execution_count": 3,
   "id": "2909a93e",
   "metadata": {},
   "outputs": [
    {
     "name": "stdout",
     "output_type": "stream",
     "text": [
      "cuda:0\n"
     ]
    }
   ],
   "source": [
    "#global params for training\n",
    "\n",
    "B,T = 32,1024\n",
    "epoch = 50\n",
    "# this controls whether we are using pre-trained wts or not\n",
    "random_init_wts = False\n",
    "nll_learning_steps = int(epoch/3)\n",
    "if cuda.is_available():\n",
    "    device = torch.device('cuda:0')\n",
    "    print(device)\n",
    "else:\n",
    "    device = 'cpu'\n",
    "import os\n",
    "os.environ[\"TOKENIZERS_PARALLELISM\"] = \"true\"\n",
    "# these 2 global vars help track the training and val loss\n",
    "#directory to save wts\n",
    "model_path = os.path.join(\"model\")\n"
   ]
  },
  {
   "cell_type": "code",
   "execution_count": 4,
   "id": "052a7f47",
   "metadata": {},
   "outputs": [
    {
     "data": {
      "text/plain": [
       "'./data/unzip_text_10M'"
      ]
     },
     "execution_count": 4,
     "metadata": {},
     "output_type": "execute_result"
    }
   ],
   "source": [
    "directory = os.path.join('.','data','unzip_text_10M')  # Replace with your directory path\n",
    "directory"
   ]
  },
  {
   "cell_type": "code",
   "execution_count": 5,
   "id": "cd63f423",
   "metadata": {},
   "outputs": [],
   "source": [
    "def read_text(directory):\n",
    "    \"\"\"This function loads the dataset,provided in the zipped format and stores all the text files in list\n",
    "    each file has its contents stored as an item in list and at the end we concatenate all the sub-lists to create a flattened list and return it\"\"\"\n",
    "    directory = os.path.join('.','data','unzip_text_10M',str(directory))  # Replace with your directory path\n",
    "    print(f\"directory :{directory}\")\n",
    "    # List all files in the directory\n",
    "    files = [f for f in os.listdir(directory) if os.path.isfile(os.path.join(directory, f))]\n",
    "    print(f\"files:{files}\")\n",
    "    text_content = []\n",
    "    # Read each file\n",
    "    total_lines = 0\n",
    "    for filenum,filename in enumerate(files):\n",
    "        file_path = os.path.join(directory, filename)\n",
    "        with open(file_path, 'r', encoding='utf-8') as file:\n",
    "            text = file.read()\n",
    "            text_content.append(text)\n",
    "            print(f\"the file:{filename} has been appeneded to the uber list and its length is {len(text_content)} \")\n",
    "            \n",
    "    \n",
    "    flattened_list = ''.join(text_content)\n",
    "    assert (len(flattened_list) == total_lines , f\"Expected {len(flattened_list)} to be equal to {total_lines}\" )\n",
    "    \n",
    "    return flattened_list\n",
    "\n",
    "    "
   ]
  },
  {
   "cell_type": "code",
   "execution_count": 6,
   "id": "c443c7f7",
   "metadata": {},
   "outputs": [
    {
     "name": "stdout",
     "output_type": "stream",
     "text": [
      "directory :./data/unzip_text_10M/train_10M\n",
      "files:['switchboard.train', 'simple_wiki.train', 'open_subtitles.train', 'gutenberg.train', 'childes.train', 'bnc_spoken.train']\n",
      "the file:switchboard.train has been appeneded to the uber list and its length is 1 \n",
      "the file:simple_wiki.train has been appeneded to the uber list and its length is 2 \n",
      "the file:open_subtitles.train has been appeneded to the uber list and its length is 3 \n",
      "the file:gutenberg.train has been appeneded to the uber list and its length is 4 \n",
      "the file:childes.train has been appeneded to the uber list and its length is 5 \n",
      "the file:bnc_spoken.train has been appeneded to the uber list and its length is 6 \n"
     ]
    }
   ],
   "source": [
    "#read the dataset and get a list\n",
    "train_list = read_text(\"train_10M\")\n"
   ]
  },
  {
   "cell_type": "code",
   "execution_count": 7,
   "id": "b1e57239",
   "metadata": {},
   "outputs": [
    {
     "data": {
      "text/plain": [
       "54215049"
      ]
     },
     "execution_count": 7,
     "metadata": {},
     "output_type": "execute_result"
    }
   ],
   "source": [
    "len(train_list)"
   ]
  },
  {
   "cell_type": "code",
   "execution_count": 8,
   "id": "bb3c87af",
   "metadata": {},
   "outputs": [
    {
     "name": "stdout",
     "output_type": "stream",
     "text": [
      "1654\n"
     ]
    }
   ],
   "source": [
    "chunks = len(train_list)//(B*T)\n",
    "print(chunks)"
   ]
  },
  {
   "cell_type": "code",
   "execution_count": 9,
   "id": "1709d2da",
   "metadata": {},
   "outputs": [
    {
     "name": "stderr",
     "output_type": "stream",
     "text": [
      "Token indices sequence length is longer than the specified maximum sequence length for this model (17191971 > 1024). Running this sequence through the model will result in indexing errors\n"
     ]
    }
   ],
   "source": [
    "#tokeinze the training data\n",
    "tokenizer = AutoTokenizer.from_pretrained(\"gpt2\",return_tensors = \"pt\" , truncate = True, return_overflowing_tokens=True , padding = False,)\n",
    "enc_train = tokenizer(train_list)\n"
   ]
  },
  {
   "cell_type": "code",
   "execution_count": 10,
   "id": "9c92d8c3",
   "metadata": {},
   "outputs": [
    {
     "data": {
      "text/plain": [
       "3.1535097982657136"
      ]
     },
     "execution_count": 10,
     "metadata": {},
     "output_type": "execute_result"
    }
   ],
   "source": [
    "comp_ratio = len(train_list)/len(enc_train['input_ids'])\n",
    "comp_ratio"
   ]
  },
  {
   "cell_type": "code",
   "execution_count": 11,
   "id": "4949c13b",
   "metadata": {},
   "outputs": [
    {
     "name": "stdout",
     "output_type": "stream",
     "text": [
      "directory :./data/unzip_text_10M/dev\n",
      "files:['switchboard.dev', 'simple_wiki.dev', 'open_subtitles.dev', 'gutenberg.dev', 'childes.dev', 'bnc_spoken.dev']\n",
      "the file:switchboard.dev has been appeneded to the uber list and its length is 1 \n",
      "the file:simple_wiki.dev has been appeneded to the uber list and its length is 2 \n",
      "the file:open_subtitles.dev has been appeneded to the uber list and its length is 3 \n",
      "the file:gutenberg.dev has been appeneded to the uber list and its length is 4 \n",
      "the file:childes.dev has been appeneded to the uber list and its length is 5 \n",
      "the file:bnc_spoken.dev has been appeneded to the uber list and its length is 6 \n"
     ]
    }
   ],
   "source": [
    "#read validation data and tokenize\n",
    "val_list = read_text(\"dev\")\n",
    "enc_val = tokenizer(val_list)"
   ]
  },
  {
   "cell_type": "markdown",
   "id": "49c2ec51",
   "metadata": {},
   "source": [
    "### we read the tokenize data and store the input_ids and attention mask as a single long list at run time we reshape the single [1,B*T] tensor into a batched tensor of dimension [B,T].\n",
    "This approach turns out to be more efficient as it removes the need for any extra tokens in the form of padding"
   ]
  },
  {
   "cell_type": "code",
   "execution_count": 12,
   "id": "6bb98b27",
   "metadata": {},
   "outputs": [],
   "source": [
    "def get_df_from_list(enc , B= B, T = T, val= False):\n",
    "    \"\"\"This function takes the tokenized list and reated a dataframe where each row contains the input_ids and attention_mask from the tokenizer.\n",
    "    each row of the dataframe is a list with items B*T\"\"\"\n",
    "    chunk_size = B*T\n",
    "    if val:\n",
    "        chunk_size = 2*B*T\n",
    "        \n",
    "    long_list_inp = enc['input_ids']\n",
    "    long_list_attention = enc['attention_mask']\n",
    "\n",
    "    # Step 3: Split the list into chunks and pad the last chunk if necessary\n",
    "    chunks_inp = [long_list_inp[i:i + chunk_size] for i in range(0, len(long_list_inp), chunk_size)]\n",
    "    chunks_att = [long_list_attention[i:i + chunk_size] for i in range(0, len(long_list_attention), chunk_size)]\n",
    "    df = pd.DataFrame({'input_ids': chunks_inp,'attention_mask':chunks_att})\n",
    "    return df\n",
    "    "
   ]
  },
  {
   "cell_type": "code",
   "execution_count": 13,
   "id": "4e5d4066",
   "metadata": {},
   "outputs": [
    {
     "name": "stdout",
     "output_type": "stream",
     "text": [
      "Length of the dataframe is = 525\n"
     ]
    }
   ],
   "source": [
    "df_train_temp = get_df_from_list(enc_train)\n",
    "# Display the DataFrame\n",
    "df_train_temp.head()\n",
    "print(f\"Length of the dataframe is = {len(df_train_temp)}\")"
   ]
  },
  {
   "cell_type": "code",
   "execution_count": 14,
   "id": "17d4195b",
   "metadata": {},
   "outputs": [
    {
     "name": "stdout",
     "output_type": "stream",
     "text": [
      "Length of the VALDATION dataframe is = 532\n"
     ]
    }
   ],
   "source": [
    "df_val_temp = get_df_from_list(enc_val)\n",
    "# Display the DataFrame\n",
    "df_val_temp.head()\n",
    "print(f\"Length of the VALDATION dataframe is = {len(df_val_temp)}\")\n"
   ]
  },
  {
   "cell_type": "code",
   "execution_count": 15,
   "id": "f7f14576",
   "metadata": {},
   "outputs": [],
   "source": [
    "def pad_df(df,eos_char = tokenizer.eos_token_id,B = B, T = T,val = False):\n",
    "    \"\"\"The 2 functions below makes sure that each row of the dataframe is of equal length and if not it adds the eos token to make it B*T\"\"\"\n",
    "    if val:\n",
    "        B = 2*B\n",
    "    for ind,row in df.iterrows():\n",
    "        if len(row['input_ids']) != B*T :\n",
    "            print(f\"row = {ind} and input_id length = {len(row['input_ids'])}\")\n",
    "            print(f\"row = {ind} and attention length = {len(row['attention_mask'])}\")\n",
    "            pad_len = B*T - len(row['input_ids'])\n",
    "            print(f\"padding the row index {ind} with {pad_len} character\")\n",
    "            row['input_ids'] = row['input_ids']+ [eos_char] * pad_len\n",
    "            #attention mask should be padded to 0\n",
    "            row['attention_mask'] = row['attention_mask']+ [0] * pad_len\n",
    "            print(\"#### POST CONCAT####\")\n",
    "            print(f\"row = {ind} and input_id length = {len(row['input_ids'])}\")\n",
    "            print(f\"row = {ind} and attention length ={len(row['attention_mask'])}\")\n",
    "    return df\n",
    "\n",
    "\n",
    "def verify_len(df,val = False, B= B):\n",
    "    row_ind = []\n",
    "    if val:\n",
    "        B = 2*B\n",
    "    for ind,row in df.iterrows():\n",
    "        if len(row['input_ids']) != B*T :\n",
    "            row_ind.append(ind)\n",
    "        else:\n",
    "            continue\n",
    "    if len(row_ind) !=0:\n",
    "        print(\"CONCATENATION Did not work\")\n",
    "    else:\n",
    "        print(\"CONCATENATION worked\")\n",
    "        \n",
    "            \n",
    "        \n",
    "    \n",
    "        \n",
    "        \n",
    "   \n",
    "   "
   ]
  },
  {
   "cell_type": "code",
   "execution_count": 16,
   "id": "ce5ab0d3",
   "metadata": {},
   "outputs": [
    {
     "name": "stdout",
     "output_type": "stream",
     "text": [
      "row = 524 and input_id length = 21539\n",
      "row = 524 and attention length = 21539\n",
      "padding the row index 524 with 11229 character\n",
      "#### POST CONCAT####\n",
      "row = 524 and input_id length = 32768\n",
      "row = 524 and attention length =32768\n",
      "CONCATENATION worked\n"
     ]
    }
   ],
   "source": [
    "df_train  = pad_df(df_train_temp)\n",
    "verify_len(df_train)"
   ]
  },
  {
   "cell_type": "code",
   "execution_count": 17,
   "id": "1b0902ae",
   "metadata": {},
   "outputs": [
    {
     "name": "stdout",
     "output_type": "stream",
     "text": [
      "row = 531 and input_id length = 13588\n",
      "row = 531 and attention length = 13588\n",
      "padding the row index 531 with 19180 character\n",
      "#### POST CONCAT####\n",
      "row = 531 and input_id length = 32768\n",
      "row = 531 and attention length =32768\n",
      "CONCATENATION worked\n"
     ]
    }
   ],
   "source": [
    "df_val  = pad_df(df_val_temp)\n",
    "verify_len(df_val)"
   ]
  },
  {
   "cell_type": "code",
   "execution_count": 18,
   "id": "451b06b1",
   "metadata": {},
   "outputs": [
    {
     "data": {
      "text/html": [
       "<div>\n",
       "<style scoped>\n",
       "    .dataframe tbody tr th:only-of-type {\n",
       "        vertical-align: middle;\n",
       "    }\n",
       "\n",
       "    .dataframe tbody tr th {\n",
       "        vertical-align: top;\n",
       "    }\n",
       "\n",
       "    .dataframe thead th {\n",
       "        text-align: right;\n",
       "    }\n",
       "</style>\n",
       "<table border=\"1\" class=\"dataframe\">\n",
       "  <thead>\n",
       "    <tr style=\"text-align: right;\">\n",
       "      <th></th>\n",
       "      <th>input_ids</th>\n",
       "      <th>attention_mask</th>\n",
       "    </tr>\n",
       "  </thead>\n",
       "  <tbody>\n",
       "    <tr>\n",
       "      <th>0</th>\n",
       "      <td>[32, 25, 197, 40, 1101, 1654, 484, 389, 13, 19...</td>\n",
       "      <td>[1, 1, 1, 1, 1, 1, 1, 1, 1, 1, 1, 1, 1, 1, 1, ...</td>\n",
       "    </tr>\n",
       "    <tr>\n",
       "      <th>1</th>\n",
       "      <td>[6510, 11, 14104, 290, 27913, 13, 198, 32, 25,...</td>\n",
       "      <td>[1, 1, 1, 1, 1, 1, 1, 1, 1, 1, 1, 1, 1, 1, 1, ...</td>\n",
       "    </tr>\n",
       "    <tr>\n",
       "      <th>2</th>\n",
       "      <td>[314, 1612, 11, 340, 338, 1611, 286, 43244, 11...</td>\n",
       "      <td>[1, 1, 1, 1, 1, 1, 1, 1, 1, 1, 1, 1, 1, 1, 1, ...</td>\n",
       "    </tr>\n",
       "    <tr>\n",
       "      <th>3</th>\n",
       "      <td>[318, 407, 922, 329, 262, 1200, 2035, 13, 198,...</td>\n",
       "      <td>[1, 1, 1, 1, 1, 1, 1, 1, 1, 1, 1, 1, 1, 1, 1, ...</td>\n",
       "    </tr>\n",
       "    <tr>\n",
       "      <th>4</th>\n",
       "      <td>[198, 32, 25, 197, 1870, 11, 21480, 11, 314, 4...</td>\n",
       "      <td>[1, 1, 1, 1, 1, 1, 1, 1, 1, 1, 1, 1, 1, 1, 1, ...</td>\n",
       "    </tr>\n",
       "  </tbody>\n",
       "</table>\n",
       "</div>"
      ],
      "text/plain": [
       "                                           input_ids  \\\n",
       "0  [32, 25, 197, 40, 1101, 1654, 484, 389, 13, 19...   \n",
       "1  [6510, 11, 14104, 290, 27913, 13, 198, 32, 25,...   \n",
       "2  [314, 1612, 11, 340, 338, 1611, 286, 43244, 11...   \n",
       "3  [318, 407, 922, 329, 262, 1200, 2035, 13, 198,...   \n",
       "4  [198, 32, 25, 197, 1870, 11, 21480, 11, 314, 4...   \n",
       "\n",
       "                                      attention_mask  \n",
       "0  [1, 1, 1, 1, 1, 1, 1, 1, 1, 1, 1, 1, 1, 1, 1, ...  \n",
       "1  [1, 1, 1, 1, 1, 1, 1, 1, 1, 1, 1, 1, 1, 1, 1, ...  \n",
       "2  [1, 1, 1, 1, 1, 1, 1, 1, 1, 1, 1, 1, 1, 1, 1, ...  \n",
       "3  [1, 1, 1, 1, 1, 1, 1, 1, 1, 1, 1, 1, 1, 1, 1, ...  \n",
       "4  [1, 1, 1, 1, 1, 1, 1, 1, 1, 1, 1, 1, 1, 1, 1, ...  "
      ]
     },
     "execution_count": 18,
     "metadata": {},
     "output_type": "execute_result"
    }
   ],
   "source": [
    "df_train.head()"
   ]
  },
  {
   "cell_type": "markdown",
   "id": "000fec0b",
   "metadata": {},
   "source": [
    "## Define the model"
   ]
  },
  {
   "cell_type": "code",
   "execution_count": 19,
   "id": "2ac3ef6b",
   "metadata": {},
   "outputs": [],
   "source": [
    "# Test the tokenizer:\n",
    "model_name = 'distilgpt2'\n",
    "if random_init_wts:\n",
    "    config = AutoConfig.from_pretrained('distilgpt2')\n",
    "    # Initialize the model with random weights\n",
    "    model = AutoModelForCausalLM.from_config(config)\n",
    "else:\n",
    "    #model = AutoModelForCausalLM.from_pretrained(model_name)\n",
    "    model = AutoModelForCausalLM.from_pretrained(model_name)\n",
    "\n",
    "model = torch.compile(model)\n"
   ]
  },
  {
   "cell_type": "code",
   "execution_count": null,
   "id": "7adc255f",
   "metadata": {},
   "outputs": [],
   "source": []
  },
  {
   "cell_type": "code",
   "execution_count": 20,
   "id": "cef3e78d",
   "metadata": {},
   "outputs": [
    {
     "data": {
      "text/plain": [
       "525"
      ]
     },
     "execution_count": 20,
     "metadata": {},
     "output_type": "execute_result"
    }
   ],
   "source": [
    "len(df_train)"
   ]
  },
  {
   "cell_type": "code",
   "execution_count": 21,
   "id": "f7518abd",
   "metadata": {
    "scrolled": true
   },
   "outputs": [],
   "source": [
    "# device = \"cuda\"\n",
    "# inp = torch.tensor(df_train.iloc[5]['input_ids']).view(B,T).to(device)\n",
    "# att = torch.tensor(df_train.iloc[5]['attention_mask']).view(B,T).to(device)\n",
    "# lab = inp.clone()\n",
    "# # lab = F.pad(lab[:, 1:], (0, 1), value=-100)  # Shift labels to the left and pad with -100\n",
    "# # lab[:, -1] = -100\n",
    "# model.to(device)\n",
    "# model_out = model(input_ids = inp, attention_mask = att , labels = lab)\n",
    "# assert not torch.isnan(inp).any(), \"Input contains NaN\"\n",
    "# assert not torch.isinf(inp).any(), \"Input contains inf\"\n",
    "# model_out"
   ]
  },
  {
   "cell_type": "code",
   "execution_count": 22,
   "id": "825fb316",
   "metadata": {},
   "outputs": [],
   "source": [
    "# print(f\"Input shape: {inp.shape}\")\n",
    "# print(f\"Attention mask shape: {att.shape}\")\n",
    "# print(f\"Labels shape: {lab.shape}\")"
   ]
  },
  {
   "cell_type": "code",
   "execution_count": null,
   "id": "f532bde6",
   "metadata": {
    "scrolled": true
   },
   "outputs": [],
   "source": []
  },
  {
   "cell_type": "markdown",
   "id": "93fba05c",
   "metadata": {},
   "source": [
    "### Data loaders and Dataset for batched training"
   ]
  },
  {
   "cell_type": "code",
   "execution_count": 23,
   "id": "c8559a72",
   "metadata": {},
   "outputs": [],
   "source": [
    "class dataset_pyt_val(Dataset):\n",
    "    \"\"\"Dataset for validation data\"\"\"\n",
    "    def __init__(self, df, B = B, T = T ):\n",
    "        self.df = df\n",
    "        print(f\"Value of B {B}\")\n",
    "                                        \n",
    "    def __getitem__(self, idx):\n",
    "        #print(f\"inside loader...idx ->{idx}\")\n",
    "        input_id_temp = torch.tensor(self.df.iloc[idx]['input_ids'],dtype = torch.long)\n",
    "        att_mask = torch.tensor(self.df.iloc[idx]['attention_mask'],dtype = torch.long)\n",
    "        input_id =   input_id_temp.view(B,T)    \n",
    "        attention_mask = att_mask.view(B,T)\n",
    "        \n",
    "        \n",
    "        return input_id, attention_mask\n",
    "        \n",
    "    def __len__(self):\n",
    "        #return the length of the dataframe\n",
    "        return len(self.df)"
   ]
  },
  {
   "cell_type": "code",
   "execution_count": 24,
   "id": "d4f91154",
   "metadata": {},
   "outputs": [],
   "source": [
    "class dataset_pyt_train(Dataset):\n",
    "    def __init__(self, df, B = B, T = T ):\n",
    "        self.df = df\n",
    "                                        \n",
    "    def __getitem__(self, idx):\n",
    "        #print(f\"************* idx for dataloader = {idx}\")\n",
    "        input_id_temp = torch.tensor(self.df.iloc[idx]['input_ids'],dtype = torch.long)\n",
    "        att_mask = torch.tensor(self.df.iloc[idx]['attention_mask'],dtype = torch.long)\n",
    "        input_id =   input_id_temp.view(B,T)    \n",
    "        attention_mask = att_mask.view(B,T)   \n",
    "        \n",
    "        return input_id, attention_mask\n",
    "        \n",
    "    def __len__(self):\n",
    "        #return the length of the dataframe\n",
    "        return len(self.df)"
   ]
  },
  {
   "cell_type": "markdown",
   "id": "390395db",
   "metadata": {},
   "source": [
    "### Note - batch_size is 1 here because we reshape our input data in the shape [B,T] for a batched training."
   ]
  },
  {
   "cell_type": "code",
   "execution_count": 25,
   "id": "42d213ce",
   "metadata": {},
   "outputs": [
    {
     "name": "stdout",
     "output_type": "stream",
     "text": [
      "Value of B 32\n"
     ]
    }
   ],
   "source": [
    "#train_dataset = dataset_pyt(filtered_df,tokenizer = tokenizer)\n",
    "train_dataset = dataset_pyt_train(df_train)\n",
    "val_dataset = dataset_pyt_val(df_val)\n",
    "#test_dataset = dataset_pyt(df_test,tokenizer = tokenizer)\n",
    "\n",
    "train_loader = DataLoader(train_dataset,batch_size = 1, shuffle = True , num_workers = 0, pin_memory = True)\n",
    "val_loader = DataLoader(val_dataset,batch_size = 1, shuffle = True , num_workers = 0, pin_memory = True)\n",
    "#test_loader = DataLoader(test_dataset,batch_size = batch_size, shuffle = False, collate_fn = custom_collate_fn)\n"
   ]
  },
  {
   "cell_type": "code",
   "execution_count": null,
   "id": "a39a9c20",
   "metadata": {},
   "outputs": [],
   "source": []
  },
  {
   "cell_type": "code",
   "execution_count": 26,
   "id": "6c123d7e",
   "metadata": {},
   "outputs": [
    {
     "name": "stdout",
     "output_type": "stream",
     "text": [
      "Length of the train loader is 525\n",
      "Length of the val loader is 532\n",
      "num_tokens= 17203200\n"
     ]
    }
   ],
   "source": [
    "print(f\"Length of the train loader is {len(train_loader)}\")\n",
    "print(f\"Length of the val loader is {len(val_loader)}\")\n",
    "print(f\"num_tokens= {B*T*len(train_loader)}\")"
   ]
  },
  {
   "cell_type": "code",
   "execution_count": 27,
   "id": "cba95a82",
   "metadata": {},
   "outputs": [],
   "source": [
    "def write_file(log_message, model_name = model_name ,random_init_wts = random_init_wts ):\n",
    "    \"\"\"This function logs the training performance for future reference\"\"\"\n",
    "    current_datetime = datetime.datetime.now()\n",
    "    # Extract date and time components\n",
    "    current_date = str(current_datetime.date())\n",
    "    log_file = model_name +'_Random_init_nll_and_cos_loss'+'random_init_wts'+ '_'+str(random_init_wts)+'_' +current_date+'.log'\n",
    "    print(f\"*****LOGGING INFO IN {log_file}*********\")\n",
    "    filepath = os.path.join(\"model\",log_file)\n",
    "    logging.basicConfig(filename=filepath, \n",
    "                    filemode='a',  # Overwrite the log file each time\n",
    "                    format='%(asctime)s - %(levelname)s - %(message)s', \n",
    "                    level=logging.DEBUG)\n",
    "    logger = logging.getLogger()\n",
    "    logger.info(log_message)\n",
    "    \n",
    "    \n",
    "\n",
    "    \n",
    "    "
   ]
  },
  {
   "cell_type": "code",
   "execution_count": 28,
   "id": "0611e8a8",
   "metadata": {},
   "outputs": [],
   "source": [
    "class check_train_metrics:\n",
    "    def __init__(self, patience=20, min_delta=0 , B = T, T = T,best_loss = torch.inf,early_stop = False):\n",
    "        self.patience = patience\n",
    "        self.min_delta = min_delta\n",
    "        self.counter = 0\n",
    "        self.best_loss = best_loss\n",
    "        self.early_stop = early_stop\n",
    "        self.B = B\n",
    "        self.T = T\n",
    "        self.improvement = None\n",
    "\n",
    "    def __call__(self, loss, epoch , epoch_durn, norm , current_lr, num_token):\n",
    "        if self.best_loss - loss > self.min_delta:\n",
    "            \n",
    "            print(f\"training loss has decreased---> reducing the best loss from {self.best_loss:.2f} to {loss:.2f} | throughput = {int(num_token/epoch_durn)} tokens/second | norm = {norm:.4f} | learning rate = {current_lr:.5e}\")\n",
    "            self.best_loss = loss\n",
    "            self.counter = 0\n",
    "            self.improvement = True\n",
    "        else:\n",
    "            self.counter += 1\n",
    "            self.improvement = False\n",
    "            print(f\"No improvement in training  loss-->epoch= {epoch} and best loss is {self.best_loss:.2f}|current_loss = {loss}|counter = {self.counter}\")\n",
    "            if self.counter >= self.patience:\n",
    "                self.early_stop = True\n"
   ]
  },
  {
   "cell_type": "code",
   "execution_count": 29,
   "id": "a9d8ff8b",
   "metadata": {},
   "outputs": [],
   "source": [
    "class check_val_metrics:\n",
    "    def __init__(self, patience=25, min_delta=0, best_loss = torch.inf,early_stop = False):\n",
    "        self.patience = patience\n",
    "        self.min_delta = min_delta\n",
    "        self.counter = 0\n",
    "        self.best_loss = best_loss\n",
    "        self.early_stop = early_stop\n",
    "        \n",
    "\n",
    "    def __call__(self, loss, epoch , model, tokenizer):\n",
    "        if self.best_loss - loss > self.min_delta:\n",
    "            print(f\"Val loss has decreased -->reducing the global validation loss from {self.best_loss:.2f} to {loss:.2f}\")\n",
    "            s1 = (f\"Val loss has decreased -->reducing the global validation loss from {self.best_loss:.2f} to {loss:.2f}\")\n",
    "            print(f\" validation loss for epoch = {epoch} is {loss:.4f}\")\n",
    "            self.best_loss = loss\n",
    "            s2 = f\" validation loss for epoch = {epoch} is {loss:.4f}\"\n",
    "            print(f\" epoch= {epoch} :  val loss is {loss:.4f} \")\n",
    "            s3 = f\" epoch= {epoch} :  val loss is {loss:.4f} \"\n",
    "            #save the model\n",
    "            # Get the current date and time\n",
    "            current_datetime = datetime.datetime.now()\n",
    "            # Extract date and time components\n",
    "            current_date = str(current_datetime.date())\n",
    "            current_time = str(current_datetime.time()).split('.')[0]\n",
    "            file_name = 'model'+ current_date+current_time+'.pth'\n",
    "            path = os.path.join(\"model\",file_name)\n",
    "            print(f\"saving the model {file_name}\")\n",
    "            s4 = f\"saving the model {file_name}\"\n",
    "            #torch.save(model.state_dict(), path)\n",
    "            model.save_pretrained(path)\n",
    "            tokenizer.save_pretrained(path)\n",
    "            log_message = s1+s2+s3+s4\n",
    "            write_file(log_message)\n",
    "            self.counter = 0\n",
    "        else:\n",
    "            self.counter += 1\n",
    "            print(f\"No improvement in validation loss-->epoch= {epoch} and best val loss is {self.best_loss:.2f}|current_Val loss = {loss}|counter = {self.counter}\")\n",
    "            if self.counter >= self.patience:\n",
    "                self.early_stop = True\n",
    "\n",
    "\n",
    "\n"
   ]
  },
  {
   "cell_type": "code",
   "execution_count": 30,
   "id": "f570cbf3",
   "metadata": {},
   "outputs": [],
   "source": [
    "@torch.no_grad\n",
    "\n",
    "def eval_model(val_loader, model, epoch , device = device,tokenizer = tokenizer,nll_learning_steps = nll_learning_steps):\n",
    "    model.eval()\n",
    "    model.to(device)\n",
    "    e = epoch\n",
    "    embedding_layer = model.transformer.wte\n",
    "    val_loss_accum = 0.0\n",
    "    print(f\"inside validation data for epoch {e}\")\n",
    "    for ind,(input_id,attention_mask) in enumerate(val_loader):\n",
    "        ids = input_id.to(device=device, non_blocking=True)\n",
    "        att_mask = attention_mask.to(device=device, non_blocking=True)\n",
    "        labels = ids.clone()\n",
    "        if e < nll_learning_steps:\n",
    "            with autocast(dtype = torch.bfloat16):\n",
    "                model_output = model(input_ids = ids ,attention_mask = att_mask, labels = labels)\n",
    "                total_loss = model_output.loss \n",
    "                                \n",
    "            \n",
    "        else:\n",
    "            with autocast(dtype = torch.bfloat16):\n",
    "                input_embeddings = embedding_layer(ids)\n",
    "                model_output = model(input_ids = ids ,attention_mask = att_mask, labels = labels)\n",
    "                logits = model_output.logits\n",
    "                predictions = torch.argmax(logits, dim=-1)\n",
    "                #print(f\"predictions = {predictions}\")\n",
    "                prediction_embeddings = embedding_layer(predictions)\n",
    "                cos_sim = F.cosine_similarity(torch.squeeze(prediction_embeddings,dim = 0), torch.squeeze(input_embeddings,dim = 0), dim=1)\n",
    "                cos_loss = 1- cos_sim.mean()\n",
    "                total_loss = cos_loss\n",
    "                del input_embeddings,logits,predictions,cos_sim,cos_loss\n",
    "               \n",
    "        #print(f\"Loss value from val_data = {total_loss}\")\n",
    "        val_loss_accum+=total_loss.detach().item()\n",
    "        del ids,att_mask,labels,model_output\n",
    "    return val_loss_accum\n",
    "        \n",
    "    \n",
    "    \n",
    "    \n"
   ]
  },
  {
   "cell_type": "code",
   "execution_count": 31,
   "id": "58b797c0",
   "metadata": {},
   "outputs": [],
   "source": [
    "def train_model(train_loader,val_loader,model,num_epoch = epoch,device = device,tokenizer = tokenizer,nll_learning_steps = nll_learning_steps):\n",
    "    model.train()\n",
    "    device = device\n",
    "    lr_custom = 5e-5\n",
    "    print(f\"inside train model. Device = {device}\")\n",
    "    model.to(device)\n",
    "    optimizer = torch.optim.AdamW(params =  model.parameters(), lr= lr_custom,fused = True ,weight_decay = .1)\n",
    "    total_batch_size = 2**19\n",
    "    grad_accum_step = total_batch_size//(B*T)\n",
    "    \n",
    "    extra_train = .1*num_epoch\n",
    "    max_train_steps = int(num_epoch +extra_train )\n",
    "    import time\n",
    "    from transformers import get_linear_schedule_with_warmup\n",
    "    total_steps = len(train_loader) * num_epoch\n",
    "    scheduler_cos = transformers.get_cosine_schedule_with_warmup( optimizer= optimizer, num_warmup_steps =int(total_steps * 0.1) ,num_training_steps= total_steps )\n",
    "        \n",
    "    epoch_train_log = []\n",
    "    epoch_val_log = []\n",
    "    validate_val_metric = check_val_metrics()\n",
    "    validate_train_metric = check_train_metrics(patience=5, min_delta=0 , B = T, T = T)\n",
    "    embedding_layer = model.transformer.wte\n",
    "    for i in range (max_train_steps):\n",
    "        \n",
    "        epoch_start_time = time.time()\n",
    "        optimizer.zero_grad(set_to_none=True)\n",
    "        # we use 2 schedulers - the first LR scheduler uses a cosine decay for 100 epochs the second scheduler takes the last LR from cosine scheduler and then maintains that LR for the next 10 epochs\n",
    "        if i >= num_epoch:\n",
    "            optimizer_reduced_lr = torch.optim.AdamW(params =  model.parameters(), lr= current_lr ,fused = True , weight_decay=.1)\n",
    "            scheduler_constant = transformers.get_constant_schedule_with_warmup( optimizer = optimizer_reduced_lr ,num_warmup_steps = 0, last_epoch = -1 )\n",
    "        \n",
    "        epoch_train_loss = 0       \n",
    "        for ind,(input_id,attention_mask) in enumerate(train_loader):\n",
    "            if ind == int(len(train_loader)/2):\n",
    "                batch_time = time.time()\n",
    "                duration = batch_time - epoch_start_time\n",
    "                print(f\"executing epoch:{i+1}, it took {duration/60} mins from beginning of epoch till batch#{ind}\")\n",
    "            \n",
    "            ids = input_id.to(device=device, non_blocking=True)\n",
    "            att_mask = attention_mask.to(device=device, non_blocking=True)\n",
    "            labels = ids.clone()\n",
    "            assert not torch.isnan(ids).any(), \"Input contains NaN values\"\n",
    "            assert not torch.isinf(ids).any(), \"Input contains infinite values\"\n",
    "            if i < nll_learning_steps:\n",
    "                with autocast(dtype = torch.bfloat16):\n",
    "                    model_output = model(input_ids = ids ,attention_mask = att_mask, labels = labels)\n",
    "                    #print(f\" model_output = {model_output.loss}\")\n",
    "                    if np.isnan(model_output.loss.item()):\n",
    "                        print(\"f nan values encountered..\")\n",
    "                        decoded_texts = [tokenizer.decode(id, skip_special_tokens=True) for id in ids]\n",
    "                        print(f\"*********$$$$$$$$$ decoded_texts = {decoded_texts}*************\")\n",
    "                    total_loss =model_output.loss \n",
    "                                \n",
    "            \n",
    "            else:\n",
    "                with autocast(dtype = torch.bfloat16):\n",
    "                    #print(\"inside cos loss calculations....\")\n",
    "                    input_embeddings = embedding_layer(ids)\n",
    "                    model_output = model(input_ids = ids ,attention_mask = att_mask, labels = labels)\n",
    "                    logits = model_output.logits\n",
    "                    predictions = torch.argmax(logits, dim=-1)\n",
    "                    #print(f\"predictions = {predictions}\")\n",
    "                    prediction_embeddings = embedding_layer(predictions)\n",
    "                    cos_sim = F.cosine_similarity(torch.squeeze(prediction_embeddings,dim = 0), torch.squeeze(input_embeddings,dim = 0), dim=1)\n",
    "                    cos_loss = 1- cos_sim.mean()\n",
    "                    total_loss = cos_loss\n",
    "                del input_embeddings,logits,predictions,cos_sim,cos_loss\n",
    "                     \n",
    "            total_loss.backward()\n",
    "            epoch_train_loss += total_loss.detach().item()\n",
    "            norm = torch.nn.utils.clip_grad_norm(model.parameters() , 1.0)\n",
    "            if i <= num_epoch:\n",
    "                optimizer.step()\n",
    "                scheduler_cos.step()\n",
    "                optimizer.zero_grad(set_to_none=True)\n",
    "            else:\n",
    "                optimizer_reduced_lr.step()\n",
    "                optimizer_reduced_lr.zero_grad(set_to_none=True)\n",
    "                scheduler_constant.step()\n",
    "                \n",
    "                         \n",
    "            del ids,att_mask,labels,model_output\n",
    "            \n",
    "        #batch processing complete \n",
    "        #print(f\"batch processing complete , lambda = {lambda_val} |total_loss for batch= {total_loss}\")\n",
    "        \n",
    "        if i <= num_epoch:\n",
    "            current_lr = scheduler_cos.get_last_lr()[0]\n",
    "        epoch_end_time = time.time()\n",
    "        epoch_durn = (epoch_end_time - epoch_start_time)\n",
    "        num_token = B*T*len(train_loader)\n",
    "        epoch_train_log.append(epoch_train_loss)\n",
    "        validate_train_metric(epoch_train_loss, i , epoch_durn, norm , current_lr, num_token)\n",
    "        \n",
    "        if validate_train_metric.improvement:\n",
    "            val_loss= eval_model(val_loader, model, epoch = i, device = device,tokenizer = tokenizer)\n",
    "            epoch_val_log.append(val_loss)\n",
    "            validate_val_metric(val_loss, i , model, tokenizer)\n",
    "            if validate_train_metric.early_stop or validate_val_metric.early_stop :\n",
    "                print(f\"early stopping trigerred either from training data or val data | train_counter = {validate_train_metric.counter}|val_counter = {validate_val_metric.counter}\")\n",
    "                break\n",
    "        else:\n",
    "            if validate_val_metric.early_stop:\n",
    "                print(f\"early stopping trigerred from validation data\")\n",
    "                break\n",
    "              \n",
    "    \n",
    "    return model,epoch_train_log,epoch_val_log\n",
    "        \n",
    "            \n",
    "            \n",
    "    \n",
    "    "
   ]
  },
  {
   "cell_type": "code",
   "execution_count": 32,
   "id": "cd7c02ca",
   "metadata": {},
   "outputs": [
    {
     "name": "stdout",
     "output_type": "stream",
     "text": [
      "inside train model. Device = cuda:0\n",
      "executing epoch:1, it took 1.4341915369033813 mins from beginning of epoch till batch#262\n",
      "training loss has decreased---> reducing the best loss from inf to 1642.30 | throughput = 112630 tokens/second | norm = 5.4803 | learning rate = 1.00000e-05\n",
      "inside validation data for epoch 0\n",
      "Val loss has decreased -->reducing the global validation loss from inf to 1550.01\n",
      " validation loss for epoch = 0 is 1550.0070\n",
      " epoch= 0 :  val loss is 1550.0070 \n",
      "saving the model model2024-07-2102:03:23.pth\n",
      "[2024-07-21 02:03:24,219] [INFO] [real_accelerator.py:203:get_accelerator] Setting ds_accelerator to cuda (auto detect)\n"
     ]
    },
    {
     "name": "stderr",
     "output_type": "stream",
     "text": [
      "df: /root/.triton/autotune: No such file or directory\n",
      "df: /root/.triton/autotune: No such file or directory\n",
      "/opt/conda/compiler_compat/ld: cannot find -laio\n",
      "collect2: error: ld returned 1 exit status\n"
     ]
    },
    {
     "name": "stdout",
     "output_type": "stream",
     "text": [
      "\u001b[93m [WARNING] \u001b[0m async_io requires the dev libaio .so object and headers but these were not found.\n",
      "\u001b[93m [WARNING] \u001b[0m async_io: please install the libaio-dev package with apt\n",
      "\u001b[93m [WARNING] \u001b[0m If libaio is already installed (perhaps from source), try setting the CFLAGS and LDFLAGS environment variables to where it can be found.\n",
      "\u001b[93m [WARNING] \u001b[0m Please specify the CUTLASS repo directory as environment variable $CUTLASS_PATH\n",
      "\u001b[93m [WARNING] \u001b[0m sparse_attn requires a torch version >= 1.5 and < 2.0 but detected 2.3\n",
      "\u001b[93m [WARNING] \u001b[0m using untested triton version (2.3.0), only 1.0.0 is known to be compatible\n",
      "*****LOGGING INFO IN distilgpt2_Random_init_nll_and_cos_lossrandom_init_wts_False_2024-07-21.log*********\n",
      "executing epoch:2, it took 1.26327699025472 mins from beginning of epoch till batch#262\n",
      "training loss has decreased---> reducing the best loss from 1642.30 to 1428.19 | throughput = 123831 tokens/second | norm = 2.1480 | learning rate = 2.00000e-05\n",
      "inside validation data for epoch 1\n",
      "Val loss has decreased -->reducing the global validation loss from 1550.01 to 1489.32\n",
      " validation loss for epoch = 1 is 1489.3245\n",
      " epoch= 1 :  val loss is 1489.3245 \n",
      "saving the model model2024-07-2102:06:34.pth\n",
      "*****LOGGING INFO IN distilgpt2_Random_init_nll_and_cos_lossrandom_init_wts_False_2024-07-21.log*********\n",
      "executing epoch:3, it took 1.0521660129229227 mins from beginning of epoch till batch#262\n",
      "training loss has decreased---> reducing the best loss from 1428.19 to 1391.18 | throughput = 136029 tokens/second | norm = 3.6089 | learning rate = 3.00000e-05\n",
      "inside validation data for epoch 2\n",
      "Val loss has decreased -->reducing the global validation loss from 1489.32 to 1476.89\n",
      " validation loss for epoch = 2 is 1476.8941\n",
      " epoch= 2 :  val loss is 1476.8941 \n",
      "saving the model model2024-07-2102:09:27.pth\n",
      "*****LOGGING INFO IN distilgpt2_Random_init_nll_and_cos_lossrandom_init_wts_False_2024-07-21.log*********\n",
      "executing epoch:4, it took 1.0534012873967489 mins from beginning of epoch till batch#262\n",
      "training loss has decreased---> reducing the best loss from 1391.18 to 1373.20 | throughput = 135834 tokens/second | norm = 6.7632 | learning rate = 4.00000e-05\n",
      "inside validation data for epoch 3\n",
      "Val loss has decreased -->reducing the global validation loss from 1476.89 to 1463.78\n",
      " validation loss for epoch = 3 is 1463.7755\n",
      " epoch= 3 :  val loss is 1463.7755 \n",
      "saving the model model2024-07-2102:12:20.pth\n",
      "*****LOGGING INFO IN distilgpt2_Random_init_nll_and_cos_lossrandom_init_wts_False_2024-07-21.log*********\n",
      "executing epoch:5, it took 1.0531545241673788 mins from beginning of epoch till batch#262\n",
      "training loss has decreased---> reducing the best loss from 1373.20 to 1357.33 | throughput = 135912 tokens/second | norm = 3.1010 | learning rate = 5.00000e-05\n",
      "inside validation data for epoch 4\n",
      "Val loss has decreased -->reducing the global validation loss from 1463.78 to 1462.60\n",
      " validation loss for epoch = 4 is 1462.6011\n",
      " epoch= 4 :  val loss is 1462.6011 \n",
      "saving the model model2024-07-2102:15:14.pth\n",
      "*****LOGGING INFO IN distilgpt2_Random_init_nll_and_cos_lossrandom_init_wts_False_2024-07-21.log*********\n",
      "executing epoch:6, it took 1.0519766887029012 mins from beginning of epoch till batch#262\n",
      "training loss has decreased---> reducing the best loss from 1357.33 to 1341.07 | throughput = 135986 tokens/second | norm = 3.3500 | learning rate = 4.99391e-05\n",
      "inside validation data for epoch 5\n",
      "Val loss has decreased -->reducing the global validation loss from 1462.60 to 1448.75\n",
      " validation loss for epoch = 5 is 1448.7502\n",
      " epoch= 5 :  val loss is 1448.7502 \n",
      "saving the model model2024-07-2102:18:07.pth\n",
      "*****LOGGING INFO IN distilgpt2_Random_init_nll_and_cos_lossrandom_init_wts_False_2024-07-21.log*********\n",
      "executing epoch:7, it took 1.052340575059255 mins from beginning of epoch till batch#262\n",
      "training loss has decreased---> reducing the best loss from 1341.07 to 1323.37 | throughput = 135989 tokens/second | norm = 3.3541 | learning rate = 4.97567e-05\n",
      "inside validation data for epoch 6\n",
      "Val loss has decreased -->reducing the global validation loss from 1448.75 to 1447.92\n",
      " validation loss for epoch = 6 is 1447.9185\n",
      " epoch= 6 :  val loss is 1447.9185 \n",
      "saving the model model2024-07-2102:21:00.pth\n",
      "*****LOGGING INFO IN distilgpt2_Random_init_nll_and_cos_lossrandom_init_wts_False_2024-07-21.log*********\n",
      "executing epoch:8, it took 1.051716403166453 mins from beginning of epoch till batch#262\n",
      "training loss has decreased---> reducing the best loss from 1323.37 to 1308.68 | throughput = 136040 tokens/second | norm = 5.9406 | learning rate = 4.94537e-05\n",
      "inside validation data for epoch 7\n",
      "Val loss has decreased -->reducing the global validation loss from 1447.92 to 1441.27\n",
      " validation loss for epoch = 7 is 1441.2716\n",
      " epoch= 7 :  val loss is 1441.2716 \n",
      "saving the model model2024-07-2102:23:53.pth\n",
      "*****LOGGING INFO IN distilgpt2_Random_init_nll_and_cos_lossrandom_init_wts_False_2024-07-21.log*********\n",
      "executing epoch:9, it took 1.052185336748759 mins from beginning of epoch till batch#262\n",
      "training loss has decreased---> reducing the best loss from 1308.68 to 1296.74 | throughput = 136022 tokens/second | norm = 3.8288 | learning rate = 4.90315e-05\n",
      "inside validation data for epoch 8\n",
      "No improvement in validation loss-->epoch= 8 and best val loss is 1441.27|current_Val loss = 1443.0964550971985|counter = 1\n",
      "executing epoch:10, it took 1.0524561087290445 mins from beginning of epoch till batch#262\n",
      "training loss has decreased---> reducing the best loss from 1296.74 to 1283.62 | throughput = 135988 tokens/second | norm = 5.2116 | learning rate = 4.84923e-05\n",
      "inside validation data for epoch 9\n",
      "Val loss has decreased -->reducing the global validation loss from 1441.27 to 1439.80\n",
      " validation loss for epoch = 9 is 1439.7957\n",
      " epoch= 9 :  val loss is 1439.7957 \n",
      "saving the model model2024-07-2102:29:38.pth\n",
      "*****LOGGING INFO IN distilgpt2_Random_init_nll_and_cos_lossrandom_init_wts_False_2024-07-21.log*********\n",
      "executing epoch:11, it took 1.0517611185709634 mins from beginning of epoch till batch#262\n",
      "training loss has decreased---> reducing the best loss from 1283.62 to 1271.68 | throughput = 136034 tokens/second | norm = 6.0068 | learning rate = 4.78386e-05\n",
      "inside validation data for epoch 10\n",
      "No improvement in validation loss-->epoch= 10 and best val loss is 1439.80|current_Val loss = 1440.1872987747192|counter = 1\n",
      "executing epoch:12, it took 1.0522182822227477 mins from beginning of epoch till batch#262\n",
      "training loss has decreased---> reducing the best loss from 1271.68 to 1261.74 | throughput = 135998 tokens/second | norm = 4.1783 | learning rate = 4.70737e-05\n",
      "inside validation data for epoch 11\n",
      "No improvement in validation loss-->epoch= 11 and best val loss is 1439.80|current_Val loss = 1439.9935483932495|counter = 2\n",
      "executing epoch:13, it took 1.051650849978129 mins from beginning of epoch till batch#262\n",
      "training loss has decreased---> reducing the best loss from 1261.74 to 1250.33 | throughput = 136078 tokens/second | norm = 6.6234 | learning rate = 4.62012e-05\n",
      "inside validation data for epoch 12\n",
      "No improvement in validation loss-->epoch= 12 and best val loss is 1439.80|current_Val loss = 1443.52831864357|counter = 3\n",
      "executing epoch:14, it took 1.0519029100735982 mins from beginning of epoch till batch#262\n",
      "training loss has decreased---> reducing the best loss from 1250.33 to 1240.85 | throughput = 136012 tokens/second | norm = 1.8834 | learning rate = 4.52254e-05\n",
      "inside validation data for epoch 13\n",
      "No improvement in validation loss-->epoch= 13 and best val loss is 1439.80|current_Val loss = 1443.664713025093|counter = 4\n",
      "executing epoch:15, it took 1.0497576514879863 mins from beginning of epoch till batch#262\n",
      "training loss has decreased---> reducing the best loss from 1240.85 to 1230.86 | throughput = 136333 tokens/second | norm = 10.4024 | learning rate = 4.41511e-05\n",
      "inside validation data for epoch 14\n",
      "No improvement in validation loss-->epoch= 14 and best val loss is 1439.80|current_Val loss = 1446.8463852405548|counter = 5\n",
      "executing epoch:16, it took 1.049071458975474 mins from beginning of epoch till batch#262\n",
      "training loss has decreased---> reducing the best loss from 1230.86 to 1220.81 | throughput = 136406 tokens/second | norm = 2.2430 | learning rate = 4.29835e-05\n",
      "inside validation data for epoch 15\n",
      "No improvement in validation loss-->epoch= 15 and best val loss is 1439.80|current_Val loss = 1446.3425530195236|counter = 6\n",
      "executing epoch:17, it took 0.4653669397036235 mins from beginning of epoch till batch#262\n",
      "training loss has decreased---> reducing the best loss from 1220.81 to 432.31 | throughput = 309394 tokens/second | norm = 0.0681 | learning rate = 4.17283e-05\n",
      "inside validation data for epoch 16\n",
      "Val loss has decreased -->reducing the global validation loss from 1439.80 to 418.44\n",
      " validation loss for epoch = 16 is 418.4436\n",
      " epoch= 16 :  val loss is 418.4436 \n",
      "saving the model model2024-07-2102:48:32.pth\n",
      "*****LOGGING INFO IN distilgpt2_Random_init_nll_and_cos_lossrandom_init_wts_False_2024-07-21.log*********\n",
      "executing epoch:18, it took 0.4599437514940898 mins from beginning of epoch till batch#262\n",
      "training loss has decreased---> reducing the best loss from 432.31 to 392.43 | throughput = 311171 tokens/second | norm = 0.0480 | learning rate = 4.03915e-05\n",
      "inside validation data for epoch 17\n",
      "Val loss has decreased -->reducing the global validation loss from 418.44 to 384.87\n",
      " validation loss for epoch = 17 is 384.8705\n",
      " epoch= 17 :  val loss is 384.8705 \n",
      "saving the model model2024-07-2102:50:16.pth\n",
      "*****LOGGING INFO IN distilgpt2_Random_init_nll_and_cos_lossrandom_init_wts_False_2024-07-21.log*********\n",
      "executing epoch:19, it took 0.45999117692311603 mins from beginning of epoch till batch#262\n",
      "training loss has decreased---> reducing the best loss from 392.43 to 360.10 | throughput = 311077 tokens/second | norm = 0.0378 | learning rate = 3.89798e-05\n",
      "inside validation data for epoch 18\n",
      "Val loss has decreased -->reducing the global validation loss from 384.87 to 352.91\n",
      " validation loss for epoch = 18 is 352.9149\n",
      " epoch= 18 :  val loss is 352.9149 \n",
      "saving the model model2024-07-2102:52:01.pth\n",
      "*****LOGGING INFO IN distilgpt2_Random_init_nll_and_cos_lossrandom_init_wts_False_2024-07-21.log*********\n",
      "executing epoch:20, it took 0.4600063999493917 mins from beginning of epoch till batch#262\n",
      "training loss has decreased---> reducing the best loss from 360.10 to 328.38 | throughput = 311062 tokens/second | norm = 0.0471 | learning rate = 3.75000e-05\n",
      "inside validation data for epoch 19\n",
      "Val loss has decreased -->reducing the global validation loss from 352.91 to 320.73\n",
      " validation loss for epoch = 19 is 320.7298\n",
      " epoch= 19 :  val loss is 320.7298 \n",
      "saving the model model2024-07-2102:53:45.pth\n",
      "*****LOGGING INFO IN distilgpt2_Random_init_nll_and_cos_lossrandom_init_wts_False_2024-07-21.log*********\n",
      "executing epoch:21, it took 0.45983752806981404 mins from beginning of epoch till batch#262\n",
      "training loss has decreased---> reducing the best loss from 328.38 to 296.88 | throughput = 311127 tokens/second | norm = 0.0277 | learning rate = 3.59593e-05\n",
      "inside validation data for epoch 20\n",
      "Val loss has decreased -->reducing the global validation loss from 320.73 to 291.29\n",
      " validation loss for epoch = 20 is 291.2945\n",
      " epoch= 20 :  val loss is 291.2945 \n",
      "saving the model model2024-07-2102:55:30.pth\n",
      "*****LOGGING INFO IN distilgpt2_Random_init_nll_and_cos_lossrandom_init_wts_False_2024-07-21.log*********\n",
      "executing epoch:22, it took 0.45989818970362345 mins from beginning of epoch till batch#262\n",
      "training loss has decreased---> reducing the best loss from 296.88 to 270.58 | throughput = 311130 tokens/second | norm = 0.0316 | learning rate = 3.43652e-05\n",
      "inside validation data for epoch 21\n",
      "Val loss has decreased -->reducing the global validation loss from 291.29 to 266.75\n",
      " validation loss for epoch = 21 is 266.7537\n",
      " epoch= 21 :  val loss is 266.7537 \n",
      "saving the model model2024-07-2102:57:14.pth\n",
      "*****LOGGING INFO IN distilgpt2_Random_init_nll_and_cos_lossrandom_init_wts_False_2024-07-21.log*********\n",
      "executing epoch:23, it took 0.45983296235402427 mins from beginning of epoch till batch#262\n",
      "training loss has decreased---> reducing the best loss from 270.58 to 248.87 | throughput = 311114 tokens/second | norm = 0.0258 | learning rate = 3.27254e-05\n",
      "inside validation data for epoch 22\n",
      "Val loss has decreased -->reducing the global validation loss from 266.75 to 246.14\n",
      " validation loss for epoch = 22 is 246.1409\n",
      " epoch= 22 :  val loss is 246.1409 \n",
      "saving the model model2024-07-2102:58:58.pth\n",
      "*****LOGGING INFO IN distilgpt2_Random_init_nll_and_cos_lossrandom_init_wts_False_2024-07-21.log*********\n",
      "executing epoch:24, it took 0.4589090267817179 mins from beginning of epoch till batch#262\n",
      "training loss has decreased---> reducing the best loss from 248.87 to 230.65 | throughput = 311608 tokens/second | norm = 0.0535 | learning rate = 3.10480e-05\n",
      "inside validation data for epoch 23\n",
      "Val loss has decreased -->reducing the global validation loss from 246.14 to 228.26\n",
      " validation loss for epoch = 23 is 228.2583\n",
      " epoch= 23 :  val loss is 228.2583 \n",
      "saving the model model2024-07-2103:00:42.pth\n",
      "*****LOGGING INFO IN distilgpt2_Random_init_nll_and_cos_lossrandom_init_wts_False_2024-07-21.log*********\n",
      "executing epoch:25, it took 0.4595922072728475 mins from beginning of epoch till batch#262\n",
      "training loss has decreased---> reducing the best loss from 230.65 to 213.23 | throughput = 311395 tokens/second | norm = 0.0451 | learning rate = 2.93412e-05\n",
      "inside validation data for epoch 24\n",
      "Val loss has decreased -->reducing the global validation loss from 228.26 to 209.06\n",
      " validation loss for epoch = 24 is 209.0594\n",
      " epoch= 24 :  val loss is 209.0594 \n",
      "saving the model model2024-07-2103:02:27.pth\n",
      "*****LOGGING INFO IN distilgpt2_Random_init_nll_and_cos_lossrandom_init_wts_False_2024-07-21.log*********\n",
      "executing epoch:26, it took 0.4596808195114136 mins from beginning of epoch till batch#262\n",
      "training loss has decreased---> reducing the best loss from 213.23 to 197.26 | throughput = 311340 tokens/second | norm = 0.0488 | learning rate = 2.76132e-05\n",
      "inside validation data for epoch 25\n",
      "Val loss has decreased -->reducing the global validation loss from 209.06 to 195.77\n",
      " validation loss for epoch = 25 is 195.7652\n",
      " epoch= 25 :  val loss is 195.7652 \n",
      "saving the model model2024-07-2103:04:11.pth\n",
      "*****LOGGING INFO IN distilgpt2_Random_init_nll_and_cos_lossrandom_init_wts_False_2024-07-21.log*********\n",
      "executing epoch:27, it took 0.4596590240796407 mins from beginning of epoch till batch#262\n",
      "training loss has decreased---> reducing the best loss from 197.26 to 183.99 | throughput = 311282 tokens/second | norm = 0.0452 | learning rate = 2.58725e-05\n",
      "inside validation data for epoch 26\n",
      "Val loss has decreased -->reducing the global validation loss from 195.77 to 182.43\n",
      " validation loss for epoch = 26 is 182.4283\n",
      " epoch= 26 :  val loss is 182.4283 \n",
      "saving the model model2024-07-2103:05:55.pth\n",
      "*****LOGGING INFO IN distilgpt2_Random_init_nll_and_cos_lossrandom_init_wts_False_2024-07-21.log*********\n",
      "executing epoch:28, it took 0.45939340591430666 mins from beginning of epoch till batch#262\n",
      "training loss has decreased---> reducing the best loss from 183.99 to 174.04 | throughput = 311435 tokens/second | norm = 0.0387 | learning rate = 2.41275e-05\n",
      "inside validation data for epoch 27\n",
      "Val loss has decreased -->reducing the global validation loss from 182.43 to 173.74\n",
      " validation loss for epoch = 27 is 173.7351\n",
      " epoch= 27 :  val loss is 173.7351 \n",
      "saving the model model2024-07-2103:07:39.pth\n",
      "*****LOGGING INFO IN distilgpt2_Random_init_nll_and_cos_lossrandom_init_wts_False_2024-07-21.log*********\n",
      "executing epoch:29, it took 0.4594215671221415 mins from beginning of epoch till batch#262\n",
      "training loss has decreased---> reducing the best loss from 174.04 to 166.16 | throughput = 311499 tokens/second | norm = 0.0320 | learning rate = 2.23868e-05\n",
      "inside validation data for epoch 28\n",
      "Val loss has decreased -->reducing the global validation loss from 173.74 to 166.72\n",
      " validation loss for epoch = 28 is 166.7153\n",
      " epoch= 28 :  val loss is 166.7153 \n",
      "saving the model model2024-07-2103:09:24.pth\n",
      "*****LOGGING INFO IN distilgpt2_Random_init_nll_and_cos_lossrandom_init_wts_False_2024-07-21.log*********\n",
      "executing epoch:30, it took 0.4596747716267904 mins from beginning of epoch till batch#262\n",
      "training loss has decreased---> reducing the best loss from 166.16 to 158.83 | throughput = 311237 tokens/second | norm = 0.0386 | learning rate = 2.06588e-05\n",
      "inside validation data for epoch 29\n",
      "Val loss has decreased -->reducing the global validation loss from 166.72 to 159.94\n",
      " validation loss for epoch = 29 is 159.9387\n",
      " epoch= 29 :  val loss is 159.9387 \n",
      "saving the model model2024-07-2103:11:08.pth\n",
      "*****LOGGING INFO IN distilgpt2_Random_init_nll_and_cos_lossrandom_init_wts_False_2024-07-21.log*********\n",
      "executing epoch:31, it took 0.4592557430267334 mins from beginning of epoch till batch#262\n",
      "training loss has decreased---> reducing the best loss from 158.83 to 153.80 | throughput = 311526 tokens/second | norm = 0.0202 | learning rate = 1.89520e-05\n",
      "inside validation data for epoch 30\n",
      "Val loss has decreased -->reducing the global validation loss from 159.94 to 152.90\n",
      " validation loss for epoch = 30 is 152.9040\n",
      " epoch= 30 :  val loss is 152.9040 \n",
      "saving the model model2024-07-2103:12:52.pth\n",
      "*****LOGGING INFO IN distilgpt2_Random_init_nll_and_cos_lossrandom_init_wts_False_2024-07-21.log*********\n",
      "executing epoch:32, it took 0.45926709175109864 mins from beginning of epoch till batch#262\n",
      "training loss has decreased---> reducing the best loss from 153.80 to 149.94 | throughput = 311509 tokens/second | norm = 0.0216 | learning rate = 1.72746e-05\n",
      "inside validation data for epoch 31\n",
      "Val loss has decreased -->reducing the global validation loss from 152.90 to 151.63\n",
      " validation loss for epoch = 31 is 151.6348\n",
      " epoch= 31 :  val loss is 151.6348 \n",
      "saving the model model2024-07-2103:14:36.pth\n",
      "*****LOGGING INFO IN distilgpt2_Random_init_nll_and_cos_lossrandom_init_wts_False_2024-07-21.log*********\n",
      "executing epoch:33, it took 0.4593800822893778 mins from beginning of epoch till batch#262\n",
      "training loss has decreased---> reducing the best loss from 149.94 to 147.31 | throughput = 311520 tokens/second | norm = 0.0216 | learning rate = 1.56348e-05\n",
      "inside validation data for epoch 32\n",
      "Val loss has decreased -->reducing the global validation loss from 151.63 to 145.95\n",
      " validation loss for epoch = 32 is 145.9526\n",
      " epoch= 32 :  val loss is 145.9526 \n",
      "saving the model model2024-07-2103:16:20.pth\n",
      "*****LOGGING INFO IN distilgpt2_Random_init_nll_and_cos_lossrandom_init_wts_False_2024-07-21.log*********\n",
      "executing epoch:34, it took 0.4592695713043213 mins from beginning of epoch till batch#262\n",
      "training loss has decreased---> reducing the best loss from 147.31 to 143.56 | throughput = 311572 tokens/second | norm = 0.0356 | learning rate = 1.40407e-05\n",
      "inside validation data for epoch 33\n",
      "Val loss has decreased -->reducing the global validation loss from 145.95 to 144.77\n",
      " validation loss for epoch = 33 is 144.7725\n",
      " epoch= 33 :  val loss is 144.7725 \n",
      "saving the model model2024-07-2103:18:05.pth\n",
      "*****LOGGING INFO IN distilgpt2_Random_init_nll_and_cos_lossrandom_init_wts_False_2024-07-21.log*********\n",
      "executing epoch:35, it took 0.4592286308606466 mins from beginning of epoch till batch#262\n",
      "training loss has decreased---> reducing the best loss from 143.56 to 142.49 | throughput = 311492 tokens/second | norm = 0.0394 | learning rate = 1.25000e-05\n",
      "inside validation data for epoch 34\n",
      "Val loss has decreased -->reducing the global validation loss from 144.77 to 142.82\n",
      " validation loss for epoch = 34 is 142.8174\n",
      " epoch= 34 :  val loss is 142.8174 \n",
      "saving the model model2024-07-2103:19:49.pth\n",
      "*****LOGGING INFO IN distilgpt2_Random_init_nll_and_cos_lossrandom_init_wts_False_2024-07-21.log*********\n",
      "executing epoch:36, it took 0.45924575328826905 mins from beginning of epoch till batch#262\n",
      "training loss has decreased---> reducing the best loss from 142.49 to 139.65 | throughput = 311573 tokens/second | norm = 0.0189 | learning rate = 1.10202e-05\n",
      "inside validation data for epoch 35\n",
      "Val loss has decreased -->reducing the global validation loss from 142.82 to 139.81\n",
      " validation loss for epoch = 35 is 139.8096\n",
      " epoch= 35 :  val loss is 139.8096 \n",
      "saving the model model2024-07-2103:21:33.pth\n",
      "*****LOGGING INFO IN distilgpt2_Random_init_nll_and_cos_lossrandom_init_wts_False_2024-07-21.log*********\n",
      "executing epoch:37, it took 0.4593623518943787 mins from beginning of epoch till batch#262\n",
      "training loss has decreased---> reducing the best loss from 139.65 to 137.39 | throughput = 311475 tokens/second | norm = 0.0185 | learning rate = 9.60846e-06\n",
      "inside validation data for epoch 36\n",
      "Val loss has decreased -->reducing the global validation loss from 139.81 to 137.02\n",
      " validation loss for epoch = 36 is 137.0249\n",
      " epoch= 36 :  val loss is 137.0249 \n",
      "saving the model model2024-07-2103:23:18.pth\n",
      "*****LOGGING INFO IN distilgpt2_Random_init_nll_and_cos_lossrandom_init_wts_False_2024-07-21.log*********\n",
      "executing epoch:38, it took 0.4592719157536825 mins from beginning of epoch till batch#262\n",
      "training loss has decreased---> reducing the best loss from 137.39 to 134.14 | throughput = 311559 tokens/second | norm = 0.0295 | learning rate = 8.27173e-06\n",
      "inside validation data for epoch 37\n",
      "Val loss has decreased -->reducing the global validation loss from 137.02 to 134.33\n",
      " validation loss for epoch = 37 is 134.3330\n",
      " epoch= 37 :  val loss is 134.3330 \n",
      "saving the model model2024-07-2103:25:02.pth\n",
      "*****LOGGING INFO IN distilgpt2_Random_init_nll_and_cos_lossrandom_init_wts_False_2024-07-21.log*********\n",
      "executing epoch:39, it took 0.4594484011332194 mins from beginning of epoch till batch#262\n",
      "training loss has decreased---> reducing the best loss from 134.14 to 133.03 | throughput = 311374 tokens/second | norm = 0.0265 | learning rate = 7.01650e-06\n",
      "inside validation data for epoch 38\n",
      "Val loss has decreased -->reducing the global validation loss from 134.33 to 133.73\n",
      " validation loss for epoch = 38 is 133.7307\n",
      " epoch= 38 :  val loss is 133.7307 \n",
      "saving the model model2024-07-2103:26:46.pth\n",
      "*****LOGGING INFO IN distilgpt2_Random_init_nll_and_cos_lossrandom_init_wts_False_2024-07-21.log*********\n",
      "executing epoch:40, it took 0.45952375332514445 mins from beginning of epoch till batch#262\n",
      "training loss has decreased---> reducing the best loss from 133.03 to 131.27 | throughput = 311423 tokens/second | norm = 0.0458 | learning rate = 5.84889e-06\n",
      "inside validation data for epoch 39\n",
      "Val loss has decreased -->reducing the global validation loss from 133.73 to 131.75\n",
      " validation loss for epoch = 39 is 131.7460\n",
      " epoch= 39 :  val loss is 131.7460 \n",
      "saving the model model2024-07-2103:28:30.pth\n",
      "*****LOGGING INFO IN distilgpt2_Random_init_nll_and_cos_lossrandom_init_wts_False_2024-07-21.log*********\n",
      "executing epoch:41, it took 0.4596784432729085 mins from beginning of epoch till batch#262\n",
      "training loss has decreased---> reducing the best loss from 131.27 to 129.83 | throughput = 311284 tokens/second | norm = 0.0269 | learning rate = 4.77458e-06\n",
      "inside validation data for epoch 40\n",
      "Val loss has decreased -->reducing the global validation loss from 131.75 to 130.58\n",
      " validation loss for epoch = 40 is 130.5765\n",
      " epoch= 40 :  val loss is 130.5765 \n",
      "saving the model model2024-07-2103:30:15.pth\n",
      "*****LOGGING INFO IN distilgpt2_Random_init_nll_and_cos_lossrandom_init_wts_False_2024-07-21.log*********\n",
      "executing epoch:42, it took 0.4596866965293884 mins from beginning of epoch till batch#262\n",
      "training loss has decreased---> reducing the best loss from 129.83 to 128.61 | throughput = 311374 tokens/second | norm = 0.0199 | learning rate = 3.79880e-06\n",
      "inside validation data for epoch 41\n",
      "Val loss has decreased -->reducing the global validation loss from 130.58 to 129.59\n",
      " validation loss for epoch = 41 is 129.5881\n",
      " epoch= 41 :  val loss is 129.5881 \n",
      "saving the model model2024-07-2103:31:59.pth\n",
      "*****LOGGING INFO IN distilgpt2_Random_init_nll_and_cos_lossrandom_init_wts_False_2024-07-21.log*********\n",
      "executing epoch:43, it took 0.45961246887842816 mins from beginning of epoch till batch#262\n",
      "training loss has decreased---> reducing the best loss from 128.61 to 127.71 | throughput = 311151 tokens/second | norm = 0.0518 | learning rate = 2.92631e-06\n",
      "inside validation data for epoch 42\n",
      "Val loss has decreased -->reducing the global validation loss from 129.59 to 128.93\n",
      " validation loss for epoch = 42 is 128.9284\n",
      " epoch= 42 :  val loss is 128.9284 \n",
      "saving the model model2024-07-2103:33:43.pth\n",
      "*****LOGGING INFO IN distilgpt2_Random_init_nll_and_cos_lossrandom_init_wts_False_2024-07-21.log*********\n",
      "executing epoch:44, it took 0.4597652236620585 mins from beginning of epoch till batch#262\n",
      "training loss has decreased---> reducing the best loss from 127.71 to 126.97 | throughput = 311256 tokens/second | norm = 0.0229 | learning rate = 2.16136e-06\n",
      "inside validation data for epoch 43\n",
      "Val loss has decreased -->reducing the global validation loss from 128.93 to 127.58\n",
      " validation loss for epoch = 43 is 127.5813\n",
      " epoch= 43 :  val loss is 127.5813 \n",
      "saving the model model2024-07-2103:35:28.pth\n",
      "*****LOGGING INFO IN distilgpt2_Random_init_nll_and_cos_lossrandom_init_wts_False_2024-07-21.log*********\n",
      "executing epoch:45, it took 0.45965323050816853 mins from beginning of epoch till batch#262\n",
      "training loss has decreased---> reducing the best loss from 126.97 to 126.55 | throughput = 311225 tokens/second | norm = 0.0256 | learning rate = 1.50768e-06\n",
      "inside validation data for epoch 44\n",
      "No improvement in validation loss-->epoch= 44 and best val loss is 127.58|current_Val loss = 128.2169730067253|counter = 1\n",
      "executing epoch:46, it took 0.4598056713740031 mins from beginning of epoch till batch#262\n",
      "No improvement in training  loss-->epoch= 45 and best loss is 126.55|current_loss = 126.75480711460114|counter = 1\n",
      "executing epoch:47, it took 0.4598914623260498 mins from beginning of epoch till batch#262\n",
      "No improvement in training  loss-->epoch= 46 and best loss is 126.55|current_loss = 126.63680964708328|counter = 2\n",
      "executing epoch:48, it took 0.45974974234898885 mins from beginning of epoch till batch#262\n",
      "No improvement in training  loss-->epoch= 47 and best loss is 126.55|current_loss = 127.07328510284424|counter = 3\n",
      "executing epoch:49, it took 0.460215957959493 mins from beginning of epoch till batch#262\n",
      "No improvement in training  loss-->epoch= 48 and best loss is 126.55|current_loss = 126.99418556690216|counter = 4\n",
      "executing epoch:50, it took 0.4597586194674174 mins from beginning of epoch till batch#262\n",
      "No improvement in training  loss-->epoch= 49 and best loss is 126.55|current_loss = 126.9630286693573|counter = 5\n",
      "executing epoch:51, it took 0.4595193107922872 mins from beginning of epoch till batch#262\n",
      "No improvement in training  loss-->epoch= 50 and best loss is 126.55|current_loss = 126.95674413442612|counter = 6\n",
      "executing epoch:52, it took 0.45984848737716677 mins from beginning of epoch till batch#262\n",
      "No improvement in training  loss-->epoch= 51 and best loss is 126.55|current_loss = 126.95963376760483|counter = 7\n",
      "executing epoch:53, it took 0.459921928246816 mins from beginning of epoch till batch#262\n",
      "No improvement in training  loss-->epoch= 52 and best loss is 126.55|current_loss = 126.97109115123749|counter = 8\n",
      "executing epoch:54, it took 0.45981680154800414 mins from beginning of epoch till batch#262\n",
      "No improvement in training  loss-->epoch= 53 and best loss is 126.55|current_loss = 126.94453430175781|counter = 9\n",
      "executing epoch:55, it took 0.45970548391342164 mins from beginning of epoch till batch#262\n",
      "No improvement in training  loss-->epoch= 54 and best loss is 126.55|current_loss = 126.96364372968674|counter = 10\n"
     ]
    }
   ],
   "source": [
    "tr_model,epoch_train_log,epoch_val_log = train_model(train_loader, val_loader, model =  model,tokenizer = tokenizer)"
   ]
  },
  {
   "cell_type": "code",
   "execution_count": 33,
   "id": "575702a6",
   "metadata": {},
   "outputs": [],
   "source": [
    "import json , os\n",
    "path_var_train_log = os.path.join(\".\",\"Tokenizers_and_loss_vals\",\"epoch_train_plain_loss.json\")\n",
    "path_var_val_log = os.path.join(\".\",\"Tokenizers_and_loss_vals\",\"epoch_val_val_loss_.json\")\n",
    "\n",
    "#print(path_var)\n",
    "#Write the list to a JSON file\n",
    "with open(path_var_train_log, \"w\") as file:\n",
    "    json.dump(epoch_train_log, file)\n",
    "\n",
    "with open(path_var_val_log, \"w\") as file:\n",
    "    json.dump(epoch_val_log, file)\n",
    "\n"
   ]
  },
  {
   "cell_type": "code",
   "execution_count": 34,
   "id": "e9c51713",
   "metadata": {},
   "outputs": [],
   "source": [
    "with open(path_var_train_log, \"r\") as file:\n",
    "    train_loss = json.load(file)\n",
    "with open(path_var_val_log, \"r\") as file:\n",
    "    val_loss = json.load(file)"
   ]
  },
  {
   "cell_type": "code",
   "execution_count": 35,
   "id": "31cd4f5f",
   "metadata": {},
   "outputs": [
    {
     "name": "stdout",
     "output_type": "stream",
     "text": [
      "55\n",
      "45\n"
     ]
    }
   ],
   "source": [
    "print(len(train_loss))\n",
    "print(len(val_loss))\n"
   ]
  },
  {
   "cell_type": "code",
   "execution_count": 36,
   "id": "75a71162",
   "metadata": {},
   "outputs": [
    {
     "data": {
      "text/plain": [
       "[<matplotlib.lines.Line2D at 0x7fd189871ca0>]"
      ]
     },
     "execution_count": 36,
     "metadata": {},
     "output_type": "execute_result"
    },
    {
     "data": {
      "image/png": "[encoded data removed]",
      "text/plain": [
       "<Figure size 432x288 with 1 Axes>"
      ]
     },
     "metadata": {
      "needs_background": "light"
     },
     "output_type": "display_data"
    }
   ],
   "source": [
    "x_values = range(len(train_loss))\n",
    "plt.plot(x_values, train_loss, label='Train_loss')"
   ]
  },
  {
   "cell_type": "code",
   "execution_count": 37,
   "id": "b82d16f5",
   "metadata": {},
   "outputs": [
    {
     "data": {
      "text/plain": [
       "[<matplotlib.lines.Line2D at 0x7fd15b1a4760>]"
      ]
     },
     "execution_count": 37,
     "metadata": {},
     "output_type": "execute_result"
    },
    {
     "data": {
      "image/png": "[encoded data removed]",
      "text/plain": [
       "<Figure size 432x288 with 1 Axes>"
      ]
     },
     "metadata": {
      "needs_background": "light"
     },
     "output_type": "display_data"
    }
   ],
   "source": [
    "x_values_val = range(len(val_loss))\n",
    "plt.plot(x_values_val, val_loss, label='val_loss')"
   ]
  },
  {
   "cell_type": "code",
   "execution_count": 38,
   "id": "bb0abbca",
   "metadata": {},
   "outputs": [
    {
     "data": {
      "text/plain": [
       "<matplotlib.legend.Legend at 0x7fd1674daf70>"
      ]
     },
     "execution_count": 38,
     "metadata": {},
     "output_type": "execute_result"
    },
    {
     "data": {
      "image/png": "[encoded data removed]",
      "text/plain": [
       "<Figure size 432x288 with 1 Axes>"
      ]
     },
     "metadata": {
      "needs_background": "light"
     },
     "output_type": "display_data"
    }
   ],
   "source": [
    "min_length = min(len(train_loss), len(val_loss))\n",
    "list1 = train_loss[:min_length]\n",
    "list2 = val_loss[:min_length]\n",
    "\n",
    "# Create x-axis values\n",
    "x_values = range(min_length)\n",
    "\n",
    "# Plot the lists\n",
    "plt.plot(x_values, list1, label='Train_loss')\n",
    "plt.plot(x_values, list2, label='Val_loss')\n",
    "\n",
    "# Adding labels and title\n",
    "plt.xlabel('Epoch')\n",
    "plt.ylabel('Value')\n",
    "plt.title('Train Loss and Val_Loss')\n",
    "plt.legend()"
   ]
  },
  {
   "cell_type": "code",
   "execution_count": null,
   "id": "28fc4f7c",
   "metadata": {},
   "outputs": [],
   "source": []
  },
  {
   "cell_type": "code",
   "execution_count": null,
   "id": "b879c596",
   "metadata": {},
   "outputs": [],
   "source": []
  },
  {
   "cell_type": "code",
   "execution_count": null,
   "id": "3e0210ac",
   "metadata": {},
   "outputs": [],
   "source": []
  },
  {
   "cell_type": "code",
   "execution_count": null,
   "id": "f701818a",
   "metadata": {},
   "outputs": [],
   "source": []
  },
  {
   "cell_type": "code",
   "execution_count": null,
   "id": "49731a1e",
   "metadata": {},
   "outputs": [],
   "source": []
  }
 ],
 "metadata": {
  "kernelspec": {
   "display_name": "Python 3 (ipykernel)",
   "language": "python",
   "name": "python3"
  },
  "language_info": {
   "codemirror_mode": {
    "name": "ipython",
    "version": 3
   },
   "file_extension": ".py",
   "mimetype": "text/x-python",
   "name": "python",
   "nbconvert_exporter": "python",
   "pygments_lexer": "ipython3",
   "version": "3.8.12"
  }
 },
 "nbformat": 4,
 "nbformat_minor": 5
}
