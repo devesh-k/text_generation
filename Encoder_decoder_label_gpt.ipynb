{
 "cells": [
  {
   "cell_type": "code",
   "execution_count": 1,
   "id": "b98963e0",
   "metadata": {},
   "outputs": [],
   "source": [
    "## reference https://huggingface.co/learn/nlp-course/en/chapter7/6?fw=pt#training-a-causal-language-model-from-scratch"
   ]
  },
  {
   "cell_type": "code",
   "execution_count": null,
   "id": "88331c6e",
   "metadata": {},
   "outputs": [],
   "source": []
  },
  {
   "cell_type": "code",
   "execution_count": 2,
   "id": "72be91c7",
   "metadata": {
    "scrolled": true
   },
   "outputs": [
    {
     "name": "stdout",
     "output_type": "stream",
     "text": [
      "Looking in indexes: https://pypi.org/simple, https://pypi.ngc.nvidia.com\n",
      "Requirement already satisfied: jupyter in /opt/conda/lib/python3.8/site-packages (1.0.0)\n",
      "Requirement already satisfied: ipywidgets in /opt/conda/lib/python3.8/site-packages (8.1.3)\n",
      "Requirement already satisfied: qtconsole in /opt/conda/lib/python3.8/site-packages (from jupyter) (5.5.2)\n",
      "Requirement already satisfied: notebook in /opt/conda/lib/python3.8/site-packages (from jupyter) (6.4.1)\n",
      "Requirement already satisfied: nbconvert in /opt/conda/lib/python3.8/site-packages (from jupyter) (6.3.0)\n",
      "Requirement already satisfied: ipykernel in /opt/conda/lib/python3.8/site-packages (from jupyter) (6.29.5)\n",
      "Requirement already satisfied: jupyter-console in /opt/conda/lib/python3.8/site-packages (from jupyter) (6.6.3)\n",
      "Requirement already satisfied: comm>=0.1.3 in /opt/conda/lib/python3.8/site-packages (from ipywidgets) (0.2.2)\n",
      "Requirement already satisfied: widgetsnbextension~=4.0.11 in /opt/conda/lib/python3.8/site-packages (from ipywidgets) (4.0.11)\n",
      "Requirement already satisfied: ipython>=6.1.0 in /opt/conda/lib/python3.8/site-packages (from ipywidgets) (7.30.0)\n",
      "Requirement already satisfied: jupyterlab-widgets~=3.0.11 in /opt/conda/lib/python3.8/site-packages (from ipywidgets) (3.0.11)\n",
      "Requirement already satisfied: traitlets>=4.3.1 in /opt/conda/lib/python3.8/site-packages (from ipywidgets) (5.14.3)\n",
      "Requirement already satisfied: pickleshare in /opt/conda/lib/python3.8/site-packages (from ipython>=6.1.0->ipywidgets) (0.7.5)\n",
      "Requirement already satisfied: pexpect>4.3 in /opt/conda/lib/python3.8/site-packages (from ipython>=6.1.0->ipywidgets) (4.8.0)\n",
      "Requirement already satisfied: pygments in /opt/conda/lib/python3.8/site-packages (from ipython>=6.1.0->ipywidgets) (2.10.0)\n",
      "Requirement already satisfied: decorator in /opt/conda/lib/python3.8/site-packages (from ipython>=6.1.0->ipywidgets) (5.1.0)\n",
      "Requirement already satisfied: prompt-toolkit!=3.0.0,!=3.0.1,<3.1.0,>=2.0.0 in /opt/conda/lib/python3.8/site-packages (from ipython>=6.1.0->ipywidgets) (3.0.47)\n",
      "Requirement already satisfied: setuptools>=18.5 in /opt/conda/lib/python3.8/site-packages (from ipython>=6.1.0->ipywidgets) (59.4.0)\n",
      "Requirement already satisfied: matplotlib-inline in /opt/conda/lib/python3.8/site-packages (from ipython>=6.1.0->ipywidgets) (0.1.3)\n",
      "Requirement already satisfied: jedi>=0.16 in /opt/conda/lib/python3.8/site-packages (from ipython>=6.1.0->ipywidgets) (0.18.1)\n",
      "Requirement already satisfied: backcall in /opt/conda/lib/python3.8/site-packages (from ipython>=6.1.0->ipywidgets) (0.2.0)\n",
      "Requirement already satisfied: parso<0.9.0,>=0.8.0 in /opt/conda/lib/python3.8/site-packages (from jedi>=0.16->ipython>=6.1.0->ipywidgets) (0.8.3)\n",
      "Requirement already satisfied: ptyprocess>=0.5 in /opt/conda/lib/python3.8/site-packages (from pexpect>4.3->ipython>=6.1.0->ipywidgets) (0.7.0)\n",
      "Requirement already satisfied: wcwidth in /opt/conda/lib/python3.8/site-packages (from prompt-toolkit!=3.0.0,!=3.0.1,<3.1.0,>=2.0.0->ipython>=6.1.0->ipywidgets) (0.2.5)\n",
      "Requirement already satisfied: packaging in /opt/conda/lib/python3.8/site-packages (from ipykernel->jupyter) (21.3)\n",
      "Requirement already satisfied: nest-asyncio in /opt/conda/lib/python3.8/site-packages (from ipykernel->jupyter) (1.5.4)\n",
      "Requirement already satisfied: jupyter-core!=5.0.*,>=4.12 in /opt/conda/lib/python3.8/site-packages (from ipykernel->jupyter) (5.7.2)\n",
      "Requirement already satisfied: pyzmq>=24 in /opt/conda/lib/python3.8/site-packages (from ipykernel->jupyter) (26.0.3)\n",
      "Requirement already satisfied: tornado>=6.1 in /opt/conda/lib/python3.8/site-packages (from ipykernel->jupyter) (6.1)\n",
      "Requirement already satisfied: jupyter-client>=6.1.12 in /opt/conda/lib/python3.8/site-packages (from ipykernel->jupyter) (7.1.0)\n",
      "Requirement already satisfied: psutil in /opt/conda/lib/python3.8/site-packages (from ipykernel->jupyter) (5.8.0)\n",
      "Requirement already satisfied: debugpy>=1.6.5 in /opt/conda/lib/python3.8/site-packages (from ipykernel->jupyter) (1.8.2)\n",
      "Requirement already satisfied: python-dateutil>=2.1 in /opt/conda/lib/python3.8/site-packages (from jupyter-client>=6.1.12->ipykernel->jupyter) (2.8.2)\n",
      "Requirement already satisfied: entrypoints in /opt/conda/lib/python3.8/site-packages (from jupyter-client>=6.1.12->ipykernel->jupyter) (0.3)\n",
      "Requirement already satisfied: platformdirs>=2.5 in /opt/conda/lib/python3.8/site-packages (from jupyter-core!=5.0.*,>=4.12->ipykernel->jupyter) (4.2.2)\n",
      "Requirement already satisfied: six>=1.5 in /opt/conda/lib/python3.8/site-packages (from python-dateutil>=2.1->jupyter-client>=6.1.12->ipykernel->jupyter) (1.16.0)\n",
      "Requirement already satisfied: testpath in /opt/conda/lib/python3.8/site-packages (from nbconvert->jupyter) (0.5.0)\n",
      "Requirement already satisfied: pandocfilters>=1.4.1 in /opt/conda/lib/python3.8/site-packages (from nbconvert->jupyter) (1.5.0)\n",
      "Requirement already satisfied: jupyterlab-pygments in /opt/conda/lib/python3.8/site-packages (from nbconvert->jupyter) (0.1.2)\n",
      "Requirement already satisfied: defusedxml in /opt/conda/lib/python3.8/site-packages (from nbconvert->jupyter) (0.7.1)\n",
      "Requirement already satisfied: nbclient<0.6.0,>=0.5.0 in /opt/conda/lib/python3.8/site-packages (from nbconvert->jupyter) (0.5.9)\n",
      "Requirement already satisfied: bleach in /opt/conda/lib/python3.8/site-packages (from nbconvert->jupyter) (4.1.0)\n",
      "Requirement already satisfied: nbformat>=4.4 in /opt/conda/lib/python3.8/site-packages (from nbconvert->jupyter) (5.1.3)\n",
      "Requirement already satisfied: mistune<2,>=0.8.1 in /opt/conda/lib/python3.8/site-packages (from nbconvert->jupyter) (0.8.4)\n",
      "Requirement already satisfied: jinja2>=2.4 in /opt/conda/lib/python3.8/site-packages (from nbconvert->jupyter) (3.0.3)\n",
      "Requirement already satisfied: MarkupSafe>=2.0 in /opt/conda/lib/python3.8/site-packages (from jinja2>=2.4->nbconvert->jupyter) (2.0.1)\n",
      "Requirement already satisfied: ipython-genutils in /opt/conda/lib/python3.8/site-packages (from nbformat>=4.4->nbconvert->jupyter) (0.2.0)\n",
      "Requirement already satisfied: jsonschema!=2.5.0,>=2.4 in /opt/conda/lib/python3.8/site-packages (from nbformat>=4.4->nbconvert->jupyter) (4.2.1)\n",
      "Requirement already satisfied: pyrsistent!=0.17.0,!=0.17.1,!=0.17.2,>=0.14.0 in /opt/conda/lib/python3.8/site-packages (from jsonschema!=2.5.0,>=2.4->nbformat>=4.4->nbconvert->jupyter) (0.18.0)\n",
      "Requirement already satisfied: importlib-resources>=1.4.0 in /opt/conda/lib/python3.8/site-packages (from jsonschema!=2.5.0,>=2.4->nbformat>=4.4->nbconvert->jupyter) (5.4.0)\n",
      "Requirement already satisfied: attrs>=17.4.0 in /opt/conda/lib/python3.8/site-packages (from jsonschema!=2.5.0,>=2.4->nbformat>=4.4->nbconvert->jupyter) (21.2.0)\n",
      "Requirement already satisfied: zipp>=3.1.0 in /opt/conda/lib/python3.8/site-packages (from importlib-resources>=1.4.0->jsonschema!=2.5.0,>=2.4->nbformat>=4.4->nbconvert->jupyter) (3.6.0)\n",
      "Requirement already satisfied: webencodings in /opt/conda/lib/python3.8/site-packages (from bleach->nbconvert->jupyter) (0.5.1)\n",
      "Requirement already satisfied: terminado>=0.8.3 in /opt/conda/lib/python3.8/site-packages (from notebook->jupyter) (0.12.1)\n",
      "Requirement already satisfied: prometheus-client in /opt/conda/lib/python3.8/site-packages (from notebook->jupyter) (0.12.0)\n",
      "Requirement already satisfied: argon2-cffi in /opt/conda/lib/python3.8/site-packages (from notebook->jupyter) (21.1.0)\n",
      "Requirement already satisfied: Send2Trash>=1.5.0 in /opt/conda/lib/python3.8/site-packages (from notebook->jupyter) (1.8.0)\n",
      "Requirement already satisfied: cffi>=1.0.0 in /opt/conda/lib/python3.8/site-packages (from argon2-cffi->notebook->jupyter) (1.15.0)\n",
      "Requirement already satisfied: pycparser in /opt/conda/lib/python3.8/site-packages (from cffi>=1.0.0->argon2-cffi->notebook->jupyter) (2.21)\n",
      "Requirement already satisfied: pyparsing!=3.0.5,>=2.0.2 in /opt/conda/lib/python3.8/site-packages (from packaging->ipykernel->jupyter) (3.0.6)\n",
      "Requirement already satisfied: qtpy>=2.4.0 in /opt/conda/lib/python3.8/site-packages (from qtconsole->jupyter) (2.4.1)\n",
      "\u001b[33mWARNING: Running pip as the 'root' user can result in broken permissions and conflicting behaviour with the system package manager. It is recommended to use a virtual environment instead: https://pip.pypa.io/warnings/venv\u001b[0m\n"
     ]
    }
   ],
   "source": [
    "#installing some libraries\n",
    "#!pip install datasets\n",
    "!pip install --upgrade jupyter ipywidgets\n",
    "\n"
   ]
  },
  {
   "cell_type": "code",
   "execution_count": 3,
   "id": "904cbd75",
   "metadata": {},
   "outputs": [],
   "source": [
    "import matplotlib.pyplot as plt\n",
    "import seaborn as sns\n",
    "import torch, transformers\n",
    "from torch.utils.data import Dataset, DataLoader\n",
    "from transformers import AutoTokenizer\n",
    "from transformers import PreTrainedModel, PretrainedConfig\n",
    "from transformers import AutoModel, AutoConfig,AutoModelForCausalLM, GPT2Config,GPT2Tokenizer,GPT2LMHeadModel\n",
    "from transformers import BertModel, BertTokenizer, GPT2LMHeadModel,BertConfig,DistilBertModel, DistilBertTokenizer,DistilBertConfig\n",
    "import torch.nn as nn\n",
    "import torch.nn.functional as F\n",
    "#from datasets import load_dataset\n",
    "import pandas as pd, numpy as np\n",
    "from torch.cuda.amp import autocast\n",
    "from torch import cuda\n",
    "import datetime\n",
    "import warnings,itertools\n",
    "from torch.optim.lr_scheduler import LambdaLR\n",
    "import json\n",
    "import random\n",
    "# Ignore all warnings\n",
    "warnings.filterwarnings('ignore')\n",
    "#pip install transformers bitsandbytes>=0.39.0 -q\n",
    "import zipfile,logging"
   ]
  },
  {
   "cell_type": "code",
   "execution_count": 4,
   "id": "259209ae",
   "metadata": {},
   "outputs": [
    {
     "name": "stdout",
     "output_type": "stream",
     "text": [
      "cuda:0\n",
      "model\n"
     ]
    }
   ],
   "source": [
    "#global params for training\n",
    "\n",
    "B =  32\n",
    "T_g = 1024\n",
    "T_b = 512\n",
    "epoch = 100\n",
    "random_init_wts = True\n",
    "# hard coded compression ratio. This is the ratio of text_len to the # of tokens produced by the tokeinzer\n",
    "comp_ratio = 3\n",
    "\n",
    "if cuda.is_available():\n",
    "    device = torch.device('cuda:0')\n",
    "    print(device)\n",
    "else:\n",
    "    device = 'cpu'\n",
    "#print(device)\n",
    "import os\n",
    "os.environ[\"TOKENIZERS_PARALLELISM\"] = \"true\"\n",
    "#os.environ[\"MKL_DEBUG_CPU_TYPE\"] = \"5\"\n",
    "\n",
    "#print(global_tr_loss)\n",
    "model_path = os.path.join(\"model\")\n",
    "print(model_path)"
   ]
  },
  {
   "cell_type": "code",
   "execution_count": 5,
   "id": "babe3cfa",
   "metadata": {},
   "outputs": [
    {
     "data": {
      "text/plain": [
       "'./data/unzip_text_10M'"
      ]
     },
     "execution_count": 5,
     "metadata": {},
     "output_type": "execute_result"
    }
   ],
   "source": [
    "directory = os.path.join('.','data','unzip_text_10M')  # Replace with your directory path\n",
    "directory"
   ]
  },
  {
   "cell_type": "code",
   "execution_count": 6,
   "id": "ca2db62e",
   "metadata": {},
   "outputs": [],
   "source": [
    "def read_text(directory):\n",
    "    directory = os.path.join('.','data','unzip_text_10M',str(directory))  # Replace with your directory path\n",
    "    print(f\"directory :{directory}\")\n",
    "    # List all files in the directory\n",
    "    files = [f for f in os.listdir(directory) if os.path.isfile(os.path.join(directory, f))]\n",
    "    print(f\"files:{files}\")\n",
    "    text_content = []\n",
    "    # Read each file\n",
    "    total_lines = 0\n",
    "    for filenum,filename in enumerate(files):\n",
    "        file_path = os.path.join(directory, filename)\n",
    "        with open(file_path, 'r', encoding='utf-8') as file:\n",
    "            #first_line = file.read()\n",
    "            #print(f\"filename :{filename}->first few lines {first_line}\")\n",
    "            #continue\n",
    "            #lines_list = [line.strip() for line in open(file_path, 'r')]\n",
    "            text = file.read()\n",
    "            text_content.append(text)\n",
    "            print(f\"the file:{filename} has been appeneded to the uber list and its length is {len(text_content)} \")\n",
    "            #total_lines+=len(lines_list)\n",
    "            #text_content.append(lines_list)\n",
    "    \n",
    "    flattened_list = ''.join(text_content)\n",
    "    assert (len(flattened_list) == total_lines , f\"Expected {len(flattened_list)} to be equal to {total_lines}\" )\n",
    "    \n",
    "    return flattened_list\n",
    "\n",
    "    "
   ]
  },
  {
   "cell_type": "code",
   "execution_count": 7,
   "id": "dcbdd92f",
   "metadata": {},
   "outputs": [
    {
     "name": "stdout",
     "output_type": "stream",
     "text": [
      "directory :./data/unzip_text_10M/train_10M\n",
      "files:['switchboard.train', 'simple_wiki.train', 'open_subtitles.train', 'gutenberg.train', 'childes.train', 'bnc_spoken.train']\n",
      "the file:switchboard.train has been appeneded to the uber list and its length is 1 \n",
      "the file:simple_wiki.train has been appeneded to the uber list and its length is 2 \n",
      "the file:open_subtitles.train has been appeneded to the uber list and its length is 3 \n",
      "the file:gutenberg.train has been appeneded to the uber list and its length is 4 \n",
      "the file:childes.train has been appeneded to the uber list and its length is 5 \n",
      "the file:bnc_spoken.train has been appeneded to the uber list and its length is 6 \n"
     ]
    }
   ],
   "source": [
    "train_list = read_text(\"train_10M\")\n"
   ]
  },
  {
   "cell_type": "code",
   "execution_count": 8,
   "id": "c283c0b0",
   "metadata": {},
   "outputs": [
    {
     "data": {
      "text/plain": [
       "54215049"
      ]
     },
     "execution_count": 8,
     "metadata": {},
     "output_type": "execute_result"
    }
   ],
   "source": [
    "len(train_list)"
   ]
  },
  {
   "cell_type": "code",
   "execution_count": 9,
   "id": "61704bbe",
   "metadata": {},
   "outputs": [
    {
     "name": "stdout",
     "output_type": "stream",
     "text": [
      "directory :./data/unzip_text_10M/dev\n",
      "files:['switchboard.dev', 'simple_wiki.dev', 'open_subtitles.dev', 'gutenberg.dev', 'childes.dev', 'bnc_spoken.dev']\n",
      "the file:switchboard.dev has been appeneded to the uber list and its length is 1 \n",
      "the file:simple_wiki.dev has been appeneded to the uber list and its length is 2 \n",
      "the file:open_subtitles.dev has been appeneded to the uber list and its length is 3 \n",
      "the file:gutenberg.dev has been appeneded to the uber list and its length is 4 \n",
      "the file:childes.dev has been appeneded to the uber list and its length is 5 \n",
      "the file:bnc_spoken.dev has been appeneded to the uber list and its length is 6 \n"
     ]
    }
   ],
   "source": [
    "val_list = read_text(\"dev\")\n"
   ]
  },
  {
   "cell_type": "code",
   "execution_count": 10,
   "id": "b0aa84e7",
   "metadata": {},
   "outputs": [],
   "source": [
    "# # Test the tokenizer:\n",
    "bert_model_name = 'distilbert-base-uncased'\n",
    "gpt2_model_name = 'distilgpt2'\n",
    "bert_tokenizer = DistilBertTokenizer.from_pretrained(bert_model_name)\n",
    "bert_config =  DistilBertConfig()\n",
    "bert_model = DistilBertModel(bert_config)\n",
    "gpt2_config = AutoConfig.from_pretrained(gpt2_model_name, vocab_size = 50304)\n",
    "gpt_model = AutoModelForCausalLM.from_config(gpt2_config)\n"
   ]
  },
  {
   "cell_type": "code",
   "execution_count": 11,
   "id": "8dfe14b2",
   "metadata": {},
   "outputs": [
    {
     "name": "stderr",
     "output_type": "stream",
     "text": [
      "The tokenizer class you load from this checkpoint is not the same type as the class this function is called from. It may result in unexpected tokenization. \n",
      "The tokenizer class you load from this checkpoint is 'DistilBertTokenizer'. \n",
      "The class this function is called from is 'BertTokenizer'.\n"
     ]
    }
   ],
   "source": [
    "gpt_tokenizer = GPT2Tokenizer.from_pretrained(\"distilgpt2\")\n",
    "if gpt_tokenizer.pad_token is None:\n",
    "    gpt_tokenizer.add_special_tokens({'pad_token': '[PAD]'})\n",
    "bert_tokenizer = BertTokenizer.from_pretrained(bert_model_name)\n",
    "if bert_tokenizer.pad_token is None:\n",
    "    bert_tokenizer.add_special_tokens({'pad_token': '[PAD]'})"
   ]
  },
  {
   "cell_type": "code",
   "execution_count": 12,
   "id": "09289622",
   "metadata": {},
   "outputs": [],
   "source": [
    "# class BertGPT2EncoderDecoder_bkp(torch.nn.Module):\n",
    "#     def __init__(self, bert_model, gpt_model):\n",
    "#         super(BertGPT2EncoderDecoder, self).__init__()\n",
    "#         self.bert_model = bert_model\n",
    "#         self.gpt_model = gpt_model\n",
    "        \n",
    "#         # Linear layer to match BERT output dim to GPT-2 input dim\n",
    "#         self.linear = torch.nn.Linear(bert_model.config.hidden_size, gpt_model.config.n_embd)\n",
    "\n",
    "#     def forward(self, bet_enc,gpt_enc, labels=None):\n",
    "#         # Encode with BERT\n",
    "#         bert_input_id = bet_enc['input_ids']\n",
    "#         bert_attention = bet_enc['attention_mask']\n",
    "        \n",
    "#         gpt_input_id = gpt_enc['input_ids']\n",
    "#         gpt_attention = gpt_enc['attention_mask']\n",
    "        \n",
    "#         bert_input_id = bert_input_id.view(B,T_b)\n",
    "#         bert_attention = bert_attention.view(B,T_b)\n",
    "        \n",
    "#         print(f\"shape that goes into the model | input_id = {bert_input_id.shape}|attention_mask = {bert_attention.shape}\")\n",
    "        \n",
    "#         encoder_outputs = self.bert_model(input_ids=bert_input_id, attention_mask=bert_attention)\n",
    "#         encoder_hidden_states = encoder_outputs.last_hidden_state  # Shape: [batch_size, seq_len, bert_hidden_size]\n",
    "#         print(f\"shape of Bert output = {encoder_hidden_states.shape}\")\n",
    "                \n",
    "#         # Project BERT output to GPT-2 input dimension\n",
    "#         projected_encoder_hidden_states = self.linear(encoder_hidden_states)  # Shape: [batch_size, seq_len, gpt2_hidden_size]\n",
    "#         print(f\"After linear layer shape = {projected_encoder_hidden_states.shape}\")\n",
    "#         # Decode with GPT-2\n",
    "#         extended_hidden_states = torch.cat([projected_encoder_hidden_states] * 2, dim=1)  # Shape: [batch_size, 1024, gpt2_hidden_size]\n",
    "#         # Extend attention mask\n",
    "#         extended_attention_mask = torch.cat([bert_attention] * 2, dim=1)  # Shape: [batch_size, 1024]\n",
    "#         print(f\"shape of extended_hidden_sate = {extended_hidden_states.shape}| extended attenion shape = {extended_attention_mask.shape}\")\n",
    "#         labels = torch.cat([bert_input_id] * 2, dim=1).view(B,T_g)\n",
    "        \n",
    "        \n",
    "#         decoder_outputs = self.gpt_model(inputs_embeds=extended_hidden_states, attention_mask = extended_attention_mask,\n",
    "#                                           labels=labels)\n",
    "#         #print(f\"decoder_outputs = {decoder_outputs}\")\n",
    "\n",
    "        \n",
    "\n",
    "#         return decoder_outputs"
   ]
  },
  {
   "cell_type": "code",
   "execution_count": 13,
   "id": "6dc22551",
   "metadata": {},
   "outputs": [],
   "source": [
    "def tokenize_text (bert_text,gpt_text,bert_tokenizer = bert_tokenizer,bert_max_length = B*T_b,gpt_tokenizer = gpt_tokenizer,gpt_max_length = B*T_g):\n",
    "    #print(f\"inside tokenize_text\")\n",
    "    enc_bert = bert_tokenizer(bert_text,padding='max_length',truncation=True,max_length=bert_max_length,return_tensors=\"pt\",return_attention_mask=True)\n",
    "    enc_gpt = gpt_tokenizer(gpt_text,padding='max_length',truncation=True,max_length=gpt_max_length,return_tensors=\"pt\",return_attention_mask=True)\n",
    "    \n",
    "    return enc_bert,enc_gpt\n",
    "    \n",
    "    \n",
    "    \n",
    "        \n",
    "    \n"
   ]
  },
  {
   "cell_type": "markdown",
   "id": "eed3b6a3",
   "metadata": {},
   "source": [
    "### Data loaders and Dataset for batched training"
   ]
  },
  {
   "cell_type": "code",
   "execution_count": 14,
   "id": "7b3a2c14",
   "metadata": {},
   "outputs": [],
   "source": [
    "class dataset_pyt_train(Dataset):\n",
    "    def __init__(self, text_list, B = B, bert_tokenizer = bert_tokenizer, T_b = T_b,comp_ratio = comp_ratio):\n",
    "        self.text_list = text_list\n",
    "        #print(f\"Value of B {B}\")\n",
    "        self.bert_tokeinzer = bert_tokenizer     \n",
    "        \n",
    "                                        \n",
    "    def __getitem__(self, idx):\n",
    "        \n",
    "        bert_chunk = self.text_list[idx:idx + B*T_b*comp_ratio]\n",
    "        gpt_chunk = self.text_list[idx:idx + B*T_g*comp_ratio]\n",
    "        \n",
    "        enc_bert,enc_gpt = tokenize_text(bert_text = bert_chunk,gpt_text = gpt_chunk)\n",
    "                \n",
    "        return enc_bert,enc_gpt\n",
    "        \n",
    "        \n",
    "    def __len__(self):\n",
    "        \n",
    "        num_chunks = comp_ratio*B*T_b\n",
    "        return len(self.text_list)//num_chunks"
   ]
  },
  {
   "cell_type": "code",
   "execution_count": 15,
   "id": "fa78a380",
   "metadata": {},
   "outputs": [],
   "source": [
    "class dataset_pyt_val(Dataset):\n",
    "    def __init__(self, text_list, B = B, bert_tokenizer = bert_tokenizer, T_b = T_b,comp_ratio = comp_ratio):\n",
    "        self.text_list = text_list\n",
    "        #print(f\"Value of B {B}\")\n",
    "        self.bert_tokeinzer = bert_tokenizer     \n",
    "        \n",
    "                                        \n",
    "    def __getitem__(self, idx):\n",
    "        \n",
    "        bert_chunk = self.text_list[idx:idx + B*T_b*comp_ratio]\n",
    "        gpt_chunk = self.text_list[idx:idx + B*T_g*comp_ratio]\n",
    "        \n",
    "        enc_bert,enc_gpt = tokenize_text(bert_text = bert_chunk,gpt_text = gpt_chunk)\n",
    "                \n",
    "        return enc_bert,enc_gpt\n",
    "        \n",
    "        \n",
    "    def __len__(self):\n",
    "        \n",
    "        num_chunks = comp_ratio*B*T_b\n",
    "        return len(self.text_list)//num_chunks"
   ]
  },
  {
   "cell_type": "code",
   "execution_count": 16,
   "id": "2b1ad050",
   "metadata": {},
   "outputs": [],
   "source": [
    "\n",
    "\n",
    "class BertGPT2EncoderDecoder(PreTrainedModel):\n",
    "    def __init__(self, bert_model, gpt_model):\n",
    "        config = bert_model.config\n",
    "        super().__init__(config)\n",
    "        self.bert_model = bert_model\n",
    "        self.gpt_model = gpt_model\n",
    "        \n",
    "        # Linear layer to match BERT output dim to GPT-2 input dim\n",
    "        self.linear = torch.nn.Linear(bert_model.config.hidden_size, gpt_model.config.n_embd)\n",
    "\n",
    "    def forward(self, input_ids,attention_mask, labels):\n",
    "        # Encode with BERT\n",
    "#         bert_input_id = bet_enc['input_ids']\n",
    "#         bert_attention = bet_enc['attention_mask']\n",
    "        \n",
    "        bert_input_id = input_ids.view(B, T_b)\n",
    "        bert_attention = attention_mask.view(B, T_b)\n",
    "        \n",
    "        #print(f\"shape that goes into the model | input_id = {bert_input_id.shape} | attention_mask = {bert_attention.shape}\")\n",
    "        \n",
    "        encoder_outputs = self.bert_model(input_ids=bert_input_id, attention_mask=bert_attention)\n",
    "        encoder_hidden_states = encoder_outputs.last_hidden_state  # Shape: [batch_size, seq_len, bert_hidden_size]\n",
    "        #print(f\"shape of Bert output = {encoder_hidden_states.shape}\")\n",
    "                \n",
    "        # Project BERT output to GPT-2 input dimension\n",
    "        projected_encoder_hidden_states = self.linear(encoder_hidden_states)  # Shape: [batch_size, seq_len, gpt2_hidden_size]\n",
    "        #print(f\"After linear layer shape = {projected_encoder_hidden_states.shape}\")\n",
    "        \n",
    "        # Decode with GPT-2\n",
    "        extended_hidden_states = torch.cat([projected_encoder_hidden_states] * 2, dim=1)  # Shape: [batch_size, 1024, gpt2_hidden_size]\n",
    "        extended_attention_mask = torch.cat([bert_attention] * 2, dim=1)  # Shape: [batch_size, 1024]\n",
    "        #print(f\"shape of extended_hidden_sate = {extended_hidden_states.shape} | extended attenion shape = {extended_attention_mask.shape}\")\n",
    "        \n",
    "        labels = labels\n",
    "        \n",
    "        decoder_outputs = self.gpt_model(inputs_embeds=extended_hidden_states, attention_mask=extended_attention_mask, labels=labels)\n",
    "        \n",
    "        return decoder_outputs"
   ]
  },
  {
   "cell_type": "code",
   "execution_count": 17,
   "id": "db842c73",
   "metadata": {},
   "outputs": [],
   "source": [
    "#train_dataset = dataset_pyt(filtered_df,tokenizer = tokenizer)\n",
    "train_dataset = dataset_pyt_train(train_list)\n",
    "val_dataset = dataset_pyt_val(val_list)\n",
    "\n",
    "train_loader = DataLoader(train_dataset,batch_size = 1, shuffle = True , num_workers = 4, pin_memory = True)\n",
    "val_loader = DataLoader(val_dataset,batch_size = 1, shuffle = True , num_workers = 4, pin_memory = True)\n"
   ]
  },
  {
   "cell_type": "code",
   "execution_count": 18,
   "id": "10ad0409",
   "metadata": {},
   "outputs": [],
   "source": [
    "model = BertGPT2EncoderDecoder(bert_model = bert_model, gpt_model = gpt_model)\n",
    "model.to(device)\n",
    "model = torch.compile(model)"
   ]
  },
  {
   "cell_type": "code",
   "execution_count": 19,
   "id": "de9842fe",
   "metadata": {},
   "outputs": [],
   "source": [
    "# for i in range(0,len(train_dataset)):\n",
    "#     enc_bert,enc_gpt = train_dataset[i]\n",
    "#     ids = enc_bert['input_ids']\n",
    "#     att_mask = enc_bert['attention_mask']\n",
    "#     ids = ids.to(device=device, non_blocking=True)\n",
    "#     ids = torch.squeeze(ids, dim = 0)\n",
    "#     att_mask = att_mask.to(device=device, non_blocking=True)\n",
    "#     att_mask =  torch.squeeze(att_mask, dim = 0)\n",
    "#     labels = enc_gpt['input_ids']\n",
    "#     labels = labels.to(device=device, non_blocking=True)\n",
    "#     labels = torch.squeeze(labels, dim = 0).view(B,T_g)\n",
    "\n",
    "#     with autocast(dtype = torch.bfloat16):\n",
    "#         model_output = model(input_ids = ids ,attention_mask = att_mask, labels = labels)\n",
    "#         total_loss = model_output.loss\n",
    "#         print(f\"index = {i}|loss = {total_loss}\")\n",
    "   "
   ]
  },
  {
   "cell_type": "code",
   "execution_count": null,
   "id": "d6a59810",
   "metadata": {},
   "outputs": [],
   "source": []
  },
  {
   "cell_type": "code",
   "execution_count": null,
   "id": "a033619e",
   "metadata": {},
   "outputs": [],
   "source": []
  },
  {
   "cell_type": "code",
   "execution_count": 20,
   "id": "c2e703b0",
   "metadata": {},
   "outputs": [],
   "source": [
    "def write_file(log_message, model_name = \"enc_dec\" ,random_init_wts = random_init_wts ):\n",
    "    current_datetime = datetime.datetime.now()\n",
    "    # Extract date and time components\n",
    "    current_date = str(current_datetime.date())\n",
    "    log_file = model_name +'_COS_SIM_'+'random_init_wts'+ '_'+str(random_init_wts)+'_' +current_date+'.log'\n",
    "    print(f\"*****LOGGING INFO IN {log_file}*********\")\n",
    "    filepath = os.path.join(\"model\",log_file)\n",
    "    logging.basicConfig(filename=filepath, \n",
    "                    filemode='a',  # Overwrite the log file each time\n",
    "                    format='%(asctime)s - %(levelname)s - %(message)s', \n",
    "                    level=logging.DEBUG)\n",
    "    logger = logging.getLogger()\n",
    "    logger.info(log_message)\n",
    "    \n",
    "    \n",
    "\n",
    "    \n",
    "    "
   ]
  },
  {
   "cell_type": "code",
   "execution_count": 21,
   "id": "47648c44",
   "metadata": {},
   "outputs": [
    {
     "name": "stdout",
     "output_type": "stream",
     "text": [
      "Length of the train loader is 1103\n",
      "Length of the val loader is 1150\n",
      "num_tokens= 36143104\n"
     ]
    }
   ],
   "source": [
    "print(f\"Length of the train loader is {len(train_loader)}\")\n",
    "print(f\"Length of the val loader is {len(val_loader)}\")\n",
    "print(f\"num_tokens= {B*T_g*len(train_loader)}\")"
   ]
  },
  {
   "cell_type": "code",
   "execution_count": 22,
   "id": "6adf07ea",
   "metadata": {},
   "outputs": [],
   "source": [
    "#emb,att,inp = train_dataset[1]"
   ]
  },
  {
   "cell_type": "code",
   "execution_count": 23,
   "id": "cd776129",
   "metadata": {},
   "outputs": [],
   "source": [
    "class check_train_metrics:\n",
    "    def __init__(self, patience=20, min_delta=0 , B = B, T = T_g,best_loss = torch.inf,early_stop = False):\n",
    "        self.patience = patience\n",
    "        self.min_delta = min_delta\n",
    "        self.train_counter = 0\n",
    "        self.best_loss = best_loss\n",
    "        self.early_stop = early_stop\n",
    "        self.improvement = None\n",
    "\n",
    "    def __call__(self, loss, epoch , epoch_durn, norm , current_lr, num_token):\n",
    "        if self.best_loss - loss > self.min_delta:\n",
    "            \n",
    "            print(f\"training loss has decreased---> reducing the best loss from {self.best_loss:.2f} to {loss:.2f} | throughput = {int(num_token/epoch_durn)} tokens/second | norm = {norm:.4f} | learning rate = {current_lr:.5e}\")\n",
    "            self.best_loss = loss\n",
    "            self.train_counter = 0\n",
    "            self.improvement = True\n",
    "        else:\n",
    "            self.train_counter += 1\n",
    "            self.improvement = False\n",
    "            print(f\"No improvement in training  loss-->epoch= {epoch} and best loss is {self.best_loss:.2f}|current_loss = {loss}|counter = {self.train_counter}\")\n",
    "            if self.train_counter >= self.patience:\n",
    "                self.early_stop = True\n"
   ]
  },
  {
   "cell_type": "code",
   "execution_count": 24,
   "id": "004a902b",
   "metadata": {},
   "outputs": [],
   "source": [
    "class check_val_metrics:\n",
    "    def __init__(self, patience=10, min_delta=0, best_loss = torch.inf,early_stop = False):\n",
    "        self.patience = patience\n",
    "        self.min_delta = min_delta\n",
    "        self.val_counter = 0\n",
    "        self.best_loss = best_loss\n",
    "        self.early_stop = early_stop\n",
    "        \n",
    "\n",
    "    def __call__(self, loss, epoch , model, bert_tokenizer):\n",
    "        if self.best_loss - loss > self.min_delta:\n",
    "            print(f\"Val loss has decreased -->reducing the global validation loss from {self.best_loss:.2f} to {loss:.2f}\")\n",
    "            s1 = (f\"Val loss has decreased -->reducing the global validation loss from {self.best_loss:.2f} to {loss:.2f}\")\n",
    "            print(f\" validation loss for epoch = {epoch} is {loss:.4f}\")\n",
    "            self.best_loss = loss\n",
    "            s2 = f\" validation loss for epoch = {epoch} is {loss:.4f}\"\n",
    "            print(f\" epoch= {epoch} :  val loss is {loss:.4f} \")\n",
    "            s3 = f\" epoch= {epoch} :  val loss is {loss:.4f} \"\n",
    "            #save the model\n",
    "            # Get the current date and time\n",
    "            current_datetime = datetime.datetime.now()\n",
    "            # Extract date and time components\n",
    "            current_date = str(current_datetime.date())\n",
    "            current_time = str(current_datetime.time()).split('.')[0]\n",
    "            file_name = 'model'+ current_date+current_time+'.pth'\n",
    "            path = os.path.join(\"model\",file_name)\n",
    "            print(f\"saving the model {file_name}\")\n",
    "            s4 = f\"saving the model {file_name}\"\n",
    "            #torch.save(model.state_dict(), path)\n",
    "            model.save_pretrained(path)\n",
    "            bert_tokenizer.save_pretrained(path)\n",
    "            log_message = s1+s2+s3+s4\n",
    "            write_file(log_message)\n",
    "            self.val_counter = 0\n",
    "        else:\n",
    "            self.val_counter += 1\n",
    "            print(f\"No improvement in validation loss-->epoch= {epoch} and best val loss is {self.best_loss:.2f}|current_Val loss = {loss}|val_counter = {self.val_counter}\")\n",
    "            if self.val_counter >= self.patience:\n",
    "                self.early_stop = True"
   ]
  },
  {
   "cell_type": "code",
   "execution_count": 25,
   "id": "858be568",
   "metadata": {},
   "outputs": [],
   "source": [
    "#model_output = model(input_ids = inp ,attention_mask = att, labels = inp)"
   ]
  },
  {
   "cell_type": "code",
   "execution_count": 26,
   "id": "0491f593",
   "metadata": {},
   "outputs": [],
   "source": [
    "@torch.no_grad\n",
    "\n",
    "def eval_model(val_loader, model, epoch , device = device,tokenizer = bert_tokenizer):\n",
    "    model.eval()\n",
    "    model.to(device)\n",
    "    e = epoch+1\n",
    "    val_loss_accum = 0.0\n",
    "    \n",
    "    print(f\"inside validation data for epoch {e}\")\n",
    "    for ind,(enc_bert,enc_gpt) in enumerate(val_loader):\n",
    "        ids = enc_bert['input_ids']\n",
    "        att_mask = enc_bert['attention_mask']\n",
    "        ids = ids.to(device=device, non_blocking=True)\n",
    "        ids = torch.squeeze(ids, dim = 0)\n",
    "        att_mask = att_mask.to(device=device, non_blocking=True)\n",
    "        att_mask =  torch.squeeze(att_mask, dim = 0)\n",
    "        labels = enc_gpt['input_ids']\n",
    "        labels = labels.to(device=device, non_blocking=True)\n",
    "        labels = torch.squeeze(labels, dim = 0).view(B,T_g)\n",
    "        with autocast(dtype = torch.bfloat16):\n",
    "            model_output = model(input_ids = ids ,attention_mask = att_mask, labels = labels)\n",
    "            total_loss = model_output.loss\n",
    "            \n",
    "    \n",
    "    \n",
    "        val_loss_accum+= total_loss.detach().item()\n",
    "        del att_mask,labels,model_output,total_loss,ids\n",
    "    return val_loss_accum        \n",
    "    \n",
    "    \n",
    "    \n"
   ]
  },
  {
   "cell_type": "code",
   "execution_count": 27,
   "id": "f4ad5f60",
   "metadata": {},
   "outputs": [],
   "source": [
    "\n",
    "def train_model(train_loader,val_loader,model,num_epoch = 100,device = device,tokenizer = bert_tokenizer):\n",
    "    #model.train()\n",
    "    device = device\n",
    "    lr_custom = 1e-5\n",
    "    print(f\"inside train model. Device = {device}\")\n",
    "    model.to(device)\n",
    "    optimizer = torch.optim.AdamW(params =  model.parameters(), lr= lr_custom,fused = True ,weight_decay = .1)\n",
    "      \n",
    "    extra_train = .1*num_epoch\n",
    "    max_train_steps = int(num_epoch +extra_train )\n",
    "    import time\n",
    "    from transformers import get_linear_schedule_with_warmup\n",
    "    total_steps = len(train_loader) * num_epoch\n",
    "    scheduler_cos = transformers.get_cosine_schedule_with_warmup( optimizer= optimizer, num_warmup_steps =int(total_steps * 0.1) ,num_training_steps= total_steps )\n",
    "        \n",
    "    epoch_train_log = []\n",
    "    epoch_val_log = []\n",
    "    validate_val_metric = check_val_metrics()\n",
    "    validate_train_metric = check_train_metrics()\n",
    "    for i in range (max_train_steps):\n",
    "        \n",
    "        epoch_start_time = time.time()\n",
    "        optimizer.zero_grad(set_to_none=True)\n",
    "        # we use 2 schedulers - the first LR scheduler uses a cosine decay for 100 epochs the second scheduler takes the last LR from cosine scheduler and then maintains that LR for the next 10 epochs\n",
    "        if i >= num_epoch:\n",
    "            optimizer_reduced_lr = torch.optim.AdamW(params =  model.parameters(), lr= current_lr ,fused = True , weight_decay=.1)\n",
    "            scheduler_constant = transformers.get_constant_schedule_with_warmup( optimizer = optimizer_reduced_lr ,num_warmup_steps = 0, last_epoch = -1 )\n",
    "        \n",
    "        epoch_train_loss = 0       \n",
    "        for ind,(enc_bert,enc_gpt) in enumerate(train_loader):\n",
    "            if ind == int(len(train_loader)/2):\n",
    "                batch_time = time.time()\n",
    "                duration = batch_time - epoch_start_time\n",
    "                print(f\"executing epoch:{i+1}, it took {duration/60} mins from beginning of epoch till batch#{ind}\")\n",
    "            \n",
    "            ids = enc_bert['input_ids']\n",
    "            att_mask = enc_bert['attention_mask']\n",
    "            ids = ids.to(device=device, non_blocking=True)\n",
    "            ids = torch.squeeze(ids, dim = 0)\n",
    "            att_mask = att_mask.to(device=device, non_blocking=True)\n",
    "            att_mask =  torch.squeeze(att_mask, dim = 0)\n",
    "            labels = enc_gpt['input_ids']\n",
    "            labels = labels.to(device=device, non_blocking=True)\n",
    "            labels = torch.squeeze(labels, dim = 0).view(B,T_g)\n",
    "            \n",
    "            with autocast(dtype = torch.bfloat16):\n",
    "                model_output = model(input_ids = ids ,attention_mask = att_mask, labels = labels)\n",
    "                total_loss = model_output.loss\n",
    "            \n",
    "                    \n",
    "            total_loss.backward()\n",
    "            epoch_train_loss += total_loss.detach().item()\n",
    "            norm = torch.nn.utils.clip_grad_norm(model.parameters() , 1.0)\n",
    "            if i <= num_epoch:\n",
    "                optimizer.step()\n",
    "                scheduler_cos.step()\n",
    "                optimizer.zero_grad(set_to_none=True)\n",
    "            else:\n",
    "                optimizer_reduced_lr.step()\n",
    "                optimizer_reduced_lr.zero_grad(set_to_none=True)\n",
    "                scheduler_constant.step()\n",
    "                \n",
    "                         \n",
    "            del att_mask,labels,model_output,ids\n",
    "            \n",
    "        #batch processing complete \n",
    "        #print(f\"batch processing complete , lambda = {lambda_val} |total_loss for batch= {total_loss}\")\n",
    "        \n",
    "        if i <= num_epoch:\n",
    "            current_lr = scheduler_cos.get_last_lr()[0]\n",
    "        epoch_end_time = time.time()\n",
    "        epoch_durn = (epoch_end_time - epoch_start_time)\n",
    "        num_token = B*T_g*len(train_loader)\n",
    "        epoch_train_log.append(epoch_train_loss)\n",
    "        validate_train_metric(epoch_train_loss, i , epoch_durn, norm , current_lr, num_token)\n",
    "        \n",
    "        if validate_train_metric.improvement:\n",
    "            val_loss= eval_model(val_loader, model, epoch = i, device = device,tokenizer = bert_tokenizer)\n",
    "            epoch_val_log.append(val_loss)\n",
    "            validate_val_metric(val_loss, i , model, bert_tokenizer)\n",
    "            if validate_train_metric.early_stop or validate_val_metric.early_stop :\n",
    "                print(f\"early stopping trigerred either from training data or val data | train_counter = {validate_train_metric.train_counter}|val_counter = {validate_val_metric.val_counter}\")\n",
    "                break\n",
    "        else:\n",
    "            if validate_val_metric.early_stop:\n",
    "                print(f\"early stopping trigerred from validation data\")\n",
    "                break\n",
    "              \n",
    "    \n",
    "    return model,epoch_train_log,epoch_val_log\n",
    "        \n",
    "            \n",
    "            \n",
    "    \n",
    "    "
   ]
  },
  {
   "cell_type": "code",
   "execution_count": 28,
   "id": "27d57817",
   "metadata": {},
   "outputs": [
    {
     "name": "stdout",
     "output_type": "stream",
     "text": [
      "inside train model. Device = cuda:0\n",
      "executing epoch:1, it took 2.66151917775472 mins from beginning of epoch till batch#551\n",
      "training loss has decreased---> reducing the best loss from inf to 9975.45 | throughput = 123827 tokens/second | norm = 3.7992 | learning rate = 1.00000e-06\n",
      "inside validation data for epoch 1\n",
      "Val loss has decreased -->reducing the global validation loss from inf to 8766.45\n",
      " validation loss for epoch = 0 is 8766.4508\n",
      " epoch= 0 :  val loss is 8766.4508 \n",
      "saving the model model2024-07-2723:30:07.pth\n",
      "[2024-07-27 23:30:07,694] [INFO] [real_accelerator.py:203:get_accelerator] Setting ds_accelerator to cuda (auto detect)\n"
     ]
    },
    {
     "name": "stderr",
     "output_type": "stream",
     "text": [
      "df: /root/.triton/autotune: No such file or directory\n",
      "df: /root/.triton/autotune: No such file or directory\n",
      "/opt/conda/compiler_compat/ld: cannot find -laio\n",
      "collect2: error: ld returned 1 exit status\n"
     ]
    },
    {
     "name": "stdout",
     "output_type": "stream",
     "text": [
      "\u001b[93m [WARNING] \u001b[0m async_io requires the dev libaio .so object and headers but these were not found.\n",
      "\u001b[93m [WARNING] \u001b[0m async_io: please install the libaio-dev package with apt\n",
      "\u001b[93m [WARNING] \u001b[0m If libaio is already installed (perhaps from source), try setting the CFLAGS and LDFLAGS environment variables to where it can be found.\n",
      "\u001b[93m [WARNING] \u001b[0m Please specify the CUTLASS repo directory as environment variable $CUTLASS_PATH\n",
      "\u001b[93m [WARNING] \u001b[0m sparse_attn requires a torch version >= 1.5 and < 2.0 but detected 2.3\n",
      "\u001b[93m [WARNING] \u001b[0m using untested triton version (2.3.0), only 1.0.0 is known to be compatible\n",
      "*****LOGGING INFO IN enc_dec_COS_SIM_random_init_wts_True_2024-07-27.log*********\n",
      "executing epoch:2, it took 2.4607009728749594 mins from beginning of epoch till batch#551\n",
      "training loss has decreased---> reducing the best loss from 9975.45 to 7356.26 | throughput = 132875 tokens/second | norm = 1.9075 | learning rate = 2.00000e-06\n",
      "inside validation data for epoch 2\n",
      "Val loss has decreased -->reducing the global validation loss from 8766.45 to 6739.86\n",
      " validation loss for epoch = 1 is 6739.8622\n",
      " epoch= 1 :  val loss is 6739.8622 \n",
      "saving the model model2024-07-2723:36:10.pth\n",
      "*****LOGGING INFO IN enc_dec_COS_SIM_random_init_wts_True_2024-07-27.log*********\n",
      "executing epoch:3, it took 2.0750459591547648 mins from beginning of epoch till batch#551\n",
      "training loss has decreased---> reducing the best loss from 7356.26 to 5745.11 | throughput = 145463 tokens/second | norm = 0.2302 | learning rate = 3.00000e-06\n",
      "inside validation data for epoch 3\n",
      "Val loss has decreased -->reducing the global validation loss from 6739.86 to 6079.92\n",
      " validation loss for epoch = 2 is 6079.9203\n",
      " epoch= 2 :  val loss is 6079.9203 \n",
      "saving the model model2024-07-2723:41:45.pth\n",
      "*****LOGGING INFO IN enc_dec_COS_SIM_random_init_wts_True_2024-07-27.log*********\n",
      "executing epoch:4, it took 2.0787025451660157 mins from beginning of epoch till batch#551\n",
      "training loss has decreased---> reducing the best loss from 5745.11 to 5421.89 | throughput = 145131 tokens/second | norm = 2.8508 | learning rate = 4.00000e-06\n",
      "inside validation data for epoch 4\n",
      "No improvement in validation loss-->epoch= 3 and best val loss is 6079.92|current_Val loss = 6117.404826641083|val_counter = 1\n",
      "executing epoch:5, it took 2.0843291242917377 mins from beginning of epoch till batch#551\n",
      "training loss has decreased---> reducing the best loss from 5421.89 to 5185.84 | throughput = 144765 tokens/second | norm = 8.6933 | learning rate = 5.00000e-06\n",
      "inside validation data for epoch 5\n",
      "No improvement in validation loss-->epoch= 4 and best val loss is 6079.92|current_Val loss = 6156.828809738159|val_counter = 2\n",
      "executing epoch:6, it took 2.0872631708780927 mins from beginning of epoch till batch#551\n",
      "training loss has decreased---> reducing the best loss from 5185.84 to 4940.71 | throughput = 144640 tokens/second | norm = 9.2585 | learning rate = 6.00000e-06\n",
      "inside validation data for epoch 6\n",
      "No improvement in validation loss-->epoch= 5 and best val loss is 6079.92|current_Val loss = 6217.843428134918|val_counter = 3\n",
      "executing epoch:7, it took 2.0865240971247356 mins from beginning of epoch till batch#551\n",
      "training loss has decreased---> reducing the best loss from 4940.71 to 4649.13 | throughput = 144773 tokens/second | norm = 9.5869 | learning rate = 7.00000e-06\n",
      "inside validation data for epoch 7\n",
      "No improvement in validation loss-->epoch= 6 and best val loss is 6079.92|current_Val loss = 6303.315370559692|val_counter = 4\n",
      "executing epoch:8, it took 2.082661430040995 mins from beginning of epoch till batch#551\n",
      "training loss has decreased---> reducing the best loss from 4649.13 to 4351.66 | throughput = 144694 tokens/second | norm = 16.4108 | learning rate = 8.00000e-06\n",
      "inside validation data for epoch 8\n",
      "No improvement in validation loss-->epoch= 7 and best val loss is 6079.92|current_Val loss = 6407.1441259384155|val_counter = 5\n",
      "executing epoch:9, it took 2.0815969904263816 mins from beginning of epoch till batch#551\n",
      "training loss has decreased---> reducing the best loss from 4351.66 to 4086.80 | throughput = 144910 tokens/second | norm = 18.9330 | learning rate = 9.00000e-06\n",
      "inside validation data for epoch 9\n",
      "No improvement in validation loss-->epoch= 8 and best val loss is 6079.92|current_Val loss = 6539.205474853516|val_counter = 6\n",
      "executing epoch:10, it took 2.0801560362180074 mins from beginning of epoch till batch#551\n",
      "training loss has decreased---> reducing the best loss from 4086.80 to 3941.84 | throughput = 144975 tokens/second | norm = 15.3536 | learning rate = 1.00000e-05\n",
      "inside validation data for epoch 10\n",
      "No improvement in validation loss-->epoch= 9 and best val loss is 6079.92|current_Val loss = 6667.635109901428|val_counter = 7\n",
      "executing epoch:11, it took 2.0808839837710065 mins from beginning of epoch till batch#551\n",
      "training loss has decreased---> reducing the best loss from 3941.84 to 3826.73 | throughput = 144948 tokens/second | norm = 9.8121 | learning rate = 9.99695e-06\n",
      "inside validation data for epoch 11\n",
      "No improvement in validation loss-->epoch= 10 and best val loss is 6079.92|current_Val loss = 6869.263076305389|val_counter = 8\n",
      "executing epoch:12, it took 2.0869452873865764 mins from beginning of epoch till batch#551\n",
      "training loss has decreased---> reducing the best loss from 3826.73 to 3748.46 | throughput = 144605 tokens/second | norm = 23.2974 | learning rate = 9.98782e-06\n",
      "inside validation data for epoch 12\n",
      "No improvement in validation loss-->epoch= 11 and best val loss is 6079.92|current_Val loss = 6937.640318870544|val_counter = 9\n",
      "executing epoch:13, it took 2.0837751547495524 mins from beginning of epoch till batch#551\n",
      "training loss has decreased---> reducing the best loss from 3748.46 to 3644.65 | throughput = 134017 tokens/second | norm = 16.8236 | learning rate = 9.97261e-06\n",
      "inside validation data for epoch 13\n",
      "No improvement in validation loss-->epoch= 12 and best val loss is 6079.92|current_Val loss = 7141.425420284271|val_counter = 10\n",
      "early stopping trigerred either from training data or val data | train_counter = 0|val_counter = 10\n"
     ]
    }
   ],
   "source": [
    "tr_model,epoch_train_log,epoch_val_log = train_model(train_loader, val_loader,model=model,tokenizer = bert_tokenizer)"
   ]
  },
  {
   "cell_type": "code",
   "execution_count": null,
   "id": "53a66765",
   "metadata": {},
   "outputs": [],
   "source": []
  },
  {
   "cell_type": "code",
   "execution_count": 29,
   "id": "6e665020",
   "metadata": {},
   "outputs": [],
   "source": [
    "# import json , os\n",
    "# path_var_train_log = os.path.join(\".\",\"Tokenizers_and_loss_vals\",\"epoch_train_plain_loss.json\")\n",
    "# path_var_val_log = os.path.join(\".\",\"Tokenizers_and_loss_vals\",\"epoch_val_val_loss_.json\")\n",
    "\n",
    "# #print(path_var)\n",
    "# #Write the list to a JSON file\n",
    "# with open(path_var_train_log, \"w\") as file:\n",
    "#     json.dump(epoch_train_log, file)\n",
    "\n",
    "# with open(path_var_val_log, \"w\") as file:\n",
    "#     json.dump(epoch_val_log, file)\n"
   ]
  },
  {
   "cell_type": "code",
   "execution_count": 30,
   "id": "4f7d6ad9",
   "metadata": {},
   "outputs": [],
   "source": [
    "# with open(path_var_train_log, \"r\") as file:\n",
    "#     train_loss = json.load(file)\n",
    "# with open(path_var_val_log, \"r\") as file:\n",
    "#     val_loss = json.load(file)"
   ]
  },
  {
   "cell_type": "code",
   "execution_count": 31,
   "id": "daf23ee7",
   "metadata": {},
   "outputs": [
    {
     "data": {
      "text/plain": [
       "[<matplotlib.lines.Line2D at 0x7f8d863f2100>]"
      ]
     },
     "execution_count": 31,
     "metadata": {},
     "output_type": "execute_result"
    },
    {
     "data": {
      "image/png": "[encoded data removed]",
      "text/plain": [
       "<Figure size 432x288 with 1 Axes>"
      ]
     },
     "metadata": {
      "needs_background": "light"
     },
     "output_type": "display_data"
    }
   ],
   "source": [
    "x_values = range(len(epoch_train_log))\n",
    "plt.plot(x_values, epoch_train_log, label='Train_loss')"
   ]
  },
  {
   "cell_type": "code",
   "execution_count": 32,
   "id": "6b97d666",
   "metadata": {},
   "outputs": [
    {
     "data": {
      "text/plain": [
       "[<matplotlib.lines.Line2D at 0x7f8d843442e0>]"
      ]
     },
     "execution_count": 32,
     "metadata": {},
     "output_type": "execute_result"
    },
    {
     "data": {
      "image/png": "[encoded data removed]",
      "text/plain": [
       "<Figure size 432x288 with 1 Axes>"
      ]
     },
     "metadata": {
      "needs_background": "light"
     },
     "output_type": "display_data"
    }
   ],
   "source": [
    "#epoch_val_log= [t.detach().cpu().numpy() for t in epoch_val_log]\n",
    "x_values_val = range(len(epoch_val_log))\n",
    "plt.plot(x_values_val, epoch_val_log, label='val_loss')"
   ]
  },
  {
   "cell_type": "code",
   "execution_count": 33,
   "id": "f2f63915",
   "metadata": {},
   "outputs": [
    {
     "data": {
      "text/plain": [
       "<matplotlib.legend.Legend at 0x7f8d843499a0>"
      ]
     },
     "execution_count": 33,
     "metadata": {},
     "output_type": "execute_result"
    },
    {
     "data": {
      "image/png": "[encoded data removed]",
      "text/plain": [
       "<Figure size 432x288 with 1 Axes>"
      ]
     },
     "metadata": {
      "needs_background": "light"
     },
     "output_type": "display_data"
    }
   ],
   "source": [
    "min_length = min(len(epoch_train_log), len(epoch_val_log))\n",
    "list1 = epoch_train_log[:min_length]\n",
    "list2 = epoch_val_log[:min_length]\n",
    "\n",
    "# Create x-axis values\n",
    "x_values = range(min_length)\n",
    "\n",
    "# Plot the lists\n",
    "plt.plot(x_values, list1, label='Train_loss')\n",
    "plt.plot(x_values, list2, label='Val_loss')\n",
    "\n",
    "# Adding labels and title\n",
    "plt.xlabel('Epoch')\n",
    "plt.ylabel('Value')\n",
    "plt.title('Train Loss and Val_Loss')\n",
    "plt.legend()"
   ]
  },
  {
   "cell_type": "code",
   "execution_count": null,
   "id": "bf3032ba",
   "metadata": {},
   "outputs": [],
   "source": []
  },
  {
   "cell_type": "code",
   "execution_count": null,
   "id": "65bb7af3",
   "metadata": {},
   "outputs": [],
   "source": []
  },
  {
   "cell_type": "code",
   "execution_count": null,
   "id": "d642f7c4",
   "metadata": {},
   "outputs": [],
   "source": []
  },
  {
   "cell_type": "code",
   "execution_count": null,
   "id": "0ed62eda",
   "metadata": {},
   "outputs": [],
   "source": []
  },
  {
   "cell_type": "code",
   "execution_count": null,
   "id": "3ef51c93",
   "metadata": {},
   "outputs": [],
   "source": []
  },
  {
   "cell_type": "code",
   "execution_count": null,
   "id": "436bb1c3",
   "metadata": {},
   "outputs": [],
   "source": []
  }
 ],
 "metadata": {
  "kernelspec": {
   "display_name": "Python 3 (ipykernel)",
   "language": "python",
   "name": "python3"
  },
  "language_info": {
   "codemirror_mode": {
    "name": "ipython",
    "version": 3
   },
   "file_extension": ".py",
   "mimetype": "text/x-python",
   "name": "python",
   "nbconvert_exporter": "python",
   "pygments_lexer": "ipython3",
   "version": "3.8.12"
  }
 },
 "nbformat": 4,
 "nbformat_minor": 5
}
