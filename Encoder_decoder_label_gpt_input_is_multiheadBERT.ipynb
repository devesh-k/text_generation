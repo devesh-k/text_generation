{
 "cells": [
  {
   "cell_type": "code",
   "execution_count": 1,
   "id": "bea3ab04",
   "metadata": {},
   "outputs": [],
   "source": [
    "## reference https://huggingface.co/learn/nlp-course/en/chapter7/6?fw=pt#training-a-causal-language-model-from-scratch"
   ]
  },
  {
   "cell_type": "code",
   "execution_count": null,
   "id": "c247d610",
   "metadata": {},
   "outputs": [],
   "source": []
  },
  {
   "cell_type": "code",
   "execution_count": 2,
   "id": "21c3612b",
   "metadata": {
    "scrolled": true
   },
   "outputs": [
    {
     "name": "stdout",
     "output_type": "stream",
     "text": [
      "Looking in indexes: https://pypi.org/simple, https://pypi.ngc.nvidia.com\n",
      "Requirement already satisfied: jupyter in /opt/conda/lib/python3.8/site-packages (1.0.0)\n",
      "Requirement already satisfied: ipywidgets in /opt/conda/lib/python3.8/site-packages (8.1.3)\n",
      "Requirement already satisfied: ipykernel in /opt/conda/lib/python3.8/site-packages (from jupyter) (6.29.5)\n",
      "Requirement already satisfied: qtconsole in /opt/conda/lib/python3.8/site-packages (from jupyter) (5.5.2)\n",
      "Requirement already satisfied: jupyter-console in /opt/conda/lib/python3.8/site-packages (from jupyter) (6.6.3)\n",
      "Requirement already satisfied: notebook in /opt/conda/lib/python3.8/site-packages (from jupyter) (6.4.1)\n",
      "Requirement already satisfied: nbconvert in /opt/conda/lib/python3.8/site-packages (from jupyter) (6.3.0)\n",
      "Requirement already satisfied: comm>=0.1.3 in /opt/conda/lib/python3.8/site-packages (from ipywidgets) (0.2.2)\n",
      "Requirement already satisfied: jupyterlab-widgets~=3.0.11 in /opt/conda/lib/python3.8/site-packages (from ipywidgets) (3.0.11)\n",
      "Requirement already satisfied: traitlets>=4.3.1 in /opt/conda/lib/python3.8/site-packages (from ipywidgets) (5.14.3)\n",
      "Requirement already satisfied: widgetsnbextension~=4.0.11 in /opt/conda/lib/python3.8/site-packages (from ipywidgets) (4.0.11)\n",
      "Requirement already satisfied: ipython>=6.1.0 in /opt/conda/lib/python3.8/site-packages (from ipywidgets) (7.30.0)\n",
      "Requirement already satisfied: setuptools>=18.5 in /opt/conda/lib/python3.8/site-packages (from ipython>=6.1.0->ipywidgets) (59.4.0)\n",
      "Requirement already satisfied: jedi>=0.16 in /opt/conda/lib/python3.8/site-packages (from ipython>=6.1.0->ipywidgets) (0.18.1)\n",
      "Requirement already satisfied: pickleshare in /opt/conda/lib/python3.8/site-packages (from ipython>=6.1.0->ipywidgets) (0.7.5)\n",
      "Requirement already satisfied: prompt-toolkit!=3.0.0,!=3.0.1,<3.1.0,>=2.0.0 in /opt/conda/lib/python3.8/site-packages (from ipython>=6.1.0->ipywidgets) (3.0.47)\n",
      "Requirement already satisfied: backcall in /opt/conda/lib/python3.8/site-packages (from ipython>=6.1.0->ipywidgets) (0.2.0)\n",
      "Requirement already satisfied: pexpect>4.3 in /opt/conda/lib/python3.8/site-packages (from ipython>=6.1.0->ipywidgets) (4.8.0)\n",
      "Requirement already satisfied: matplotlib-inline in /opt/conda/lib/python3.8/site-packages (from ipython>=6.1.0->ipywidgets) (0.1.3)\n",
      "Requirement already satisfied: decorator in /opt/conda/lib/python3.8/site-packages (from ipython>=6.1.0->ipywidgets) (5.1.0)\n",
      "Requirement already satisfied: pygments in /opt/conda/lib/python3.8/site-packages (from ipython>=6.1.0->ipywidgets) (2.10.0)\n",
      "Requirement already satisfied: parso<0.9.0,>=0.8.0 in /opt/conda/lib/python3.8/site-packages (from jedi>=0.16->ipython>=6.1.0->ipywidgets) (0.8.3)\n",
      "Requirement already satisfied: ptyprocess>=0.5 in /opt/conda/lib/python3.8/site-packages (from pexpect>4.3->ipython>=6.1.0->ipywidgets) (0.7.0)\n",
      "Requirement already satisfied: wcwidth in /opt/conda/lib/python3.8/site-packages (from prompt-toolkit!=3.0.0,!=3.0.1,<3.1.0,>=2.0.0->ipython>=6.1.0->ipywidgets) (0.2.5)\n",
      "Requirement already satisfied: nest-asyncio in /opt/conda/lib/python3.8/site-packages (from ipykernel->jupyter) (1.5.4)\n",
      "Requirement already satisfied: tornado>=6.1 in /opt/conda/lib/python3.8/site-packages (from ipykernel->jupyter) (6.1)\n",
      "Requirement already satisfied: psutil in /opt/conda/lib/python3.8/site-packages (from ipykernel->jupyter) (5.8.0)\n",
      "Requirement already satisfied: debugpy>=1.6.5 in /opt/conda/lib/python3.8/site-packages (from ipykernel->jupyter) (1.8.2)\n",
      "Requirement already satisfied: packaging in /opt/conda/lib/python3.8/site-packages (from ipykernel->jupyter) (21.3)\n",
      "Requirement already satisfied: jupyter-client>=6.1.12 in /opt/conda/lib/python3.8/site-packages (from ipykernel->jupyter) (7.1.0)\n",
      "Requirement already satisfied: pyzmq>=24 in /opt/conda/lib/python3.8/site-packages (from ipykernel->jupyter) (26.0.3)\n",
      "Requirement already satisfied: jupyter-core!=5.0.*,>=4.12 in /opt/conda/lib/python3.8/site-packages (from ipykernel->jupyter) (5.7.2)\n",
      "Requirement already satisfied: python-dateutil>=2.1 in /opt/conda/lib/python3.8/site-packages (from jupyter-client>=6.1.12->ipykernel->jupyter) (2.8.2)\n",
      "Requirement already satisfied: entrypoints in /opt/conda/lib/python3.8/site-packages (from jupyter-client>=6.1.12->ipykernel->jupyter) (0.3)\n",
      "Requirement already satisfied: platformdirs>=2.5 in /opt/conda/lib/python3.8/site-packages (from jupyter-core!=5.0.*,>=4.12->ipykernel->jupyter) (4.2.2)\n",
      "Requirement already satisfied: six>=1.5 in /opt/conda/lib/python3.8/site-packages (from python-dateutil>=2.1->jupyter-client>=6.1.12->ipykernel->jupyter) (1.16.0)\n",
      "Requirement already satisfied: bleach in /opt/conda/lib/python3.8/site-packages (from nbconvert->jupyter) (4.1.0)\n",
      "Requirement already satisfied: jinja2>=2.4 in /opt/conda/lib/python3.8/site-packages (from nbconvert->jupyter) (3.0.3)\n",
      "Requirement already satisfied: mistune<2,>=0.8.1 in /opt/conda/lib/python3.8/site-packages (from nbconvert->jupyter) (0.8.4)\n",
      "Requirement already satisfied: testpath in /opt/conda/lib/python3.8/site-packages (from nbconvert->jupyter) (0.5.0)\n",
      "Requirement already satisfied: nbclient<0.6.0,>=0.5.0 in /opt/conda/lib/python3.8/site-packages (from nbconvert->jupyter) (0.5.9)\n",
      "Requirement already satisfied: jupyterlab-pygments in /opt/conda/lib/python3.8/site-packages (from nbconvert->jupyter) (0.1.2)\n",
      "Requirement already satisfied: pandocfilters>=1.4.1 in /opt/conda/lib/python3.8/site-packages (from nbconvert->jupyter) (1.5.0)\n",
      "Requirement already satisfied: nbformat>=4.4 in /opt/conda/lib/python3.8/site-packages (from nbconvert->jupyter) (5.1.3)\n",
      "Requirement already satisfied: defusedxml in /opt/conda/lib/python3.8/site-packages (from nbconvert->jupyter) (0.7.1)\n",
      "Requirement already satisfied: MarkupSafe>=2.0 in /opt/conda/lib/python3.8/site-packages (from jinja2>=2.4->nbconvert->jupyter) (2.0.1)\n",
      "Requirement already satisfied: ipython-genutils in /opt/conda/lib/python3.8/site-packages (from nbformat>=4.4->nbconvert->jupyter) (0.2.0)\n",
      "Requirement already satisfied: jsonschema!=2.5.0,>=2.4 in /opt/conda/lib/python3.8/site-packages (from nbformat>=4.4->nbconvert->jupyter) (4.2.1)\n",
      "Requirement already satisfied: pyrsistent!=0.17.0,!=0.17.1,!=0.17.2,>=0.14.0 in /opt/conda/lib/python3.8/site-packages (from jsonschema!=2.5.0,>=2.4->nbformat>=4.4->nbconvert->jupyter) (0.18.0)\n",
      "Requirement already satisfied: attrs>=17.4.0 in /opt/conda/lib/python3.8/site-packages (from jsonschema!=2.5.0,>=2.4->nbformat>=4.4->nbconvert->jupyter) (21.2.0)\n",
      "Requirement already satisfied: importlib-resources>=1.4.0 in /opt/conda/lib/python3.8/site-packages (from jsonschema!=2.5.0,>=2.4->nbformat>=4.4->nbconvert->jupyter) (5.4.0)\n",
      "Requirement already satisfied: zipp>=3.1.0 in /opt/conda/lib/python3.8/site-packages (from importlib-resources>=1.4.0->jsonschema!=2.5.0,>=2.4->nbformat>=4.4->nbconvert->jupyter) (3.6.0)\n",
      "Requirement already satisfied: webencodings in /opt/conda/lib/python3.8/site-packages (from bleach->nbconvert->jupyter) (0.5.1)\n",
      "Requirement already satisfied: terminado>=0.8.3 in /opt/conda/lib/python3.8/site-packages (from notebook->jupyter) (0.12.1)\n",
      "Requirement already satisfied: prometheus-client in /opt/conda/lib/python3.8/site-packages (from notebook->jupyter) (0.12.0)\n",
      "Requirement already satisfied: argon2-cffi in /opt/conda/lib/python3.8/site-packages (from notebook->jupyter) (21.1.0)\n",
      "Requirement already satisfied: Send2Trash>=1.5.0 in /opt/conda/lib/python3.8/site-packages (from notebook->jupyter) (1.8.0)\n",
      "Requirement already satisfied: cffi>=1.0.0 in /opt/conda/lib/python3.8/site-packages (from argon2-cffi->notebook->jupyter) (1.15.0)\n",
      "Requirement already satisfied: pycparser in /opt/conda/lib/python3.8/site-packages (from cffi>=1.0.0->argon2-cffi->notebook->jupyter) (2.21)\n",
      "Requirement already satisfied: pyparsing!=3.0.5,>=2.0.2 in /opt/conda/lib/python3.8/site-packages (from packaging->ipykernel->jupyter) (3.0.6)\n",
      "Requirement already satisfied: qtpy>=2.4.0 in /opt/conda/lib/python3.8/site-packages (from qtconsole->jupyter) (2.4.1)\n",
      "\u001b[33mWARNING: Running pip as the 'root' user can result in broken permissions and conflicting behaviour with the system package manager. It is recommended to use a virtual environment instead: https://pip.pypa.io/warnings/venv\u001b[0m\n"
     ]
    }
   ],
   "source": [
    "#installing some libraries\n",
    "#!pip install datasets\n",
    "!pip install --upgrade jupyter ipywidgets\n",
    "\n"
   ]
  },
  {
   "cell_type": "code",
   "execution_count": 3,
   "id": "6a4f4be8",
   "metadata": {},
   "outputs": [],
   "source": [
    "import matplotlib.pyplot as plt\n",
    "import seaborn as sns\n",
    "import torch, transformers\n",
    "from torch.utils.data import Dataset, DataLoader\n",
    "from transformers import AutoTokenizer\n",
    "from transformers import PreTrainedModel, PretrainedConfig\n",
    "from transformers import AutoModel, AutoConfig,AutoModelForCausalLM, GPT2Config,GPT2Tokenizer,GPT2LMHeadModel\n",
    "from transformers import BertModel, BertTokenizer, GPT2LMHeadModel,BertConfig,DistilBertModel, DistilBertTokenizer,DistilBertConfig\n",
    "import torch.nn as nn\n",
    "import torch.nn.functional as F\n",
    "#from datasets import load_dataset\n",
    "import pandas as pd, numpy as np\n",
    "from torch.cuda.amp import autocast\n",
    "from torch import cuda\n",
    "import datetime\n",
    "import warnings,itertools\n",
    "from torch.optim.lr_scheduler import LambdaLR\n",
    "import json\n",
    "import random\n",
    "# Ignore all warnings\n",
    "warnings.filterwarnings('ignore')\n",
    "#pip install transformers bitsandbytes>=0.39.0 -q\n",
    "import zipfile,logging"
   ]
  },
  {
   "cell_type": "code",
   "execution_count": 4,
   "id": "956005a7",
   "metadata": {},
   "outputs": [
    {
     "name": "stdout",
     "output_type": "stream",
     "text": [
      "cuda:0\n",
      "model\n"
     ]
    }
   ],
   "source": [
    "#global params for training\n",
    "\n",
    "B =  32\n",
    "T_g = 1024\n",
    "T_b = 512\n",
    "epoch = 100\n",
    "random_init_wts = True\n",
    "# hard coded compression ratio. This is the ratio of text_len to the # of tokens produced by the tokeinzer\n",
    "comp_ratio = 3\n",
    "\n",
    "if cuda.is_available():\n",
    "    device = torch.device('cuda:0')\n",
    "    print(device)\n",
    "else:\n",
    "    device = 'cpu'\n",
    "#print(device)\n",
    "import os\n",
    "os.environ[\"TOKENIZERS_PARALLELISM\"] = \"true\"\n",
    "#os.environ[\"MKL_DEBUG_CPU_TYPE\"] = \"5\"\n",
    "\n",
    "#print(global_tr_loss)\n",
    "model_path = os.path.join(\"model\")\n",
    "print(model_path)"
   ]
  },
  {
   "cell_type": "code",
   "execution_count": 5,
   "id": "55cac234",
   "metadata": {},
   "outputs": [
    {
     "data": {
      "text/plain": [
       "'./data/unzip_text_10M'"
      ]
     },
     "execution_count": 5,
     "metadata": {},
     "output_type": "execute_result"
    }
   ],
   "source": [
    "directory = os.path.join('.','data','unzip_text_10M')  # Replace with your directory path\n",
    "directory"
   ]
  },
  {
   "cell_type": "code",
   "execution_count": 6,
   "id": "03804f12",
   "metadata": {},
   "outputs": [],
   "source": [
    "def read_text(directory):\n",
    "    directory = os.path.join('.','data','unzip_text_10M',str(directory))  # Replace with your directory path\n",
    "    print(f\"directory :{directory}\")\n",
    "    # List all files in the directory\n",
    "    files = [f for f in os.listdir(directory) if os.path.isfile(os.path.join(directory, f))]\n",
    "    print(f\"files:{files}\")\n",
    "    text_content = []\n",
    "    # Read each file\n",
    "    total_lines = 0\n",
    "    for filenum,filename in enumerate(files):\n",
    "        file_path = os.path.join(directory, filename)\n",
    "        with open(file_path, 'r', encoding='utf-8') as file:\n",
    "            #first_line = file.read()\n",
    "            #print(f\"filename :{filename}->first few lines {first_line}\")\n",
    "            #continue\n",
    "            #lines_list = [line.strip() for line in open(file_path, 'r')]\n",
    "            text = file.read()\n",
    "            text_content.append(text)\n",
    "            print(f\"the file:{filename} has been appeneded to the uber list and its length is {len(text_content)} \")\n",
    "            #total_lines+=len(lines_list)\n",
    "            #text_content.append(lines_list)\n",
    "    \n",
    "    flattened_list = ''.join(text_content)\n",
    "    assert (len(flattened_list) == total_lines , f\"Expected {len(flattened_list)} to be equal to {total_lines}\" )\n",
    "    \n",
    "    return flattened_list\n",
    "\n",
    "    "
   ]
  },
  {
   "cell_type": "code",
   "execution_count": 7,
   "id": "9a87bb0e",
   "metadata": {},
   "outputs": [
    {
     "name": "stdout",
     "output_type": "stream",
     "text": [
      "directory :./data/unzip_text_10M/train_10M\n",
      "files:['switchboard.train', 'simple_wiki.train', 'open_subtitles.train', 'gutenberg.train', 'childes.train', 'bnc_spoken.train']\n",
      "the file:switchboard.train has been appeneded to the uber list and its length is 1 \n",
      "the file:simple_wiki.train has been appeneded to the uber list and its length is 2 \n",
      "the file:open_subtitles.train has been appeneded to the uber list and its length is 3 \n",
      "the file:gutenberg.train has been appeneded to the uber list and its length is 4 \n",
      "the file:childes.train has been appeneded to the uber list and its length is 5 \n",
      "the file:bnc_spoken.train has been appeneded to the uber list and its length is 6 \n"
     ]
    }
   ],
   "source": [
    "train_list = read_text(\"train_10M\")\n"
   ]
  },
  {
   "cell_type": "code",
   "execution_count": 8,
   "id": "b257ebb1",
   "metadata": {},
   "outputs": [
    {
     "data": {
      "text/plain": [
       "54215049"
      ]
     },
     "execution_count": 8,
     "metadata": {},
     "output_type": "execute_result"
    }
   ],
   "source": [
    "len(train_list)"
   ]
  },
  {
   "cell_type": "code",
   "execution_count": 9,
   "id": "ba22841f",
   "metadata": {},
   "outputs": [
    {
     "name": "stdout",
     "output_type": "stream",
     "text": [
      "directory :./data/unzip_text_10M/dev\n",
      "files:['switchboard.dev', 'simple_wiki.dev', 'open_subtitles.dev', 'gutenberg.dev', 'childes.dev', 'bnc_spoken.dev']\n",
      "the file:switchboard.dev has been appeneded to the uber list and its length is 1 \n",
      "the file:simple_wiki.dev has been appeneded to the uber list and its length is 2 \n",
      "the file:open_subtitles.dev has been appeneded to the uber list and its length is 3 \n",
      "the file:gutenberg.dev has been appeneded to the uber list and its length is 4 \n",
      "the file:childes.dev has been appeneded to the uber list and its length is 5 \n",
      "the file:bnc_spoken.dev has been appeneded to the uber list and its length is 6 \n"
     ]
    }
   ],
   "source": [
    "val_list = read_text(\"dev\")\n"
   ]
  },
  {
   "cell_type": "code",
   "execution_count": 10,
   "id": "2e204b26",
   "metadata": {},
   "outputs": [],
   "source": [
    "# # Test the tokenizer:\n",
    "bert_model_name = 'distilbert-base-uncased'\n",
    "gpt2_model_name = 'distilgpt2'\n",
    "bert_tokenizer = DistilBertTokenizer.from_pretrained(bert_model_name)\n",
    "bert_config =  DistilBertConfig()\n",
    "bert_model = DistilBertModel(bert_config)\n",
    "gpt2_config = AutoConfig.from_pretrained(gpt2_model_name, vocab_size = 50304)\n",
    "gpt_model = AutoModelForCausalLM.from_config(gpt2_config)\n"
   ]
  },
  {
   "cell_type": "code",
   "execution_count": 11,
   "id": "616a9b71",
   "metadata": {},
   "outputs": [
    {
     "name": "stderr",
     "output_type": "stream",
     "text": [
      "The tokenizer class you load from this checkpoint is not the same type as the class this function is called from. It may result in unexpected tokenization. \n",
      "The tokenizer class you load from this checkpoint is 'DistilBertTokenizer'. \n",
      "The class this function is called from is 'BertTokenizer'.\n"
     ]
    }
   ],
   "source": [
    "gpt_tokenizer = GPT2Tokenizer.from_pretrained(\"distilgpt2\")\n",
    "if gpt_tokenizer.pad_token is None:\n",
    "    gpt_tokenizer.add_special_tokens({'pad_token': '[PAD]'})\n",
    "bert_tokenizer = BertTokenizer.from_pretrained(bert_model_name)\n",
    "if bert_tokenizer.pad_token is None:\n",
    "    bert_tokenizer.add_special_tokens({'pad_token': '[PAD]'})"
   ]
  },
  {
   "cell_type": "code",
   "execution_count": 12,
   "id": "fa8ae829",
   "metadata": {},
   "outputs": [],
   "source": [
    "#DistilBertTokenizer.from_pretrained('distilbert-base-uncased')"
   ]
  },
  {
   "cell_type": "code",
   "execution_count": 13,
   "id": "65141fdd",
   "metadata": {},
   "outputs": [
    {
     "data": {
      "text/plain": [
       "'[PAD]'"
      ]
     },
     "execution_count": 13,
     "metadata": {},
     "output_type": "execute_result"
    }
   ],
   "source": [
    "bert_tokenizer.pad_token"
   ]
  },
  {
   "cell_type": "code",
   "execution_count": 14,
   "id": "087e9907",
   "metadata": {},
   "outputs": [],
   "source": [
    "# class BertGPT2EncoderDecoder_bkp(torch.nn.Module):\n",
    "#     def __init__(self, bert_model, gpt_model):\n",
    "#         super(BertGPT2EncoderDecoder, self).__init__()\n",
    "#         self.bert_model = bert_model\n",
    "#         self.gpt_model = gpt_model\n",
    "        \n",
    "#         # Linear layer to match BERT output dim to GPT-2 input dim\n",
    "#         self.linear = torch.nn.Linear(bert_model.config.hidden_size, gpt_model.config.n_embd)\n",
    "\n",
    "#     def forward(self, bet_enc,gpt_enc, labels=None):\n",
    "#         # Encode with BERT\n",
    "#         bert_input_id = bet_enc['input_ids']\n",
    "#         bert_attention = bet_enc['attention_mask']\n",
    "        \n",
    "#         gpt_input_id = gpt_enc['input_ids']\n",
    "#         gpt_attention = gpt_enc['attention_mask']\n",
    "        \n",
    "#         bert_input_id = bert_input_id.view(B,T_b)\n",
    "#         bert_attention = bert_attention.view(B,T_b)\n",
    "        \n",
    "#         print(f\"shape that goes into the model | input_id = {bert_input_id.shape}|attention_mask = {bert_attention.shape}\")\n",
    "        \n",
    "#         encoder_outputs = self.bert_model(input_ids=bert_input_id, attention_mask=bert_attention)\n",
    "#         encoder_hidden_states = encoder_outputs.last_hidden_state  # Shape: [batch_size, seq_len, bert_hidden_size]\n",
    "#         print(f\"shape of Bert output = {encoder_hidden_states.shape}\")\n",
    "                \n",
    "#         # Project BERT output to GPT-2 input dimension\n",
    "#         projected_encoder_hidden_states = self.linear(encoder_hidden_states)  # Shape: [batch_size, seq_len, gpt2_hidden_size]\n",
    "#         print(f\"After linear layer shape = {projected_encoder_hidden_states.shape}\")\n",
    "#         # Decode with GPT-2\n",
    "#         extended_hidden_states = torch.cat([projected_encoder_hidden_states] * 2, dim=1)  # Shape: [batch_size, 1024, gpt2_hidden_size]\n",
    "#         # Extend attention mask\n",
    "#         extended_attention_mask = torch.cat([bert_attention] * 2, dim=1)  # Shape: [batch_size, 1024]\n",
    "#         print(f\"shape of extended_hidden_sate = {extended_hidden_states.shape}| extended attenion shape = {extended_attention_mask.shape}\")\n",
    "#         labels = torch.cat([bert_input_id] * 2, dim=1).view(B,T_g)\n",
    "        \n",
    "        \n",
    "#         decoder_outputs = self.gpt_model(inputs_embeds=extended_hidden_states, attention_mask = extended_attention_mask,\n",
    "#                                           labels=labels)\n",
    "#         #print(f\"decoder_outputs = {decoder_outputs}\")\n",
    "\n",
    "        \n",
    "\n",
    "#         return decoder_outputs"
   ]
  },
  {
   "cell_type": "code",
   "execution_count": 15,
   "id": "213c3366",
   "metadata": {},
   "outputs": [],
   "source": [
    "def tokenize_text (chunk, bert_tokenizer = bert_tokenizer,bert_max_length = B*T_b,gpt_tokenizer = gpt_tokenizer,gpt_max_length = B*T_g):\n",
    "    \n",
    "    \n",
    "    enc_bert = bert_tokenizer(chunk,padding='max_length',truncation=True,max_length=gpt_max_length,return_tensors=\"pt\",return_attention_mask=True)\n",
    "    #enc_gpt = gpt_tokenizer(chunk,padding='max_length',truncation=True,max_length=gpt_max_length,return_tensors=\"pt\",return_attention_mask=True)\n",
    "    \n",
    "    label_enc =gpt_tokenizer(chunk,padding='max_length',truncation=True,max_length=gpt_max_length,return_tensors=\"pt\",return_attention_mask=True)\n",
    "    labels = label_enc['input_ids']\n",
    "    #labels[labels == gpt_tokenizer.pad_token_id] = -100  # Ignore padding tokens in the loss\n",
    "    #print(f\"attention mask = {enc_bert['attention_mask'].shape}| bert_input_id_shape = {label_enc['input_ids'].shape}\")   \n",
    "    \n",
    "    return enc_bert,labels\n",
    "    \n",
    "    \n",
    "    \n",
    "        \n",
    "    \n"
   ]
  },
  {
   "cell_type": "markdown",
   "id": "64baa15e",
   "metadata": {},
   "source": [
    "### Data loaders and Dataset for batched training"
   ]
  },
  {
   "cell_type": "code",
   "execution_count": 16,
   "id": "f9d4d897",
   "metadata": {},
   "outputs": [],
   "source": [
    "class dataset_pyt_train(Dataset):\n",
    "    def __init__(self, text_list, B = B, bert_tokenizer = bert_tokenizer, T_b = T_b,comp_ratio = comp_ratio):\n",
    "        self.text_list = text_list\n",
    "        self.bert_tokeinzer = bert_tokenizer     \n",
    "        \n",
    "                                        \n",
    "    def __getitem__(self, idx):\n",
    "        \n",
    "        chunk = self.text_list[idx:idx + B*T_g*comp_ratio]\n",
    "        enc_bert,labels = tokenize_text(chunk)\n",
    "              \n",
    "        return enc_bert,labels\n",
    "        \n",
    "        \n",
    "    def __len__(self):\n",
    "        \n",
    "        num_chunks = comp_ratio*B*T_g\n",
    "        return len(self.text_list)//num_chunks"
   ]
  },
  {
   "cell_type": "code",
   "execution_count": 17,
   "id": "a6a1733f",
   "metadata": {},
   "outputs": [],
   "source": [
    "class dataset_pyt_val(Dataset):\n",
    "    def __init__(self, text_list, B = B, bert_tokenizer = bert_tokenizer, T_b = T_b,comp_ratio = comp_ratio):\n",
    "        self.text_list = text_list\n",
    "        self.bert_tokeinzer = bert_tokenizer     \n",
    "        \n",
    "                                        \n",
    "    def __getitem__(self, idx):\n",
    "        \n",
    "        chunk = self.text_list[idx:idx + B*T_g*comp_ratio]\n",
    "        enc_bert,labels = tokenize_text(chunk)\n",
    "                \n",
    "        return enc_bert,labels\n",
    "        \n",
    "        \n",
    "    def __len__(self):\n",
    "        \n",
    "        num_chunks = comp_ratio*B*T_g\n",
    "        return len(self.text_list)//num_chunks"
   ]
  },
  {
   "cell_type": "code",
   "execution_count": 18,
   "id": "be2e9161",
   "metadata": {},
   "outputs": [],
   "source": [
    "\n",
    "\n",
    "class BertGPT2EncoderDecoder(PreTrainedModel):\n",
    "    def __init__(self, bert_model, gpt_model):\n",
    "        config = bert_model.config\n",
    "        super().__init__(config)\n",
    "        self.bert_model = bert_model\n",
    "        self.gpt_model = gpt_model\n",
    "        \n",
    "        # Linear layer to match BERT output dim to GPT-2 input dim\n",
    "        self.linear = torch.nn.Linear(bert_model.config.hidden_size, gpt_model.config.n_embd)\n",
    "\n",
    "    def forward(self, bert_ids,bert_att_mask,labels):\n",
    "        bert_tokenizer = DistilBertTokenizer.from_pretrained('distilbert-base-uncased')     \n",
    "        bert_input_id = bert_ids.view(B, T_g)\n",
    "        bert_attention = bert_att_mask.view(B, T_g)\n",
    "        assert not torch.isnan(bert_input_id).any(), \"Input IDs contain NaNs\"\n",
    "        assert not torch.isinf(bert_input_id).any(), \"Input IDs contain Infs\"\n",
    "        #we split the 1024 dim tensor into two, each of 512 len \n",
    "        split_tensors_inp = torch.split(bert_input_id, T_b, dim=1)\n",
    "        bert_input_id_chunk1,bert_input_id_chunk2 = split_tensors_inp\n",
    "                \n",
    "        split_tensors_att = torch.split(bert_attention, T_b, dim=1)\n",
    "        bert_att_chunk1,bert_att_chunk2 = split_tensors_att\n",
    "               \n",
    "                 \n",
    "        encoder_outputs_chunk_1 = self.bert_model(input_ids=bert_input_id_chunk1, attention_mask=bert_att_chunk1)\n",
    "        encoder_outputs_chunk_2 = self.bert_model(input_ids=bert_input_id_chunk2, attention_mask=bert_att_chunk2)\n",
    "#         print(f\"encoder_outputs_chunk_1 = {encoder_outputs_chunk_1}\")\n",
    "#         print(f\"encoder_outputs_chunk_2 = {encoder_outputs_chunk_2}\")\n",
    "        \n",
    "        encoder_hidden_states_1 = encoder_outputs_chunk_1.last_hidden_state\n",
    "        encoder_hidden_states_2 = encoder_outputs_chunk_2.last_hidden_state# Shape: [batch_size, seq_len, bert_hidden_size]\n",
    "        \n",
    "#         encoder_hidden_states_1[bert_input_id_chunk1 == bert_tokenizer.pad_token_id] = 0\n",
    "#         encoder_hidden_states_2[bert_input_id_chunk2 == bert_tokenizer.pad_token_id] = 0\n",
    "        \n",
    "        extended_hidden_states = torch.cat((encoder_hidden_states_1, encoder_hidden_states_2),dim=1)  # Shape: [batch_size, 1024, gpt2_hidden_size]\n",
    "        extended_attention_mask = torch.cat((bert_att_chunk1,bert_att_chunk2), dim=1)  # Shape: [batch_size, 1024]\n",
    "        labels = labels.view(B,T_g)\n",
    "        \n",
    "        decoder_outputs = self.gpt_model(inputs_embeds=extended_hidden_states, attention_mask=extended_attention_mask, labels=labels)\n",
    "        #print(f\"decoder out = {decoder_outputs}\")\n",
    "        \n",
    "        return decoder_outputs"
   ]
  },
  {
   "cell_type": "code",
   "execution_count": 19,
   "id": "7337d8da",
   "metadata": {},
   "outputs": [],
   "source": [
    "# low = 1\n",
    "# high = 1000  # high is exclusive in torch.randint, so we use 52548 to include 52547\n",
    "# shape1 = (32, 1024)\n",
    "# dtype = torch.long\n",
    "# shape2 = (32, 1024)\n",
    "# # Create the random integer tensor\n",
    "\n",
    "# m1 =  BertGPT2EncoderDecoder(bert_model = bert_model, gpt_model = gpt_model)\n",
    "# m1.to(device)\n",
    "# bert_id =  torch.randint(low, high, shape1, dtype=dtype,device = device)\n",
    "# att = torch.ones(32,1024,device = device)\n",
    "# labels =  torch.randint(low, high, shape2, dtype=dtype,device = device)\n",
    "# o = m1(bert_id,att,labels)"
   ]
  },
  {
   "cell_type": "code",
   "execution_count": null,
   "id": "c95b6180",
   "metadata": {},
   "outputs": [],
   "source": []
  },
  {
   "cell_type": "code",
   "execution_count": 20,
   "id": "36e00c6f",
   "metadata": {},
   "outputs": [],
   "source": [
    "model = BertGPT2EncoderDecoder(bert_model = bert_model, gpt_model = gpt_model)\n",
    "model.to(device)\n",
    "model = torch.compile(model)"
   ]
  },
  {
   "cell_type": "code",
   "execution_count": 21,
   "id": "008beeb6",
   "metadata": {},
   "outputs": [],
   "source": [
    "#train_dataset = dataset_pyt(filtered_df,tokenizer = tokenizer)\n",
    "train_dataset = dataset_pyt_train(train_list)\n",
    "val_dataset = dataset_pyt_val(val_list)\n",
    "\n",
    "train_loader = DataLoader(train_dataset,batch_size = 1, shuffle = True , num_workers = 4, pin_memory = True)\n",
    "val_loader = DataLoader(val_dataset,batch_size = 1, shuffle = True , num_workers = 4, pin_memory = True)\n"
   ]
  },
  {
   "cell_type": "code",
   "execution_count": 22,
   "id": "15ce4273",
   "metadata": {},
   "outputs": [],
   "source": [
    "# b1 = torch.rand(64,512,768)\n",
    "# b1.shape\n",
    "# g1 = torch.rand(64,512)\n",
    "# g1.shape\n",
    "# cat = torch.cat((b1,g1),dim = 1)"
   ]
  },
  {
   "cell_type": "code",
   "execution_count": 23,
   "id": "20cf4c47",
   "metadata": {},
   "outputs": [],
   "source": [
    "# enc_bert,labels = train_dataset[1]\n",
    "# bert_ids = enc_bert['input_ids']\n",
    "# bert_att_mask = enc_bert['attention_mask']\n",
    "# bert_ids = bert_ids.to(device=device, non_blocking=True)\n",
    "# bert_ids = torch.squeeze(bert_ids, dim = 0)\n",
    "# bert_att_mask = bert_att_mask.to(device=device, non_blocking=True)\n",
    "# bert_att_mask =  torch.squeeze(bert_att_mask, dim = 0)\n",
    "# labels = labels.to(device=device, non_blocking=True)\n",
    "# labels = torch.squeeze(labels, dim = 0).view(B,T_g)\n",
    "# print(f\"bert_ids shape = {bert_ids.shape}|att_mask shape = {bert_att_mask.shape}| labels shape = {labels.shape}\")\n",
    "# model.to(device)\n",
    "# #bert_ids,bert_att_mask,ids_gpt,att_gpt, labels\n",
    "\n",
    "# o = model(bert_ids , bert_att_mask,labels)"
   ]
  },
  {
   "cell_type": "code",
   "execution_count": null,
   "id": "72216a28",
   "metadata": {},
   "outputs": [],
   "source": []
  },
  {
   "cell_type": "code",
   "execution_count": 24,
   "id": "2bcbd51f",
   "metadata": {},
   "outputs": [],
   "source": [
    "# model.to(device)\n",
    "# for i in range(0,len(train_dataset)):\n",
    "#     enc_bert,labels = train_dataset[i]\n",
    "#     bert_ids = enc_bert['input_ids']\n",
    "#     bert_att_mask = enc_bert['attention_mask']\n",
    "#     bert_ids = bert_ids.to(device=device, non_blocking=True)\n",
    "#     bert_ids = torch.squeeze(bert_ids, dim = 0)\n",
    "#     bert_att_mask = bert_att_mask.to(device=device, non_blocking=True)\n",
    "#     bert_att_mask =  torch.squeeze(bert_att_mask, dim = 0)\n",
    "#     #gpt_extraction\n",
    "#     labels = labels.to(device=device, non_blocking=True)\n",
    "#     labels = torch.squeeze(labels, dim = 0).view(B,T_g)\n",
    "# #bert_ids,bert_att_mask,ids_gpt,att_gpt, labels\n",
    "#     with autocast(dtype = torch.bfloat16):\n",
    "#         model_output = model(bert_ids = bert_ids ,bert_att_mask = bert_att_mask,labels = labels)\n",
    "#         total_loss = model_output.loss\n",
    "#         print(f\"index = {i}|loss = {total_loss}\")\n",
    "   "
   ]
  },
  {
   "cell_type": "code",
   "execution_count": 25,
   "id": "56ee98fc",
   "metadata": {},
   "outputs": [],
   "source": [
    "# test = torch.rand(1,65536)\n",
    "# test = torch.squeeze(test,dim = 0)\n",
    "# test = test.view(B,T_g)"
   ]
  },
  {
   "cell_type": "code",
   "execution_count": null,
   "id": "b68971d7",
   "metadata": {},
   "outputs": [],
   "source": []
  },
  {
   "cell_type": "code",
   "execution_count": 26,
   "id": "a7504e63",
   "metadata": {},
   "outputs": [],
   "source": [
    "def write_file(log_message, model_name = \"enc_dec\" ,random_init_wts = random_init_wts ):\n",
    "    current_datetime = datetime.datetime.now()\n",
    "    # Extract date and time components\n",
    "    current_date = str(current_datetime.date())\n",
    "    log_file = model_name +'_nll_two_bert_encoder_'+'random_init_wts'+ '_'+str(random_init_wts)+'_' +current_date+'.log'\n",
    "    print(f\"*****LOGGING INFO IN {log_file}*********\")\n",
    "    filepath = os.path.join(\"model\",log_file)\n",
    "    logging.basicConfig(filename=filepath, \n",
    "                    filemode='a',  # Overwrite the log file each time\n",
    "                    format='%(asctime)s - %(levelname)s - %(message)s', \n",
    "                    level=logging.DEBUG)\n",
    "    logger = logging.getLogger()\n",
    "    logger.info(log_message)\n",
    "    \n",
    "    \n",
    "\n",
    "    \n",
    "    "
   ]
  },
  {
   "cell_type": "code",
   "execution_count": 27,
   "id": "f375acbf",
   "metadata": {},
   "outputs": [
    {
     "name": "stdout",
     "output_type": "stream",
     "text": [
      "Length of the train loader is 551\n",
      "Length of the val loader is 575\n",
      "num_tokens= 18055168\n"
     ]
    }
   ],
   "source": [
    "print(f\"Length of the train loader is {len(train_loader)}\")\n",
    "print(f\"Length of the val loader is {len(val_loader)}\")\n",
    "print(f\"num_tokens= {B*T_g*len(train_loader)}\")"
   ]
  },
  {
   "cell_type": "code",
   "execution_count": 28,
   "id": "31fc164c",
   "metadata": {},
   "outputs": [],
   "source": [
    "#emb,att,inp = train_dataset[1]"
   ]
  },
  {
   "cell_type": "code",
   "execution_count": 29,
   "id": "fc7455d1",
   "metadata": {},
   "outputs": [],
   "source": [
    "class check_train_metrics:\n",
    "    def __init__(self, patience=20, min_delta=0 , B = B, T = T_g,best_loss = torch.inf,early_stop = False):\n",
    "        self.patience = patience\n",
    "        self.min_delta = min_delta\n",
    "        self.train_counter = 0\n",
    "        self.best_loss = best_loss\n",
    "        self.early_stop = early_stop\n",
    "        self.improvement = None\n",
    "\n",
    "    def __call__(self, loss, epoch , epoch_durn, norm , current_lr, num_token):\n",
    "        if self.best_loss - loss > self.min_delta:\n",
    "            \n",
    "            print(f\"training loss has decreased---> reducing the best loss from {self.best_loss:.2f} to {loss:.2f} | throughput = {int(num_token/epoch_durn)} tokens/second | norm = {norm:.4f} | learning rate = {current_lr:.5e}\")\n",
    "            self.best_loss = loss\n",
    "            self.train_counter = 0\n",
    "            self.improvement = True\n",
    "        else:\n",
    "            self.train_counter += 1\n",
    "            self.improvement = False\n",
    "            print(f\"No improvement in training  loss-->epoch= {epoch} and best loss is {self.best_loss:.2f}|current_loss = {loss}|counter = {self.train_counter}\")\n",
    "            if self.train_counter >= self.patience:\n",
    "                self.early_stop = True\n"
   ]
  },
  {
   "cell_type": "code",
   "execution_count": 30,
   "id": "e787a32f",
   "metadata": {},
   "outputs": [],
   "source": [
    "class check_val_metrics:\n",
    "    def __init__(self, patience=10, min_delta=0, best_loss = torch.inf,early_stop = False):\n",
    "        self.patience = patience\n",
    "        self.min_delta = min_delta\n",
    "        self.val_counter = 0\n",
    "        self.best_loss = best_loss\n",
    "        self.early_stop = early_stop\n",
    "        \n",
    "\n",
    "    def __call__(self, loss, epoch , model, bert_tokenizer):\n",
    "        if self.best_loss - loss > self.min_delta:\n",
    "            print(f\"Val loss has decreased -->reducing the global validation loss from {self.best_loss:.2f} to {loss:.2f}\")\n",
    "            s1 = (f\"Val loss has decreased -->reducing the global validation loss from {self.best_loss:.2f} to {loss:.2f}\")\n",
    "            print(f\" validation loss for epoch = {epoch} is {loss:.4f}\")\n",
    "            self.best_loss = loss\n",
    "            s2 = f\" validation loss for epoch = {epoch} is {loss:.4f}\"\n",
    "            print(f\" epoch= {epoch} :  val loss is {loss:.4f} \")\n",
    "            s3 = f\" epoch= {epoch} :  val loss is {loss:.4f} \"\n",
    "            #save the model\n",
    "            # Get the current date and time\n",
    "            current_datetime = datetime.datetime.now()\n",
    "            # Extract date and time components\n",
    "            current_date = str(current_datetime.date())\n",
    "            current_time = str(current_datetime.time()).split('.')[0]\n",
    "            file_name = 'model'+ current_date+current_time+'.pth'\n",
    "            path = os.path.join(\"model\",file_name)\n",
    "            print(f\"saving the model {file_name}\")\n",
    "            s4 = f\"saving the model {file_name}\"\n",
    "            #torch.save(model.state_dict(), path)\n",
    "            model.save_pretrained(path)\n",
    "            bert_tokenizer.save_pretrained(path)\n",
    "            log_message = s1+s2+s3+s4\n",
    "            write_file(log_message)\n",
    "            self.val_counter = 0\n",
    "        else:\n",
    "            self.val_counter += 1\n",
    "            print(f\"No improvement in validation loss-->epoch= {epoch} and best val loss is {self.best_loss:.2f}|current_Val loss = {loss}|val_counter = {self.val_counter}\")\n",
    "            if self.val_counter >= self.patience:\n",
    "                self.early_stop = True"
   ]
  },
  {
   "cell_type": "code",
   "execution_count": 31,
   "id": "399828ef",
   "metadata": {},
   "outputs": [],
   "source": [
    "#model_output = model(input_ids = inp ,attention_mask = att, labels = inp)"
   ]
  },
  {
   "cell_type": "code",
   "execution_count": 32,
   "id": "2ce05662",
   "metadata": {},
   "outputs": [],
   "source": [
    "@torch.no_grad\n",
    "\n",
    "def eval_model(val_loader, model, epoch , device = device,tokenizer = bert_tokenizer):\n",
    "    model.eval()\n",
    "    model.to(device)\n",
    "    e = epoch+1\n",
    "    val_loss_accum = 0.0\n",
    "    \n",
    "    print(f\"inside validation data for epoch {e}\")\n",
    "    for ind,(enc_bert,labels) in enumerate(val_loader):\n",
    "        bert_ids = enc_bert['input_ids']\n",
    "        bert_att_mask = enc_bert['attention_mask']\n",
    "        bert_ids = bert_ids.to(device=device, non_blocking=True)\n",
    "        bert_ids = torch.squeeze(bert_ids, dim = 0)\n",
    "        bert_att_mask = bert_att_mask.to(device=device, non_blocking=True)\n",
    "        bert_att_mask =  torch.squeeze(bert_att_mask, dim = 0)\n",
    "        labels = labels.to(device=device, non_blocking=True)\n",
    "        labels = torch.squeeze(labels, dim = 0).view(B,T_g)\n",
    "        #bert_ids,bert_att_mask,labels\n",
    "        with autocast(dtype = torch.bfloat16):\n",
    "            model_output = model(bert_ids = bert_ids ,bert_att_mask = bert_att_mask,labels = labels)\n",
    "            total_loss = model_output.loss\n",
    "            \n",
    "    \n",
    "    \n",
    "        val_loss_accum+= total_loss.detach().item()\n",
    "        del bert_att_mask,bert_ids,labels,model_output\n",
    "    return val_loss_accum        \n",
    "    \n",
    "    \n",
    "    \n"
   ]
  },
  {
   "cell_type": "code",
   "execution_count": 33,
   "id": "83af6557",
   "metadata": {},
   "outputs": [],
   "source": [
    "\n",
    "def train_model(train_loader,val_loader,model,num_epoch = epoch,device = device,tokenizer = bert_tokenizer):\n",
    "    #model.train()\n",
    "    device = device\n",
    "    lr_custom = 1e-6\n",
    "    print(f\"inside train model. Device = {device}\")\n",
    "    model.to(device)\n",
    "    optimizer = torch.optim.AdamW(params =  model.parameters(), lr= lr_custom,fused = True ,weight_decay = .1)\n",
    "      \n",
    "    extra_train = .1*num_epoch\n",
    "    max_train_steps = int(num_epoch +extra_train )\n",
    "    import time\n",
    "    from transformers import get_linear_schedule_with_warmup\n",
    "    total_steps = len(train_loader) * num_epoch\n",
    "    scheduler_cos = transformers.get_cosine_schedule_with_warmup( optimizer= optimizer, num_warmup_steps =int(total_steps * 0.1) ,num_training_steps= total_steps )\n",
    "        \n",
    "    epoch_train_log = []\n",
    "    epoch_val_log = []\n",
    "    validate_val_metric = check_val_metrics()\n",
    "    validate_train_metric = check_train_metrics()\n",
    "    for i in range (max_train_steps):\n",
    "        \n",
    "        epoch_start_time = time.time()\n",
    "        optimizer.zero_grad(set_to_none=True)\n",
    "        # we use 2 schedulers - the first LR scheduler uses a cosine decay for 100 epochs the second scheduler takes the last LR from cosine scheduler and then maintains that LR for the next 10 epochs\n",
    "        if i >= num_epoch:\n",
    "            optimizer_reduced_lr = torch.optim.AdamW(params =  model.parameters(), lr= current_lr ,fused = True , weight_decay=.1)\n",
    "            scheduler_constant = transformers.get_constant_schedule_with_warmup( optimizer = optimizer_reduced_lr ,num_warmup_steps = 0, last_epoch = -1 )\n",
    "        \n",
    "        epoch_train_loss = 0       \n",
    "        for ind,(enc_bert,labels) in enumerate(train_loader):\n",
    "            if ind == int(len(train_loader)/2):\n",
    "                batch_time = time.time()\n",
    "                duration = batch_time - epoch_start_time\n",
    "                print(f\"executing epoch:{i+1}, it took {duration/60} mins from beginning of epoch till batch#{ind}\")\n",
    "            \n",
    "            #bert extraction\n",
    "            bert_ids = enc_bert['input_ids']\n",
    "            bert_att_mask = enc_bert['attention_mask']\n",
    "            bert_ids = bert_ids.to(device=device, non_blocking=True)\n",
    "            bert_ids = torch.squeeze(bert_ids, dim = 0)\n",
    "            bert_att_mask = bert_att_mask.to(device=device, non_blocking=True)\n",
    "            bert_att_mask =  torch.squeeze(bert_att_mask, dim = 0)\n",
    "            labels = labels.to(device=device, non_blocking=True)\n",
    "            labels = torch.squeeze(labels, dim = 0).view(B,T_g)\n",
    "            #bert_ids,bert_att_mask,labels\n",
    "            with autocast(dtype = torch.bfloat16):\n",
    "                model_output = model(bert_ids = bert_ids ,bert_att_mask = bert_att_mask,labels = labels)\n",
    "                total_loss = model_output.loss\n",
    "            \n",
    "                    \n",
    "            total_loss.backward()\n",
    "            epoch_train_loss += total_loss.detach().item()\n",
    "            norm = torch.nn.utils.clip_grad_norm(model.parameters() , 1.0)\n",
    "            if i <= num_epoch:\n",
    "                optimizer.step()\n",
    "                scheduler_cos.step()\n",
    "                optimizer.zero_grad(set_to_none=True)\n",
    "            else:\n",
    "                optimizer_reduced_lr.step()\n",
    "                optimizer_reduced_lr.zero_grad(set_to_none=True)\n",
    "                scheduler_constant.step()\n",
    "                \n",
    "                         \n",
    "            del bert_att_mask,bert_ids,labels,model_output\n",
    "            \n",
    "        #batch processing complete \n",
    "        #print(f\"batch processing complete , lambda = {lambda_val} |total_loss for batch= {total_loss}\")\n",
    "        \n",
    "        if i <= num_epoch:\n",
    "            current_lr = scheduler_cos.get_last_lr()[0]\n",
    "        epoch_end_time = time.time()\n",
    "        epoch_durn = (epoch_end_time - epoch_start_time)\n",
    "        num_token = B*T_g*len(train_loader)\n",
    "        epoch_train_log.append(epoch_train_loss)\n",
    "        validate_train_metric(epoch_train_loss, i , epoch_durn, norm , current_lr, num_token)\n",
    "        \n",
    "        if validate_train_metric.improvement:\n",
    "            val_loss= eval_model(val_loader, model, epoch = i, device = device,tokenizer = bert_tokenizer)\n",
    "            epoch_val_log.append(val_loss)\n",
    "            validate_val_metric(val_loss, i , model, bert_tokenizer)\n",
    "            if validate_train_metric.early_stop or validate_val_metric.early_stop :\n",
    "                print(f\"early stopping trigerred either from training data or val data | train_counter = {validate_train_metric.train_counter}|val_counter = {validate_val_metric.val_counter}\")\n",
    "                break\n",
    "        else:\n",
    "            if validate_val_metric.early_stop:\n",
    "                print(f\"early stopping trigerred from validation data\")\n",
    "                break\n",
    "              \n",
    "    \n",
    "    return model,epoch_train_log,epoch_val_log\n",
    "        \n",
    "            \n",
    "            \n",
    "    \n",
    "    "
   ]
  },
  {
   "cell_type": "code",
   "execution_count": 34,
   "id": "72c34a51",
   "metadata": {},
   "outputs": [
    {
     "name": "stdout",
     "output_type": "stream",
     "text": [
      "inside train model. Device = cuda:0\n",
      "executing epoch:1, it took 2.5606335043907165 mins from beginning of epoch till batch#275\n",
      "training loss has decreased---> reducing the best loss from inf to 5970.55 | throughput = 68387 tokens/second | norm = 3.7244 | learning rate = 1.00000e-07\n",
      "inside validation data for epoch 1\n",
      "Val loss has decreased -->reducing the global validation loss from inf to 6048.80\n",
      " validation loss for epoch = 0 is 6048.8028\n",
      " epoch= 0 :  val loss is 6048.8028 \n",
      "saving the model model2024-07-3121:50:54.pth\n",
      "*****LOGGING INFO IN enc_dec_nll_two_bert_encoder_random_init_wts_True_2024-07-31.log*********\n",
      "executing epoch:2, it took 2.4919617255528768 mins from beginning of epoch till batch#275\n",
      "training loss has decreased---> reducing the best loss from 5970.55 to 5406.48 | throughput = 70691 tokens/second | norm = 4.7988 | learning rate = 2.00000e-07\n",
      "inside validation data for epoch 2\n",
      "Val loss has decreased -->reducing the global validation loss from 6048.80 to 5196.53\n",
      " validation loss for epoch = 1 is 5196.5320\n",
      " epoch= 1 :  val loss is 5196.5320 \n",
      "saving the model model2024-07-3121:57:17.pth\n",
      "*****LOGGING INFO IN enc_dec_nll_two_bert_encoder_random_init_wts_True_2024-07-31.log*********\n",
      "executing epoch:3, it took 1.822866110006968 mins from beginning of epoch till batch#275\n",
      "training loss has decreased---> reducing the best loss from 5406.48 to 4679.80 | throughput = 82940 tokens/second | norm = 4.0924 | learning rate = 3.00000e-07\n",
      "inside validation data for epoch 3\n",
      "Val loss has decreased -->reducing the global validation loss from 5196.53 to 4711.60\n",
      " validation loss for epoch = 2 is 4711.5998\n",
      " epoch= 2 :  val loss is 4711.5998 \n",
      "saving the model model2024-07-3122:03:02.pth\n",
      "*****LOGGING INFO IN enc_dec_nll_two_bert_encoder_random_init_wts_True_2024-07-31.log*********\n",
      "executing epoch:4, it took 1.7946237087249757 mins from beginning of epoch till batch#275\n",
      "training loss has decreased---> reducing the best loss from 4679.80 to 4395.44 | throughput = 82893 tokens/second | norm = 3.9486 | learning rate = 4.00000e-07\n",
      "inside validation data for epoch 4\n",
      "Val loss has decreased -->reducing the global validation loss from 4711.60 to 4520.84\n",
      " validation loss for epoch = 3 is 4520.8357\n",
      " epoch= 3 :  val loss is 4520.8357 \n",
      "saving the model model2024-07-3122:08:48.pth\n",
      "*****LOGGING INFO IN enc_dec_nll_two_bert_encoder_random_init_wts_True_2024-07-31.log*********\n",
      "executing epoch:5, it took 1.8207552552223205 mins from beginning of epoch till batch#275\n",
      "training loss has decreased---> reducing the best loss from 4395.44 to 4216.14 | throughput = 82616 tokens/second | norm = 3.7790 | learning rate = 5.00000e-07\n",
      "inside validation data for epoch 5\n",
      "Val loss has decreased -->reducing the global validation loss from 4520.84 to 4342.70\n",
      " validation loss for epoch = 4 is 4342.6976\n",
      " epoch= 4 :  val loss is 4342.6976 \n",
      "saving the model model2024-07-3122:14:34.pth\n",
      "*****LOGGING INFO IN enc_dec_nll_two_bert_encoder_random_init_wts_True_2024-07-31.log*********\n",
      "executing epoch:6, it took 1.8441206693649292 mins from beginning of epoch till batch#275\n",
      "training loss has decreased---> reducing the best loss from 4216.14 to 4024.92 | throughput = 82684 tokens/second | norm = 3.5436 | learning rate = 6.00000e-07\n",
      "inside validation data for epoch 6\n",
      "Val loss has decreased -->reducing the global validation loss from 4342.70 to 4142.83\n",
      " validation loss for epoch = 5 is 4142.8285\n",
      " epoch= 5 :  val loss is 4142.8285 \n",
      "saving the model model2024-07-3122:20:18.pth\n",
      "*****LOGGING INFO IN enc_dec_nll_two_bert_encoder_random_init_wts_True_2024-07-31.log*********\n",
      "executing epoch:7, it took 1.8198819001515707 mins from beginning of epoch till batch#275\n",
      "training loss has decreased---> reducing the best loss from 4024.92 to 3810.23 | throughput = 83230 tokens/second | norm = 3.2100 | learning rate = 7.00000e-07\n",
      "inside validation data for epoch 7\n",
      "Val loss has decreased -->reducing the global validation loss from 4142.83 to 3920.59\n",
      " validation loss for epoch = 6 is 3920.5930\n",
      " epoch= 6 :  val loss is 3920.5930 \n",
      "saving the model model2024-07-3122:26:02.pth\n",
      "*****LOGGING INFO IN enc_dec_nll_two_bert_encoder_random_init_wts_True_2024-07-31.log*********\n",
      "executing epoch:8, it took 1.8090359250704446 mins from beginning of epoch till batch#275\n",
      "training loss has decreased---> reducing the best loss from 3810.23 to 3578.02 | throughput = 82986 tokens/second | norm = 2.7587 | learning rate = 8.00000e-07\n",
      "inside validation data for epoch 8\n",
      "Val loss has decreased -->reducing the global validation loss from 3920.59 to 3685.55\n",
      " validation loss for epoch = 7 is 3685.5526\n",
      " epoch= 7 :  val loss is 3685.5526 \n",
      "saving the model model2024-07-3122:31:46.pth\n",
      "*****LOGGING INFO IN enc_dec_nll_two_bert_encoder_random_init_wts_True_2024-07-31.log*********\n",
      "executing epoch:9, it took 1.8013264099756876 mins from beginning of epoch till batch#275\n",
      "training loss has decreased---> reducing the best loss from 3578.02 to 3343.24 | throughput = 83319 tokens/second | norm = 2.1856 | learning rate = 9.00000e-07\n",
      "inside validation data for epoch 9\n",
      "Val loss has decreased -->reducing the global validation loss from 3685.55 to 3457.25\n",
      " validation loss for epoch = 8 is 3457.2513\n",
      " epoch= 8 :  val loss is 3457.2513 \n",
      "saving the model model2024-07-3122:37:31.pth\n",
      "*****LOGGING INFO IN enc_dec_nll_two_bert_encoder_random_init_wts_True_2024-07-31.log*********\n",
      "executing epoch:10, it took 1.8032696843147278 mins from beginning of epoch till batch#275\n",
      "training loss has decreased---> reducing the best loss from 3343.24 to 3127.47 | throughput = 83345 tokens/second | norm = 1.5438 | learning rate = 1.00000e-06\n",
      "inside validation data for epoch 10\n",
      "Val loss has decreased -->reducing the global validation loss from 3457.25 to 3262.24\n",
      " validation loss for epoch = 9 is 3262.2393\n",
      " epoch= 9 :  val loss is 3262.2393 \n",
      "saving the model model2024-07-3122:43:15.pth\n",
      "*****LOGGING INFO IN enc_dec_nll_two_bert_encoder_random_init_wts_True_2024-07-31.log*********\n",
      "executing epoch:11, it took 1.8085614244143169 mins from beginning of epoch till batch#275\n",
      "training loss has decreased---> reducing the best loss from 3127.47 to 2955.33 | throughput = 83669 tokens/second | norm = 0.9583 | learning rate = 9.99695e-07\n",
      "inside validation data for epoch 11\n",
      "Val loss has decreased -->reducing the global validation loss from 3262.24 to 3130.58\n",
      " validation loss for epoch = 10 is 3130.5828\n",
      " epoch= 10 :  val loss is 3130.5828 \n",
      "saving the model model2024-07-3122:48:59.pth\n",
      "*****LOGGING INFO IN enc_dec_nll_two_bert_encoder_random_init_wts_True_2024-07-31.log*********\n",
      "executing epoch:12, it took 1.8072959780693054 mins from beginning of epoch till batch#275\n",
      "training loss has decreased---> reducing the best loss from 2955.33 to 2851.46 | throughput = 83146 tokens/second | norm = 0.6064 | learning rate = 9.98782e-07\n",
      "inside validation data for epoch 12\n",
      "Val loss has decreased -->reducing the global validation loss from 3130.58 to 3073.16\n",
      " validation loss for epoch = 11 is 3073.1568\n",
      " epoch= 11 :  val loss is 3073.1568 \n",
      "saving the model model2024-07-3122:54:42.pth\n",
      "*****LOGGING INFO IN enc_dec_nll_two_bert_encoder_random_init_wts_True_2024-07-31.log*********\n",
      "executing epoch:13, it took 1.7920223077138264 mins from beginning of epoch till batch#275\n",
      "training loss has decreased---> reducing the best loss from 2851.46 to 2800.55 | throughput = 84479 tokens/second | norm = 0.4259 | learning rate = 9.97261e-07\n",
      "inside validation data for epoch 13\n",
      "Val loss has decreased -->reducing the global validation loss from 3073.16 to 3051.45\n",
      " validation loss for epoch = 12 is 3051.4508\n",
      " epoch= 12 :  val loss is 3051.4508 \n",
      "saving the model model2024-07-3123:00:21.pth\n",
      "*****LOGGING INFO IN enc_dec_nll_two_bert_encoder_random_init_wts_True_2024-07-31.log*********\n",
      "executing epoch:14, it took 1.8116762598355611 mins from beginning of epoch till batch#275\n",
      "training loss has decreased---> reducing the best loss from 2800.55 to 2766.29 | throughput = 83234 tokens/second | norm = 0.3195 | learning rate = 9.95134e-07\n",
      "inside validation data for epoch 14\n",
      "Val loss has decreased -->reducing the global validation loss from 3051.45 to 3044.08\n",
      " validation loss for epoch = 13 is 3044.0767\n",
      " epoch= 13 :  val loss is 3044.0767 \n",
      "saving the model model2024-07-3123:06:04.pth\n",
      "*****LOGGING INFO IN enc_dec_nll_two_bert_encoder_random_init_wts_True_2024-07-31.log*********\n",
      "executing epoch:15, it took 1.799920658270518 mins from beginning of epoch till batch#275\n",
      "training loss has decreased---> reducing the best loss from 2766.29 to 2739.48 | throughput = 83526 tokens/second | norm = 0.3808 | learning rate = 9.92404e-07\n",
      "inside validation data for epoch 15\n",
      "No improvement in validation loss-->epoch= 14 and best val loss is 3044.08|current_Val loss = 3045.630513191223|val_counter = 1\n",
      "executing epoch:16, it took 1.8006656209627787 mins from beginning of epoch till batch#275\n",
      "training loss has decreased---> reducing the best loss from 2739.48 to 2708.67 | throughput = 83816 tokens/second | norm = 0.6007 | learning rate = 9.89074e-07\n",
      "inside validation data for epoch 16\n",
      "No improvement in validation loss-->epoch= 15 and best val loss is 3044.08|current_Val loss = 3051.864559173584|val_counter = 2\n",
      "executing epoch:17, it took 1.796460751692454 mins from beginning of epoch till batch#275\n",
      "training loss has decreased---> reducing the best loss from 2708.67 to 2673.29 | throughput = 83284 tokens/second | norm = 1.2290 | learning rate = 9.85148e-07\n",
      "inside validation data for epoch 17\n",
      "No improvement in validation loss-->epoch= 16 and best val loss is 3044.08|current_Val loss = 3060.584671020508|val_counter = 3\n",
      "executing epoch:18, it took 1.801487147808075 mins from beginning of epoch till batch#275\n",
      "training loss has decreased---> reducing the best loss from 2673.29 to 2647.26 | throughput = 83582 tokens/second | norm = 2.9618 | learning rate = 9.80631e-07\n",
      "inside validation data for epoch 18\n",
      "No improvement in validation loss-->epoch= 17 and best val loss is 3044.08|current_Val loss = 3066.8265743255615|val_counter = 4\n",
      "executing epoch:19, it took 2.197329819202423 mins from beginning of epoch till batch#275\n",
      "training loss has decreased---> reducing the best loss from 2647.26 to 2626.92 | throughput = 68792 tokens/second | norm = 4.0760 | learning rate = 9.75528e-07\n",
      "inside validation data for epoch 19\n",
      "No improvement in validation loss-->epoch= 18 and best val loss is 3044.08|current_Val loss = 3073.9782538414|val_counter = 5\n",
      "executing epoch:20, it took 2.212376383940379 mins from beginning of epoch till batch#275\n",
      "training loss has decreased---> reducing the best loss from 2626.92 to 2609.91 | throughput = 68233 tokens/second | norm = 4.6805 | learning rate = 9.69846e-07\n",
      "inside validation data for epoch 20\n",
      "No improvement in validation loss-->epoch= 19 and best val loss is 3044.08|current_Val loss = 3076.548236846924|val_counter = 6\n",
      "executing epoch:21, it took 2.2381405154863994 mins from beginning of epoch till batch#275\n",
      "training loss has decreased---> reducing the best loss from 2609.91 to 2594.18 | throughput = 67442 tokens/second | norm = 4.4164 | learning rate = 9.63592e-07\n",
      "inside validation data for epoch 21\n",
      "No improvement in validation loss-->epoch= 20 and best val loss is 3044.08|current_Val loss = 3079.3595662117004|val_counter = 7\n",
      "executing epoch:22, it took 1.8233633438746135 mins from beginning of epoch till batch#275\n",
      "training loss has decreased---> reducing the best loss from 2594.18 to 2577.87 | throughput = 82982 tokens/second | norm = 4.3703 | learning rate = 9.56773e-07\n",
      "inside validation data for epoch 22\n",
      "No improvement in validation loss-->epoch= 21 and best val loss is 3044.08|current_Val loss = 3086.1982641220093|val_counter = 8\n",
      "executing epoch:23, it took 1.7998080174128215 mins from beginning of epoch till batch#275\n",
      "training loss has decreased---> reducing the best loss from 2577.87 to 2561.60 | throughput = 83893 tokens/second | norm = 9.1222 | learning rate = 9.49397e-07\n",
      "inside validation data for epoch 23\n",
      "No improvement in validation loss-->epoch= 22 and best val loss is 3044.08|current_Val loss = 3086.8672313690186|val_counter = 9\n",
      "executing epoch:24, it took 1.8028644919395447 mins from beginning of epoch till batch#275\n",
      "training loss has decreased---> reducing the best loss from 2561.60 to 2545.30 | throughput = 83553 tokens/second | norm = 7.9988 | learning rate = 9.41474e-07\n",
      "inside validation data for epoch 24\n",
      "No improvement in validation loss-->epoch= 23 and best val loss is 3044.08|current_Val loss = 3093.1449308395386|val_counter = 10\n",
      "early stopping trigerred either from training data or val data | train_counter = 0|val_counter = 10\n"
     ]
    }
   ],
   "source": [
    "tr_model,epoch_train_log,epoch_val_log = train_model(train_loader, val_loader,model=model,tokenizer = bert_tokenizer)"
   ]
  },
  {
   "cell_type": "code",
   "execution_count": 35,
   "id": "6a97cb8c",
   "metadata": {},
   "outputs": [
    {
     "data": {
      "text/plain": [
       "32768"
      ]
     },
     "execution_count": 35,
     "metadata": {},
     "output_type": "execute_result"
    }
   ],
   "source": [
    "64*512"
   ]
  },
  {
   "cell_type": "code",
   "execution_count": 36,
   "id": "f7a09e5b",
   "metadata": {},
   "outputs": [],
   "source": [
    "# import json , os\n",
    "# path_var_train_log = os.path.join(\".\",\"Tokenizers_and_loss_vals\",\"epoch_train_plain_loss.json\")\n",
    "# path_var_val_log = os.path.join(\".\",\"Tokenizers_and_loss_vals\",\"epoch_val_val_loss_.json\")\n",
    "\n",
    "# #print(path_var)\n",
    "# #Write the list to a JSON file\n",
    "# with open(path_var_train_log, \"w\") as file:\n",
    "#     json.dump(epoch_train_log, file)\n",
    "\n",
    "# with open(path_var_val_log, \"w\") as file:\n",
    "#     json.dump(epoch_val_log, file)\n"
   ]
  },
  {
   "cell_type": "code",
   "execution_count": 37,
   "id": "c23d5833",
   "metadata": {},
   "outputs": [],
   "source": [
    "# with open(path_var_train_log, \"r\") as file:\n",
    "#     train_loss = json.load(file)\n",
    "# with open(path_var_val_log, \"r\") as file:\n",
    "#     val_loss = json.load(file)"
   ]
  },
  {
   "cell_type": "code",
   "execution_count": 38,
   "id": "7fa99154",
   "metadata": {},
   "outputs": [
    {
     "data": {
      "text/plain": [
       "[<matplotlib.lines.Line2D at 0x7f1745a5dfa0>]"
      ]
     },
     "execution_count": 38,
     "metadata": {},
     "output_type": "execute_result"
    },
    {
     "data": {
      "image/png": "[encoded data removed]",
      "text/plain": [
       "<Figure size 432x288 with 1 Axes>"
      ]
     },
     "metadata": {
      "needs_background": "light"
     },
     "output_type": "display_data"
    }
   ],
   "source": [
    "x_values = range(len(epoch_train_log))\n",
    "plt.plot(x_values, epoch_train_log, label='Train_loss')"
   ]
  },
  {
   "cell_type": "code",
   "execution_count": 39,
   "id": "4413b18c",
   "metadata": {},
   "outputs": [
    {
     "data": {
      "text/plain": [
       "[<matplotlib.lines.Line2D at 0x7f1745c7f6d0>]"
      ]
     },
     "execution_count": 39,
     "metadata": {},
     "output_type": "execute_result"
    },
    {
     "data": {
      "image/png": "[encoded data removed]",
      "text/plain": [
       "<Figure size 432x288 with 1 Axes>"
      ]
     },
     "metadata": {
      "needs_background": "light"
     },
     "output_type": "display_data"
    }
   ],
   "source": [
    "#epoch_val_log= [t.detach().cpu().numpy() for t in epoch_val_log]\n",
    "x_values_val = range(len(epoch_val_log))\n",
    "plt.plot(x_values_val, epoch_val_log, label='val_loss')"
   ]
  },
  {
   "cell_type": "code",
   "execution_count": 40,
   "id": "3b1154ed",
   "metadata": {},
   "outputs": [
    {
     "data": {
      "text/plain": [
       "<matplotlib.legend.Legend at 0x7f150e2285e0>"
      ]
     },
     "execution_count": 40,
     "metadata": {},
     "output_type": "execute_result"
    },
    {
     "data": {
      "image/png": "[encoded data removed]",
      "text/plain": [
       "<Figure size 432x288 with 1 Axes>"
      ]
     },
     "metadata": {
      "needs_background": "light"
     },
     "output_type": "display_data"
    }
   ],
   "source": [
    "min_length = min(len(epoch_train_log), len(epoch_val_log))\n",
    "list1 = epoch_train_log[:min_length]\n",
    "list2 = epoch_val_log[:min_length]\n",
    "\n",
    "# Create x-axis values\n",
    "x_values = range(min_length)\n",
    "\n",
    "# Plot the lists\n",
    "plt.plot(x_values, list1, label='Train_loss')\n",
    "plt.plot(x_values, list2, label='Val_loss')\n",
    "\n",
    "# Adding labels and title\n",
    "plt.xlabel('Epoch')\n",
    "plt.ylabel('Value')\n",
    "plt.title('Train Loss and Val_Loss')\n",
    "plt.legend()"
   ]
  },
  {
   "cell_type": "code",
   "execution_count": null,
   "id": "c4d4ab91",
   "metadata": {},
   "outputs": [],
   "source": []
  },
  {
   "cell_type": "code",
   "execution_count": null,
   "id": "019e9c93",
   "metadata": {},
   "outputs": [],
   "source": []
  },
  {
   "cell_type": "code",
   "execution_count": null,
   "id": "e6e49228",
   "metadata": {},
   "outputs": [],
   "source": []
  },
  {
   "cell_type": "code",
   "execution_count": null,
   "id": "30077b2e",
   "metadata": {},
   "outputs": [],
   "source": []
  },
  {
   "cell_type": "code",
   "execution_count": null,
   "id": "23402b51",
   "metadata": {},
   "outputs": [],
   "source": []
  },
  {
   "cell_type": "code",
   "execution_count": null,
   "id": "5c895474",
   "metadata": {},
   "outputs": [],
   "source": []
  }
 ],
 "metadata": {
  "kernelspec": {
   "display_name": "Python 3 (ipykernel)",
   "language": "python",
   "name": "python3"
  },
  "language_info": {
   "codemirror_mode": {
    "name": "ipython",
    "version": 3
   },
   "file_extension": ".py",
   "mimetype": "text/x-python",
   "name": "python",
   "nbconvert_exporter": "python",
   "pygments_lexer": "ipython3",
   "version": "3.8.12"
  }
 },
 "nbformat": 4,
 "nbformat_minor": 5
}
