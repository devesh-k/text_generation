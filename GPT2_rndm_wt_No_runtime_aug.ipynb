{
 "cells": [
  {
   "cell_type": "code",
   "execution_count": 1,
   "id": "58a70838",
   "metadata": {},
   "outputs": [],
   "source": [
    "## reference https://huggingface.co/learn/nlp-course/en/chapter7/6?fw=pt#training-a-causal-language-model-from-scratch"
   ]
  },
  {
   "cell_type": "code",
   "execution_count": null,
   "id": "49be6269",
   "metadata": {},
   "outputs": [],
   "source": []
  },
  {
   "cell_type": "code",
   "execution_count": 2,
   "id": "0eec0940",
   "metadata": {
    "scrolled": true
   },
   "outputs": [
    {
     "name": "stdout",
     "output_type": "stream",
     "text": [
      "Looking in indexes: https://pypi.org/simple, https://pypi.ngc.nvidia.com\n",
      "Requirement already satisfied: jupyter in /opt/conda/lib/python3.8/site-packages (1.0.0)\n",
      "Requirement already satisfied: ipywidgets in /opt/conda/lib/python3.8/site-packages (8.1.3)\n",
      "Requirement already satisfied: nbconvert in /opt/conda/lib/python3.8/site-packages (from jupyter) (6.3.0)\n",
      "Requirement already satisfied: jupyter-console in /opt/conda/lib/python3.8/site-packages (from jupyter) (6.6.3)\n",
      "Requirement already satisfied: qtconsole in /opt/conda/lib/python3.8/site-packages (from jupyter) (5.5.2)\n",
      "Requirement already satisfied: ipykernel in /opt/conda/lib/python3.8/site-packages (from jupyter) (6.29.5)\n",
      "Requirement already satisfied: notebook in /opt/conda/lib/python3.8/site-packages (from jupyter) (6.4.1)\n",
      "Requirement already satisfied: widgetsnbextension~=4.0.11 in /opt/conda/lib/python3.8/site-packages (from ipywidgets) (4.0.11)\n",
      "Requirement already satisfied: comm>=0.1.3 in /opt/conda/lib/python3.8/site-packages (from ipywidgets) (0.2.2)\n",
      "Requirement already satisfied: traitlets>=4.3.1 in /opt/conda/lib/python3.8/site-packages (from ipywidgets) (5.14.3)\n",
      "Requirement already satisfied: jupyterlab-widgets~=3.0.11 in /opt/conda/lib/python3.8/site-packages (from ipywidgets) (3.0.11)\n",
      "Requirement already satisfied: ipython>=6.1.0 in /opt/conda/lib/python3.8/site-packages (from ipywidgets) (7.30.0)\n",
      "Requirement already satisfied: pickleshare in /opt/conda/lib/python3.8/site-packages (from ipython>=6.1.0->ipywidgets) (0.7.5)\n",
      "Requirement already satisfied: backcall in /opt/conda/lib/python3.8/site-packages (from ipython>=6.1.0->ipywidgets) (0.2.0)\n",
      "Requirement already satisfied: matplotlib-inline in /opt/conda/lib/python3.8/site-packages (from ipython>=6.1.0->ipywidgets) (0.1.3)\n",
      "Requirement already satisfied: jedi>=0.16 in /opt/conda/lib/python3.8/site-packages (from ipython>=6.1.0->ipywidgets) (0.18.1)\n",
      "Requirement already satisfied: setuptools>=18.5 in /opt/conda/lib/python3.8/site-packages (from ipython>=6.1.0->ipywidgets) (59.4.0)\n",
      "Requirement already satisfied: decorator in /opt/conda/lib/python3.8/site-packages (from ipython>=6.1.0->ipywidgets) (5.1.0)\n",
      "Requirement already satisfied: prompt-toolkit!=3.0.0,!=3.0.1,<3.1.0,>=2.0.0 in /opt/conda/lib/python3.8/site-packages (from ipython>=6.1.0->ipywidgets) (3.0.47)\n",
      "Requirement already satisfied: pygments in /opt/conda/lib/python3.8/site-packages (from ipython>=6.1.0->ipywidgets) (2.10.0)\n",
      "Requirement already satisfied: pexpect>4.3 in /opt/conda/lib/python3.8/site-packages (from ipython>=6.1.0->ipywidgets) (4.8.0)\n",
      "Requirement already satisfied: parso<0.9.0,>=0.8.0 in /opt/conda/lib/python3.8/site-packages (from jedi>=0.16->ipython>=6.1.0->ipywidgets) (0.8.3)\n",
      "Requirement already satisfied: ptyprocess>=0.5 in /opt/conda/lib/python3.8/site-packages (from pexpect>4.3->ipython>=6.1.0->ipywidgets) (0.7.0)\n",
      "Requirement already satisfied: wcwidth in /opt/conda/lib/python3.8/site-packages (from prompt-toolkit!=3.0.0,!=3.0.1,<3.1.0,>=2.0.0->ipython>=6.1.0->ipywidgets) (0.2.5)\n",
      "Requirement already satisfied: nest-asyncio in /opt/conda/lib/python3.8/site-packages (from ipykernel->jupyter) (1.5.4)\n",
      "Requirement already satisfied: pyzmq>=24 in /opt/conda/lib/python3.8/site-packages (from ipykernel->jupyter) (26.0.3)\n",
      "Requirement already satisfied: tornado>=6.1 in /opt/conda/lib/python3.8/site-packages (from ipykernel->jupyter) (6.1)\n",
      "Requirement already satisfied: jupyter-client>=6.1.12 in /opt/conda/lib/python3.8/site-packages (from ipykernel->jupyter) (7.1.0)\n",
      "Requirement already satisfied: debugpy>=1.6.5 in /opt/conda/lib/python3.8/site-packages (from ipykernel->jupyter) (1.8.2)\n",
      "Requirement already satisfied: jupyter-core!=5.0.*,>=4.12 in /opt/conda/lib/python3.8/site-packages (from ipykernel->jupyter) (5.7.2)\n",
      "Requirement already satisfied: psutil in /opt/conda/lib/python3.8/site-packages (from ipykernel->jupyter) (5.8.0)\n",
      "Requirement already satisfied: packaging in /opt/conda/lib/python3.8/site-packages (from ipykernel->jupyter) (21.3)\n",
      "Requirement already satisfied: entrypoints in /opt/conda/lib/python3.8/site-packages (from jupyter-client>=6.1.12->ipykernel->jupyter) (0.3)\n",
      "Requirement already satisfied: python-dateutil>=2.1 in /opt/conda/lib/python3.8/site-packages (from jupyter-client>=6.1.12->ipykernel->jupyter) (2.8.2)\n",
      "Requirement already satisfied: platformdirs>=2.5 in /opt/conda/lib/python3.8/site-packages (from jupyter-core!=5.0.*,>=4.12->ipykernel->jupyter) (4.2.2)\n",
      "Requirement already satisfied: six>=1.5 in /opt/conda/lib/python3.8/site-packages (from python-dateutil>=2.1->jupyter-client>=6.1.12->ipykernel->jupyter) (1.16.0)\n",
      "Requirement already satisfied: jinja2>=2.4 in /opt/conda/lib/python3.8/site-packages (from nbconvert->jupyter) (3.0.3)\n",
      "Requirement already satisfied: jupyterlab-pygments in /opt/conda/lib/python3.8/site-packages (from nbconvert->jupyter) (0.1.2)\n",
      "Requirement already satisfied: testpath in /opt/conda/lib/python3.8/site-packages (from nbconvert->jupyter) (0.5.0)\n",
      "Requirement already satisfied: defusedxml in /opt/conda/lib/python3.8/site-packages (from nbconvert->jupyter) (0.7.1)\n",
      "Requirement already satisfied: nbformat>=4.4 in /opt/conda/lib/python3.8/site-packages (from nbconvert->jupyter) (5.1.3)\n",
      "Requirement already satisfied: pandocfilters>=1.4.1 in /opt/conda/lib/python3.8/site-packages (from nbconvert->jupyter) (1.5.0)\n",
      "Requirement already satisfied: mistune<2,>=0.8.1 in /opt/conda/lib/python3.8/site-packages (from nbconvert->jupyter) (0.8.4)\n",
      "Requirement already satisfied: nbclient<0.6.0,>=0.5.0 in /opt/conda/lib/python3.8/site-packages (from nbconvert->jupyter) (0.5.9)\n",
      "Requirement already satisfied: bleach in /opt/conda/lib/python3.8/site-packages (from nbconvert->jupyter) (4.1.0)\n",
      "Requirement already satisfied: MarkupSafe>=2.0 in /opt/conda/lib/python3.8/site-packages (from jinja2>=2.4->nbconvert->jupyter) (2.0.1)\n",
      "Requirement already satisfied: jsonschema!=2.5.0,>=2.4 in /opt/conda/lib/python3.8/site-packages (from nbformat>=4.4->nbconvert->jupyter) (4.2.1)\n",
      "Requirement already satisfied: ipython-genutils in /opt/conda/lib/python3.8/site-packages (from nbformat>=4.4->nbconvert->jupyter) (0.2.0)\n",
      "Requirement already satisfied: pyrsistent!=0.17.0,!=0.17.1,!=0.17.2,>=0.14.0 in /opt/conda/lib/python3.8/site-packages (from jsonschema!=2.5.0,>=2.4->nbformat>=4.4->nbconvert->jupyter) (0.18.0)\n",
      "Requirement already satisfied: importlib-resources>=1.4.0 in /opt/conda/lib/python3.8/site-packages (from jsonschema!=2.5.0,>=2.4->nbformat>=4.4->nbconvert->jupyter) (5.4.0)\n",
      "Requirement already satisfied: attrs>=17.4.0 in /opt/conda/lib/python3.8/site-packages (from jsonschema!=2.5.0,>=2.4->nbformat>=4.4->nbconvert->jupyter) (21.2.0)\n",
      "Requirement already satisfied: zipp>=3.1.0 in /opt/conda/lib/python3.8/site-packages (from importlib-resources>=1.4.0->jsonschema!=2.5.0,>=2.4->nbformat>=4.4->nbconvert->jupyter) (3.6.0)\n",
      "Requirement already satisfied: webencodings in /opt/conda/lib/python3.8/site-packages (from bleach->nbconvert->jupyter) (0.5.1)\n",
      "Requirement already satisfied: Send2Trash>=1.5.0 in /opt/conda/lib/python3.8/site-packages (from notebook->jupyter) (1.8.0)\n",
      "Requirement already satisfied: terminado>=0.8.3 in /opt/conda/lib/python3.8/site-packages (from notebook->jupyter) (0.12.1)\n",
      "Requirement already satisfied: argon2-cffi in /opt/conda/lib/python3.8/site-packages (from notebook->jupyter) (21.1.0)\n",
      "Requirement already satisfied: prometheus-client in /opt/conda/lib/python3.8/site-packages (from notebook->jupyter) (0.12.0)\n",
      "Requirement already satisfied: cffi>=1.0.0 in /opt/conda/lib/python3.8/site-packages (from argon2-cffi->notebook->jupyter) (1.15.0)\n",
      "Requirement already satisfied: pycparser in /opt/conda/lib/python3.8/site-packages (from cffi>=1.0.0->argon2-cffi->notebook->jupyter) (2.21)\n",
      "Requirement already satisfied: pyparsing!=3.0.5,>=2.0.2 in /opt/conda/lib/python3.8/site-packages (from packaging->ipykernel->jupyter) (3.0.6)\n",
      "Requirement already satisfied: qtpy>=2.4.0 in /opt/conda/lib/python3.8/site-packages (from qtconsole->jupyter) (2.4.1)\n",
      "\u001b[33mWARNING: Running pip as the 'root' user can result in broken permissions and conflicting behaviour with the system package manager. It is recommended to use a virtual environment instead: https://pip.pypa.io/warnings/venv\u001b[0m\n"
     ]
    }
   ],
   "source": [
    "#installing some libraries\n",
    "#!pip install datasets\n",
    "!pip install --upgrade jupyter ipywidgets\n",
    "\n"
   ]
  },
  {
   "cell_type": "code",
   "execution_count": 3,
   "id": "9b89c3cb",
   "metadata": {},
   "outputs": [],
   "source": [
    "import matplotlib.pyplot as plt\n",
    "import seaborn as sns\n",
    "import torch, transformers\n",
    "from torch.utils.data import Dataset, DataLoader\n",
    "from transformers import AutoTokenizer\n",
    "from transformers import PreTrainedModel, PretrainedConfig\n",
    "from transformers import AutoModel, AutoConfig,AutoModelForCausalLM, AutoConfig,GPT2Config,GPT2Tokenizer\n",
    "import torch.nn as nn\n",
    "import torch.nn.functional as F\n",
    "#from datasets import load_dataset\n",
    "import pandas as pd, numpy as np\n",
    "from torch.cuda.amp import autocast\n",
    "from torch import cuda\n",
    "import datetime\n",
    "import warnings,itertools\n",
    "from torch.optim.lr_scheduler import LambdaLR\n",
    "import json\n",
    "# Ignore all warnings\n",
    "warnings.filterwarnings('ignore')\n",
    "#pip install transformers bitsandbytes>=0.39.0 -q\n",
    "import zipfile,logging"
   ]
  },
  {
   "cell_type": "code",
   "execution_count": 4,
   "id": "42fac022",
   "metadata": {},
   "outputs": [
    {
     "name": "stderr",
     "output_type": "stream",
     "text": [
      "[nltk_data] Downloading package punkt to /root/nltk_data...\n",
      "[nltk_data]   Package punkt is already up-to-date!\n",
      "[nltk_data] Downloading package averaged_perceptron_tagger to\n",
      "[nltk_data]     /root/nltk_data...\n",
      "[nltk_data]   Package averaged_perceptron_tagger is already up-to-\n",
      "[nltk_data]       date!\n",
      "[nltk_data] Downloading package wordnet to /root/nltk_data...\n",
      "[nltk_data]   Package wordnet is already up-to-date!\n"
     ]
    },
    {
     "data": {
      "text/plain": [
       "True"
      ]
     },
     "execution_count": 4,
     "metadata": {},
     "output_type": "execute_result"
    }
   ],
   "source": [
    "import nltk\n",
    "from nltk import word_tokenize, pos_tag\n",
    "from nltk.corpus import wordnet\n",
    "import random\n",
    "from nltk.stem import WordNetLemmatizer\n",
    "nltk.download('punkt')\n",
    "nltk.download('averaged_perceptron_tagger')\n",
    "nltk.download('wordnet')"
   ]
  },
  {
   "cell_type": "code",
   "execution_count": null,
   "id": "19cb8cbc",
   "metadata": {},
   "outputs": [],
   "source": []
  },
  {
   "cell_type": "code",
   "execution_count": 5,
   "id": "1fb04e6c",
   "metadata": {},
   "outputs": [
    {
     "name": "stdout",
     "output_type": "stream",
     "text": [
      "cuda:0\n",
      "model\n"
     ]
    }
   ],
   "source": [
    "#global params for training\n",
    "\n",
    "B,T = 32,1024\n",
    "epoch = 100\n",
    "random_init_wts = True\n",
    "min_text_len = 0\n",
    "# hard coded com\n",
    "comp_ratio = 3\n",
    "# train_loss_list = []\n",
    "# val_loss_list =[]\n",
    "if cuda.is_available():\n",
    "    device = torch.device('cuda:0')\n",
    "    print(device)\n",
    "else:\n",
    "    device = 'cpu'\n",
    "#print(device)\n",
    "import os\n",
    "os.environ[\"TOKENIZERS_PARALLELISM\"] = \"true\"\n",
    "#os.environ[\"MKL_DEBUG_CPU_TYPE\"] = \"5\"\n",
    "\n",
    "#print(global_tr_loss)\n",
    "model_path = os.path.join(\"model\")\n",
    "print(model_path)"
   ]
  },
  {
   "cell_type": "code",
   "execution_count": 6,
   "id": "8e39c002",
   "metadata": {},
   "outputs": [
    {
     "data": {
      "text/plain": [
       "'./data/unzip_text_10M'"
      ]
     },
     "execution_count": 6,
     "metadata": {},
     "output_type": "execute_result"
    }
   ],
   "source": [
    "directory = os.path.join('.','data','unzip_text_10M')  # Replace with your directory path\n",
    "directory"
   ]
  },
  {
   "cell_type": "code",
   "execution_count": 7,
   "id": "daedd7ec",
   "metadata": {},
   "outputs": [],
   "source": [
    "def read_text(directory):\n",
    "    directory = os.path.join('.','data','unzip_text_10M',str(directory))  # Replace with your directory path\n",
    "    print(f\"directory :{directory}\")\n",
    "    # List all files in the directory\n",
    "    files = [f for f in os.listdir(directory) if os.path.isfile(os.path.join(directory, f))]\n",
    "    print(f\"files:{files}\")\n",
    "    text_content = []\n",
    "    # Read each file\n",
    "    total_lines = 0\n",
    "    for filenum,filename in enumerate(files):\n",
    "        file_path = os.path.join(directory, filename)\n",
    "        with open(file_path, 'r', encoding='utf-8') as file:\n",
    "            #first_line = file.read()\n",
    "            #print(f\"filename :{filename}->first few lines {first_line}\")\n",
    "            #continue\n",
    "            #lines_list = [line.strip() for line in open(file_path, 'r')]\n",
    "            text = file.read()\n",
    "            text_content.append(text)\n",
    "            print(f\"the file:{filename} has been appeneded to the uber list and its length is {len(text_content)} \")\n",
    "            #total_lines+=len(lines_list)\n",
    "            #text_content.append(lines_list)\n",
    "    \n",
    "    flattened_list = ''.join(text_content)\n",
    "    assert (len(flattened_list) == total_lines , f\"Expected {len(flattened_list)} to be equal to {total_lines}\" )\n",
    "    \n",
    "    return flattened_list\n",
    "\n",
    "    "
   ]
  },
  {
   "cell_type": "code",
   "execution_count": 8,
   "id": "bc99a93d",
   "metadata": {},
   "outputs": [
    {
     "name": "stdout",
     "output_type": "stream",
     "text": [
      "directory :./data/unzip_text_10M/train_10M\n",
      "files:['switchboard.train', 'simple_wiki.train', 'open_subtitles.train', 'gutenberg.train', 'childes.train', 'bnc_spoken.train']\n",
      "the file:switchboard.train has been appeneded to the uber list and its length is 1 \n",
      "the file:simple_wiki.train has been appeneded to the uber list and its length is 2 \n",
      "the file:open_subtitles.train has been appeneded to the uber list and its length is 3 \n",
      "the file:gutenberg.train has been appeneded to the uber list and its length is 4 \n",
      "the file:childes.train has been appeneded to the uber list and its length is 5 \n",
      "the file:bnc_spoken.train has been appeneded to the uber list and its length is 6 \n"
     ]
    }
   ],
   "source": [
    "train_list = read_text(\"train_10M\")\n",
    "#print(train_dict)\n",
    "#val_list = read_text(\"dev\")"
   ]
  },
  {
   "cell_type": "code",
   "execution_count": 9,
   "id": "9aeb6b3c",
   "metadata": {},
   "outputs": [
    {
     "data": {
      "text/plain": [
       "54215049"
      ]
     },
     "execution_count": 9,
     "metadata": {},
     "output_type": "execute_result"
    }
   ],
   "source": [
    "len(train_list)"
   ]
  },
  {
   "cell_type": "code",
   "execution_count": 10,
   "id": "350c9c1f",
   "metadata": {},
   "outputs": [
    {
     "name": "stdout",
     "output_type": "stream",
     "text": [
      "1654\n"
     ]
    }
   ],
   "source": [
    "chunks = len(train_list)//(B*T)\n",
    "print(chunks)"
   ]
  },
  {
   "cell_type": "code",
   "execution_count": 11,
   "id": "886ebc34",
   "metadata": {},
   "outputs": [],
   "source": [
    "tokenizer = GPT2Tokenizer.from_pretrained(\"distilgpt2\")\n",
    "if tokenizer.pad_token is None:\n",
    "    tokenizer.add_special_tokens({'pad_token': '[PAD]'})\n"
   ]
  },
  {
   "cell_type": "code",
   "execution_count": 12,
   "id": "c4ee3267",
   "metadata": {},
   "outputs": [
    {
     "name": "stdout",
     "output_type": "stream",
     "text": [
      "50257\n"
     ]
    }
   ],
   "source": [
    "print(tokenizer.pad_token_id)"
   ]
  },
  {
   "cell_type": "code",
   "execution_count": 13,
   "id": "b00e9bec",
   "metadata": {},
   "outputs": [
    {
     "name": "stdout",
     "output_type": "stream",
     "text": [
      "directory :./data/unzip_text_10M/dev\n",
      "files:['switchboard.dev', 'simple_wiki.dev', 'open_subtitles.dev', 'gutenberg.dev', 'childes.dev', 'bnc_spoken.dev']\n",
      "the file:switchboard.dev has been appeneded to the uber list and its length is 1 \n",
      "the file:simple_wiki.dev has been appeneded to the uber list and its length is 2 \n",
      "the file:open_subtitles.dev has been appeneded to the uber list and its length is 3 \n",
      "the file:gutenberg.dev has been appeneded to the uber list and its length is 4 \n",
      "the file:childes.dev has been appeneded to the uber list and its length is 5 \n",
      "the file:bnc_spoken.dev has been appeneded to the uber list and its length is 6 \n"
     ]
    }
   ],
   "source": [
    "val_list = read_text(\"dev\")\n"
   ]
  },
  {
   "cell_type": "code",
   "execution_count": 14,
   "id": "fe8b9f6f",
   "metadata": {},
   "outputs": [
    {
     "name": "stdout",
     "output_type": "stream",
     "text": [
      "50256\n"
     ]
    }
   ],
   "source": [
    "print(tokenizer.eos_token_id)"
   ]
  },
  {
   "cell_type": "code",
   "execution_count": 15,
   "id": "a66c3f39",
   "metadata": {},
   "outputs": [
    {
     "data": {
      "text/plain": [
       "0.6033372386529069"
      ]
     },
     "execution_count": 15,
     "metadata": {},
     "output_type": "execute_result"
    }
   ],
   "source": [
    "random.random()"
   ]
  },
  {
   "cell_type": "code",
   "execution_count": 16,
   "id": "2e622021",
   "metadata": {},
   "outputs": [],
   "source": [
    "text = train_list[500:750]"
   ]
  },
  {
   "cell_type": "code",
   "execution_count": 17,
   "id": "1e22d07e",
   "metadata": {},
   "outputs": [
    {
     "data": {
      "text/plain": [
       "'aska.\\nA:\\tI like to hunt,\\nA:\\tand, uh, so, I thought that if I had a good hunting dog like Thumper that, boy, I could just go out and get all kinds of game\\nB:\\tDid it work?\\nA:\\tYeah,\\nA:\\texcept we live in Plano, Texas now\\nB:\\tNo,\\nB:\\tright.\\nA:\\tso\\nB:\\tI, um, '"
      ]
     },
     "execution_count": 17,
     "metadata": {},
     "output_type": "execute_result"
    }
   ],
   "source": [
    "text"
   ]
  },
  {
   "cell_type": "code",
   "execution_count": 18,
   "id": "5acfa057",
   "metadata": {},
   "outputs": [],
   "source": [
    "def get_df_from_list(text_list , B= B, T = T, val= False):\n",
    "    chunk_size = B*T*comp_ratio\n",
    "        \n",
    "    # Step 3: Split the list into chunks and pad the last chunk if necessary\n",
    "    chunks_inp = [text_list[i:i + chunk_size] for i in range(0, len(text_list), chunk_size)]\n",
    "    df = pd.DataFrame({'original_text': chunks_inp})\n",
    "    return df"
   ]
  },
  {
   "cell_type": "code",
   "execution_count": 19,
   "id": "c3f82eee",
   "metadata": {},
   "outputs": [],
   "source": [
    "df_train = get_df_from_list(train_list)\n",
    "df_val = get_df_from_list(val_list)"
   ]
  },
  {
   "cell_type": "code",
   "execution_count": 20,
   "id": "89abe5ec",
   "metadata": {},
   "outputs": [],
   "source": [
    "def get_wordnet_pos(treebank_tag):\n",
    "    if treebank_tag.startswith('J'):\n",
    "        return wordnet.ADJ\n",
    "    elif treebank_tag.startswith('V'):\n",
    "        return wordnet.VERB\n",
    "    elif treebank_tag.startswith('N'):\n",
    "        return wordnet.NOUN\n",
    "    elif treebank_tag.startswith('R'):\n",
    "        return wordnet.ADV\n",
    "    else:\n",
    "        return wordnet.NOUN\n"
   ]
  },
  {
   "cell_type": "code",
   "execution_count": 21,
   "id": "d8826f07",
   "metadata": {},
   "outputs": [],
   "source": [
    "def get_ranked_synonyms(word, pos):\n",
    "    synonyms = []\n",
    "    for syn in wordnet.synsets(word, pos=pos):\n",
    "        for lemma in syn.lemmas():\n",
    "            if lemma.name() != word:\n",
    "                synonyms.append((lemma.name(), syn.wup_similarity(syn)))\n",
    "    \n",
    "    # Sort synonyms by similarity score in descending order\n",
    "    ranked_synonyms = sorted(set(synonyms), key=lambda x: x[1] if x[1] is not None else 0, reverse=True)\n",
    "    return [syn for syn, _ in ranked_synonyms]"
   ]
  },
  {
   "cell_type": "code",
   "execution_count": 22,
   "id": "390675e4",
   "metadata": {},
   "outputs": [],
   "source": [
    "lemmatizer = WordNetLemmatizer()\n",
    "\n",
    "def replace_verbs_with_synonyms(text):\n",
    "    words = word_tokenize(text)\n",
    "    tagged = pos_tag(words)\n",
    "    result = []\n",
    "    for word, pos in tagged:\n",
    "        if pos =='VB':\n",
    "            wordnet_pos = get_wordnet_pos(pos)\n",
    "            lemma = lemmatizer.lemmatize(word, wordnet_pos)\n",
    "            synonyms = get_ranked_synonyms(lemma, wordnet_pos)\n",
    "            if synonyms:\n",
    "                replacement = random.choice(synonyms)  # Choose from top 3 synonyms\n",
    "                #print(f\"word = {word}|replacement = {replacement}\")\n",
    "                result.append(replacement)\n",
    "            else:\n",
    "                result.append(word)\n",
    "        else:\n",
    "            result.append(word)\n",
    "    return \" \".join(result)\n"
   ]
  },
  {
   "cell_type": "code",
   "execution_count": 23,
   "id": "114a8e13",
   "metadata": {},
   "outputs": [
    {
     "data": {
      "text/html": [
       "<div>\n",
       "<style scoped>\n",
       "    .dataframe tbody tr th:only-of-type {\n",
       "        vertical-align: middle;\n",
       "    }\n",
       "\n",
       "    .dataframe tbody tr th {\n",
       "        vertical-align: top;\n",
       "    }\n",
       "\n",
       "    .dataframe thead th {\n",
       "        text-align: right;\n",
       "    }\n",
       "</style>\n",
       "<table border=\"1\" class=\"dataframe\">\n",
       "  <thead>\n",
       "    <tr style=\"text-align: right;\">\n",
       "      <th></th>\n",
       "      <th>original_text</th>\n",
       "    </tr>\n",
       "  </thead>\n",
       "  <tbody>\n",
       "    <tr>\n",
       "      <th>0</th>\n",
       "      <td>A:\\tI'm sure they are.\\nA:\\tThat's right,\\nA:\\...</td>\n",
       "    </tr>\n",
       "    <tr>\n",
       "      <th>1</th>\n",
       "      <td>be cleaned\\nB:\\tUh-huh.\\nA:\\tthis needs to be...</td>\n",
       "    </tr>\n",
       "    <tr>\n",
       "      <th>2</th>\n",
       "      <td>and actually selling and dealing, you know, o...</td>\n",
       "    </tr>\n",
       "    <tr>\n",
       "      <th>3</th>\n",
       "      <td>like you would when you're up north.\\nA:\\tUh-h...</td>\n",
       "    </tr>\n",
       "    <tr>\n",
       "      <th>4</th>\n",
       "      <td>nt outlook towards you guys.\\nB:\\tRight.\\nB:\\t...</td>\n",
       "    </tr>\n",
       "  </tbody>\n",
       "</table>\n",
       "</div>"
      ],
      "text/plain": [
       "                                       original_text\n",
       "0  A:\\tI'm sure they are.\\nA:\\tThat's right,\\nA:\\...\n",
       "1   be cleaned\\nB:\\tUh-huh.\\nA:\\tthis needs to be...\n",
       "2   and actually selling and dealing, you know, o...\n",
       "3  like you would when you're up north.\\nA:\\tUh-h...\n",
       "4  nt outlook towards you guys.\\nB:\\tRight.\\nB:\\t..."
      ]
     },
     "execution_count": 23,
     "metadata": {},
     "output_type": "execute_result"
    }
   ],
   "source": [
    "df_train.head()"
   ]
  },
  {
   "cell_type": "code",
   "execution_count": 24,
   "id": "f8405689",
   "metadata": {},
   "outputs": [],
   "source": [
    "def get_augment_col(row_index , index_to_augment):\n",
    "    #print(f\"row = {row_index}\")\n",
    "    if row_index in index_to_augment:\n",
    "        #print(f\"returning 1 for {row_index}\")\n",
    "        return 1\n",
    "    else:\n",
    "        \n",
    "        return 0\n",
    "    "
   ]
  },
  {
   "cell_type": "code",
   "execution_count": 25,
   "id": "fe565197",
   "metadata": {},
   "outputs": [],
   "source": [
    "def augment_text(row):\n",
    "    #print(f\"row = {row_index}\")\n",
    "    if row['augmented'] == 1:\n",
    "        print(f\"augmenting index {row.name}\")\n",
    "        text = row['original_text']\n",
    "        augmented_text = replace_verbs_with_synonyms(text)\n",
    "        return augmented_text\n",
    "    else:\n",
    "        \n",
    "        return None\n",
    "    "
   ]
  },
  {
   "cell_type": "code",
   "execution_count": 26,
   "id": "084f33f6",
   "metadata": {},
   "outputs": [
    {
     "data": {
      "text/plain": [
       "165"
      ]
     },
     "execution_count": 26,
     "metadata": {},
     "output_type": "execute_result"
    }
   ],
   "source": [
    "int(len(df_train)*.3)"
   ]
  },
  {
   "cell_type": "code",
   "execution_count": 27,
   "id": "848c3a09",
   "metadata": {},
   "outputs": [
    {
     "name": "stdout",
     "output_type": "stream",
     "text": [
      "file is present in the file system. Loading the pre augmented data\n"
     ]
    }
   ],
   "source": [
    "file_name = 'Augmented_data.csv'\n",
    "if os.path.isfile(file_name):\n",
    "    print(f\"file is present in the file system. Loading the pre augmented data\")\n",
    "    df_train = pd.read_csv(file_name)\n",
    "else:\n",
    "    index_to_augment = random.sample(range(0, len(df_train)), (int(len(df_train)*.3)))\n",
    "    df_train['augmented'] = df_train.apply(lambda row: get_augment_col(row.name, index_to_augment), axis=1)\n",
    "    df_train['augmented_text'] = df_train.apply(lambda row: augment_text(row ), axis=1)\n",
    "    df_train.to_csv('Augmented_data.csv', index=False)\n",
    "    \n",
    "    "
   ]
  },
  {
   "cell_type": "code",
   "execution_count": 28,
   "id": "d95ba7d3",
   "metadata": {},
   "outputs": [
    {
     "data": {
      "text/html": [
       "<div>\n",
       "<style scoped>\n",
       "    .dataframe tbody tr th:only-of-type {\n",
       "        vertical-align: middle;\n",
       "    }\n",
       "\n",
       "    .dataframe tbody tr th {\n",
       "        vertical-align: top;\n",
       "    }\n",
       "\n",
       "    .dataframe thead th {\n",
       "        text-align: right;\n",
       "    }\n",
       "</style>\n",
       "<table border=\"1\" class=\"dataframe\">\n",
       "  <thead>\n",
       "    <tr style=\"text-align: right;\">\n",
       "      <th></th>\n",
       "      <th>original_text</th>\n",
       "      <th>augmented</th>\n",
       "      <th>augmented_text</th>\n",
       "    </tr>\n",
       "  </thead>\n",
       "  <tbody>\n",
       "    <tr>\n",
       "      <th>0</th>\n",
       "      <td>A:\\tI'm sure they are.\\nA:\\tThat's right,\\nA:\\...</td>\n",
       "      <td>0</td>\n",
       "      <td>NaN</td>\n",
       "    </tr>\n",
       "    <tr>\n",
       "      <th>1</th>\n",
       "      <td>be cleaned\\nB:\\tUh-huh.\\nA:\\tthis needs to be...</td>\n",
       "      <td>0</td>\n",
       "      <td>NaN</td>\n",
       "    </tr>\n",
       "    <tr>\n",
       "      <th>2</th>\n",
       "      <td>and actually selling and dealing, you know, o...</td>\n",
       "      <td>0</td>\n",
       "      <td>NaN</td>\n",
       "    </tr>\n",
       "    <tr>\n",
       "      <th>3</th>\n",
       "      <td>like you would when you're up north.\\nA:\\tUh-h...</td>\n",
       "      <td>0</td>\n",
       "      <td>NaN</td>\n",
       "    </tr>\n",
       "    <tr>\n",
       "      <th>4</th>\n",
       "      <td>nt outlook towards you guys.\\nB:\\tRight.\\nB:\\t...</td>\n",
       "      <td>0</td>\n",
       "      <td>NaN</td>\n",
       "    </tr>\n",
       "  </tbody>\n",
       "</table>\n",
       "</div>"
      ],
      "text/plain": [
       "                                       original_text  augmented augmented_text\n",
       "0  A:\\tI'm sure they are.\\nA:\\tThat's right,\\nA:\\...          0            NaN\n",
       "1   be cleaned\\nB:\\tUh-huh.\\nA:\\tthis needs to be...          0            NaN\n",
       "2   and actually selling and dealing, you know, o...          0            NaN\n",
       "3  like you would when you're up north.\\nA:\\tUh-h...          0            NaN\n",
       "4  nt outlook towards you guys.\\nB:\\tRight.\\nB:\\t...          0            NaN"
      ]
     },
     "execution_count": 28,
     "metadata": {},
     "output_type": "execute_result"
    }
   ],
   "source": [
    "df_train.head()"
   ]
  },
  {
   "cell_type": "code",
   "execution_count": null,
   "id": "ba6eac53",
   "metadata": {},
   "outputs": [],
   "source": []
  },
  {
   "cell_type": "code",
   "execution_count": null,
   "id": "c7585066",
   "metadata": {},
   "outputs": [],
   "source": []
  },
  {
   "cell_type": "code",
   "execution_count": null,
   "id": "c40cd941",
   "metadata": {},
   "outputs": [],
   "source": []
  },
  {
   "cell_type": "code",
   "execution_count": 29,
   "id": "c5bff9cc",
   "metadata": {},
   "outputs": [],
   "source": [
    "def pad_sequences(token_ids_list, max_length = B*T, tokenizer = tokenizer):\n",
    "    padded_sequences = tokenizer.pad(\n",
    "        {\"input_ids\": token_ids_list},\n",
    "        padding='max_length',\n",
    "        max_length=max_length,\n",
    "        return_tensors=\"pt\"\n",
    "    )\n",
    "    return padded_sequences"
   ]
  },
  {
   "cell_type": "code",
   "execution_count": 30,
   "id": "72d396ed",
   "metadata": {},
   "outputs": [],
   "source": [
    "def tokenize_text (text,tokenizer = tokenizer,max_length = B*T):\n",
    "    #print(f\"inside tokenize_text\")\n",
    "    enc = tokenizer(text,padding='max_length',truncation=True,max_length=max_length,return_tensors=\"pt\",return_attention_mask=True)\n",
    "    input_id = enc['input_ids']\n",
    "    att_mask = enc['attention_mask']\n",
    "    \n",
    "    # now concatenate these lists to B*T\n",
    "    input_id = torch.squeeze(input_id, dim = 0).to(dtype = torch.long)\n",
    "    att_mask = torch.squeeze(att_mask, dim = 0).to(dtype = torch.bool)\n",
    "\n",
    "    return input_id,att_mask\n",
    "    \n",
    "    \n",
    "    \n",
    "        \n",
    "    \n"
   ]
  },
  {
   "cell_type": "code",
   "execution_count": null,
   "id": "b6da0ba8",
   "metadata": {},
   "outputs": [],
   "source": []
  },
  {
   "cell_type": "code",
   "execution_count": 31,
   "id": "48e4894d",
   "metadata": {},
   "outputs": [],
   "source": [
    "# # Test the tokenizer:\n",
    "model_name = 'distilgpt2'\n",
    "if random_init_wts:\n",
    "    config = AutoConfig.from_pretrained(model_name, vocab_size = 50304)\n",
    "    # Initialize the model with random weights\n",
    "    model = AutoModelForCausalLM.from_config(config)\n",
    "else:\n",
    "    #model = AutoModelForCausalLM.from_pretrained(model_name)\n",
    "    model = AutoModelForCausalLM.from_pretrained(model_name)\n",
    "\n",
    "\n",
    "model.resize_token_embeddings(len(tokenizer))\n",
    "model.config.pad_token_id = tokenizer.pad_token_id\n",
    "\n",
    "    \n",
    "#model = torch.compile(model)\n"
   ]
  },
  {
   "cell_type": "markdown",
   "id": "9f3ba463",
   "metadata": {},
   "source": [
    "### Data loaders and Dataset for batched training"
   ]
  },
  {
   "cell_type": "code",
   "execution_count": 32,
   "id": "d35b07a8",
   "metadata": {},
   "outputs": [],
   "source": [
    "class dataset_pyt_train(Dataset):\n",
    "    def __init__(self, df, B = B, T = T, tokenizer = tokenizer, comp_ratio = comp_ratio,prob = .5):\n",
    "        #self.text_list = text_list\n",
    "        #print(f\"Value of B {B}\")\n",
    "        self.df = df\n",
    "                                        \n",
    "    def __getitem__(self, idx):\n",
    "        #words_list[start_index:start_index + n]\n",
    "        augment_flag = self.df.iloc[idx]['augmented']\n",
    "        if augment_flag == 1:\n",
    "            # extract the augmented_chunk\n",
    "            text = self.df.iloc[idx]['augmented_text']\n",
    "            label_text = self.df.iloc[idx]['original_text'] \n",
    "            inp,att = tokenize_text(text)\n",
    "            label_enc,_ = tokenize_text(label_text)\n",
    "            label = label_enc\n",
    "        else:\n",
    "            text = self.df.iloc[idx]['original_text']\n",
    "            inp,att = tokenize_text(text, tokenizer)\n",
    "            label_enc = inp.clone()\n",
    "        \n",
    "        input_id = inp.view(B,T)\n",
    "        attention_mask = att.view(B,T)\n",
    "        label = label_enc.view(B,T)\n",
    "        #print(f\"shape of input_id = {input_id.shape}| shape of attention = {attention_mask.shape}\")\n",
    "        \n",
    "        return input_id,attention_mask,label\n",
    "        \n",
    "        \n",
    "    def __len__(self):\n",
    "        #return the length of the dataframe\n",
    "        return len(self.df)"
   ]
  },
  {
   "cell_type": "code",
   "execution_count": 33,
   "id": "e2d6ace3",
   "metadata": {},
   "outputs": [],
   "source": [
    "class dataset_pyt_val(Dataset):\n",
    "    def __init__(self, df, B = B, T = T, tokenizer = tokenizer, comp_ratio = comp_ratio):\n",
    "        self.df = df\n",
    "        #print(f\"Value of B {B}\")\n",
    "                                                \n",
    "    def __getitem__(self, idx):\n",
    "        # extract the augmented_chunk\n",
    "        text = self.df.iloc[idx]['original_text']\n",
    "        inp,att = tokenize_text(text, tokenizer)\n",
    "        label_enc = inp.clone()\n",
    "        input_id = inp.view(B,T)\n",
    "        attention_mask = att.view(B,T)\n",
    "        label = label_enc.view(B,T)\n",
    "        #print(f\"shape of input_id = {input_id.shape}| shape of attention = {attention_mask.shape}\")\n",
    "        \n",
    "        return input_id,attention_mask,label\n",
    "        \n",
    "        \n",
    "    def __len__(self):\n",
    "        #return the length of the dataframe\n",
    "        return len(self.df)"
   ]
  },
  {
   "cell_type": "code",
   "execution_count": 34,
   "id": "2e917577",
   "metadata": {},
   "outputs": [],
   "source": [
    "#train_dataset = dataset_pyt(filtered_df,tokenizer = tokenizer)\n",
    "train_dataset = dataset_pyt_train(df_train)\n",
    "val_dataset = dataset_pyt_val(df_val)\n",
    "\n",
    "train_loader = DataLoader(train_dataset,batch_size = 1, shuffle = True , num_workers = 4, pin_memory = True)\n",
    "val_loader = DataLoader(val_dataset,batch_size = 1, shuffle = True , num_workers = 4, pin_memory = True)\n"
   ]
  },
  {
   "cell_type": "code",
   "execution_count": 35,
   "id": "95b056e9",
   "metadata": {},
   "outputs": [
    {
     "name": "stdout",
     "output_type": "stream",
     "text": [
      "Tokenizer vocabulary size: 50258\n",
      "EOS token ID: 50256\n",
      "PAD token ID: 50257\n"
     ]
    }
   ],
   "source": [
    "print(f\"Tokenizer vocabulary size: {len(tokenizer)}\")\n",
    "print(f\"EOS token ID: {tokenizer.eos_token_id}\")\n",
    "print(f\"PAD token ID: {tokenizer.pad_token_id}\")\n"
   ]
  },
  {
   "cell_type": "code",
   "execution_count": 36,
   "id": "c544f438",
   "metadata": {},
   "outputs": [],
   "source": [
    "x,y,z = train_dataset[0]"
   ]
  },
  {
   "cell_type": "code",
   "execution_count": 37,
   "id": "23688fc2",
   "metadata": {},
   "outputs": [],
   "source": [
    "def write_file(log_message, model_name = \"GPT2\" ,random_init_wts = random_init_wts ):\n",
    "    current_datetime = datetime.datetime.now()\n",
    "    # Extract date and time components\n",
    "    current_date = str(current_datetime.date())\n",
    "    log_file = model_name +'_nll_loss_static_aug'+'random_init_wts'+ '_'+str(random_init_wts)+'_' +current_date+'.log'\n",
    "    print(f\"*****LOGGING INFO IN {log_file}*********\")\n",
    "    filepath = os.path.join(\"model\",log_file)\n",
    "    logging.basicConfig(filename=filepath, \n",
    "                    filemode='a',  # Overwrite the log file each time\n",
    "                    format='%(asctime)s - %(levelname)s - %(message)s', \n",
    "                    level=logging.DEBUG)\n",
    "    logger = logging.getLogger()\n",
    "    logger.info(log_message)\n",
    "    \n",
    "    \n",
    "\n",
    "    \n",
    "    "
   ]
  },
  {
   "cell_type": "code",
   "execution_count": 38,
   "id": "5b0cdc01",
   "metadata": {},
   "outputs": [
    {
     "name": "stdout",
     "output_type": "stream",
     "text": [
      "Length of the train loader is 552\n",
      "Length of the val loader is 576\n",
      "num_tokens= 18087936\n"
     ]
    }
   ],
   "source": [
    "print(f\"Length of the train loader is {len(train_loader)}\")\n",
    "print(f\"Length of the val loader is {len(val_loader)}\")\n",
    "print(f\"num_tokens= {B*T*len(train_loader)}\")"
   ]
  },
  {
   "cell_type": "code",
   "execution_count": 39,
   "id": "416733d1",
   "metadata": {},
   "outputs": [],
   "source": [
    "#emb,att,inp = train_dataset[1]"
   ]
  },
  {
   "cell_type": "code",
   "execution_count": 40,
   "id": "500d6672",
   "metadata": {},
   "outputs": [],
   "source": [
    "class check_train_metrics:\n",
    "    def __init__(self, patience=25, min_delta=0 , B = T, T = T,best_loss = torch.inf,early_stop = False):\n",
    "        self.patience = patience\n",
    "        self.min_delta = min_delta\n",
    "        self.counter = 0\n",
    "        self.best_loss = best_loss\n",
    "        self.early_stop = early_stop\n",
    "        self.B = B\n",
    "        self.T = T\n",
    "        self.improvement = None\n",
    "\n",
    "    def __call__(self, loss, epoch , epoch_durn, norm , current_lr, num_token):\n",
    "        if self.best_loss - loss > self.min_delta:\n",
    "            \n",
    "            print(f\"training loss has decreased---> reducing the best loss from {self.best_loss:.2f} to {loss:.2f} | throughput = {int(num_token/epoch_durn)} tokens/second | norm = {norm:.4f} | learning rate = {current_lr:.5e}\")\n",
    "            self.best_loss = loss\n",
    "            self.counter = 0\n",
    "            self.improvement = True\n",
    "        else:\n",
    "            self.counter += 1\n",
    "            self.improvement = False\n",
    "            print(f\"No improvement in training  loss-->epoch= {epoch} and best loss is {self.best_loss:.2f}|current_loss = {loss}|counter = {self.counter}\")\n",
    "            if self.counter >= self.patience:\n",
    "                self.early_stop = True\n"
   ]
  },
  {
   "cell_type": "code",
   "execution_count": 41,
   "id": "b1dde2a3",
   "metadata": {},
   "outputs": [],
   "source": [
    "class check_val_metrics:\n",
    "    def __init__(self, patience=25, min_delta=0, best_loss = torch.inf,early_stop = False):\n",
    "        self.patience = patience\n",
    "        self.min_delta = min_delta\n",
    "        self.counter = 0\n",
    "        self.best_loss = best_loss\n",
    "        self.early_stop = early_stop\n",
    "        \n",
    "\n",
    "    def __call__(self, loss, epoch , model, tokenizer):\n",
    "        if self.best_loss - loss > self.min_delta:\n",
    "            print(f\"Val loss has decreased -->reducing the global validation loss from {self.best_loss:.2f} to {loss:.2f}\")\n",
    "            s1 = (f\"Val loss has decreased -->reducing the global validation loss from {self.best_loss:.2f} to {loss:.2f}\")\n",
    "            print(f\" validation loss for epoch = {epoch} is {loss:.4f}\")\n",
    "            self.best_loss = loss\n",
    "            s2 = f\" validation loss for epoch = {epoch} is {loss:.4f}\"\n",
    "            print(f\" epoch= {epoch} :  val loss is {loss:.4f} \")\n",
    "            s3 = f\" epoch= {epoch} :  val loss is {loss:.4f} \"\n",
    "            #save the model\n",
    "            # Get the current date and time\n",
    "            current_datetime = datetime.datetime.now()\n",
    "            # Extract date and time components\n",
    "            current_date = str(current_datetime.date())\n",
    "            current_time = str(current_datetime.time()).split('.')[0]\n",
    "            file_name = 'model'+ current_date+current_time+'.pth'\n",
    "            path = os.path.join(\"model\",file_name)\n",
    "            print(f\"saving the model {file_name}\")\n",
    "            s4 = f\"saving the model {file_name}\"\n",
    "            #torch.save(model.state_dict(), path)\n",
    "            model.save_pretrained(path)\n",
    "            tokenizer.save_pretrained(path)\n",
    "            log_message = s1+s2+s3+s4\n",
    "            write_file(log_message)\n",
    "            self.counter = 0\n",
    "        else:\n",
    "            self.counter += 1\n",
    "            print(f\"No improvement in validation loss-->epoch= {epoch} and best val loss is {self.best_loss:.2f}|current_Val loss = {loss}|counter = {self.counter}\")\n",
    "            if self.counter >= self.patience:\n",
    "                self.early_stop = True"
   ]
  },
  {
   "cell_type": "code",
   "execution_count": 42,
   "id": "8c79e35b",
   "metadata": {},
   "outputs": [],
   "source": [
    "#model_output = model(input_ids = inp ,attention_mask = att, labels = inp)"
   ]
  },
  {
   "cell_type": "code",
   "execution_count": 43,
   "id": "a6bc7224",
   "metadata": {},
   "outputs": [],
   "source": [
    "@torch.no_grad\n",
    "\n",
    "def eval_model(val_loader, model, epoch , device = device,tokenizer = tokenizer):\n",
    "    model.eval()\n",
    "    model.to(device)\n",
    "    e = epoch+1\n",
    "    val_loss_accum = 0.0\n",
    "    print(f\"inside validation data for epoch {e}\")\n",
    "    for ind,(input_id,attention_mask,label) in enumerate(val_loader):\n",
    "        ids = input_id.to(device=device, non_blocking=True)\n",
    "        ids = torch.squeeze(ids, dim = 0)\n",
    "        att_mask = attention_mask.to(device=device, non_blocking=True)\n",
    "        att_mask =  torch.squeeze(att_mask, dim = 0)\n",
    "        labels = torch.squeeze(label, dim = 0)\n",
    "        labels = labels.to(device=device, non_blocking=True)\n",
    "        with autocast(dtype = torch.bfloat16):\n",
    "            model_output = model(input_ids = ids ,attention_mask = att_mask, labels = labels)\n",
    "            total_loss = model_output.loss\n",
    "    \n",
    "    \n",
    "    \n",
    "        val_loss_accum+= total_loss.detach().item()\n",
    "        del att_mask,labels,model_output,total_loss,ids\n",
    "    return val_loss_accum        \n",
    "    \n",
    "    \n",
    "    \n"
   ]
  },
  {
   "cell_type": "code",
   "execution_count": 44,
   "id": "c2b40704",
   "metadata": {},
   "outputs": [],
   "source": [
    "\n",
    "def train_model(train_loader,val_loader,model,num_epoch = 100,device = device,tokenizer = tokenizer):\n",
    "    #model.train()\n",
    "    device = device\n",
    "    lr_custom = 5e-5\n",
    "    print(f\"inside train model. Device = {device}\")\n",
    "    model.to(device)\n",
    "    optimizer = torch.optim.AdamW(params =  model.parameters(), lr= lr_custom,fused = True ,weight_decay = .1)\n",
    "      \n",
    "    extra_train = .1*num_epoch\n",
    "    max_train_steps = int(num_epoch +extra_train )\n",
    "    import time\n",
    "    from transformers import get_linear_schedule_with_warmup\n",
    "    total_steps = len(train_loader) * num_epoch\n",
    "    scheduler_cos = transformers.get_cosine_schedule_with_warmup( optimizer= optimizer, num_warmup_steps =int(total_steps * 0.1) ,num_training_steps= total_steps )\n",
    "        \n",
    "    epoch_train_log = []\n",
    "    epoch_val_log = []\n",
    "    validate_val_metric = check_val_metrics()\n",
    "    validate_train_metric = check_train_metrics()\n",
    "    for i in range (max_train_steps):\n",
    "        \n",
    "        epoch_start_time = time.time()\n",
    "        optimizer.zero_grad(set_to_none=True)\n",
    "        # we use 2 schedulers - the first LR scheduler uses a cosine decay for 100 epochs the second scheduler takes the last LR from cosine scheduler and then maintains that LR for the next 10 epochs\n",
    "        if i >= num_epoch:\n",
    "            optimizer_reduced_lr = torch.optim.AdamW(params =  model.parameters(), lr= current_lr ,fused = True , weight_decay=.1)\n",
    "            scheduler_constant = transformers.get_constant_schedule_with_warmup( optimizer = optimizer_reduced_lr ,num_warmup_steps = 0, last_epoch = -1 )\n",
    "        \n",
    "        epoch_train_loss = 0       \n",
    "        for ind,(input_id,attention_mask,label) in enumerate(train_loader):\n",
    "            if ind == int(len(train_loader)/2):\n",
    "                batch_time = time.time()\n",
    "                duration = batch_time - epoch_start_time\n",
    "                print(f\"executing epoch:{i+1}, it took {duration/60} mins from beginning of epoch till batch#{ind}\")\n",
    "            \n",
    "            ids = input_id.to(device=device, non_blocking=True)\n",
    "            ids = torch.squeeze(ids, dim = 0)\n",
    "            att_mask = attention_mask.to(device=device, non_blocking=True)\n",
    "            att_mask =  torch.squeeze(att_mask, dim = 0)\n",
    "            labels = torch.squeeze(label, dim = 0)\n",
    "            labels = labels.to(device=device, non_blocking=True)\n",
    "                        \n",
    "            with autocast(dtype = torch.bfloat16):\n",
    "                model_output = model(input_ids = ids ,attention_mask = att_mask, labels = labels)\n",
    "                total_loss = model_output.loss\n",
    "                \n",
    "                               \n",
    "            total_loss.backward()\n",
    "            epoch_train_loss += total_loss.detach().item()\n",
    "            norm = torch.nn.utils.clip_grad_norm(model.parameters() , 1.0)\n",
    "            if i <= num_epoch:\n",
    "                optimizer.step()\n",
    "                scheduler_cos.step()\n",
    "                optimizer.zero_grad(set_to_none=True)\n",
    "            else:\n",
    "                optimizer_reduced_lr.step()\n",
    "                optimizer_reduced_lr.zero_grad(set_to_none=True)\n",
    "                scheduler_constant.step()\n",
    "                \n",
    "                         \n",
    "            del att_mask,labels,model_output,ids\n",
    "            \n",
    "        #batch processing complete \n",
    "        #print(f\"batch processing complete , lambda = {lambda_val} |total_loss for batch= {total_loss}\")\n",
    "        \n",
    "        if i <= num_epoch:\n",
    "            current_lr = scheduler_cos.get_last_lr()[0]\n",
    "        epoch_end_time = time.time()\n",
    "        epoch_durn = (epoch_end_time - epoch_start_time)\n",
    "        num_token = B*T*len(train_loader)\n",
    "        epoch_train_log.append(epoch_train_loss)\n",
    "        validate_train_metric(epoch_train_loss, i , epoch_durn, norm , current_lr, num_token)\n",
    "        \n",
    "        if validate_train_metric.improvement:\n",
    "            val_loss= eval_model(val_loader, model, epoch = i, device = device,tokenizer = tokenizer)\n",
    "            epoch_val_log.append(val_loss)\n",
    "            validate_val_metric(val_loss, i , model, tokenizer)\n",
    "            if validate_train_metric.early_stop or validate_val_metric.early_stop :\n",
    "                print(f\"early stopping trigerred either from training data or val data | train_counter = {validate_train_metric.counter}|val_counter = {validate_val_metric.counter}\")\n",
    "                break\n",
    "        else:\n",
    "            if validate_val_metric.early_stop:\n",
    "                print(f\"early stopping trigerred from validation data\")\n",
    "                break\n",
    "              \n",
    "    \n",
    "    return model,epoch_train_log,epoch_val_log\n",
    "        \n",
    "            \n",
    "            \n",
    "    \n",
    "    "
   ]
  },
  {
   "cell_type": "code",
   "execution_count": 45,
   "id": "1ae005a3",
   "metadata": {},
   "outputs": [
    {
     "name": "stdout",
     "output_type": "stream",
     "text": [
      "inside train model. Device = cuda:0\n",
      "executing epoch:1, it took 2.0656187534332275 mins from beginning of epoch till batch#276\n",
      "training loss has decreased---> reducing the best loss from inf to 4367.07 | throughput = 73041 tokens/second | norm = 3.7881 | learning rate = 5.00000e-06\n",
      "inside validation data for epoch 1\n",
      "Val loss has decreased -->reducing the global validation loss from inf to 3508.58\n",
      " validation loss for epoch = 0 is 3508.5825\n",
      " epoch= 0 :  val loss is 3508.5825 \n",
      "saving the model model2024-08-0205:17:02.pth\n",
      "*****LOGGING INFO IN GPT2_nll_loss_static_augrandom_init_wts_True_2024-08-02.log*********\n",
      "executing epoch:2, it took 1.982552138964335 mins from beginning of epoch till batch#276\n",
      "training loss has decreased---> reducing the best loss from 4367.07 to 3086.14 | throughput = 76208 tokens/second | norm = 5.7755 | learning rate = 1.00000e-05\n",
      "inside validation data for epoch 2\n",
      "Val loss has decreased -->reducing the global validation loss from 3508.58 to 2782.69\n",
      " validation loss for epoch = 1 is 2782.6877\n",
      " epoch= 1 :  val loss is 2782.6877 \n",
      "saving the model model2024-08-0205:22:39.pth\n",
      "*****LOGGING INFO IN GPT2_nll_loss_static_augrandom_init_wts_True_2024-08-02.log*********\n",
      "executing epoch:3, it took 1.9819187959035238 mins from beginning of epoch till batch#276\n",
      "training loss has decreased---> reducing the best loss from 3086.14 to 2680.83 | throughput = 76092 tokens/second | norm = 1.8242 | learning rate = 1.50000e-05\n",
      "inside validation data for epoch 3\n",
      "Val loss has decreased -->reducing the global validation loss from 2782.69 to 2537.63\n",
      " validation loss for epoch = 2 is 2537.6304\n",
      " epoch= 2 :  val loss is 2537.6304 \n",
      "saving the model model2024-08-0205:28:17.pth\n",
      "*****LOGGING INFO IN GPT2_nll_loss_static_augrandom_init_wts_True_2024-08-02.log*********\n",
      "executing epoch:4, it took 1.9847759405771892 mins from beginning of epoch till batch#276\n",
      "training loss has decreased---> reducing the best loss from 2680.83 to 2522.32 | throughput = 76067 tokens/second | norm = 2.9561 | learning rate = 2.00000e-05\n",
      "inside validation data for epoch 4\n",
      "Val loss has decreased -->reducing the global validation loss from 2537.63 to 2412.93\n",
      " validation loss for epoch = 3 is 2412.9331\n",
      " epoch= 3 :  val loss is 2412.9331 \n",
      "saving the model model2024-08-0205:33:56.pth\n",
      "*****LOGGING INFO IN GPT2_nll_loss_static_augrandom_init_wts_True_2024-08-02.log*********\n",
      "executing epoch:5, it took 1.9834760864575705 mins from beginning of epoch till batch#276\n",
      "training loss has decreased---> reducing the best loss from 2522.32 to 2422.65 | throughput = 76093 tokens/second | norm = 1.1692 | learning rate = 2.50000e-05\n",
      "inside validation data for epoch 5\n",
      "Val loss has decreased -->reducing the global validation loss from 2412.93 to 2298.62\n",
      " validation loss for epoch = 4 is 2298.6216\n",
      " epoch= 4 :  val loss is 2298.6216 \n",
      "saving the model model2024-08-0205:39:33.pth\n",
      "*****LOGGING INFO IN GPT2_nll_loss_static_augrandom_init_wts_True_2024-08-02.log*********\n",
      "executing epoch:6, it took 1.9832587361335754 mins from beginning of epoch till batch#276\n",
      "training loss has decreased---> reducing the best loss from 2422.65 to 2359.43 | throughput = 76066 tokens/second | norm = 4.4457 | learning rate = 3.00000e-05\n",
      "inside validation data for epoch 6\n",
      "Val loss has decreased -->reducing the global validation loss from 2298.62 to 2254.14\n",
      " validation loss for epoch = 5 is 2254.1405\n",
      " epoch= 5 :  val loss is 2254.1405 \n",
      "saving the model model2024-08-0205:45:12.pth\n",
      "*****LOGGING INFO IN GPT2_nll_loss_static_augrandom_init_wts_True_2024-08-02.log*********\n",
      "executing epoch:7, it took 1.9850461721420287 mins from beginning of epoch till batch#276\n",
      "training loss has decreased---> reducing the best loss from 2359.43 to 2308.06 | throughput = 76015 tokens/second | norm = 2.6852 | learning rate = 3.50000e-05\n",
      "inside validation data for epoch 7\n",
      "Val loss has decreased -->reducing the global validation loss from 2254.14 to 2190.51\n",
      " validation loss for epoch = 6 is 2190.5096\n",
      " epoch= 6 :  val loss is 2190.5096 \n",
      "saving the model model2024-08-0205:50:50.pth\n",
      "*****LOGGING INFO IN GPT2_nll_loss_static_augrandom_init_wts_True_2024-08-02.log*********\n",
      "executing epoch:8, it took 1.9827714006106059 mins from beginning of epoch till batch#276\n",
      "training loss has decreased---> reducing the best loss from 2308.06 to 2268.25 | throughput = 76057 tokens/second | norm = 0.8404 | learning rate = 4.00000e-05\n",
      "inside validation data for epoch 8\n",
      "Val loss has decreased -->reducing the global validation loss from 2190.51 to 2160.33\n",
      " validation loss for epoch = 7 is 2160.3264\n",
      " epoch= 7 :  val loss is 2160.3264 \n",
      "saving the model model2024-08-0205:56:28.pth\n",
      "*****LOGGING INFO IN GPT2_nll_loss_static_augrandom_init_wts_True_2024-08-02.log*********\n",
      "executing epoch:9, it took 1.9827968994776408 mins from beginning of epoch till batch#276\n",
      "training loss has decreased---> reducing the best loss from 2268.25 to 2236.44 | throughput = 76049 tokens/second | norm = 3.9090 | learning rate = 4.50000e-05\n",
      "inside validation data for epoch 9\n",
      "Val loss has decreased -->reducing the global validation loss from 2160.33 to 2138.64\n",
      " validation loss for epoch = 8 is 2138.6430\n",
      " epoch= 8 :  val loss is 2138.6430 \n",
      "saving the model model2024-08-0206:02:06.pth\n",
      "*****LOGGING INFO IN GPT2_nll_loss_static_augrandom_init_wts_True_2024-08-02.log*********\n",
      "executing epoch:10, it took 1.9849520444869995 mins from beginning of epoch till batch#276\n",
      "training loss has decreased---> reducing the best loss from 2236.44 to 2211.37 | throughput = 76019 tokens/second | norm = 5.2918 | learning rate = 5.00000e-05\n",
      "inside validation data for epoch 10\n",
      "Val loss has decreased -->reducing the global validation loss from 2138.64 to 2099.05\n",
      " validation loss for epoch = 9 is 2099.0531\n",
      " epoch= 9 :  val loss is 2099.0531 \n",
      "saving the model model2024-08-0206:07:44.pth\n",
      "*****LOGGING INFO IN GPT2_nll_loss_static_augrandom_init_wts_True_2024-08-02.log*********\n",
      "executing epoch:11, it took 1.9822338740030925 mins from beginning of epoch till batch#276\n",
      "training loss has decreased---> reducing the best loss from 2211.37 to 2181.79 | throughput = 76076 tokens/second | norm = 1.2421 | learning rate = 4.99848e-05\n",
      "inside validation data for epoch 11\n",
      "Val loss has decreased -->reducing the global validation loss from 2099.05 to 2087.79\n",
      " validation loss for epoch = 10 is 2087.7854\n",
      " epoch= 10 :  val loss is 2087.7854 \n",
      "saving the model model2024-08-0206:13:22.pth\n",
      "*****LOGGING INFO IN GPT2_nll_loss_static_augrandom_init_wts_True_2024-08-02.log*********\n",
      "executing epoch:12, it took 1.9865528742472331 mins from beginning of epoch till batch#276\n",
      "training loss has decreased---> reducing the best loss from 2181.79 to 2152.29 | throughput = 75988 tokens/second | norm = 1.3942 | learning rate = 4.99391e-05\n",
      "inside validation data for epoch 12\n",
      "Val loss has decreased -->reducing the global validation loss from 2087.79 to 2064.21\n",
      " validation loss for epoch = 11 is 2064.2095\n",
      " epoch= 11 :  val loss is 2064.2095 \n",
      "saving the model model2024-08-0206:19:01.pth\n",
      "*****LOGGING INFO IN GPT2_nll_loss_static_augrandom_init_wts_True_2024-08-02.log*********\n",
      "executing epoch:13, it took 1.9834863940874736 mins from beginning of epoch till batch#276\n",
      "training loss has decreased---> reducing the best loss from 2152.29 to 2127.84 | throughput = 76043 tokens/second | norm = 1.1288 | learning rate = 4.98630e-05\n",
      "inside validation data for epoch 13\n",
      "Val loss has decreased -->reducing the global validation loss from 2064.21 to 2048.76\n",
      " validation loss for epoch = 12 is 2048.7595\n",
      " epoch= 12 :  val loss is 2048.7595 \n",
      "saving the model model2024-08-0206:24:39.pth\n",
      "*****LOGGING INFO IN GPT2_nll_loss_static_augrandom_init_wts_True_2024-08-02.log*********\n",
      "executing epoch:14, it took 1.983825437227885 mins from beginning of epoch till batch#276\n",
      "training loss has decreased---> reducing the best loss from 2127.84 to 2103.83 | throughput = 76048 tokens/second | norm = 0.8700 | learning rate = 4.97567e-05\n",
      "inside validation data for epoch 14\n",
      "Val loss has decreased -->reducing the global validation loss from 2048.76 to 2031.08\n",
      " validation loss for epoch = 13 is 2031.0804\n",
      " epoch= 13 :  val loss is 2031.0804 \n",
      "saving the model model2024-08-0206:30:17.pth\n",
      "*****LOGGING INFO IN GPT2_nll_loss_static_augrandom_init_wts_True_2024-08-02.log*********\n",
      "executing epoch:15, it took 1.9834646781285603 mins from beginning of epoch till batch#276\n",
      "training loss has decreased---> reducing the best loss from 2103.83 to 2082.44 | throughput = 76058 tokens/second | norm = 0.9441 | learning rate = 4.96202e-05\n",
      "inside validation data for epoch 15\n",
      "Val loss has decreased -->reducing the global validation loss from 2031.08 to 2015.16\n",
      " validation loss for epoch = 14 is 2015.1569\n",
      " epoch= 14 :  val loss is 2015.1569 \n",
      "saving the model model2024-08-0206:35:56.pth\n",
      "*****LOGGING INFO IN GPT2_nll_loss_static_augrandom_init_wts_True_2024-08-02.log*********\n",
      "executing epoch:16, it took 1.9841879566510519 mins from beginning of epoch till batch#276\n",
      "training loss has decreased---> reducing the best loss from 2082.44 to 2058.55 | throughput = 76013 tokens/second | norm = 1.7401 | learning rate = 4.94537e-05\n",
      "inside validation data for epoch 16\n",
      "Val loss has decreased -->reducing the global validation loss from 2015.16 to 2005.48\n",
      " validation loss for epoch = 15 is 2005.4811\n",
      " epoch= 15 :  val loss is 2005.4811 \n",
      "saving the model model2024-08-0206:41:34.pth\n",
      "*****LOGGING INFO IN GPT2_nll_loss_static_augrandom_init_wts_True_2024-08-02.log*********\n",
      "executing epoch:17, it took 1.9826372424761454 mins from beginning of epoch till batch#276\n",
      "training loss has decreased---> reducing the best loss from 2058.55 to 2038.70 | throughput = 76057 tokens/second | norm = 0.8822 | learning rate = 4.92574e-05\n",
      "inside validation data for epoch 17\n",
      "Val loss has decreased -->reducing the global validation loss from 2005.48 to 1991.86\n",
      " validation loss for epoch = 16 is 1991.8565\n",
      " epoch= 16 :  val loss is 1991.8565 \n",
      "saving the model model2024-08-0206:47:12.pth\n",
      "*****LOGGING INFO IN GPT2_nll_loss_static_augrandom_init_wts_True_2024-08-02.log*********\n",
      "executing epoch:18, it took 1.983663018544515 mins from beginning of epoch till batch#276\n",
      "training loss has decreased---> reducing the best loss from 2038.70 to 2016.04 | throughput = 76019 tokens/second | norm = 0.9063 | learning rate = 4.90315e-05\n",
      "inside validation data for epoch 18\n",
      "Val loss has decreased -->reducing the global validation loss from 1991.86 to 1976.88\n",
      " validation loss for epoch = 17 is 1976.8788\n",
      " epoch= 17 :  val loss is 1976.8788 \n",
      "saving the model model2024-08-0206:52:51.pth\n",
      "*****LOGGING INFO IN GPT2_nll_loss_static_augrandom_init_wts_True_2024-08-02.log*********\n",
      "executing epoch:19, it took 1.9836982250213624 mins from beginning of epoch till batch#276\n",
      "training loss has decreased---> reducing the best loss from 2016.04 to 1993.88 | throughput = 76060 tokens/second | norm = 1.3271 | learning rate = 4.87764e-05\n",
      "inside validation data for epoch 19\n",
      "Val loss has decreased -->reducing the global validation loss from 1976.88 to 1966.98\n",
      " validation loss for epoch = 18 is 1966.9775\n",
      " epoch= 18 :  val loss is 1966.9775 \n",
      "saving the model model2024-08-0206:58:28.pth\n",
      "*****LOGGING INFO IN GPT2_nll_loss_static_augrandom_init_wts_True_2024-08-02.log*********\n",
      "executing epoch:20, it took 1.983530374368032 mins from beginning of epoch till batch#276\n",
      "training loss has decreased---> reducing the best loss from 1993.88 to 1970.06 | throughput = 76037 tokens/second | norm = 1.0823 | learning rate = 4.84923e-05\n",
      "inside validation data for epoch 20\n",
      "Val loss has decreased -->reducing the global validation loss from 1966.98 to 1962.76\n",
      " validation loss for epoch = 19 is 1962.7646\n",
      " epoch= 19 :  val loss is 1962.7646 \n",
      "saving the model model2024-08-0207:04:07.pth\n",
      "*****LOGGING INFO IN GPT2_nll_loss_static_augrandom_init_wts_True_2024-08-02.log*********\n",
      "executing epoch:21, it took 1.9855987310409546 mins from beginning of epoch till batch#276\n",
      "training loss has decreased---> reducing the best loss from 1970.06 to 1949.54 | throughput = 75996 tokens/second | norm = 1.5641 | learning rate = 4.81796e-05\n",
      "inside validation data for epoch 21\n",
      "Val loss has decreased -->reducing the global validation loss from 1962.76 to 1952.41\n",
      " validation loss for epoch = 20 is 1952.4064\n",
      " epoch= 20 :  val loss is 1952.4064 \n",
      "saving the model model2024-08-0207:09:45.pth\n",
      "*****LOGGING INFO IN GPT2_nll_loss_static_augrandom_init_wts_True_2024-08-02.log*********\n",
      "executing epoch:22, it took 1.9810501058896384 mins from beginning of epoch till batch#276\n",
      "training loss has decreased---> reducing the best loss from 1949.54 to 1926.97 | throughput = 76188 tokens/second | norm = 2.1901 | learning rate = 4.78386e-05\n",
      "inside validation data for epoch 22\n",
      "Val loss has decreased -->reducing the global validation loss from 1952.41 to 1945.35\n",
      " validation loss for epoch = 21 is 1945.3461\n",
      " epoch= 21 :  val loss is 1945.3461 \n",
      "saving the model model2024-08-0207:15:22.pth\n",
      "*****LOGGING INFO IN GPT2_nll_loss_static_augrandom_init_wts_True_2024-08-02.log*********\n",
      "executing epoch:23, it took 1.9823055545488992 mins from beginning of epoch till batch#276\n",
      "training loss has decreased---> reducing the best loss from 1926.97 to 1904.69 | throughput = 76073 tokens/second | norm = 1.1396 | learning rate = 4.74699e-05\n",
      "inside validation data for epoch 23\n",
      "Val loss has decreased -->reducing the global validation loss from 1945.35 to 1933.68\n",
      " validation loss for epoch = 22 is 1933.6848\n",
      " epoch= 22 :  val loss is 1933.6848 \n",
      "saving the model model2024-08-0207:21:01.pth\n",
      "*****LOGGING INFO IN GPT2_nll_loss_static_augrandom_init_wts_True_2024-08-02.log*********\n",
      "executing epoch:24, it took 1.984029523531596 mins from beginning of epoch till batch#276\n",
      "training loss has decreased---> reducing the best loss from 1904.69 to 1883.68 | throughput = 76040 tokens/second | norm = 1.4914 | learning rate = 4.70737e-05\n",
      "inside validation data for epoch 24\n",
      "No improvement in validation loss-->epoch= 23 and best val loss is 1933.68|current_Val loss = 1935.9182155132294|counter = 1\n",
      "executing epoch:25, it took 1.9831122756004333 mins from beginning of epoch till batch#276\n",
      "training loss has decreased---> reducing the best loss from 1883.68 to 1862.40 | throughput = 76057 tokens/second | norm = 1.3432 | learning rate = 4.66506e-05\n",
      "inside validation data for epoch 25\n",
      "No improvement in validation loss-->epoch= 24 and best val loss is 1933.68|current_Val loss = 1934.5269565582275|counter = 2\n",
      "executing epoch:26, it took 1.981707501411438 mins from beginning of epoch till batch#276\n",
      "training loss has decreased---> reducing the best loss from 1862.40 to 1840.26 | throughput = 76103 tokens/second | norm = 1.3174 | learning rate = 4.62012e-05\n",
      "inside validation data for epoch 26\n",
      "Val loss has decreased -->reducing the global validation loss from 1933.68 to 1930.61\n",
      " validation loss for epoch = 25 is 1930.6129\n",
      " epoch= 25 :  val loss is 1930.6129 \n",
      "saving the model model2024-08-0207:37:52.pth\n",
      "*****LOGGING INFO IN GPT2_nll_loss_static_augrandom_init_wts_True_2024-08-02.log*********\n",
      "executing epoch:27, it took 1.9830771843592325 mins from beginning of epoch till batch#276\n",
      "training loss has decreased---> reducing the best loss from 1840.26 to 1821.15 | throughput = 76111 tokens/second | norm = 1.2837 | learning rate = 4.57259e-05\n",
      "inside validation data for epoch 27\n",
      "No improvement in validation loss-->epoch= 26 and best val loss is 1930.61|current_Val loss = 1948.6989905834198|counter = 1\n",
      "executing epoch:28, it took 1.985235619544983 mins from beginning of epoch till batch#276\n",
      "training loss has decreased---> reducing the best loss from 1821.15 to 1799.15 | throughput = 76066 tokens/second | norm = 1.4367 | learning rate = 4.52254e-05\n",
      "inside validation data for epoch 28\n",
      "No improvement in validation loss-->epoch= 27 and best val loss is 1930.61|current_Val loss = 1946.4097529649734|counter = 2\n",
      "executing epoch:29, it took 1.981502644220988 mins from beginning of epoch till batch#276\n",
      "training loss has decreased---> reducing the best loss from 1799.15 to 1778.17 | throughput = 76167 tokens/second | norm = 1.8124 | learning rate = 4.47003e-05\n",
      "inside validation data for epoch 29\n",
      "No improvement in validation loss-->epoch= 28 and best val loss is 1930.61|current_Val loss = 1948.7868247032166|counter = 3\n",
      "executing epoch:30, it took 1.9810512026151021 mins from beginning of epoch till batch#276\n",
      "training loss has decreased---> reducing the best loss from 1778.17 to 1756.52 | throughput = 76148 tokens/second | norm = 1.3305 | learning rate = 4.41511e-05\n",
      "inside validation data for epoch 30\n",
      "No improvement in validation loss-->epoch= 29 and best val loss is 1930.61|current_Val loss = 1960.965087890625|counter = 4\n",
      "executing epoch:31, it took 1.9805950125058491 mins from beginning of epoch till batch#276\n",
      "training loss has decreased---> reducing the best loss from 1756.52 to 1735.56 | throughput = 76176 tokens/second | norm = 1.3860 | learning rate = 4.35786e-05\n",
      "inside validation data for epoch 31\n",
      "No improvement in validation loss-->epoch= 30 and best val loss is 1930.61|current_Val loss = 1978.1082549095154|counter = 5\n",
      "executing epoch:32, it took 1.981433355808258 mins from beginning of epoch till batch#276\n",
      "training loss has decreased---> reducing the best loss from 1735.56 to 1713.54 | throughput = 76166 tokens/second | norm = 2.1418 | learning rate = 4.29835e-05\n",
      "inside validation data for epoch 32\n",
      "No improvement in validation loss-->epoch= 31 and best val loss is 1930.61|current_Val loss = 2001.5121684074402|counter = 6\n",
      "executing epoch:33, it took 1.9806588371594747 mins from beginning of epoch till batch#276\n",
      "training loss has decreased---> reducing the best loss from 1713.54 to 1691.90 | throughput = 76186 tokens/second | norm = 2.0596 | learning rate = 4.23665e-05\n",
      "inside validation data for epoch 33\n",
      "No improvement in validation loss-->epoch= 32 and best val loss is 1930.61|current_Val loss = 2008.1601649522781|counter = 7\n",
      "executing epoch:34, it took 1.9837384859720866 mins from beginning of epoch till batch#276\n",
      "training loss has decreased---> reducing the best loss from 1691.90 to 1670.38 | throughput = 76112 tokens/second | norm = 1.3900 | learning rate = 4.17283e-05\n",
      "inside validation data for epoch 34\n",
      "No improvement in validation loss-->epoch= 33 and best val loss is 1930.61|current_Val loss = 2029.7524062395096|counter = 8\n",
      "executing epoch:35, it took 1.9808398723602294 mins from beginning of epoch till batch#276\n",
      "training loss has decreased---> reducing the best loss from 1670.38 to 1648.30 | throughput = 76170 tokens/second | norm = 1.4662 | learning rate = 4.10697e-05\n",
      "inside validation data for epoch 35\n",
      "No improvement in validation loss-->epoch= 34 and best val loss is 1930.61|current_Val loss = 2044.7535691261292|counter = 9\n",
      "executing epoch:36, it took 1.9810710509618124 mins from beginning of epoch till batch#276\n",
      "training loss has decreased---> reducing the best loss from 1648.30 to 1626.03 | throughput = 76167 tokens/second | norm = 2.0916 | learning rate = 4.03915e-05\n",
      "inside validation data for epoch 36\n",
      "No improvement in validation loss-->epoch= 35 and best val loss is 1930.61|current_Val loss = 2063.3729701042175|counter = 10\n",
      "executing epoch:37, it took 1.9803918838500976 mins from beginning of epoch till batch#276\n",
      "training loss has decreased---> reducing the best loss from 1626.03 to 1604.74 | throughput = 76186 tokens/second | norm = 2.4313 | learning rate = 3.96946e-05\n",
      "inside validation data for epoch 37\n",
      "No improvement in validation loss-->epoch= 36 and best val loss is 1930.61|current_Val loss = 2095.1803599596024|counter = 11\n",
      "executing epoch:38, it took 1.982978351910909 mins from beginning of epoch till batch#276\n",
      "training loss has decreased---> reducing the best loss from 1604.74 to 1582.74 | throughput = 76064 tokens/second | norm = 2.3254 | learning rate = 3.89798e-05\n",
      "inside validation data for epoch 38\n",
      "No improvement in validation loss-->epoch= 37 and best val loss is 1930.61|current_Val loss = 2114.168405532837|counter = 12\n",
      "executing epoch:39, it took 1.984336495399475 mins from beginning of epoch till batch#276\n",
      "training loss has decreased---> reducing the best loss from 1582.74 to 1559.31 | throughput = 76032 tokens/second | norm = 1.8442 | learning rate = 3.82480e-05\n",
      "inside validation data for epoch 39\n",
      "No improvement in validation loss-->epoch= 38 and best val loss is 1930.61|current_Val loss = 2160.1251254081726|counter = 13\n",
      "executing epoch:40, it took 1.9819100936253866 mins from beginning of epoch till batch#276\n",
      "training loss has decreased---> reducing the best loss from 1559.31 to 1537.15 | throughput = 76119 tokens/second | norm = 1.5287 | learning rate = 3.75000e-05\n",
      "inside validation data for epoch 40\n",
      "No improvement in validation loss-->epoch= 39 and best val loss is 1930.61|current_Val loss = 2183.455550432205|counter = 14\n",
      "executing epoch:41, it took 1.982047426700592 mins from beginning of epoch till batch#276\n",
      "training loss has decreased---> reducing the best loss from 1537.15 to 1516.55 | throughput = 76171 tokens/second | norm = 2.5653 | learning rate = 3.67368e-05\n",
      "inside validation data for epoch 41\n",
      "No improvement in validation loss-->epoch= 40 and best val loss is 1930.61|current_Val loss = 2219.903235912323|counter = 15\n",
      "executing epoch:42, it took 1.978925343354543 mins from beginning of epoch till batch#276\n",
      "training loss has decreased---> reducing the best loss from 1516.55 to 1495.10 | throughput = 76260 tokens/second | norm = 3.5860 | learning rate = 3.59593e-05\n",
      "inside validation data for epoch 42\n",
      "No improvement in validation loss-->epoch= 41 and best val loss is 1930.61|current_Val loss = 2249.265383720398|counter = 16\n",
      "executing epoch:43, it took 1.976973291238149 mins from beginning of epoch till batch#276\n",
      "training loss has decreased---> reducing the best loss from 1495.10 to 1473.20 | throughput = 76296 tokens/second | norm = 2.8694 | learning rate = 3.51684e-05\n",
      "inside validation data for epoch 43\n",
      "No improvement in validation loss-->epoch= 42 and best val loss is 1930.61|current_Val loss = 2273.9184217453003|counter = 17\n",
      "executing epoch:44, it took 1.9773277799288431 mins from beginning of epoch till batch#276\n",
      "training loss has decreased---> reducing the best loss from 1473.20 to 1452.43 | throughput = 76283 tokens/second | norm = 2.8812 | learning rate = 3.43652e-05\n",
      "inside validation data for epoch 44\n",
      "No improvement in validation loss-->epoch= 43 and best val loss is 1930.61|current_Val loss = 2315.5899528265|counter = 18\n",
      "executing epoch:45, it took 1.9773576577504477 mins from beginning of epoch till batch#276\n",
      "training loss has decreased---> reducing the best loss from 1452.43 to 1429.97 | throughput = 76290 tokens/second | norm = 2.9266 | learning rate = 3.35505e-05\n",
      "inside validation data for epoch 45\n",
      "No improvement in validation loss-->epoch= 44 and best val loss is 1930.61|current_Val loss = 2345.0513948202133|counter = 19\n",
      "executing epoch:46, it took 1.983625058333079 mins from beginning of epoch till batch#276\n",
      "training loss has decreased---> reducing the best loss from 1429.97 to 1410.93 | throughput = 76143 tokens/second | norm = 3.1563 | learning rate = 3.27254e-05\n",
      "inside validation data for epoch 46\n",
      "No improvement in validation loss-->epoch= 45 and best val loss is 1930.61|current_Val loss = 2377.1661373376846|counter = 20\n",
      "executing epoch:47, it took 1.9768735766410828 mins from beginning of epoch till batch#276\n",
      "training loss has decreased---> reducing the best loss from 1410.93 to 1388.38 | throughput = 76346 tokens/second | norm = 2.1214 | learning rate = 3.18909e-05\n",
      "inside validation data for epoch 47\n",
      "No improvement in validation loss-->epoch= 46 and best val loss is 1930.61|current_Val loss = 2421.7746918201447|counter = 21\n",
      "executing epoch:48, it took 1.9760742386182149 mins from beginning of epoch till batch#276\n",
      "training loss has decreased---> reducing the best loss from 1388.38 to 1369.31 | throughput = 76356 tokens/second | norm = 3.0500 | learning rate = 3.10480e-05\n",
      "inside validation data for epoch 48\n",
      "No improvement in validation loss-->epoch= 47 and best val loss is 1930.61|current_Val loss = 2450.7411131858826|counter = 22\n",
      "executing epoch:49, it took 1.9771146297454834 mins from beginning of epoch till batch#276\n",
      "training loss has decreased---> reducing the best loss from 1369.31 to 1349.41 | throughput = 76300 tokens/second | norm = 4.0042 | learning rate = 3.01978e-05\n",
      "inside validation data for epoch 49\n",
      "No improvement in validation loss-->epoch= 48 and best val loss is 1930.61|current_Val loss = 2501.278610110283|counter = 23\n",
      "executing epoch:50, it took 1.9777062972386679 mins from beginning of epoch till batch#276\n",
      "training loss has decreased---> reducing the best loss from 1349.41 to 1328.71 | throughput = 76276 tokens/second | norm = 2.8014 | learning rate = 2.93412e-05\n",
      "inside validation data for epoch 50\n",
      "No improvement in validation loss-->epoch= 49 and best val loss is 1930.61|current_Val loss = 2531.343934774399|counter = 24\n",
      "executing epoch:51, it took 1.9778348644574484 mins from beginning of epoch till batch#276\n",
      "training loss has decreased---> reducing the best loss from 1328.71 to 1309.21 | throughput = 76255 tokens/second | norm = 3.6580 | learning rate = 2.84793e-05\n",
      "inside validation data for epoch 51\n",
      "No improvement in validation loss-->epoch= 50 and best val loss is 1930.61|current_Val loss = 2579.6955275535583|counter = 25\n",
      "early stopping trigerred either from training data or val data | train_counter = 0|val_counter = 25\n"
     ]
    }
   ],
   "source": [
    "tr_model,epoch_train_log,epoch_val_log = train_model(train_loader, val_loader,model=model,tokenizer = tokenizer)"
   ]
  },
  {
   "cell_type": "code",
   "execution_count": 46,
   "id": "70810de1",
   "metadata": {},
   "outputs": [
    {
     "name": "stdout",
     "output_type": "stream",
     "text": [
      "[4367.0650153160095, 3086.137818336487, 2680.8257400989532, 2522.318494796753, 2422.6491887569427, 2359.4269827604294, 2308.0571731328964, 2268.245314359665, 2236.435079097748, 2211.3677003383636, 2181.785642504692, 2152.291970729828, 2127.8368096351624, 2103.831349492073, 2082.4433518648148, 2058.5548424720764, 2038.697742342949, 2016.0415506362915, 1993.882748246193, 1970.0551278591156, 1949.5445507764816, 1926.9680379629135, 1904.6944737434387, 1883.6754550933838, 1862.4009667634964, 1840.258231639862, 1821.147509932518, 1799.1452996730804, 1778.1678807735443, 1756.5166845321655, 1735.556303858757, 1713.5408223867416, 1691.901624917984, 1670.3813278079033, 1648.2989045977592, 1626.0301373004913, 1604.743586719036, 1582.74426227808, 1559.3134363293648, 1537.1503121852875, 1516.5487267374992, 1495.101655304432, 1473.2034606933594, 1452.4306051135063, 1429.9655669927597, 1410.928172647953, 1388.3816065192223, 1369.3061600327492, 1349.4121717214584, 1328.70652872324, 1309.2064368724823]\n"
     ]
    }
   ],
   "source": [
    "print(epoch_train_log)\n"
   ]
  },
  {
   "cell_type": "code",
   "execution_count": 47,
   "id": "4743879f",
   "metadata": {},
   "outputs": [],
   "source": [
    "# import json , os\n",
    "# path_var_train_log = os.path.join(\".\",\"Tokenizers_and_loss_vals\",\"epoch_train_plain_loss.json\")\n",
    "# path_var_val_log = os.path.join(\".\",\"Tokenizers_and_loss_vals\",\"epoch_val_val_loss_.json\")\n",
    "\n",
    "# #print(path_var)\n",
    "# #Write the list to a JSON file\n",
    "# with open(path_var_train_log, \"w\") as file:\n",
    "#     json.dump(epoch_train_log, file)\n",
    "\n",
    "# with open(path_var_val_log, \"w\") as file:\n",
    "#     json.dump(epoch_val_log, file)\n"
   ]
  },
  {
   "cell_type": "code",
   "execution_count": 48,
   "id": "ab431b35",
   "metadata": {},
   "outputs": [],
   "source": [
    "# with open(path_var_train_log, \"r\") as file:\n",
    "#     train_loss = json.load(file)\n",
    "# with open(path_var_val_log, \"r\") as file:\n",
    "#     val_loss = json.load(file)"
   ]
  },
  {
   "cell_type": "code",
   "execution_count": 49,
   "id": "5e2d23df",
   "metadata": {},
   "outputs": [
    {
     "data": {
      "text/plain": [
       "[<matplotlib.lines.Line2D at 0x7f920bf93160>]"
      ]
     },
     "execution_count": 49,
     "metadata": {},
     "output_type": "execute_result"
    },
    {
     "data": {
      "image/png": "[encoded data removed]",
      "text/plain": [
       "<Figure size 432x288 with 1 Axes>"
      ]
     },
     "metadata": {
      "needs_background": "light"
     },
     "output_type": "display_data"
    }
   ],
   "source": [
    "x_values = range(len(epoch_train_log))\n",
    "plt.plot(x_values, epoch_train_log, label='Train_loss')"
   ]
  },
  {
   "cell_type": "code",
   "execution_count": 50,
   "id": "3ea30945",
   "metadata": {},
   "outputs": [
    {
     "data": {
      "text/plain": [
       "[<matplotlib.lines.Line2D at 0x7f920bf5a190>]"
      ]
     },
     "execution_count": 50,
     "metadata": {},
     "output_type": "execute_result"
    },
    {
     "data": {
      "image/png": "[encoded data removed]",
      "text/plain": [
       "<Figure size 432x288 with 1 Axes>"
      ]
     },
     "metadata": {
      "needs_background": "light"
     },
     "output_type": "display_data"
    }
   ],
   "source": [
    "#epoch_val_log= [t.detach().cpu().numpy() for t in epoch_val_log]\n",
    "x_values_val = range(len(epoch_val_log))\n",
    "plt.plot(x_values_val, epoch_val_log, label='val_loss')"
   ]
  },
  {
   "cell_type": "code",
   "execution_count": 51,
   "id": "4ac42d84",
   "metadata": {},
   "outputs": [
    {
     "data": {
      "text/plain": [
       "<matplotlib.legend.Legend at 0x7f920bf4c130>"
      ]
     },
     "execution_count": 51,
     "metadata": {},
     "output_type": "execute_result"
    },
    {
     "data": {
      "image/png": "[encoded data removed]",
      "text/plain": [
       "<Figure size 432x288 with 1 Axes>"
      ]
     },
     "metadata": {
      "needs_background": "light"
     },
     "output_type": "display_data"
    }
   ],
   "source": [
    "min_length = min(len(epoch_train_log), len(epoch_val_log))\n",
    "list1 = epoch_train_log[:min_length]\n",
    "list2 = epoch_val_log[:min_length]\n",
    "\n",
    "# Create x-axis values\n",
    "x_values = range(min_length)\n",
    "\n",
    "# Plot the lists\n",
    "plt.plot(x_values, list1, label='Train_loss')\n",
    "plt.plot(x_values, list2, label='Val_loss')\n",
    "\n",
    "# Adding labels and title\n",
    "plt.xlabel('Epoch')\n",
    "plt.ylabel('Value')\n",
    "plt.title('Train Loss and Val_Loss')\n",
    "plt.legend()"
   ]
  },
  {
   "cell_type": "code",
   "execution_count": null,
   "id": "90fac2b9",
   "metadata": {},
   "outputs": [],
   "source": []
  },
  {
   "cell_type": "code",
   "execution_count": null,
   "id": "82bd0934",
   "metadata": {},
   "outputs": [],
   "source": []
  },
  {
   "cell_type": "code",
   "execution_count": null,
   "id": "b0053dbf",
   "metadata": {},
   "outputs": [],
   "source": []
  },
  {
   "cell_type": "code",
   "execution_count": null,
   "id": "8ae9f7fc",
   "metadata": {},
   "outputs": [],
   "source": []
  },
  {
   "cell_type": "code",
   "execution_count": null,
   "id": "488a61ff",
   "metadata": {},
   "outputs": [],
   "source": []
  },
  {
   "cell_type": "code",
   "execution_count": null,
   "id": "ab4a548f",
   "metadata": {},
   "outputs": [],
   "source": []
  }
 ],
 "metadata": {
  "kernelspec": {
   "display_name": "Python 3 (ipykernel)",
   "language": "python",
   "name": "python3"
  },
  "language_info": {
   "codemirror_mode": {
    "name": "ipython",
    "version": 3
   },
   "file_extension": ".py",
   "mimetype": "text/x-python",
   "name": "python",
   "nbconvert_exporter": "python",
   "pygments_lexer": "ipython3",
   "version": "3.8.12"
  }
 },
 "nbformat": 4,
 "nbformat_minor": 5
}
