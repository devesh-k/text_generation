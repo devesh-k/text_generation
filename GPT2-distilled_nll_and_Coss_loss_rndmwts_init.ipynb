{
 "cells": [
  {
   "cell_type": "markdown",
   "id": "5f82661f",
   "metadata": {},
   "source": [
    "## In this notebook, we scale the Cosine with (1-lambda)  "
   ]
  },
  {
   "cell_type": "code",
   "execution_count": null,
   "id": "4fffbe7f",
   "metadata": {},
   "outputs": [],
   "source": []
  },
  {
   "cell_type": "code",
   "execution_count": 1,
   "id": "1bbf4376",
   "metadata": {
    "scrolled": true
   },
   "outputs": [
    {
     "name": "stdout",
     "output_type": "stream",
     "text": [
      "Looking in indexes: https://pypi.org/simple, https://pypi.ngc.nvidia.com\n",
      "Requirement already satisfied: jupyter in /opt/conda/lib/python3.8/site-packages (1.0.0)\n",
      "Requirement already satisfied: ipywidgets in /opt/conda/lib/python3.8/site-packages (8.1.3)\n",
      "Requirement already satisfied: qtconsole in /opt/conda/lib/python3.8/site-packages (from jupyter) (5.5.2)\n",
      "Requirement already satisfied: notebook in /opt/conda/lib/python3.8/site-packages (from jupyter) (6.4.1)\n",
      "Requirement already satisfied: ipykernel in /opt/conda/lib/python3.8/site-packages (from jupyter) (6.29.5)\n",
      "Requirement already satisfied: jupyter-console in /opt/conda/lib/python3.8/site-packages (from jupyter) (6.6.3)\n",
      "Requirement already satisfied: nbconvert in /opt/conda/lib/python3.8/site-packages (from jupyter) (6.3.0)\n",
      "Requirement already satisfied: traitlets>=4.3.1 in /opt/conda/lib/python3.8/site-packages (from ipywidgets) (5.14.3)\n",
      "Requirement already satisfied: widgetsnbextension~=4.0.11 in /opt/conda/lib/python3.8/site-packages (from ipywidgets) (4.0.11)\n",
      "Requirement already satisfied: jupyterlab-widgets~=3.0.11 in /opt/conda/lib/python3.8/site-packages (from ipywidgets) (3.0.11)\n",
      "Requirement already satisfied: ipython>=6.1.0 in /opt/conda/lib/python3.8/site-packages (from ipywidgets) (7.30.0)\n",
      "Requirement already satisfied: comm>=0.1.3 in /opt/conda/lib/python3.8/site-packages (from ipywidgets) (0.2.2)\n",
      "Requirement already satisfied: pickleshare in /opt/conda/lib/python3.8/site-packages (from ipython>=6.1.0->ipywidgets) (0.7.5)\n",
      "Requirement already satisfied: backcall in /opt/conda/lib/python3.8/site-packages (from ipython>=6.1.0->ipywidgets) (0.2.0)\n",
      "Requirement already satisfied: setuptools>=18.5 in /opt/conda/lib/python3.8/site-packages (from ipython>=6.1.0->ipywidgets) (59.4.0)\n",
      "Requirement already satisfied: matplotlib-inline in /opt/conda/lib/python3.8/site-packages (from ipython>=6.1.0->ipywidgets) (0.1.3)\n",
      "Requirement already satisfied: pygments in /opt/conda/lib/python3.8/site-packages (from ipython>=6.1.0->ipywidgets) (2.10.0)\n",
      "Requirement already satisfied: prompt-toolkit!=3.0.0,!=3.0.1,<3.1.0,>=2.0.0 in /opt/conda/lib/python3.8/site-packages (from ipython>=6.1.0->ipywidgets) (3.0.47)\n",
      "Requirement already satisfied: decorator in /opt/conda/lib/python3.8/site-packages (from ipython>=6.1.0->ipywidgets) (5.1.0)\n",
      "Requirement already satisfied: jedi>=0.16 in /opt/conda/lib/python3.8/site-packages (from ipython>=6.1.0->ipywidgets) (0.18.1)\n",
      "Requirement already satisfied: pexpect>4.3 in /opt/conda/lib/python3.8/site-packages (from ipython>=6.1.0->ipywidgets) (4.8.0)\n",
      "Requirement already satisfied: parso<0.9.0,>=0.8.0 in /opt/conda/lib/python3.8/site-packages (from jedi>=0.16->ipython>=6.1.0->ipywidgets) (0.8.3)\n",
      "Requirement already satisfied: ptyprocess>=0.5 in /opt/conda/lib/python3.8/site-packages (from pexpect>4.3->ipython>=6.1.0->ipywidgets) (0.7.0)\n",
      "Requirement already satisfied: wcwidth in /opt/conda/lib/python3.8/site-packages (from prompt-toolkit!=3.0.0,!=3.0.1,<3.1.0,>=2.0.0->ipython>=6.1.0->ipywidgets) (0.2.5)\n",
      "Requirement already satisfied: packaging in /opt/conda/lib/python3.8/site-packages (from ipykernel->jupyter) (21.3)\n",
      "Requirement already satisfied: nest-asyncio in /opt/conda/lib/python3.8/site-packages (from ipykernel->jupyter) (1.5.4)\n",
      "Requirement already satisfied: pyzmq>=24 in /opt/conda/lib/python3.8/site-packages (from ipykernel->jupyter) (26.0.3)\n",
      "Requirement already satisfied: tornado>=6.1 in /opt/conda/lib/python3.8/site-packages (from ipykernel->jupyter) (6.1)\n",
      "Requirement already satisfied: jupyter-client>=6.1.12 in /opt/conda/lib/python3.8/site-packages (from ipykernel->jupyter) (7.1.0)\n",
      "Requirement already satisfied: psutil in /opt/conda/lib/python3.8/site-packages (from ipykernel->jupyter) (5.8.0)\n",
      "Requirement already satisfied: jupyter-core!=5.0.*,>=4.12 in /opt/conda/lib/python3.8/site-packages (from ipykernel->jupyter) (5.7.2)\n",
      "Requirement already satisfied: debugpy>=1.6.5 in /opt/conda/lib/python3.8/site-packages (from ipykernel->jupyter) (1.8.2)\n",
      "Requirement already satisfied: python-dateutil>=2.1 in /opt/conda/lib/python3.8/site-packages (from jupyter-client>=6.1.12->ipykernel->jupyter) (2.8.2)\n",
      "Requirement already satisfied: entrypoints in /opt/conda/lib/python3.8/site-packages (from jupyter-client>=6.1.12->ipykernel->jupyter) (0.3)\n",
      "Requirement already satisfied: platformdirs>=2.5 in /opt/conda/lib/python3.8/site-packages (from jupyter-core!=5.0.*,>=4.12->ipykernel->jupyter) (4.2.2)\n",
      "Requirement already satisfied: six>=1.5 in /opt/conda/lib/python3.8/site-packages (from python-dateutil>=2.1->jupyter-client>=6.1.12->ipykernel->jupyter) (1.16.0)\n",
      "Requirement already satisfied: defusedxml in /opt/conda/lib/python3.8/site-packages (from nbconvert->jupyter) (0.7.1)\n",
      "Requirement already satisfied: bleach in /opt/conda/lib/python3.8/site-packages (from nbconvert->jupyter) (4.1.0)\n",
      "Requirement already satisfied: jupyterlab-pygments in /opt/conda/lib/python3.8/site-packages (from nbconvert->jupyter) (0.1.2)\n",
      "Requirement already satisfied: mistune<2,>=0.8.1 in /opt/conda/lib/python3.8/site-packages (from nbconvert->jupyter) (0.8.4)\n",
      "Requirement already satisfied: nbformat>=4.4 in /opt/conda/lib/python3.8/site-packages (from nbconvert->jupyter) (5.1.3)\n",
      "Requirement already satisfied: pandocfilters>=1.4.1 in /opt/conda/lib/python3.8/site-packages (from nbconvert->jupyter) (1.5.0)\n",
      "Requirement already satisfied: testpath in /opt/conda/lib/python3.8/site-packages (from nbconvert->jupyter) (0.5.0)\n",
      "Requirement already satisfied: jinja2>=2.4 in /opt/conda/lib/python3.8/site-packages (from nbconvert->jupyter) (3.0.3)\n",
      "Requirement already satisfied: nbclient<0.6.0,>=0.5.0 in /opt/conda/lib/python3.8/site-packages (from nbconvert->jupyter) (0.5.9)\n",
      "Requirement already satisfied: MarkupSafe>=2.0 in /opt/conda/lib/python3.8/site-packages (from jinja2>=2.4->nbconvert->jupyter) (2.0.1)\n",
      "Requirement already satisfied: jsonschema!=2.5.0,>=2.4 in /opt/conda/lib/python3.8/site-packages (from nbformat>=4.4->nbconvert->jupyter) (4.2.1)\n",
      "Requirement already satisfied: ipython-genutils in /opt/conda/lib/python3.8/site-packages (from nbformat>=4.4->nbconvert->jupyter) (0.2.0)\n",
      "Requirement already satisfied: attrs>=17.4.0 in /opt/conda/lib/python3.8/site-packages (from jsonschema!=2.5.0,>=2.4->nbformat>=4.4->nbconvert->jupyter) (21.2.0)\n",
      "Requirement already satisfied: importlib-resources>=1.4.0 in /opt/conda/lib/python3.8/site-packages (from jsonschema!=2.5.0,>=2.4->nbformat>=4.4->nbconvert->jupyter) (5.4.0)\n",
      "Requirement already satisfied: pyrsistent!=0.17.0,!=0.17.1,!=0.17.2,>=0.14.0 in /opt/conda/lib/python3.8/site-packages (from jsonschema!=2.5.0,>=2.4->nbformat>=4.4->nbconvert->jupyter) (0.18.0)\n",
      "Requirement already satisfied: zipp>=3.1.0 in /opt/conda/lib/python3.8/site-packages (from importlib-resources>=1.4.0->jsonschema!=2.5.0,>=2.4->nbformat>=4.4->nbconvert->jupyter) (3.6.0)\n",
      "Requirement already satisfied: webencodings in /opt/conda/lib/python3.8/site-packages (from bleach->nbconvert->jupyter) (0.5.1)\n",
      "Requirement already satisfied: prometheus-client in /opt/conda/lib/python3.8/site-packages (from notebook->jupyter) (0.12.0)\n",
      "Requirement already satisfied: terminado>=0.8.3 in /opt/conda/lib/python3.8/site-packages (from notebook->jupyter) (0.12.1)\n",
      "Requirement already satisfied: argon2-cffi in /opt/conda/lib/python3.8/site-packages (from notebook->jupyter) (21.1.0)\n",
      "Requirement already satisfied: Send2Trash>=1.5.0 in /opt/conda/lib/python3.8/site-packages (from notebook->jupyter) (1.8.0)\n",
      "Requirement already satisfied: cffi>=1.0.0 in /opt/conda/lib/python3.8/site-packages (from argon2-cffi->notebook->jupyter) (1.15.0)\n",
      "Requirement already satisfied: pycparser in /opt/conda/lib/python3.8/site-packages (from cffi>=1.0.0->argon2-cffi->notebook->jupyter) (2.21)\n",
      "Requirement already satisfied: pyparsing!=3.0.5,>=2.0.2 in /opt/conda/lib/python3.8/site-packages (from packaging->ipykernel->jupyter) (3.0.6)\n",
      "Requirement already satisfied: qtpy>=2.4.0 in /opt/conda/lib/python3.8/site-packages (from qtconsole->jupyter) (2.4.1)\n",
      "\u001b[33mWARNING: Running pip as the 'root' user can result in broken permissions and conflicting behaviour with the system package manager. It is recommended to use a virtual environment instead: https://pip.pypa.io/warnings/venv\u001b[0m\n"
     ]
    }
   ],
   "source": [
    "#installing some libraries\n",
    "!pip install --upgrade jupyter ipywidgets\n",
    "\n"
   ]
  },
  {
   "cell_type": "code",
   "execution_count": 2,
   "id": "e21286db",
   "metadata": {},
   "outputs": [],
   "source": [
    "import matplotlib.pyplot as plt\n",
    "import seaborn as sns\n",
    "import torch, transformers\n",
    "from torch.utils.data import Dataset, DataLoader\n",
    "from transformers import AutoTokenizer\n",
    "from transformers import PreTrainedModel, PretrainedConfig\n",
    "from transformers import AutoModel, AutoConfig,AutoModelForCausalLM, AutoConfig\n",
    "\n",
    "\n",
    "import torch.nn as nn\n",
    "import torch.nn.functional as F\n",
    "#from datasets import load_dataset\n",
    "import pandas as pd, numpy as np\n",
    "from torch import cuda\n",
    "import datetime\n",
    "import warnings,itertools\n",
    "from torch.optim.lr_scheduler import LambdaLR\n",
    "from torch.cuda.amp import autocast, GradScaler\n",
    "import json,math\n",
    "pre_train = False\n",
    "\n",
    "# Ignore all warnings\n",
    "warnings.filterwarnings('ignore')\n",
    "#pip install transformers bitsandbytes>=0.39.0 -q\n",
    "import zipfile,logging"
   ]
  },
  {
   "cell_type": "code",
   "execution_count": 3,
   "id": "416a48b1",
   "metadata": {},
   "outputs": [
    {
     "name": "stdout",
     "output_type": "stream",
     "text": [
      "cuda:0\n"
     ]
    }
   ],
   "source": [
    "#global params for training\n",
    "\n",
    "B,T = 32,1024\n",
    "epoch = 100\n",
    "# this controls whether we are using pre-trained wts or not\n",
    "random_init_wts = True\n",
    "nll_learning_steps = int(epoch/2)\n",
    "if cuda.is_available():\n",
    "    device = torch.device('cuda:0')\n",
    "    print(device)\n",
    "else:\n",
    "    device = 'cpu'\n",
    "import os\n",
    "os.environ[\"TOKENIZERS_PARALLELISM\"] = \"true\"\n",
    "# these 2 global vars help track the training and val loss\n",
    "#directory to save wts\n",
    "model_path = os.path.join(\"model\")\n"
   ]
  },
  {
   "cell_type": "code",
   "execution_count": 4,
   "id": "0750d609",
   "metadata": {},
   "outputs": [
    {
     "data": {
      "text/plain": [
       "'./data/unzip_text_10M'"
      ]
     },
     "execution_count": 4,
     "metadata": {},
     "output_type": "execute_result"
    }
   ],
   "source": [
    "directory = os.path.join('.','data','unzip_text_10M')  # Replace with your directory path\n",
    "directory"
   ]
  },
  {
   "cell_type": "code",
   "execution_count": 5,
   "id": "906f9271",
   "metadata": {},
   "outputs": [],
   "source": [
    "def read_text(directory):\n",
    "    \"\"\"This function loads the dataset,provided in the zipped format and stores all the text files in list\n",
    "    each file has its contents stored as an item in list and at the end we concatenate all the sub-lists to create a flattened list and return it\"\"\"\n",
    "    directory = os.path.join('.','data','unzip_text_10M',str(directory))  # Replace with your directory path\n",
    "    print(f\"directory :{directory}\")\n",
    "    # List all files in the directory\n",
    "    files = [f for f in os.listdir(directory) if os.path.isfile(os.path.join(directory, f))]\n",
    "    print(f\"files:{files}\")\n",
    "    text_content = []\n",
    "    # Read each file\n",
    "    total_lines = 0\n",
    "    for filenum,filename in enumerate(files):\n",
    "        file_path = os.path.join(directory, filename)\n",
    "        with open(file_path, 'r', encoding='utf-8') as file:\n",
    "            text = file.read()\n",
    "            text_content.append(text)\n",
    "            print(f\"the file:{filename} has been appeneded to the uber list and its length is {len(text_content)} \")\n",
    "            \n",
    "    \n",
    "    flattened_list = ''.join(text_content)\n",
    "    assert (len(flattened_list) == total_lines , f\"Expected {len(flattened_list)} to be equal to {total_lines}\" )\n",
    "    \n",
    "    return flattened_list\n",
    "\n",
    "    "
   ]
  },
  {
   "cell_type": "code",
   "execution_count": 6,
   "id": "7b98940f",
   "metadata": {},
   "outputs": [
    {
     "name": "stdout",
     "output_type": "stream",
     "text": [
      "directory :./data/unzip_text_10M/train_10M\n",
      "files:['switchboard.train', 'simple_wiki.train', 'open_subtitles.train', 'gutenberg.train', 'childes.train', 'bnc_spoken.train']\n",
      "the file:switchboard.train has been appeneded to the uber list and its length is 1 \n",
      "the file:simple_wiki.train has been appeneded to the uber list and its length is 2 \n",
      "the file:open_subtitles.train has been appeneded to the uber list and its length is 3 \n",
      "the file:gutenberg.train has been appeneded to the uber list and its length is 4 \n",
      "the file:childes.train has been appeneded to the uber list and its length is 5 \n",
      "the file:bnc_spoken.train has been appeneded to the uber list and its length is 6 \n"
     ]
    }
   ],
   "source": [
    "#read the dataset and get a list\n",
    "train_list = read_text(\"train_10M\")\n"
   ]
  },
  {
   "cell_type": "code",
   "execution_count": 7,
   "id": "e1039f57",
   "metadata": {},
   "outputs": [
    {
     "data": {
      "text/plain": [
       "54215049"
      ]
     },
     "execution_count": 7,
     "metadata": {},
     "output_type": "execute_result"
    }
   ],
   "source": [
    "len(train_list)"
   ]
  },
  {
   "cell_type": "code",
   "execution_count": 8,
   "id": "f2286fc9",
   "metadata": {},
   "outputs": [
    {
     "name": "stdout",
     "output_type": "stream",
     "text": [
      "1654\n"
     ]
    }
   ],
   "source": [
    "chunks = len(train_list)//(B*T)\n",
    "print(chunks)"
   ]
  },
  {
   "cell_type": "code",
   "execution_count": 9,
   "id": "ae492fe5",
   "metadata": {},
   "outputs": [
    {
     "name": "stderr",
     "output_type": "stream",
     "text": [
      "Token indices sequence length is longer than the specified maximum sequence length for this model (17191971 > 1024). Running this sequence through the model will result in indexing errors\n"
     ]
    }
   ],
   "source": [
    "#tokeinze the training data\n",
    "tokenizer = AutoTokenizer.from_pretrained(\"gpt2\",return_tensors = \"pt\" , truncate = True, return_overflowing_tokens=True , padding = False,)\n",
    "enc_train = tokenizer(train_list)\n"
   ]
  },
  {
   "cell_type": "code",
   "execution_count": 10,
   "id": "edcf33d1",
   "metadata": {},
   "outputs": [
    {
     "data": {
      "text/plain": [
       "3.1535097982657136"
      ]
     },
     "execution_count": 10,
     "metadata": {},
     "output_type": "execute_result"
    }
   ],
   "source": [
    "comp_ratio = len(train_list)/len(enc_train['input_ids'])\n",
    "comp_ratio"
   ]
  },
  {
   "cell_type": "code",
   "execution_count": 11,
   "id": "39de2b80",
   "metadata": {},
   "outputs": [
    {
     "name": "stdout",
     "output_type": "stream",
     "text": [
      "directory :./data/unzip_text_10M/dev\n",
      "files:['switchboard.dev', 'simple_wiki.dev', 'open_subtitles.dev', 'gutenberg.dev', 'childes.dev', 'bnc_spoken.dev']\n",
      "the file:switchboard.dev has been appeneded to the uber list and its length is 1 \n",
      "the file:simple_wiki.dev has been appeneded to the uber list and its length is 2 \n",
      "the file:open_subtitles.dev has been appeneded to the uber list and its length is 3 \n",
      "the file:gutenberg.dev has been appeneded to the uber list and its length is 4 \n",
      "the file:childes.dev has been appeneded to the uber list and its length is 5 \n",
      "the file:bnc_spoken.dev has been appeneded to the uber list and its length is 6 \n"
     ]
    }
   ],
   "source": [
    "#read validation data and tokenize\n",
    "val_list = read_text(\"dev\")\n",
    "enc_val = tokenizer(val_list)"
   ]
  },
  {
   "cell_type": "markdown",
   "id": "2909c7ee",
   "metadata": {},
   "source": [
    "### we read the tokenize data and store the input_ids and attention mask as a single long list at run time we reshape the single [1,B*T] tensor into a batched tensor of dimension [B,T].\n",
    "This approach turns out to be more efficient as it removes the need for any extra tokens in the form of padding"
   ]
  },
  {
   "cell_type": "code",
   "execution_count": 12,
   "id": "4fa86301",
   "metadata": {},
   "outputs": [],
   "source": [
    "def get_df_from_list(enc , B= B, T = T, val= False):\n",
    "    \"\"\"This function takes the tokenized list and reated a dataframe where each row contains the input_ids and attention_mask from the tokenizer.\n",
    "    each row of the dataframe is a list with items B*T\"\"\"\n",
    "    chunk_size = B*T\n",
    "    if val:\n",
    "        chunk_size = 2*B*T\n",
    "        \n",
    "    long_list_inp = enc['input_ids']\n",
    "    long_list_attention = enc['attention_mask']\n",
    "\n",
    "    # Step 3: Split the list into chunks and pad the last chunk if necessary\n",
    "    chunks_inp = [long_list_inp[i:i + chunk_size] for i in range(0, len(long_list_inp), chunk_size)]\n",
    "    chunks_att = [long_list_attention[i:i + chunk_size] for i in range(0, len(long_list_attention), chunk_size)]\n",
    "    df = pd.DataFrame({'input_ids': chunks_inp,'attention_mask':chunks_att})\n",
    "    return df\n",
    "    "
   ]
  },
  {
   "cell_type": "code",
   "execution_count": 13,
   "id": "8e78feef",
   "metadata": {},
   "outputs": [
    {
     "name": "stdout",
     "output_type": "stream",
     "text": [
      "Length of the dataframe is = 525\n"
     ]
    }
   ],
   "source": [
    "df_train_temp = get_df_from_list(enc_train)\n",
    "# Display the DataFrame\n",
    "df_train_temp.head()\n",
    "print(f\"Length of the dataframe is = {len(df_train_temp)}\")"
   ]
  },
  {
   "cell_type": "code",
   "execution_count": 14,
   "id": "78c7a3c3",
   "metadata": {},
   "outputs": [
    {
     "name": "stdout",
     "output_type": "stream",
     "text": [
      "Length of the VALDATION dataframe is = 532\n"
     ]
    }
   ],
   "source": [
    "df_val_temp = get_df_from_list(enc_val)\n",
    "# Display the DataFrame\n",
    "df_val_temp.head()\n",
    "print(f\"Length of the VALDATION dataframe is = {len(df_val_temp)}\")\n"
   ]
  },
  {
   "cell_type": "code",
   "execution_count": 15,
   "id": "8ab57445",
   "metadata": {},
   "outputs": [],
   "source": [
    "def pad_df(df,eos_char = tokenizer.eos_token_id,B = B, T = T,val = False):\n",
    "    \"\"\"The 2 functions below makes sure that each row of the dataframe is of equal length and if not it adds the eos token to make it B*T\"\"\"\n",
    "    if val:\n",
    "        B = 2*B\n",
    "    for ind,row in df.iterrows():\n",
    "        if len(row['input_ids']) != B*T :\n",
    "            print(f\"row = {ind} and input_id length = {len(row['input_ids'])}\")\n",
    "            print(f\"row = {ind} and attention length = {len(row['attention_mask'])}\")\n",
    "            pad_len = B*T - len(row['input_ids'])\n",
    "            print(f\"padding the row index {ind} with {pad_len} character\")\n",
    "            row['input_ids'] = row['input_ids']+ [eos_char] * pad_len\n",
    "            #attention mask should be padded to 0\n",
    "            row['attention_mask'] = row['attention_mask']+ [0] * pad_len\n",
    "            print(\"#### POST CONCAT####\")\n",
    "            print(f\"row = {ind} and input_id length = {len(row['input_ids'])}\")\n",
    "            print(f\"row = {ind} and attention length ={len(row['attention_mask'])}\")\n",
    "    return df\n",
    "\n",
    "\n",
    "def verify_len(df,val = False, B= B):\n",
    "    row_ind = []\n",
    "    if val:\n",
    "        B = 2*B\n",
    "    for ind,row in df.iterrows():\n",
    "        if len(row['input_ids']) != B*T :\n",
    "            row_ind.append(ind)\n",
    "        else:\n",
    "            continue\n",
    "    if len(row_ind) !=0:\n",
    "        print(\"CONCATENATION Did not work\")\n",
    "    else:\n",
    "        print(\"CONCATENATION worked\")\n",
    "        \n",
    "            \n",
    "        \n",
    "    \n",
    "        \n",
    "        \n",
    "   \n",
    "   "
   ]
  },
  {
   "cell_type": "code",
   "execution_count": 16,
   "id": "c9622167",
   "metadata": {},
   "outputs": [
    {
     "name": "stdout",
     "output_type": "stream",
     "text": [
      "row = 524 and input_id length = 21539\n",
      "row = 524 and attention length = 21539\n",
      "padding the row index 524 with 11229 character\n",
      "#### POST CONCAT####\n",
      "row = 524 and input_id length = 32768\n",
      "row = 524 and attention length =32768\n",
      "CONCATENATION worked\n"
     ]
    }
   ],
   "source": [
    "df_train  = pad_df(df_train_temp)\n",
    "verify_len(df_train)"
   ]
  },
  {
   "cell_type": "code",
   "execution_count": 17,
   "id": "0bb0ea3a",
   "metadata": {},
   "outputs": [
    {
     "name": "stdout",
     "output_type": "stream",
     "text": [
      "row = 531 and input_id length = 13588\n",
      "row = 531 and attention length = 13588\n",
      "padding the row index 531 with 19180 character\n",
      "#### POST CONCAT####\n",
      "row = 531 and input_id length = 32768\n",
      "row = 531 and attention length =32768\n",
      "CONCATENATION worked\n"
     ]
    }
   ],
   "source": [
    "df_val  = pad_df(df_val_temp)\n",
    "verify_len(df_val)"
   ]
  },
  {
   "cell_type": "code",
   "execution_count": 18,
   "id": "ee45ebfb",
   "metadata": {},
   "outputs": [
    {
     "data": {
      "text/html": [
       "<div>\n",
       "<style scoped>\n",
       "    .dataframe tbody tr th:only-of-type {\n",
       "        vertical-align: middle;\n",
       "    }\n",
       "\n",
       "    .dataframe tbody tr th {\n",
       "        vertical-align: top;\n",
       "    }\n",
       "\n",
       "    .dataframe thead th {\n",
       "        text-align: right;\n",
       "    }\n",
       "</style>\n",
       "<table border=\"1\" class=\"dataframe\">\n",
       "  <thead>\n",
       "    <tr style=\"text-align: right;\">\n",
       "      <th></th>\n",
       "      <th>input_ids</th>\n",
       "      <th>attention_mask</th>\n",
       "    </tr>\n",
       "  </thead>\n",
       "  <tbody>\n",
       "    <tr>\n",
       "      <th>0</th>\n",
       "      <td>[32, 25, 197, 40, 1101, 1654, 484, 389, 13, 19...</td>\n",
       "      <td>[1, 1, 1, 1, 1, 1, 1, 1, 1, 1, 1, 1, 1, 1, 1, ...</td>\n",
       "    </tr>\n",
       "    <tr>\n",
       "      <th>1</th>\n",
       "      <td>[6510, 11, 14104, 290, 27913, 13, 198, 32, 25,...</td>\n",
       "      <td>[1, 1, 1, 1, 1, 1, 1, 1, 1, 1, 1, 1, 1, 1, 1, ...</td>\n",
       "    </tr>\n",
       "    <tr>\n",
       "      <th>2</th>\n",
       "      <td>[314, 1612, 11, 340, 338, 1611, 286, 43244, 11...</td>\n",
       "      <td>[1, 1, 1, 1, 1, 1, 1, 1, 1, 1, 1, 1, 1, 1, 1, ...</td>\n",
       "    </tr>\n",
       "    <tr>\n",
       "      <th>3</th>\n",
       "      <td>[318, 407, 922, 329, 262, 1200, 2035, 13, 198,...</td>\n",
       "      <td>[1, 1, 1, 1, 1, 1, 1, 1, 1, 1, 1, 1, 1, 1, 1, ...</td>\n",
       "    </tr>\n",
       "    <tr>\n",
       "      <th>4</th>\n",
       "      <td>[198, 32, 25, 197, 1870, 11, 21480, 11, 314, 4...</td>\n",
       "      <td>[1, 1, 1, 1, 1, 1, 1, 1, 1, 1, 1, 1, 1, 1, 1, ...</td>\n",
       "    </tr>\n",
       "  </tbody>\n",
       "</table>\n",
       "</div>"
      ],
      "text/plain": [
       "                                           input_ids  \\\n",
       "0  [32, 25, 197, 40, 1101, 1654, 484, 389, 13, 19...   \n",
       "1  [6510, 11, 14104, 290, 27913, 13, 198, 32, 25,...   \n",
       "2  [314, 1612, 11, 340, 338, 1611, 286, 43244, 11...   \n",
       "3  [318, 407, 922, 329, 262, 1200, 2035, 13, 198,...   \n",
       "4  [198, 32, 25, 197, 1870, 11, 21480, 11, 314, 4...   \n",
       "\n",
       "                                      attention_mask  \n",
       "0  [1, 1, 1, 1, 1, 1, 1, 1, 1, 1, 1, 1, 1, 1, 1, ...  \n",
       "1  [1, 1, 1, 1, 1, 1, 1, 1, 1, 1, 1, 1, 1, 1, 1, ...  \n",
       "2  [1, 1, 1, 1, 1, 1, 1, 1, 1, 1, 1, 1, 1, 1, 1, ...  \n",
       "3  [1, 1, 1, 1, 1, 1, 1, 1, 1, 1, 1, 1, 1, 1, 1, ...  \n",
       "4  [1, 1, 1, 1, 1, 1, 1, 1, 1, 1, 1, 1, 1, 1, 1, ...  "
      ]
     },
     "execution_count": 18,
     "metadata": {},
     "output_type": "execute_result"
    }
   ],
   "source": [
    "df_train.head()"
   ]
  },
  {
   "cell_type": "markdown",
   "id": "664dce0b",
   "metadata": {},
   "source": [
    "## Define the model"
   ]
  },
  {
   "cell_type": "code",
   "execution_count": 42,
   "id": "f9544655",
   "metadata": {},
   "outputs": [],
   "source": [
    "def check_nan(tensor, name):\n",
    "    if torch.isnan(tensor).any():\n",
    "        print(f\"NaN detected in {name}\")\n",
    "        return True\n",
    "    return False"
   ]
  },
  {
   "cell_type": "code",
   "execution_count": 73,
   "id": "bd2b568e",
   "metadata": {},
   "outputs": [],
   "source": [
    "\n",
    "from transformers import GPT2Config, GPT2LMHeadModel\n",
    "\n",
    "class CustomGPT2Model(nn.Module):\n",
    "    def __init__(self, config):\n",
    "        super().__init__()\n",
    "        self.transformer = GPT2LMHeadModel(config)\n",
    "        self.embed_norm = nn.LayerNorm(config.n_embd)\n",
    "        \n",
    "    def forward(self, inputs_embeds, attention_mask=None, labels=None):\n",
    "        # Check input\n",
    "        if check_nan(inputs_embeds, \"input embeddings\"):\n",
    "            return None\n",
    "\n",
    "        # Normalize input embeddings\n",
    "        inputs_embeds = self.embed_norm(inputs_embeds)\n",
    "        if check_nan(inputs_embeds, \"normalized embeddings\"):\n",
    "            return None\n",
    "\n",
    "        if attention_mask is not None:\n",
    "            # Convert to float and unsqueeze to add broadcast dimensions\n",
    "            attention_mask = attention_mask.to(dtype=inputs_embeds.dtype).unsqueeze(1).unsqueeze(2)\n",
    "            # Create a causal mask that will be added to the attention scores\n",
    "            seq_length = inputs_embeds.size(1)\n",
    "            causal_mask = torch.tril(torch.ones((seq_length, seq_length), dtype=attention_mask.dtype, device=attention_mask.device))\n",
    "            causal_mask = causal_mask.unsqueeze(0).unsqueeze(0)\n",
    "            attention_mask = attention_mask * causal_mask\n",
    "            attention_mask = (1.0 - attention_mask) * torch.finfo(inputs_embeds.dtype).min\n",
    "            \n",
    "        # Forward pass through each layer\n",
    "        hidden_states = inputs_embeds\n",
    "        for i, layer in enumerate(self.transformer.transformer.h):\n",
    "            outputs = layer(hidden_states, attention_mask=attention_mask)\n",
    "            hidden_states = outputs[0]\n",
    "            if check_nan(hidden_states, f\"layer {i} output\"):\n",
    "                return None\n",
    "\n",
    "        # Final layer norm\n",
    "        hidden_states = self.transformer.transformer.ln_f(hidden_states)\n",
    "        if check_nan(hidden_states, \"final layer norm\"):\n",
    "            return None\n",
    "\n",
    "        # Language model head\n",
    "        lm_logits = self.transformer.lm_head(hidden_states)\n",
    "        if check_nan(lm_logits, \"lm_logits\"):\n",
    "            return None\n",
    "\n",
    "        loss = None\n",
    "        if labels is not None:\n",
    "            # Compute loss\n",
    "            loss_fct = nn.CrossEntropyLoss()\n",
    "            loss = loss_fct(lm_logits.view(-1, lm_logits.size(-1)), labels.view(-1))\n",
    "            if check_nan(loss, \"loss\"):\n",
    "                return None\n",
    "\n",
    "        return lm_logits, loss\n",
    "\n",
    "\n",
    "config = GPT2Config.from_pretrained('distilgpt2')\n",
    "model = CustomGPT2Model(config)\n",
    "\n",
    "\n",
    "\n",
    "\n"
   ]
  },
  {
   "cell_type": "code",
   "execution_count": 74,
   "id": "beca3e94",
   "metadata": {},
   "outputs": [],
   "source": [
    "def init_weights(module):\n",
    "    if isinstance(module, (nn.Linear, nn.Embedding)):\n",
    "        module.weight.data.normal_(mean=0.0, std=0.02)\n",
    "        if isinstance(module, nn.Linear) and module.bias is not None:\n",
    "            module.bias.data.zero_()\n"
   ]
  },
  {
   "cell_type": "code",
   "execution_count": 75,
   "id": "4e3cbbbe",
   "metadata": {},
   "outputs": [],
   "source": [
    "model.apply(init_weights)\n",
    "model = torch.compile(model)"
   ]
  },
  {
   "cell_type": "code",
   "execution_count": 76,
   "id": "5f338a3b",
   "metadata": {},
   "outputs": [],
   "source": [
    "def compute_loss(logits, labels, epsilon=1e-8):\n",
    "    return F.cross_entropy(logits.view(-1, logits.size(-1)), labels.view(-1), reduction='mean', ignore_index=-100)"
   ]
  },
  {
   "cell_type": "code",
   "execution_count": 77,
   "id": "ce228fbe",
   "metadata": {},
   "outputs": [],
   "source": [
    "# import torch\n",
    "# import torch.nn.functional as F\n",
    "\n",
    "# def compute_loss(logits, labels, ignore_index=-100):\n",
    "#     # Check for NaN values in logits\n",
    "#     if torch.isnan(logits).any():\n",
    "#         print(\"NaN detected in logits\")\n",
    "#         return torch.tensor(0.0, requires_grad=True)  # Return a zero loss that's still differentiable\n",
    "\n",
    "#     # Clip logits to prevent extreme values\n",
    "#     logits_clipped = torch.clamp(logits, min=-100, max=100)\n",
    "\n",
    "#     # Compute the cross-entropy loss\n",
    "#     loss = F.cross_entropy(logits_clipped.view(-1, logits_clipped.size(-1)), labels.view(-1), reduction='mean', ignore_index=ignore_index)\n",
    "\n",
    "#     # Final NaN check\n",
    "#     if torch.isnan(loss):\n",
    "#         print(\"NaN detected in final loss computation\")\n",
    "#         return torch.tensor(0.0, requires_grad=True)  # Return a zero loss that's still differentiable\n",
    "\n",
    "#     return loss\n"
   ]
  },
  {
   "cell_type": "code",
   "execution_count": 78,
   "id": "8e76909a",
   "metadata": {},
   "outputs": [
    {
     "data": {
      "text/plain": [
       "525"
      ]
     },
     "execution_count": 78,
     "metadata": {},
     "output_type": "execute_result"
    }
   ],
   "source": [
    "len(df_train)"
   ]
  },
  {
   "cell_type": "markdown",
   "id": "c9b624aa",
   "metadata": {},
   "source": [
    "### Data loaders and Dataset for batched training"
   ]
  },
  {
   "cell_type": "code",
   "execution_count": 79,
   "id": "99082754",
   "metadata": {},
   "outputs": [],
   "source": [
    "embed_config = AutoConfig.from_pretrained('distilgpt2')\n",
    "    # Initialize the model with random weights\n",
    "embed_model = AutoModelForCausalLM.from_config(embed_config)\n"
   ]
  },
  {
   "cell_type": "code",
   "execution_count": 80,
   "id": "528bf929",
   "metadata": {},
   "outputs": [],
   "source": [
    "class dataset_pyt_train(Dataset):\n",
    "    def __init__(self, df, B = B, T = T, model = embed_model ):\n",
    "        self.df = df\n",
    "                                        \n",
    "    def __getitem__(self, idx):\n",
    "        #print(f\"************* idx for dataloader = {idx}\")\n",
    "        embed_model.to(device)\n",
    "        \n",
    "        input_id_temp = torch.tensor(self.df.iloc[idx]['input_ids'],dtype = torch.long).to(device)\n",
    "        att_mask = torch.tensor(self.df.iloc[idx]['attention_mask']).to(device)\n",
    "               \n",
    "        inp_emb = embed_model.transformer.wte(input_id_temp)\n",
    "        inp_emb =   inp_emb.view(-1,T,768)    \n",
    "        attention_mask = att_mask.view(B,T)   \n",
    "        labels = input_id_temp.view(B,T)\n",
    "        #print(f\"inside train dataloader|Model device = {model.device}|inp_emb device = {inp_emb.device}\")\n",
    "        return inp_emb, attention_mask,labels\n",
    "        \n",
    "        \n",
    "               \n",
    "    def __len__(self):\n",
    "        #return the length of the dataframe\n",
    "        return len(self.df)"
   ]
  },
  {
   "cell_type": "code",
   "execution_count": 81,
   "id": "955d61a0",
   "metadata": {},
   "outputs": [],
   "source": [
    "class dataset_pyt_val(Dataset):\n",
    "    \"\"\"Dataset for validation data\"\"\"\n",
    "    def __init__(self, df, B = B, T = T, model = embed_model ):\n",
    "        self.df = df\n",
    "        print(f\"Value of B {B}\")\n",
    "                                        \n",
    "    def __getitem__(self, idx):\n",
    "        embed_model.to(device)\n",
    "        input_id_temp = torch.tensor(self.df.iloc[idx]['input_ids'],dtype = torch.long).to(device)\n",
    "        att_mask = torch.tensor(self.df.iloc[idx]['attention_mask'],dtype = torch.long).to(device)\n",
    "               \n",
    "        inp_emb = embed_model.transformer.wte(input_id_temp)\n",
    "        inp_emb =   inp_emb.view(-1,T,768)    \n",
    "        attention_mask = att_mask.view(B,T)   \n",
    "        labels = input_id_temp.view(B,T)\n",
    "        \n",
    "        return inp_emb, attention_mask,labels\n",
    "        \n",
    "    def __len__(self):\n",
    "        #return the length of the dataframe\n",
    "        return len(self.df)"
   ]
  },
  {
   "cell_type": "code",
   "execution_count": 82,
   "id": "e78e5649",
   "metadata": {},
   "outputs": [],
   "source": [
    "def normalize_embeddings(embeddings):\n",
    "        # Compute mean and std across the embedding dimension\n",
    "        mean = embeddings.mean(dim=-1, keepdim=True)\n",
    "        std = embeddings.std(dim=-1, keepdim=True)\n",
    "        \n",
    "        # Normalize\n",
    "        normalized_embeddings = (embeddings - mean) / (std + 1e-8)  # Adding epsilon for numerical stability\n",
    "        \n",
    "        return normalized_embeddings"
   ]
  },
  {
   "cell_type": "markdown",
   "id": "77b6191a",
   "metadata": {},
   "source": [
    "### Note - batch_size is 1 here because we reshape our input data in the shape [B,T] for a batched training."
   ]
  },
  {
   "cell_type": "code",
   "execution_count": 83,
   "id": "b1ae650b",
   "metadata": {},
   "outputs": [
    {
     "name": "stdout",
     "output_type": "stream",
     "text": [
      "Value of B 32\n"
     ]
    }
   ],
   "source": [
    "#train_dataset = dataset_pyt(filtered_df,tokenizer = tokenizer)\n",
    "train_dataset = dataset_pyt_train(df_train)\n",
    "val_dataset = dataset_pyt_val(df_val)\n",
    "#test_dataset = dataset_pyt(df_test,tokenizer = tokenizer)\n",
    "\n",
    "train_loader = DataLoader(train_dataset,batch_size = 1, shuffle = True , num_workers = 0, pin_memory = False)\n",
    "val_loader = DataLoader(val_dataset,batch_size = 1, shuffle = True , num_workers = 0, pin_memory = False)\n",
    "#test_loader = DataLoader(test_dataset,batch_size = batch_size, shuffle = False, collate_fn = custom_collate_fn)\n"
   ]
  },
  {
   "cell_type": "code",
   "execution_count": 84,
   "id": "fdbbd678",
   "metadata": {},
   "outputs": [],
   "source": [
    "inp,att,lab = train_dataset[0]"
   ]
  },
  {
   "cell_type": "code",
   "execution_count": 85,
   "id": "61153acb",
   "metadata": {},
   "outputs": [
    {
     "name": "stdout",
     "output_type": "stream",
     "text": [
      "Length of the train loader is 525\n",
      "Length of the val loader is 532\n",
      "num_tokens= 17203200\n"
     ]
    }
   ],
   "source": [
    "print(f\"Length of the train loader is {len(train_loader)}\")\n",
    "print(f\"Length of the val loader is {len(val_loader)}\")\n",
    "print(f\"num_tokens= {B*T*len(train_loader)}\")"
   ]
  },
  {
   "cell_type": "code",
   "execution_count": 89,
   "id": "2306dd20",
   "metadata": {},
   "outputs": [
    {
     "name": "stdout",
     "output_type": "stream",
     "text": [
      "idx = 0| loss = 10.875960350036621\n",
      "idx = 1| loss = 10.936912536621094\n",
      "idx = 2| loss = 10.868163108825684\n",
      "idx = 3| loss = 10.891151428222656\n",
      "idx = 4| loss = 11.08642292022705\n",
      "idx = 5| loss = 10.858530044555664\n",
      "idx = 6| loss = 11.064950942993164\n",
      "idx = 7| loss = 11.105262756347656\n",
      "idx = 8| loss = 10.910859107971191\n",
      "idx = 9| loss = 10.915419578552246\n",
      "idx = 10| loss = 11.10057258605957\n",
      "idx = 11| loss = 10.902077674865723\n",
      "idx = 12| loss = 10.932374954223633\n",
      "idx = 13| loss = 11.086270332336426\n",
      "idx = 14| loss = 10.907896995544434\n",
      "idx = 15| loss = 10.88983154296875\n",
      "idx = 16| loss = 11.103506088256836\n",
      "idx = 17| loss = 10.925581932067871\n",
      "idx = 18| loss = 10.886225700378418\n",
      "idx = 19| loss = 10.890776634216309\n",
      "idx = 20| loss = 10.905366897583008\n",
      "idx = 21| loss = 10.886991500854492\n",
      "idx = 22| loss = 10.926131248474121\n",
      "idx = 23| loss = 11.137581825256348\n",
      "idx = 24| loss = 10.893129348754883\n",
      "idx = 25| loss = 10.902342796325684\n",
      "idx = 26| loss = 10.834160804748535\n",
      "idx = 27| loss = 10.88162612915039\n",
      "idx = 28| loss = 10.941727638244629\n",
      "idx = 29| loss = 10.8775053024292\n",
      "idx = 30| loss = 10.890859603881836\n",
      "idx = 31| loss = 11.105405807495117\n",
      "idx = 32| loss = 10.816727638244629\n",
      "idx = 33| loss = 10.896397590637207\n",
      "idx = 34| loss = 10.93661117553711\n",
      "idx = 35| loss = 11.144965171813965\n",
      "idx = 36| loss = 10.945207595825195\n",
      "idx = 37| loss = 10.946438789367676\n",
      "idx = 38| loss = 11.099078178405762\n",
      "idx = 39| loss = 10.959720611572266\n",
      "idx = 40| loss = 10.841383934020996\n",
      "idx = 41| loss = 10.932767868041992\n",
      "idx = 42| loss = 10.905435562133789\n",
      "idx = 43| loss = 11.018134117126465\n",
      "idx = 44| loss = 10.933523178100586\n",
      "idx = 45| loss = 11.029631614685059\n",
      "idx = 46| loss = 11.11847972869873\n",
      "idx = 47| loss = 10.905925750732422\n",
      "idx = 48| loss = 10.901569366455078\n",
      "idx = 49| loss = 11.047698974609375\n",
      "idx = 50| loss = 10.859344482421875\n",
      "idx = 51| loss = 11.059090614318848\n",
      "idx = 52| loss = 10.904255867004395\n",
      "idx = 53| loss = 11.03336238861084\n",
      "idx = 54| loss = 10.90556812286377\n",
      "idx = 55| loss = 11.130602836608887\n",
      "idx = 56| loss = 11.071394920349121\n",
      "idx = 57| loss = 10.932093620300293\n",
      "idx = 58| loss = 11.058015823364258\n",
      "idx = 59| loss = 10.937273025512695\n",
      "idx = 60| loss = 11.042052268981934\n",
      "idx = 61| loss = 10.946534156799316\n",
      "idx = 62| loss = 11.108651161193848\n",
      "idx = 63| loss = 11.154036521911621\n",
      "idx = 64| loss = 10.865304946899414\n",
      "idx = 65| loss = 10.897348403930664\n",
      "idx = 66| loss = 10.889266967773438\n",
      "idx = 67| loss = 11.046104431152344\n",
      "idx = 68| loss = 11.093685150146484\n",
      "idx = 69| loss = 11.083518028259277\n",
      "idx = 70| loss = 10.867048263549805\n",
      "idx = 71| loss = 10.895047187805176\n",
      "idx = 72| loss = 10.945303916931152\n",
      "idx = 73| loss = 10.899847984313965\n",
      "idx = 74| loss = 11.0609769821167\n",
      "idx = 75| loss = 10.876367568969727\n",
      "idx = 76| loss = 10.957111358642578\n",
      "idx = 77| loss = 11.106231689453125\n",
      "idx = 78| loss = 10.919088363647461\n",
      "idx = 79| loss = 11.146279335021973\n",
      "idx = 80| loss = 10.90896224975586\n",
      "idx = 81| loss = 10.884669303894043\n",
      "idx = 82| loss = 11.048235893249512\n",
      "idx = 83| loss = 10.874516487121582\n",
      "idx = 84| loss = 10.848230361938477\n",
      "idx = 85| loss = 11.021988868713379\n",
      "idx = 86| loss = 10.876537322998047\n",
      "idx = 87| loss = 11.049318313598633\n",
      "idx = 88| loss = 11.06826400756836\n",
      "idx = 89| loss = 10.852680206298828\n",
      "idx = 90| loss = 10.957845687866211\n",
      "idx = 91| loss = 11.074807167053223\n",
      "idx = 92| loss = 10.837233543395996\n",
      "idx = 93| loss = 11.075921058654785\n",
      "idx = 94| loss = 10.918952941894531\n",
      "idx = 95| loss = 10.838827133178711\n",
      "idx = 96| loss = 11.096739768981934\n",
      "idx = 97| loss = 10.959308624267578\n",
      "idx = 98| loss = 10.906222343444824\n",
      "idx = 99| loss = 11.09811782836914\n",
      "idx = 100| loss = 10.943193435668945\n",
      "idx = 101| loss = 11.09220027923584\n",
      "idx = 102| loss = 10.882497787475586\n",
      "idx = 103| loss = 10.860907554626465\n",
      "idx = 104| loss = 10.88223934173584\n",
      "idx = 105| loss = 10.893756866455078\n",
      "idx = 106| loss = 10.892991065979004\n",
      "idx = 107| loss = 11.080379486083984\n",
      "idx = 108| loss = 10.88007926940918\n",
      "idx = 109| loss = 11.094982147216797\n",
      "idx = 110| loss = 11.10165023803711\n",
      "idx = 111| loss = 11.096857070922852\n",
      "idx = 112| loss = 10.899164199829102\n",
      "idx = 113| loss = 11.08165454864502\n",
      "idx = 114| loss = 10.926377296447754\n",
      "idx = 115| loss = 10.923712730407715\n",
      "idx = 116| loss = 10.920989990234375\n",
      "idx = 117| loss = 10.927685737609863\n",
      "idx = 118| loss = 10.870566368103027\n",
      "idx = 119| loss = 10.903494834899902\n",
      "idx = 120| loss = 11.065284729003906\n",
      "idx = 121| loss = 10.903553009033203\n",
      "idx = 122| loss = 11.06712532043457\n",
      "idx = 123| loss = 11.102487564086914\n",
      "idx = 124| loss = 10.898566246032715\n",
      "idx = 125| loss = 11.127446174621582\n",
      "idx = 126| loss = 11.101698875427246\n",
      "idx = 127| loss = 10.874556541442871\n",
      "idx = 128| loss = 10.88152027130127\n",
      "idx = 129| loss = 10.900886535644531\n",
      "idx = 130| loss = 10.932719230651855\n",
      "idx = 131| loss = 11.080449104309082\n",
      "idx = 132| loss = 11.134053230285645\n",
      "idx = 133| loss = 11.117615699768066\n",
      "idx = 134| loss = 10.939481735229492\n",
      "idx = 135| loss = 11.131266593933105\n",
      "idx = 136| loss = 10.855801582336426\n",
      "idx = 137| loss = 11.077301025390625\n",
      "idx = 138| loss = 10.839558601379395\n",
      "idx = 139| loss = 10.942519187927246\n",
      "idx = 140| loss = 11.13358211517334\n",
      "idx = 141| loss = 10.902369499206543\n",
      "idx = 142| loss = 10.903019905090332\n",
      "idx = 143| loss = 10.934836387634277\n",
      "idx = 144| loss = 10.884212493896484\n",
      "idx = 145| loss = 10.930192947387695\n",
      "idx = 146| loss = 11.153670310974121\n",
      "idx = 147| loss = 10.904194831848145\n",
      "idx = 148| loss = 10.910348892211914\n",
      "idx = 149| loss = 11.041463851928711\n",
      "idx = 150| loss = 10.872264862060547\n",
      "idx = 151| loss = 11.157183647155762\n",
      "idx = 152| loss = 10.928372383117676\n",
      "idx = 153| loss = 10.856762886047363\n",
      "idx = 154| loss = 11.146624565124512\n",
      "idx = 155| loss = 11.066421508789062\n",
      "idx = 156| loss = 10.914237022399902\n",
      "idx = 157| loss = 11.086554527282715\n",
      "idx = 158| loss = 11.086434364318848\n",
      "idx = 159| loss = 11.119184494018555\n",
      "idx = 160| loss = 11.075372695922852\n",
      "idx = 161| loss = 10.9107084274292\n",
      "idx = 162| loss = 10.93928337097168\n",
      "idx = 163| loss = 11.091043472290039\n",
      "idx = 164| loss = 10.9345703125\n",
      "idx = 165| loss = 10.917128562927246\n",
      "idx = 166| loss = 11.048212051391602\n",
      "idx = 167| loss = 11.113828659057617\n",
      "idx = 168| loss = 11.105143547058105\n",
      "idx = 169| loss = 10.851980209350586\n",
      "idx = 170| loss = 10.83730411529541\n",
      "idx = 171| loss = 11.15165901184082\n",
      "idx = 172| loss = 11.091747283935547\n",
      "idx = 173| loss = 10.897139549255371\n",
      "idx = 174| loss = 10.847299575805664\n",
      "idx = 175| loss = 11.090803146362305\n",
      "idx = 176| loss = 11.063304901123047\n",
      "idx = 177| loss = 11.09314250946045\n",
      "idx = 178| loss = 11.104724884033203\n",
      "idx = 179| loss = 10.985218048095703\n",
      "idx = 180| loss = 10.942328453063965\n",
      "idx = 181| loss = 10.949438095092773\n",
      "idx = 182| loss = 10.88540267944336\n",
      "idx = 183| loss = 11.077693939208984\n",
      "idx = 184| loss = 10.89852523803711\n",
      "idx = 185| loss = 10.867717742919922\n",
      "idx = 186| loss = 11.106847763061523\n",
      "idx = 187| loss = 11.094106674194336\n",
      "idx = 188| loss = 11.102265357971191\n",
      "idx = 189| loss = 10.959336280822754\n",
      "idx = 190| loss = 10.873040199279785\n",
      "idx = 191| loss = 11.086231231689453\n",
      "idx = 192| loss = 11.113168716430664\n",
      "idx = 193| loss = 10.962581634521484\n",
      "idx = 194| loss = 10.88796329498291\n",
      "idx = 195| loss = 10.942963600158691\n",
      "idx = 196| loss = 10.976157188415527\n",
      "idx = 197| loss = 10.928037643432617\n",
      "idx = 198| loss = 11.129368782043457\n",
      "idx = 199| loss = 11.108232498168945\n",
      "idx = 200| loss = 10.848274230957031\n",
      "idx = 201| loss = 10.869734764099121\n",
      "idx = 202| loss = 10.930672645568848\n",
      "idx = 203| loss = 10.914105415344238\n",
      "idx = 204| loss = 10.905081748962402\n",
      "idx = 205| loss = 11.115212440490723\n",
      "idx = 206| loss = 10.92744255065918\n",
      "idx = 207| loss = 11.075262069702148\n",
      "idx = 208| loss = 10.953604698181152\n",
      "idx = 209| loss = 10.883831024169922\n",
      "idx = 210| loss = 11.107407569885254\n",
      "idx = 211| loss = 11.11915397644043\n",
      "idx = 212| loss = 10.93464183807373\n",
      "idx = 213| loss = 10.822219848632812\n",
      "idx = 214| loss = 10.858266830444336\n",
      "idx = 215| loss = 10.928912162780762\n",
      "idx = 216| loss = 10.862894058227539\n",
      "idx = 217| loss = 10.820834159851074\n",
      "idx = 218| loss = 10.902364730834961\n",
      "idx = 219| loss = 10.93345832824707\n",
      "idx = 220| loss = 11.059167861938477\n",
      "idx = 221| loss = 10.873369216918945\n",
      "idx = 222| loss = 10.886876106262207\n",
      "idx = 223| loss = 10.964598655700684\n",
      "idx = 224| loss = 11.091154098510742\n",
      "idx = 225| loss = 11.04459285736084\n",
      "idx = 226| loss = 10.945601463317871\n",
      "idx = 227| loss = 11.085289001464844\n",
      "idx = 228| loss = 10.89877700805664\n",
      "idx = 229| loss = 10.95606803894043\n",
      "idx = 230| loss = 10.912625312805176\n",
      "idx = 231| loss = 11.063741683959961\n",
      "idx = 232| loss = 10.822704315185547\n",
      "idx = 233| loss = 10.872803688049316\n",
      "idx = 234| loss = 10.913859367370605\n",
      "idx = 235| loss = 10.91212272644043\n",
      "idx = 236| loss = 11.094717025756836\n",
      "idx = 237| loss = 11.051589012145996\n",
      "idx = 238| loss = 10.851394653320312\n",
      "idx = 239| loss = 11.103642463684082\n",
      "idx = 240| loss = 11.06959342956543\n",
      "idx = 241| loss = 11.041735649108887\n",
      "idx = 242| loss = 11.09640121459961\n",
      "idx = 243| loss = 11.031365394592285\n",
      "idx = 244| loss = 10.854310989379883\n",
      "idx = 245| loss = 10.93087100982666\n",
      "idx = 246| loss = 11.016961097717285\n",
      "idx = 247| loss = 10.950037956237793\n",
      "idx = 248| loss = 11.056455612182617\n",
      "idx = 249| loss = 11.068220138549805\n",
      "idx = 250| loss = 10.859031677246094\n",
      "idx = 251| loss = 10.849056243896484\n",
      "idx = 252| loss = 10.959269523620605\n",
      "idx = 253| loss = 10.92575454711914\n",
      "idx = 254| loss = 10.89423656463623\n",
      "idx = 255| loss = 11.138620376586914\n",
      "idx = 256| loss = 11.057113647460938\n",
      "idx = 257| loss = 11.102601051330566\n",
      "idx = 258| loss = 10.909012794494629\n",
      "idx = 259| loss = 10.87600040435791\n",
      "idx = 260| loss = 10.82500171661377\n",
      "idx = 261| loss = 11.111775398254395\n",
      "idx = 262| loss = 10.943990707397461\n",
      "idx = 263| loss = 10.93675708770752\n",
      "idx = 264| loss = 10.894989967346191\n",
      "idx = 265| loss = 10.882863998413086\n",
      "idx = 266| loss = 11.107328414916992\n",
      "NaN detected in layer 0 output\n"
     ]
    },
    {
     "ename": "TypeError",
     "evalue": "cannot unpack non-iterable NoneType object",
     "output_type": "error",
     "traceback": [
      "\u001b[0;31m---------------------------------------------------------------------------\u001b[0m",
      "\u001b[0;31mTypeError\u001b[0m                                 Traceback (most recent call last)",
      "\u001b[0;32m/tmp/ipykernel_134360/3083253723.py\u001b[0m in \u001b[0;36m<module>\u001b[0;34m\u001b[0m\n\u001b[1;32m     11\u001b[0m     \u001b[0;31m#with autocast(dtype = torch.bfloat16):\u001b[0m\u001b[0;34m\u001b[0m\u001b[0;34m\u001b[0m\u001b[0;34m\u001b[0m\u001b[0m\n\u001b[1;32m     12\u001b[0m     \u001b[0;31m#print(f\"pre_mean_embeddings ={pre_mean_embeddings}| post_mean_embedding = {post_mean_embedding}\")\u001b[0m\u001b[0;34m\u001b[0m\u001b[0;34m\u001b[0m\u001b[0;34m\u001b[0m\u001b[0m\n\u001b[0;32m---> 13\u001b[0;31m     \u001b[0mlogits\u001b[0m\u001b[0;34m,\u001b[0m\u001b[0mloss\u001b[0m \u001b[0;34m=\u001b[0m \u001b[0mmodel\u001b[0m\u001b[0;34m(\u001b[0m\u001b[0minputs_embeds\u001b[0m \u001b[0;34m=\u001b[0m \u001b[0minp_embedding\u001b[0m \u001b[0;34m,\u001b[0m\u001b[0mattention_mask\u001b[0m \u001b[0;34m=\u001b[0m \u001b[0matt_mask\u001b[0m\u001b[0;34m,\u001b[0m \u001b[0mlabels\u001b[0m \u001b[0;34m=\u001b[0m \u001b[0;32mNone\u001b[0m\u001b[0;34m)\u001b[0m\u001b[0;34m\u001b[0m\u001b[0;34m\u001b[0m\u001b[0m\n\u001b[0m\u001b[1;32m     14\u001b[0m     \u001b[0;31m#print(f\" model_output = {model_output.loss}\")\u001b[0m\u001b[0;34m\u001b[0m\u001b[0;34m\u001b[0m\u001b[0;34m\u001b[0m\u001b[0m\n\u001b[1;32m     15\u001b[0m     \u001b[0mloss\u001b[0m \u001b[0;34m=\u001b[0m \u001b[0mcompute_loss\u001b[0m\u001b[0;34m(\u001b[0m\u001b[0mlogits\u001b[0m\u001b[0;34m,\u001b[0m \u001b[0mlabels\u001b[0m\u001b[0;34m)\u001b[0m\u001b[0;34m\u001b[0m\u001b[0;34m\u001b[0m\u001b[0m\n",
      "\u001b[0;31mTypeError\u001b[0m: cannot unpack non-iterable NoneType object"
     ]
    }
   ],
   "source": [
    "#read a row of dataframe\n",
    "model.to(device)\n",
    "for ind,(embed,attention_mask, lab) in enumerate(train_loader):\n",
    "    inp_embedding = embed.to(device=device, non_blocking=True)\n",
    "    inp_embedding = torch.squeeze(inp_embedding, dim = 0)\n",
    "    att_mask = attention_mask.to(device=device, non_blocking=True).to(dtype=torch.bool)\n",
    "    att_mask = torch.squeeze(att_mask, dim = 0)\n",
    "    labels = lab.to(device)\n",
    "    labels = torch.squeeze(labels, dim = 0)\n",
    "    #print(f\"shapes=  |inp_embedding {inp_embedding.shape}|att_mask = {att_mask.shape}\")\n",
    "    #with autocast(dtype = torch.bfloat16):\n",
    "    #print(f\"pre_mean_embeddings ={pre_mean_embeddings}| post_mean_embedding = {post_mean_embedding}\")\n",
    "    logits,loss = model(inputs_embeds = inp_embedding ,attention_mask = att_mask, labels = None)\n",
    "    #print(f\" model_output = {model_output.loss}\")\n",
    "    loss = compute_loss(logits, labels)\n",
    "    print(f\"idx = {ind}| loss = {loss}\")"
   ]
  },
  {
   "cell_type": "code",
   "execution_count": null,
   "id": "2b7725d2",
   "metadata": {},
   "outputs": [],
   "source": [
    "def write_file(log_message, model_name = model_name ,random_init_wts = random_init_wts ):\n",
    "    \"\"\"This function logs the training performance for future reference\"\"\"\n",
    "    current_datetime = datetime.datetime.now()\n",
    "    # Extract date and time components\n",
    "    current_date = str(current_datetime.date())\n",
    "    log_file = model_name +'_Random_init_nll_and_cos_loss'+'random_init_wts'+ '_'+str(random_init_wts)+'_' +current_date+'.log'\n",
    "    print(f\"*****LOGGING INFO IN {log_file}*********\")\n",
    "    filepath = os.path.join(\"model\",log_file)\n",
    "    logging.basicConfig(filename=filepath, \n",
    "                    filemode='a',  # Overwrite the log file each time\n",
    "                    format='%(asctime)s - %(levelname)s - %(message)s', \n",
    "                    level=logging.DEBUG)\n",
    "    logger = logging.getLogger()\n",
    "    logger.info(log_message)\n",
    "    \n",
    "    \n",
    "\n",
    "    \n",
    "    "
   ]
  },
  {
   "cell_type": "code",
   "execution_count": null,
   "id": "51a1af43",
   "metadata": {},
   "outputs": [],
   "source": [
    "class check_train_metrics:\n",
    "    def __init__(self, patience=10, min_delta=0 , B = T, T = T,best_loss = torch.inf,early_stop = False):\n",
    "        self.patience = patience\n",
    "        self.min_delta = min_delta\n",
    "        self.counter = 0\n",
    "        self.best_loss = best_loss\n",
    "        self.early_stop = early_stop\n",
    "        self.B = B\n",
    "        self.T = T\n",
    "        self.improvement = None\n",
    "\n",
    "    def __call__(self, loss, epoch , epoch_durn, norm , current_lr, num_token):\n",
    "        if self.best_loss - loss > self.min_delta:\n",
    "            \n",
    "            print(f\"training loss has decreased---> reducing the best loss from {self.best_loss:.2f} to {loss:.2f} | throughput = {int(num_token/epoch_durn)} tokens/second | norm = {norm:.4f} | learning rate = {current_lr:.5e}\")\n",
    "            self.best_loss = loss\n",
    "            self.counter = 0\n",
    "            self.improvement = True\n",
    "        else:\n",
    "            self.counter += 1\n",
    "            self.improvement = False\n",
    "            print(f\"No improvement in training  loss-->epoch= {epoch} and best loss is {self.best_loss:.2f}|current_loss = {loss}|counter = {self.counter}\")\n",
    "            if self.counter >= self.patience:\n",
    "                self.early_stop = True\n"
   ]
  },
  {
   "cell_type": "code",
   "execution_count": 58,
   "id": "a33296ca",
   "metadata": {},
   "outputs": [],
   "source": [
    "class check_val_metrics:\n",
    "    def __init__(self, patience=5, min_delta=0, best_loss = torch.inf,early_stop = False):\n",
    "        self.patience = patience\n",
    "        self.min_delta = min_delta\n",
    "        self.counter = 0\n",
    "        self.best_loss = best_loss\n",
    "        self.early_stop = early_stop\n",
    "        \n",
    "\n",
    "    def __call__(self, loss, epoch , model, tokenizer):\n",
    "        if self.best_loss - loss > self.min_delta:\n",
    "            print(f\"Val loss has decreased -->reducing the global validation loss from {self.best_loss:.2f} to {loss:.2f}\")\n",
    "            s1 = (f\"Val loss has decreased -->reducing the global validation loss from {self.best_loss:.2f} to {loss:.2f}\")\n",
    "            print(f\" validation loss for epoch = {epoch} is {loss:.4f}\")\n",
    "            self.best_loss = loss\n",
    "            s2 = f\" validation loss for epoch = {epoch} is {loss:.4f}\"\n",
    "            print(f\" epoch= {epoch} :  val loss is {loss:.4f} \")\n",
    "            s3 = f\" epoch= {epoch} :  val loss is {loss:.4f} \"\n",
    "            #save the model\n",
    "            # Get the current date and time\n",
    "            current_datetime = datetime.datetime.now()\n",
    "            # Extract date and time components\n",
    "            current_date = str(current_datetime.date())\n",
    "            current_time = str(current_datetime.time()).split('.')[0]\n",
    "            file_name = 'model'+ current_date+current_time+'.pth'\n",
    "            path = os.path.join(\"model\",file_name)\n",
    "            print(f\"saving the model {file_name}\")\n",
    "            s4 = f\"saving the model {file_name}\"\n",
    "            #torch.save(model.state_dict(), path)\n",
    "            model.save_pretrained(path)\n",
    "            tokenizer.save_pretrained(path)\n",
    "            log_message = s1+s2+s3+s4\n",
    "            write_file(log_message)\n",
    "            self.counter = 0\n",
    "        else:\n",
    "            self.counter += 1\n",
    "            print(f\"No improvement in validation loss-->epoch= {epoch} and best val loss is {self.best_loss:.2f}|current_Val loss = {loss}|counter = {self.counter}\")\n",
    "            if self.counter >= self.patience:\n",
    "                self.early_stop = True\n",
    "\n",
    "\n",
    "\n"
   ]
  },
  {
   "cell_type": "code",
   "execution_count": 59,
   "id": "643aa0f8",
   "metadata": {},
   "outputs": [],
   "source": [
    "def check_nan(tensor, name):\n",
    "    if torch.isnan(tensor).any():\n",
    "        print(f\"NaN detected in {name}\")\n",
    "        return True\n",
    "    return False"
   ]
  },
  {
   "cell_type": "code",
   "execution_count": 60,
   "id": "4d5eacce",
   "metadata": {},
   "outputs": [],
   "source": [
    "@torch.no_grad\n",
    "\n",
    "def eval_model(val_loader, model, epoch , device = device,tokenizer = tokenizer,nll_learning_steps = nll_learning_steps):\n",
    "    model.eval()\n",
    "    model.to(device)\n",
    "    e = epoch+1\n",
    "    embedding_layer = model.transformer.wte\n",
    "    val_loss_accum = 0.0\n",
    "    print(f\"inside validation data for epoch {e}\")\n",
    "    for ind,(embed,attention_mask, lab) in enumerate(val_loader):\n",
    "        inp_embedding = embed.to(device=device, non_blocking=True)\n",
    "        inp_embedding = torch.squeeze(inp_embedding, dim = 0)\n",
    "        att_mask = attention_mask.to(device=device, non_blocking=True)\n",
    "        att_mask = torch.squeeze(att_mask, dim = 0)\n",
    "        labels = lab.to(device)\n",
    "        labels = torch.squeeze(labels, dim = 0)\n",
    "        post_mean_embedding = normalize_embeddings(inp_embedding)\n",
    "        if ind < nll_learning_steps:\n",
    "            with autocast(dtype = torch.bfloat16):\n",
    "                model_output = model(inputs_embeds = post_mean_embedding.to(device) ,attention_mask = att_mask, labels = None)\n",
    "                total_loss = compute_loss(model_output.logits, labels)\n",
    "                                \n",
    "           \n",
    "        else:\n",
    "            with autocast(dtype = torch.bfloat16):\n",
    "                model_output = model(inputs_embeds = post_mean_embedding.to(device) ,attention_mask = att_mask, labels = None)\n",
    "                logits = model_output.logits\n",
    "                predictions = torch.argmax(logits, dim=-1)\n",
    "                #print(f\"predictions = {predictions}\")\n",
    "                prediction_embeddings = embedding_layer(predictions)\n",
    "                cos_sim = F.cosine_similarity(torch.squeeze(prediction_embeddings,dim = 0), torch.squeeze(input_embeddings,dim = 0), dim=1)\n",
    "                cos_loss = 1- cos_sim.mean()\n",
    "                total_loss = cos_loss\n",
    "                del input_embeddings,logits,predictions,cos_sim,cos_loss\n",
    "               \n",
    "        #print(f\"Loss value from val_data = {total_loss}\")\n",
    "        val_loss_accum+=total_loss.detach().item()\n",
    "        del inp_embedding,att_mask,labels,model_output,post_mean_embedding\n",
    "    return val_loss_accum\n",
    "        \n",
    "    \n",
    "    \n",
    "    \n"
   ]
  },
  {
   "cell_type": "code",
   "execution_count": 61,
   "id": "dcddeb0f",
   "metadata": {},
   "outputs": [],
   "source": [
    "def train_model(train_loader,val_loader,model,num_epoch = epoch,device = device,tokenizer = tokenizer,nll_learning_steps = nll_learning_steps):\n",
    "    model.train()\n",
    "    device = device\n",
    "    lr_custom = 1e-6\n",
    "    print(f\"inside train model. Device = {device}\")\n",
    "    model.to(device)\n",
    "    optimizer = torch.optim.AdamW(params =  model.parameters(), lr= lr_custom,fused = True ,weight_decay = .1)\n",
    "    total_batch_size = 2**19\n",
    "    grad_accum_step = total_batch_size//(B*T)\n",
    "    \n",
    "    extra_train = .1*num_epoch\n",
    "    max_train_steps = int(num_epoch +extra_train )\n",
    "    import time\n",
    "    from transformers import get_linear_schedule_with_warmup\n",
    "    total_steps = len(train_loader) * num_epoch\n",
    "    scheduler_cos = transformers.get_cosine_schedule_with_warmup( optimizer= optimizer, num_warmup_steps =int(total_steps * 0.1) ,num_training_steps= total_steps )\n",
    "        \n",
    "    epoch_train_log = []\n",
    "    epoch_val_log = []\n",
    "    validate_val_metric = check_val_metrics()\n",
    "    validate_train_metric = check_train_metrics(patience=5, min_delta=0 , B = T, T = T)\n",
    "        \n",
    "    for i in range (max_train_steps):\n",
    "        \n",
    "        epoch_start_time = time.time()\n",
    "        optimizer.zero_grad(set_to_none=True)\n",
    "        # we use 2 schedulers - the first LR scheduler uses a cosine decay for 100 epochs the second scheduler takes the last LR from cosine scheduler and then maintains that LR for the next 10 epochs\n",
    "        if i >= num_epoch:\n",
    "            optimizer_reduced_lr = torch.optim.AdamW(params =  model.parameters(), lr= current_lr ,fused = True , weight_decay=.1)\n",
    "            scheduler_constant = transformers.get_constant_schedule_with_warmup( optimizer = optimizer_reduced_lr ,num_warmup_steps = 0, last_epoch = -1 )\n",
    "        \n",
    "        epoch_train_loss = 0       \n",
    "        for ind,(embed,attention_mask, lab) in enumerate(train_loader):\n",
    "            if ind == int(len(train_loader)/2):\n",
    "                batch_time = time.time()\n",
    "                duration = batch_time - epoch_start_time\n",
    "                print(f\"executing epoch:{i+1}, it took {duration/60} mins from beginning of epoch till batch#{ind}\")\n",
    "            \n",
    "            inp_embedding = embed.to(device=device, non_blocking=True)\n",
    "            inp_embedding = torch.squeeze(inp_embedding, dim = 0)\n",
    "            att_mask = attention_mask.to(device=device, non_blocking=True)\n",
    "            att_mask = torch.squeeze(att_mask, dim = 0)\n",
    "            labels = lab.to(device)\n",
    "            labels = torch.squeeze(labels, dim = 0)\n",
    "            post_mean_embedding = normalize_embeddings(inp_embedding)\n",
    "            if check_nan(post_mean_embedding, \"embeddings\"):\n",
    "                continue\n",
    "            \n",
    "            if i < nll_learning_steps:\n",
    "                with autocast(dtype = torch.bfloat16):\n",
    "                    model_output = model(inputs_embeds = post_mean_embedding.to(device) ,attention_mask = att_mask, labels = None)\n",
    "                    loss = compute_loss(model_output.logits, labels)\n",
    "                    print(f\"ind = {ind}|post_mean_embedding mean = {post_mean_embedding.mean()}|logits mean = {model_output.logits.mean()}|loss = {loss}\")\n",
    "                    if torch.isnan(loss):\n",
    "                        print(\"f nan values encountered..\")\n",
    "                        decoded_text = []\n",
    "                        continue\n",
    "                    total_loss =loss \n",
    "                                \n",
    "            \n",
    "            else:\n",
    "                with autocast(dtype = torch.bfloat16):\n",
    "                    model_output = model(inputs_embeds = post_mean_embedding.to(device) ,attention_mask = att_mask, labels = None)\n",
    "                    logits = model_output.logits\n",
    "                    predictions = torch.argmax(logits, dim=-1)\n",
    "                    #print(f\"predictions = {predictions}\")\n",
    "                    prediction_embeddings = embedding_layer(predictions)\n",
    "                    cos_sim = F.cosine_similarity(torch.squeeze(prediction_embeddings,dim = 0), torch.squeeze(input_embeddings,dim = 0), dim=1)\n",
    "                    cos_loss = 1- cos_sim.mean()\n",
    "                    total_loss = cos_loss\n",
    "                del input_embeddings,logits,predictions,cos_sim,cos_loss\n",
    "                     \n",
    "            total_loss.backward()\n",
    "            epoch_train_loss += total_loss.detach().item()\n",
    "            norm = torch.nn.utils.clip_grad_norm(model.parameters() , 1.0)\n",
    "            if i <= num_epoch:\n",
    "                optimizer.step()\n",
    "                scheduler_cos.step()\n",
    "                optimizer.zero_grad(set_to_none=True)\n",
    "            else:\n",
    "                optimizer_reduced_lr.step()\n",
    "                optimizer_reduced_lr.zero_grad(set_to_none=True)\n",
    "                scheduler_constant.step()\n",
    "                \n",
    "                         \n",
    "            del att_mask,labels,model_output,post_mean_embedding\n",
    "            \n",
    "        #batch processing complete \n",
    "        #print(f\"batch processing complete , lambda = {lambda_val} |total_loss for batch= {total_loss}\")\n",
    "        \n",
    "        if i <= num_epoch:\n",
    "            current_lr = scheduler_cos.get_last_lr()[0]\n",
    "        epoch_end_time = time.time()\n",
    "        epoch_durn = (epoch_end_time - epoch_start_time)\n",
    "        num_token = B*T*len(train_loader)\n",
    "        epoch_train_log.append(epoch_train_loss)\n",
    "        validate_train_metric(epoch_train_loss, i , epoch_durn, norm , current_lr, num_token)\n",
    "        \n",
    "        if validate_train_metric.improvement:\n",
    "            val_loss= eval_model(val_loader, model, epoch = i, device = device,tokenizer = tokenizer)\n",
    "            epoch_val_log.append(val_loss)\n",
    "            validate_val_metric(val_loss, i , model, tokenizer)\n",
    "            if validate_train_metric.early_stop or validate_val_metric.early_stop :\n",
    "                print(f\"early stopping trigerred either from training data or val data | train_counter = {validate_train_metric.counter}|val_counter = {validate_val_metric.counter}\")\n",
    "                break\n",
    "        else:\n",
    "            if validate_val_metric.early_stop:\n",
    "                print(f\"early stopping trigerred from validation data\")\n",
    "                break\n",
    "              \n",
    "    \n",
    "    return model,epoch_train_log,epoch_val_log\n",
    "        \n",
    "            \n",
    "            \n",
    "    \n",
    "    "
   ]
  },
  {
   "cell_type": "code",
   "execution_count": null,
   "id": "5e89b2f8",
   "metadata": {},
   "outputs": [],
   "source": [
    "tr_model,epoch_train_log,epoch_val_log = train_model(train_loader, val_loader, model =  model,tokenizer = tokenizer)"
   ]
  },
  {
   "cell_type": "code",
   "execution_count": null,
   "id": "1f54e57d",
   "metadata": {},
   "outputs": [],
   "source": [
    "import json , os\n",
    "path_var_train_log = os.path.join(\".\",\"Tokenizers_and_loss_vals\",\"epoch_train_plain_loss.json\")\n",
    "path_var_val_log = os.path.join(\".\",\"Tokenizers_and_loss_vals\",\"epoch_val_val_loss_.json\")\n",
    "\n",
    "#print(path_var)\n",
    "#Write the list to a JSON file\n",
    "with open(path_var_train_log, \"w\") as file:\n",
    "    json.dump(epoch_train_log, file)\n",
    "\n",
    "with open(path_var_val_log, \"w\") as file:\n",
    "    json.dump(epoch_val_log, file)\n",
    "\n"
   ]
  },
  {
   "cell_type": "code",
   "execution_count": null,
   "id": "445efa53",
   "metadata": {},
   "outputs": [],
   "source": [
    "with open(path_var_train_log, \"r\") as file:\n",
    "    train_loss = json.load(file)\n",
    "with open(path_var_val_log, \"r\") as file:\n",
    "    val_loss = json.load(file)"
   ]
  },
  {
   "cell_type": "code",
   "execution_count": null,
   "id": "73ab0e22",
   "metadata": {},
   "outputs": [],
   "source": [
    "print(len(train_loss))\n",
    "print(len(val_loss))\n"
   ]
  },
  {
   "cell_type": "code",
   "execution_count": null,
   "id": "2502cafc",
   "metadata": {},
   "outputs": [],
   "source": [
    "x_values = range(len(train_loss))\n",
    "plt.plot(x_values, train_loss, label='Train_loss')"
   ]
  },
  {
   "cell_type": "code",
   "execution_count": null,
   "id": "9d5ba9cf",
   "metadata": {},
   "outputs": [],
   "source": [
    "x_values_val = range(len(val_loss))\n",
    "plt.plot(x_values_val, val_loss, label='val_loss')"
   ]
  },
  {
   "cell_type": "code",
   "execution_count": null,
   "id": "5e0b4161",
   "metadata": {},
   "outputs": [],
   "source": [
    "min_length = min(len(train_loss), len(val_loss))\n",
    "list1 = train_loss[:min_length]\n",
    "list2 = val_loss[:min_length]\n",
    "\n",
    "# Create x-axis values\n",
    "x_values = range(min_length)\n",
    "\n",
    "# Plot the lists\n",
    "plt.plot(x_values, list1, label='Train_loss')\n",
    "plt.plot(x_values, list2, label='Val_loss')\n",
    "\n",
    "# Adding labels and title\n",
    "plt.xlabel('Epoch')\n",
    "plt.ylabel('Value')\n",
    "plt.title('Train Loss and Val_Loss')\n",
    "plt.legend()"
   ]
  },
  {
   "cell_type": "code",
   "execution_count": null,
   "id": "2e80e2ec",
   "metadata": {},
   "outputs": [],
   "source": []
  },
  {
   "cell_type": "code",
   "execution_count": null,
   "id": "5db3c239",
   "metadata": {},
   "outputs": [],
   "source": []
  },
  {
   "cell_type": "code",
   "execution_count": null,
   "id": "910f23ca",
   "metadata": {},
   "outputs": [],
   "source": []
  },
  {
   "cell_type": "code",
   "execution_count": null,
   "id": "004a34c8",
   "metadata": {},
   "outputs": [],
   "source": []
  },
  {
   "cell_type": "code",
   "execution_count": null,
   "id": "04d13dd8",
   "metadata": {},
   "outputs": [],
   "source": []
  }
 ],
 "metadata": {
  "kernelspec": {
   "display_name": "Python 3 (ipykernel)",
   "language": "python",
   "name": "python3"
  },
  "language_info": {
   "codemirror_mode": {
    "name": "ipython",
    "version": 3
   },
   "file_extension": ".py",
   "mimetype": "text/x-python",
   "name": "python",
   "nbconvert_exporter": "python",
   "pygments_lexer": "ipython3",
   "version": "3.8.12"
  }
 },
 "nbformat": 4,
 "nbformat_minor": 5
}
