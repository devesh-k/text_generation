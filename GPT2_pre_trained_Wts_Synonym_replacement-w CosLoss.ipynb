{
 "cells": [
  {
   "cell_type": "code",
   "execution_count": null,
   "id": "d3c9c0dc",
   "metadata": {},
   "outputs": [],
   "source": [
    "## reference https://huggingface.co/learn/nlp-course/en/chapter7/6?fw=pt#training-a-causal-language-model-from-scratch"
   ]
  },
  {
   "cell_type": "code",
   "execution_count": null,
   "id": "1c0d293c",
   "metadata": {},
   "outputs": [],
   "source": []
  },
  {
   "cell_type": "code",
   "execution_count": 2,
   "id": "b3751dff",
   "metadata": {
    "scrolled": true
   },
   "outputs": [
    {
     "name": "stdout",
     "output_type": "stream",
     "text": [
      "Looking in indexes: https://pypi.org/simple, https://pypi.ngc.nvidia.com\n",
      "Requirement already satisfied: jupyter in /opt/conda/lib/python3.8/site-packages (1.0.0)\n",
      "Requirement already satisfied: ipywidgets in /opt/conda/lib/python3.8/site-packages (8.1.3)\n",
      "Requirement already satisfied: jupyter-console in /opt/conda/lib/python3.8/site-packages (from jupyter) (6.6.3)\n",
      "Requirement already satisfied: qtconsole in /opt/conda/lib/python3.8/site-packages (from jupyter) (5.5.2)\n",
      "Requirement already satisfied: notebook in /opt/conda/lib/python3.8/site-packages (from jupyter) (6.4.1)\n",
      "Requirement already satisfied: nbconvert in /opt/conda/lib/python3.8/site-packages (from jupyter) (6.3.0)\n",
      "Requirement already satisfied: ipykernel in /opt/conda/lib/python3.8/site-packages (from jupyter) (6.29.5)\n",
      "Requirement already satisfied: ipython>=6.1.0 in /opt/conda/lib/python3.8/site-packages (from ipywidgets) (7.30.0)\n",
      "Requirement already satisfied: jupyterlab-widgets~=3.0.11 in /opt/conda/lib/python3.8/site-packages (from ipywidgets) (3.0.11)\n",
      "Requirement already satisfied: traitlets>=4.3.1 in /opt/conda/lib/python3.8/site-packages (from ipywidgets) (5.14.3)\n",
      "Requirement already satisfied: widgetsnbextension~=4.0.11 in /opt/conda/lib/python3.8/site-packages (from ipywidgets) (4.0.11)\n",
      "Requirement already satisfied: comm>=0.1.3 in /opt/conda/lib/python3.8/site-packages (from ipywidgets) (0.2.2)\n",
      "Requirement already satisfied: matplotlib-inline in /opt/conda/lib/python3.8/site-packages (from ipython>=6.1.0->ipywidgets) (0.1.3)\n",
      "Requirement already satisfied: prompt-toolkit!=3.0.0,!=3.0.1,<3.1.0,>=2.0.0 in /opt/conda/lib/python3.8/site-packages (from ipython>=6.1.0->ipywidgets) (3.0.47)\n",
      "Requirement already satisfied: pickleshare in /opt/conda/lib/python3.8/site-packages (from ipython>=6.1.0->ipywidgets) (0.7.5)\n",
      "Requirement already satisfied: backcall in /opt/conda/lib/python3.8/site-packages (from ipython>=6.1.0->ipywidgets) (0.2.0)\n",
      "Requirement already satisfied: pexpect>4.3 in /opt/conda/lib/python3.8/site-packages (from ipython>=6.1.0->ipywidgets) (4.8.0)\n",
      "Requirement already satisfied: decorator in /opt/conda/lib/python3.8/site-packages (from ipython>=6.1.0->ipywidgets) (5.1.0)\n",
      "Requirement already satisfied: setuptools>=18.5 in /opt/conda/lib/python3.8/site-packages (from ipython>=6.1.0->ipywidgets) (59.4.0)\n",
      "Requirement already satisfied: jedi>=0.16 in /opt/conda/lib/python3.8/site-packages (from ipython>=6.1.0->ipywidgets) (0.18.1)\n",
      "Requirement already satisfied: pygments in /opt/conda/lib/python3.8/site-packages (from ipython>=6.1.0->ipywidgets) (2.10.0)\n",
      "Requirement already satisfied: parso<0.9.0,>=0.8.0 in /opt/conda/lib/python3.8/site-packages (from jedi>=0.16->ipython>=6.1.0->ipywidgets) (0.8.3)\n",
      "Requirement already satisfied: ptyprocess>=0.5 in /opt/conda/lib/python3.8/site-packages (from pexpect>4.3->ipython>=6.1.0->ipywidgets) (0.7.0)\n",
      "Requirement already satisfied: wcwidth in /opt/conda/lib/python3.8/site-packages (from prompt-toolkit!=3.0.0,!=3.0.1,<3.1.0,>=2.0.0->ipython>=6.1.0->ipywidgets) (0.2.5)\n",
      "Requirement already satisfied: psutil in /opt/conda/lib/python3.8/site-packages (from ipykernel->jupyter) (5.8.0)\n",
      "Requirement already satisfied: jupyter-core!=5.0.*,>=4.12 in /opt/conda/lib/python3.8/site-packages (from ipykernel->jupyter) (5.7.2)\n",
      "Requirement already satisfied: pyzmq>=24 in /opt/conda/lib/python3.8/site-packages (from ipykernel->jupyter) (26.0.3)\n",
      "Requirement already satisfied: tornado>=6.1 in /opt/conda/lib/python3.8/site-packages (from ipykernel->jupyter) (6.1)\n",
      "Requirement already satisfied: nest-asyncio in /opt/conda/lib/python3.8/site-packages (from ipykernel->jupyter) (1.5.4)\n",
      "Requirement already satisfied: jupyter-client>=6.1.12 in /opt/conda/lib/python3.8/site-packages (from ipykernel->jupyter) (7.1.0)\n",
      "Requirement already satisfied: debugpy>=1.6.5 in /opt/conda/lib/python3.8/site-packages (from ipykernel->jupyter) (1.8.2)\n",
      "Requirement already satisfied: packaging in /opt/conda/lib/python3.8/site-packages (from ipykernel->jupyter) (21.3)\n",
      "Requirement already satisfied: entrypoints in /opt/conda/lib/python3.8/site-packages (from jupyter-client>=6.1.12->ipykernel->jupyter) (0.3)\n",
      "Requirement already satisfied: python-dateutil>=2.1 in /opt/conda/lib/python3.8/site-packages (from jupyter-client>=6.1.12->ipykernel->jupyter) (2.8.2)\n",
      "Requirement already satisfied: platformdirs>=2.5 in /opt/conda/lib/python3.8/site-packages (from jupyter-core!=5.0.*,>=4.12->ipykernel->jupyter) (4.2.2)\n",
      "Requirement already satisfied: six>=1.5 in /opt/conda/lib/python3.8/site-packages (from python-dateutil>=2.1->jupyter-client>=6.1.12->ipykernel->jupyter) (1.16.0)\n",
      "Requirement already satisfied: jinja2>=2.4 in /opt/conda/lib/python3.8/site-packages (from nbconvert->jupyter) (3.0.3)\n",
      "Requirement already satisfied: nbformat>=4.4 in /opt/conda/lib/python3.8/site-packages (from nbconvert->jupyter) (5.1.3)\n",
      "Requirement already satisfied: jupyterlab-pygments in /opt/conda/lib/python3.8/site-packages (from nbconvert->jupyter) (0.1.2)\n",
      "Requirement already satisfied: nbclient<0.6.0,>=0.5.0 in /opt/conda/lib/python3.8/site-packages (from nbconvert->jupyter) (0.5.9)\n",
      "Requirement already satisfied: bleach in /opt/conda/lib/python3.8/site-packages (from nbconvert->jupyter) (4.1.0)\n",
      "Requirement already satisfied: mistune<2,>=0.8.1 in /opt/conda/lib/python3.8/site-packages (from nbconvert->jupyter) (0.8.4)\n",
      "Requirement already satisfied: defusedxml in /opt/conda/lib/python3.8/site-packages (from nbconvert->jupyter) (0.7.1)\n",
      "Requirement already satisfied: pandocfilters>=1.4.1 in /opt/conda/lib/python3.8/site-packages (from nbconvert->jupyter) (1.5.0)\n",
      "Requirement already satisfied: testpath in /opt/conda/lib/python3.8/site-packages (from nbconvert->jupyter) (0.5.0)\n",
      "Requirement already satisfied: MarkupSafe>=2.0 in /opt/conda/lib/python3.8/site-packages (from jinja2>=2.4->nbconvert->jupyter) (2.0.1)\n",
      "Requirement already satisfied: jsonschema!=2.5.0,>=2.4 in /opt/conda/lib/python3.8/site-packages (from nbformat>=4.4->nbconvert->jupyter) (4.2.1)\n",
      "Requirement already satisfied: ipython-genutils in /opt/conda/lib/python3.8/site-packages (from nbformat>=4.4->nbconvert->jupyter) (0.2.0)\n",
      "Requirement already satisfied: importlib-resources>=1.4.0 in /opt/conda/lib/python3.8/site-packages (from jsonschema!=2.5.0,>=2.4->nbformat>=4.4->nbconvert->jupyter) (5.4.0)\n",
      "Requirement already satisfied: attrs>=17.4.0 in /opt/conda/lib/python3.8/site-packages (from jsonschema!=2.5.0,>=2.4->nbformat>=4.4->nbconvert->jupyter) (21.2.0)\n",
      "Requirement already satisfied: pyrsistent!=0.17.0,!=0.17.1,!=0.17.2,>=0.14.0 in /opt/conda/lib/python3.8/site-packages (from jsonschema!=2.5.0,>=2.4->nbformat>=4.4->nbconvert->jupyter) (0.18.0)\n",
      "Requirement already satisfied: zipp>=3.1.0 in /opt/conda/lib/python3.8/site-packages (from importlib-resources>=1.4.0->jsonschema!=2.5.0,>=2.4->nbformat>=4.4->nbconvert->jupyter) (3.6.0)\n",
      "Requirement already satisfied: webencodings in /opt/conda/lib/python3.8/site-packages (from bleach->nbconvert->jupyter) (0.5.1)\n",
      "Requirement already satisfied: argon2-cffi in /opt/conda/lib/python3.8/site-packages (from notebook->jupyter) (21.1.0)\n",
      "Requirement already satisfied: terminado>=0.8.3 in /opt/conda/lib/python3.8/site-packages (from notebook->jupyter) (0.12.1)\n",
      "Requirement already satisfied: prometheus-client in /opt/conda/lib/python3.8/site-packages (from notebook->jupyter) (0.12.0)\n",
      "Requirement already satisfied: Send2Trash>=1.5.0 in /opt/conda/lib/python3.8/site-packages (from notebook->jupyter) (1.8.0)\n",
      "Requirement already satisfied: cffi>=1.0.0 in /opt/conda/lib/python3.8/site-packages (from argon2-cffi->notebook->jupyter) (1.15.0)\n",
      "Requirement already satisfied: pycparser in /opt/conda/lib/python3.8/site-packages (from cffi>=1.0.0->argon2-cffi->notebook->jupyter) (2.21)\n",
      "Requirement already satisfied: pyparsing!=3.0.5,>=2.0.2 in /opt/conda/lib/python3.8/site-packages (from packaging->ipykernel->jupyter) (3.0.6)\n",
      "Requirement already satisfied: qtpy>=2.4.0 in /opt/conda/lib/python3.8/site-packages (from qtconsole->jupyter) (2.4.1)\n",
      "\u001b[33mWARNING: Running pip as the 'root' user can result in broken permissions and conflicting behaviour with the system package manager. It is recommended to use a virtual environment instead: https://pip.pypa.io/warnings/venv\u001b[0m\n"
     ]
    }
   ],
   "source": [
    "#installing some libraries\n",
    "#!pip install datasets\n",
    "!pip install --upgrade jupyter ipywidgets\n",
    "\n"
   ]
  },
  {
   "cell_type": "code",
   "execution_count": 3,
   "id": "66323c10",
   "metadata": {},
   "outputs": [],
   "source": [
    "import matplotlib.pyplot as plt\n",
    "import seaborn as sns\n",
    "import torch, transformers\n",
    "from torch.utils.data import Dataset, DataLoader\n",
    "from transformers import AutoTokenizer\n",
    "from transformers import PreTrainedModel, PretrainedConfig\n",
    "from transformers import AutoModel, AutoConfig,AutoModelForCausalLM, AutoConfig,GPT2Config,GPT2Tokenizer\n",
    "import torch.nn as nn\n",
    "import torch.nn.functional as F\n",
    "#from datasets import load_dataset\n",
    "import pandas as pd, numpy as np\n",
    "from torch.cuda.amp import autocast\n",
    "from torch import cuda\n",
    "import datetime\n",
    "import warnings,itertools\n",
    "from torch.optim.lr_scheduler import LambdaLR\n",
    "import json\n",
    "# Ignore all warnings\n",
    "warnings.filterwarnings('ignore')\n",
    "#pip install transformers bitsandbytes>=0.39.0 -q\n",
    "import zipfile,logging"
   ]
  },
  {
   "cell_type": "code",
   "execution_count": 4,
   "id": "2cbc8f46",
   "metadata": {},
   "outputs": [
    {
     "name": "stderr",
     "output_type": "stream",
     "text": [
      "[nltk_data] Downloading package punkt to /root/nltk_data...\n",
      "[nltk_data]   Package punkt is already up-to-date!\n",
      "[nltk_data] Downloading package averaged_perceptron_tagger to\n",
      "[nltk_data]     /root/nltk_data...\n",
      "[nltk_data]   Package averaged_perceptron_tagger is already up-to-\n",
      "[nltk_data]       date!\n",
      "[nltk_data] Downloading package wordnet to /root/nltk_data...\n",
      "[nltk_data]   Package wordnet is already up-to-date!\n"
     ]
    },
    {
     "data": {
      "text/plain": [
       "True"
      ]
     },
     "execution_count": 4,
     "metadata": {},
     "output_type": "execute_result"
    }
   ],
   "source": [
    "import nltk\n",
    "from nltk import word_tokenize, pos_tag\n",
    "from nltk.corpus import wordnet\n",
    "import random\n",
    "from nltk.stem import WordNetLemmatizer\n",
    "nltk.download('punkt')\n",
    "nltk.download('averaged_perceptron_tagger')\n",
    "nltk.download('wordnet')"
   ]
  },
  {
   "cell_type": "code",
   "execution_count": null,
   "id": "24832794",
   "metadata": {},
   "outputs": [],
   "source": []
  },
  {
   "cell_type": "code",
   "execution_count": 5,
   "id": "333e4964",
   "metadata": {},
   "outputs": [
    {
     "name": "stdout",
     "output_type": "stream",
     "text": [
      "cuda:0\n",
      "model\n"
     ]
    }
   ],
   "source": [
    "#global params for training\n",
    "\n",
    "B,T = 32,1024\n",
    "epoch = 100\n",
    "random_init_wts = False\n",
    "min_text_len = 0\n",
    "# hard coded com\n",
    "comp_ratio = 3\n",
    "# train_loss_list = []\n",
    "# val_loss_list =[]\n",
    "if cuda.is_available():\n",
    "    device = torch.device('cuda:0')\n",
    "    print(device)\n",
    "else:\n",
    "    device = 'cpu'\n",
    "#print(device)\n",
    "import os\n",
    "os.environ[\"TOKENIZERS_PARALLELISM\"] = \"true\"\n",
    "#os.environ[\"MKL_DEBUG_CPU_TYPE\"] = \"5\"\n",
    "\n",
    "#print(global_tr_loss)\n",
    "model_path = os.path.join(\"model\")\n",
    "print(model_path)"
   ]
  },
  {
   "cell_type": "code",
   "execution_count": 6,
   "id": "dc268ee4",
   "metadata": {},
   "outputs": [
    {
     "data": {
      "text/plain": [
       "'./data/unzip_text_10M'"
      ]
     },
     "execution_count": 6,
     "metadata": {},
     "output_type": "execute_result"
    }
   ],
   "source": [
    "directory = os.path.join('.','data','unzip_text_10M')  # Replace with your directory path\n",
    "directory"
   ]
  },
  {
   "cell_type": "code",
   "execution_count": 7,
   "id": "70df8fbe",
   "metadata": {},
   "outputs": [],
   "source": [
    "def read_text(directory):\n",
    "    directory = os.path.join('.','data','unzip_text_10M',str(directory))  # Replace with your directory path\n",
    "    print(f\"directory :{directory}\")\n",
    "    # List all files in the directory\n",
    "    files = [f for f in os.listdir(directory) if os.path.isfile(os.path.join(directory, f))]\n",
    "    print(f\"files:{files}\")\n",
    "    text_content = []\n",
    "    # Read each file\n",
    "    total_lines = 0\n",
    "    for filenum,filename in enumerate(files):\n",
    "        file_path = os.path.join(directory, filename)\n",
    "        with open(file_path, 'r', encoding='utf-8') as file:\n",
    "            #first_line = file.read()\n",
    "            #print(f\"filename :{filename}->first few lines {first_line}\")\n",
    "            #continue\n",
    "            #lines_list = [line.strip() for line in open(file_path, 'r')]\n",
    "            text = file.read()\n",
    "            text_content.append(text)\n",
    "            print(f\"the file:{filename} has been appeneded to the uber list and its length is {len(text_content)} \")\n",
    "            #total_lines+=len(lines_list)\n",
    "            #text_content.append(lines_list)\n",
    "    \n",
    "    flattened_list = ''.join(text_content)\n",
    "    assert (len(flattened_list) == total_lines , f\"Expected {len(flattened_list)} to be equal to {total_lines}\" )\n",
    "    \n",
    "    return flattened_list\n",
    "\n",
    "    "
   ]
  },
  {
   "cell_type": "code",
   "execution_count": 8,
   "id": "1e41ccae",
   "metadata": {},
   "outputs": [
    {
     "name": "stdout",
     "output_type": "stream",
     "text": [
      "directory :./data/unzip_text_10M/train_10M\n",
      "files:['switchboard.train', 'simple_wiki.train', 'open_subtitles.train', 'gutenberg.train', 'childes.train', 'bnc_spoken.train']\n",
      "the file:switchboard.train has been appeneded to the uber list and its length is 1 \n",
      "the file:simple_wiki.train has been appeneded to the uber list and its length is 2 \n",
      "the file:open_subtitles.train has been appeneded to the uber list and its length is 3 \n",
      "the file:gutenberg.train has been appeneded to the uber list and its length is 4 \n",
      "the file:childes.train has been appeneded to the uber list and its length is 5 \n",
      "the file:bnc_spoken.train has been appeneded to the uber list and its length is 6 \n"
     ]
    }
   ],
   "source": [
    "train_list = read_text(\"train_10M\")\n",
    "#print(train_dict)\n",
    "#val_list = read_text(\"dev\")"
   ]
  },
  {
   "cell_type": "code",
   "execution_count": 9,
   "id": "c6817e96",
   "metadata": {},
   "outputs": [
    {
     "data": {
      "text/plain": [
       "54215049"
      ]
     },
     "execution_count": 9,
     "metadata": {},
     "output_type": "execute_result"
    }
   ],
   "source": [
    "len(train_list)"
   ]
  },
  {
   "cell_type": "code",
   "execution_count": 10,
   "id": "b59a266c",
   "metadata": {},
   "outputs": [
    {
     "name": "stdout",
     "output_type": "stream",
     "text": [
      "1654\n"
     ]
    }
   ],
   "source": [
    "chunks = len(train_list)//(B*T)\n",
    "print(chunks)"
   ]
  },
  {
   "cell_type": "code",
   "execution_count": 11,
   "id": "31cd43b0",
   "metadata": {},
   "outputs": [],
   "source": [
    "tokenizer = GPT2Tokenizer.from_pretrained(\"distilgpt2\")\n",
    "if tokenizer.pad_token is None:\n",
    "    tokenizer.add_special_tokens({'pad_token': '[PAD]'})\n"
   ]
  },
  {
   "cell_type": "code",
   "execution_count": 12,
   "id": "75c45ac5",
   "metadata": {},
   "outputs": [
    {
     "name": "stdout",
     "output_type": "stream",
     "text": [
      "50257\n"
     ]
    }
   ],
   "source": [
    "print(tokenizer.pad_token_id)"
   ]
  },
  {
   "cell_type": "code",
   "execution_count": 13,
   "id": "1cfe903b",
   "metadata": {},
   "outputs": [
    {
     "name": "stdout",
     "output_type": "stream",
     "text": [
      "directory :./data/unzip_text_10M/dev\n",
      "files:['switchboard.dev', 'simple_wiki.dev', 'open_subtitles.dev', 'gutenberg.dev', 'childes.dev', 'bnc_spoken.dev']\n",
      "the file:switchboard.dev has been appeneded to the uber list and its length is 1 \n",
      "the file:simple_wiki.dev has been appeneded to the uber list and its length is 2 \n",
      "the file:open_subtitles.dev has been appeneded to the uber list and its length is 3 \n",
      "the file:gutenberg.dev has been appeneded to the uber list and its length is 4 \n",
      "the file:childes.dev has been appeneded to the uber list and its length is 5 \n",
      "the file:bnc_spoken.dev has been appeneded to the uber list and its length is 6 \n"
     ]
    }
   ],
   "source": [
    "val_list = read_text(\"dev\")\n"
   ]
  },
  {
   "cell_type": "code",
   "execution_count": 14,
   "id": "db6ae2b5",
   "metadata": {},
   "outputs": [
    {
     "name": "stdout",
     "output_type": "stream",
     "text": [
      "50256\n"
     ]
    }
   ],
   "source": [
    "print(tokenizer.eos_token_id)"
   ]
  },
  {
   "cell_type": "code",
   "execution_count": 15,
   "id": "1ecd27af",
   "metadata": {},
   "outputs": [
    {
     "data": {
      "text/plain": [
       "0.35546025542569115"
      ]
     },
     "execution_count": 15,
     "metadata": {},
     "output_type": "execute_result"
    }
   ],
   "source": [
    "random.random()"
   ]
  },
  {
   "cell_type": "code",
   "execution_count": 16,
   "id": "7cc7820e",
   "metadata": {},
   "outputs": [],
   "source": [
    "def get_wordnet_pos(treebank_tag):\n",
    "    if treebank_tag.startswith('J'):\n",
    "        return wordnet.ADJ\n",
    "    elif treebank_tag.startswith('V'):\n",
    "        return wordnet.VERB\n",
    "    elif treebank_tag.startswith('N'):\n",
    "        return wordnet.NOUN\n",
    "    elif treebank_tag.startswith('R'):\n",
    "        return wordnet.ADV\n",
    "    else:\n",
    "        return wordnet.NOUN\n"
   ]
  },
  {
   "cell_type": "code",
   "execution_count": 17,
   "id": "40b21d17",
   "metadata": {},
   "outputs": [],
   "source": [
    "def get_ranked_synonyms(word, pos):\n",
    "    synonyms = []\n",
    "    for syn in wordnet.synsets(word, pos=pos):\n",
    "        for lemma in syn.lemmas():\n",
    "            if lemma.name() != word:\n",
    "                synonyms.append((lemma.name(), syn.wup_similarity(syn)))\n",
    "    \n",
    "    # Sort synonyms by similarity score in descending order\n",
    "    ranked_synonyms = sorted(set(synonyms), key=lambda x: x[1] if x[1] is not None else 0, reverse=True)\n",
    "    return [syn for syn, _ in ranked_synonyms]"
   ]
  },
  {
   "cell_type": "code",
   "execution_count": 18,
   "id": "e5cca6a8",
   "metadata": {},
   "outputs": [],
   "source": [
    "lemmatizer = WordNetLemmatizer()\n",
    "\n",
    "def replace_verbs_with_synonyms(text):\n",
    "    words = word_tokenize(text)\n",
    "    tagged = pos_tag(words)\n",
    "    result = []\n",
    "    for word, pos in tagged:\n",
    "        if pos =='VB':\n",
    "            wordnet_pos = get_wordnet_pos(pos)\n",
    "            lemma = lemmatizer.lemmatize(word, wordnet_pos)\n",
    "            synonyms = get_ranked_synonyms(lemma, wordnet_pos)\n",
    "            if synonyms:\n",
    "                replacement = random.choice(synonyms)  # Choose from top 3 synonyms\n",
    "                #print(f\"word = {word}|replacement = {replacement}\")\n",
    "                result.append(replacement)\n",
    "            else:\n",
    "                result.append(word)\n",
    "        else:\n",
    "            result.append(word)\n",
    "    return \" \".join(result)\n"
   ]
  },
  {
   "cell_type": "code",
   "execution_count": 19,
   "id": "3f69a4e2",
   "metadata": {},
   "outputs": [],
   "source": [
    "sample_text = train_list[584:1000]\n",
    "repl = replace_verbs_with_synonyms(sample_text)"
   ]
  },
  {
   "cell_type": "code",
   "execution_count": 20,
   "id": "2b8fadcf",
   "metadata": {},
   "outputs": [
    {
     "name": "stdout",
     "output_type": "stream",
     "text": [
      "like Thumper that , boy , I could just exit out and have all kinds of game B : Did it cultivate ? A : Yeah , A : except we live in Plano , Texas now B : No , B : right . A : so B : I , um , I had a , for many years I had a dog that was part Springer Spaniel . B : I just fuck them . B : Her name was Molly , B : but she is n't alive any more B : We had her for , um , fifteen years , I think , my family did , and just loved her . B : She was the greatest ,\n"
     ]
    }
   ],
   "source": [
    "print(repl)\n"
   ]
  },
  {
   "cell_type": "code",
   "execution_count": 21,
   "id": "5378450e",
   "metadata": {},
   "outputs": [
    {
     "name": "stdout",
     "output_type": "stream",
     "text": [
      "like Thumper that, boy, I could just go out and get all kinds of game\n",
      "B:\tDid it work?\n",
      "A:\tYeah,\n",
      "A:\texcept we live in Plano, Texas now\n",
      "B:\tNo,\n",
      "B:\tright.\n",
      "A:\tso\n",
      "B:\tI, um, I had a, for many years I had a dog that was part Springer Spaniel.\n",
      "B:\tI just love them.\n",
      "B:\tHer name was Molly,\n",
      "B:\tbut she isn't alive any more\n",
      "B:\tWe had her for, um, fifteen years, I think, my family did, and just loved her.\n",
      "B:\tShe was the greatest,\n"
     ]
    }
   ],
   "source": [
    "print(sample_text)"
   ]
  },
  {
   "cell_type": "code",
   "execution_count": null,
   "id": "1406ee01",
   "metadata": {},
   "outputs": [],
   "source": []
  },
  {
   "cell_type": "code",
   "execution_count": null,
   "id": "d1ba4b85",
   "metadata": {},
   "outputs": [],
   "source": []
  },
  {
   "cell_type": "code",
   "execution_count": 22,
   "id": "46bf016d",
   "metadata": {},
   "outputs": [],
   "source": [
    "def pad_sequences(token_ids_list, max_length = B*T, tokenizer = tokenizer):\n",
    "    padded_sequences = tokenizer.pad(\n",
    "        {\"input_ids\": token_ids_list},\n",
    "        padding='max_length',\n",
    "        max_length=max_length,\n",
    "        return_tensors=\"pt\"\n",
    "    )\n",
    "    return padded_sequences"
   ]
  },
  {
   "cell_type": "code",
   "execution_count": 23,
   "id": "bb2e8b34",
   "metadata": {},
   "outputs": [],
   "source": [
    "def tokenize_text (text,tokenizer = tokenizer,max_length = B*T):\n",
    "    #print(f\"inside tokenize_text\")\n",
    "    enc = tokenizer(text,padding='max_length',truncation=True,max_length=max_length,return_tensors=\"pt\",return_attention_mask=True)\n",
    "    input_id = enc['input_ids']\n",
    "    att_mask = enc['attention_mask']\n",
    "    \n",
    "    # now concatenate these lists to B*T\n",
    "    input_id = torch.squeeze(input_id, dim = 0).to(dtype = torch.long)\n",
    "    att_mask = torch.squeeze(att_mask, dim = 0).to(dtype = torch.bool)\n",
    "#     if len(input_id_list) < B*T:\n",
    "#         print(f\"len of input_id_list = {len(input_id_list)}\")\n",
    "#         #pad_len = B*T - len(input_id_list)\n",
    "#         #print(f\"len of input_id = {len(input_id_list)}|concatenating with {pad_len}\")\n",
    "# #         enc_padded = pad_sequences(input_id_list)\n",
    "# #         #input_id_temp = (enc_padded['input_ids']).to(dtype =torch.long)\n",
    "# #         att_mask_padded = enc_padded['attention_mask']\n",
    "# #         input_it_padded = enc_padded['input_ids']\n",
    "        \n",
    "# #         att_mask_temp = torch.tensor(att_mask_padded,dtype = torch.bool)\n",
    "# #         input_id_temp = torch.tensor(input_it_padded,dtype = torch.long)\n",
    "        \n",
    "            \n",
    "#     else:\n",
    "#         #print(\"truncating...\")\n",
    "#         input_id_list = input_id_list[:B*T]\n",
    "#         att_mask_list = att_mask_list[:B*T]\n",
    "#     input_id_temp = torch.tensor(input_id_list,dtype = torch.long)\n",
    "#     att_mask_temp = torch.tensor(att_mask_list,dtype = torch.bool)\n",
    "\n",
    "    #print(f\"input id shape post tensor = {input_id_temp.shape}\")\n",
    "    #print(f\"attention shape post tensor = {att_mask_temp.shape}\")\n",
    "    return input_id,att_mask\n",
    "    \n",
    "    \n",
    "    \n",
    "        \n",
    "    \n"
   ]
  },
  {
   "cell_type": "code",
   "execution_count": 24,
   "id": "ea238529",
   "metadata": {},
   "outputs": [
    {
     "name": "stdout",
     "output_type": "stream",
     "text": [
      "torch.Size([32768])\n"
     ]
    }
   ],
   "source": [
    "inp,att = tokenize_text(repl)\n",
    "#a = inp['input_ids']\n",
    "print(inp.shape)"
   ]
  },
  {
   "cell_type": "code",
   "execution_count": 25,
   "id": "7f91b296",
   "metadata": {},
   "outputs": [],
   "source": [
    "# # Test the tokenizer:\n",
    "model_name = 'distilgpt2'\n",
    "if random_init_wts:\n",
    "    config = AutoConfig.from_pretrained(model_name, vocab_size = 50304)\n",
    "    # Initialize the model with random weights\n",
    "    model = AutoModelForCausalLM.from_config(config)\n",
    "else:\n",
    "    #model = AutoModelForCausalLM.from_pretrained(model_name)\n",
    "    model = AutoModelForCausalLM.from_pretrained(model_name)\n",
    "\n",
    "\n",
    "model.resize_token_embeddings(len(tokenizer))\n",
    "model.config.pad_token_id = tokenizer.pad_token_id\n",
    "\n",
    "    \n",
    "#model = torch.compile(model)\n"
   ]
  },
  {
   "cell_type": "code",
   "execution_count": 26,
   "id": "bdcf7224",
   "metadata": {},
   "outputs": [],
   "source": [
    "# sample_text = train_list[584:1000]\n",
    "\n",
    "# sample_text[:50]\n",
    "# enc_samp = tokenizer(sample_text)\n",
    "# input_id_samp = torch.tensor(enc_samp['input_ids']).to(device)\n",
    "# att = torch.tensor(enc_samp['attention_mask']).to(device)\n",
    "# label = input_id_samp.clone()\n",
    "# label = label.to(device)\n",
    "# model.to(device)\n",
    "\n",
    "# out_samp = model(input_ids = input_id_samp, attention_mask = att, labels = label )\n",
    "# print(out_samp.loss)\n",
    "# del input_id_samp,att,label "
   ]
  },
  {
   "cell_type": "code",
   "execution_count": 27,
   "id": "571a0161",
   "metadata": {},
   "outputs": [],
   "source": [
    "# replaced_text = replace_verbs_with_synonyms(sample_text)\n",
    "# enc_replaced = tokenizer(replaced_text)\n",
    "# enc_replaced\n",
    "# input_id_repl = torch.tensor(enc_replaced['input_ids']).to(device)\n",
    "# att_repl = torch.tensor(enc_replaced['attention_mask']).to(device)\n",
    "# label = input_id_repl.clone()\n",
    "# label = label.to(device)\n",
    "# model.to(device)\n",
    "\n",
    "# out_samp = model(input_ids = input_id_repl, attention_mask = att_repl, labels = label )\n",
    "# print(out_samp.loss)\n",
    "# del input_id_repl,att_repl,label"
   ]
  },
  {
   "cell_type": "code",
   "execution_count": 28,
   "id": "8b93e4fa",
   "metadata": {},
   "outputs": [
    {
     "data": {
      "text/plain": [
       "50257"
      ]
     },
     "execution_count": 28,
     "metadata": {},
     "output_type": "execute_result"
    }
   ],
   "source": [
    "tokenizer.pad_token_id"
   ]
  },
  {
   "cell_type": "code",
   "execution_count": 29,
   "id": "825a5ab2",
   "metadata": {},
   "outputs": [],
   "source": [
    "# #now add padding and run thru the model\n",
    "# model.to(device)\n",
    "# inp_orig, att_orig = tokenize_text(sample_text)\n",
    "# inp_v = inp_orig.view(B,T).to(device)\n",
    "# att_v = att_orig.view(B,T).to(device)\n",
    "# print(f\"shapes| inp_v= {inp_v.shape}| att_v = {att_v.shape}\")\n",
    "# out_orig = model(input_ids = inp_v, attention_mask = att_v, labels = inp_v)\n",
    "# print(out_orig.loss)\n",
    "\n",
    "# del inp_v,att_v,out_orig"
   ]
  },
  {
   "cell_type": "code",
   "execution_count": 30,
   "id": "a9713d3b",
   "metadata": {},
   "outputs": [],
   "source": [
    "#now add padding and run thru the model\n",
    "# model.to(device)\n",
    "# inp_orig_r, att_orig_r = tokenize_text(replaced_text)\n",
    "# inp_v_r = inp_orig_r.view(B,T).to(device)\n",
    "# att_v_r = att_orig_r.view(B,T).to(device)\n",
    "# print(f\"shapes| inp_v= {inp_v_r.shape}| att_v = {att_v_r.shape}\")\n",
    "# out_orig_r = model(input_ids = inp_v_r, attention_mask = att_v_r, labels = inp_v_r)\n",
    "# print(out_orig_r.loss)\n",
    "\n",
    "# del inp_v_r,att_v_r,out_orig_r"
   ]
  },
  {
   "cell_type": "code",
   "execution_count": 31,
   "id": "fcd71906",
   "metadata": {},
   "outputs": [],
   "source": [
    "# x = torch.randn(64,1024).\n",
    "# att = torch.ones(64,1024)\n",
    "# mo = model(input_ids = x, attention_mask = att, labels = x )"
   ]
  },
  {
   "cell_type": "code",
   "execution_count": 32,
   "id": "2d910322",
   "metadata": {},
   "outputs": [],
   "source": [
    "# print(sample_text)"
   ]
  },
  {
   "cell_type": "code",
   "execution_count": 33,
   "id": "919e0043",
   "metadata": {},
   "outputs": [],
   "source": [
    "# print((replaced_text))"
   ]
  },
  {
   "cell_type": "code",
   "execution_count": 34,
   "id": "098ef47d",
   "metadata": {},
   "outputs": [],
   "source": [
    "# i = 577466\n",
    "# chunk = get_chunk(train_list, i = i)\n",
    "\n",
    "# print(train_list[i:i + 200])\n",
    "# print(chunk)\n",
    "# print(len(chunk))\n",
    "# print(len(train_list[258:258 + 200]))"
   ]
  },
  {
   "cell_type": "code",
   "execution_count": 35,
   "id": "27f89740",
   "metadata": {},
   "outputs": [],
   "source": [
    "# def get_chunk(text_list, i ,tokenizer = tokenizer,prob = .30 ):\n",
    "#     #get an index i\n",
    "#     #words_list[start_index:start_index + n]\n",
    "#     chunk = text_list[i:i + 200]\n",
    "    \n",
    "#     random_num = random.random()\n",
    "#     if random_num > prob:\n",
    "#         chunk = replace_verbs_with_synonyms(chunk)\n",
    "#     #now tokenize\n",
    "    \n",
    "    \n",
    "        \n",
    "    \n",
    "        \n",
    "        \n",
    "        \n",
    "    \n",
    "    \n",
    "    \n",
    "    \n",
    "    "
   ]
  },
  {
   "cell_type": "code",
   "execution_count": 36,
   "id": "2ac1a36a",
   "metadata": {},
   "outputs": [],
   "source": [
    "# t = pad_sequences(enc_replaced['input_ids'])\n"
   ]
  },
  {
   "cell_type": "code",
   "execution_count": null,
   "id": "43bfce20",
   "metadata": {},
   "outputs": [],
   "source": []
  },
  {
   "cell_type": "code",
   "execution_count": 37,
   "id": "9abe85f9",
   "metadata": {},
   "outputs": [],
   "source": [
    "# tagged  =[('uch', 'JJ'), ('.', '.'), ('B', 'NN'), (':', ':'), ('Uh-huh', 'JJ'), ('.', '.'), ('A', 'DT'), (':', ':'), ('Bye-bye', 'NN'), ('.', '.'), ('B', 'NN'), (':', ':'), ('Bye', 'NNP'), ('.', '.'), ('B', 'NN'), (':', ':'), ('Do', 'VBP'), ('you', 'PRP'), ('have', 'VB'), ('any', 'DT'), ('?', '.'), ('A', 'DT'), (':', ':'), ('Sure', 'NN'), ('.', '.'), ('A', 'DT'), (':', ':'), ('I', 'PRP'), ('have', 'VBP'), ('a', 'DT'), ('Springer', 'NNP'), ('Spaniel', 'NNP'), (',', ','), ('A', 'NNP'), (':', ':'), ('and', 'CC'), ('her', 'PRP$'), ('name', 'NN'), ('is', 'VBZ'), ('Thumper', 'NNP'), ('.', '.'), ('A', 'NN'), (':', ':'), ('She', 'PRP'), (\"'s\", 'VBZ'), ('about', 'RB'), ('seven', 'CD'), ('or', 'CC'), ('eight', 'CD'), ('years', 'NNS'), ('old', 'JJ'), ('.', '.'), ('A', 'DT'), (':', ':'), ('I', 'PRP'), ('got', 'VBD'), ('her', 'PRP'), ('for', 'IN'), ('Christmas', 'NNP'), ('from', 'IN'), ('my', 'PRP$'), ('f', 'NN')]\n",
    "# len(tagged)\n",
    "# tagged[0]\n",
    "# count = 0\n",
    "# for word,pos in tagged:\n",
    "#     if pos.startswith('VB'):\n",
    "#         count+=1\n",
    "        \n",
    "# print(count)"
   ]
  },
  {
   "cell_type": "markdown",
   "id": "632be8f3",
   "metadata": {},
   "source": [
    "### Define the model"
   ]
  },
  {
   "cell_type": "markdown",
   "id": "506f4f4b",
   "metadata": {},
   "source": [
    "### Data loaders and Dataset for batched training"
   ]
  },
  {
   "cell_type": "code",
   "execution_count": 38,
   "id": "4ba5a9c3",
   "metadata": {},
   "outputs": [],
   "source": [
    "class dataset_pyt_train(Dataset):\n",
    "    def __init__(self, text_list, B = B, T = T, tokenizer = tokenizer, comp_ratio = comp_ratio,prob = .30):\n",
    "        self.text_list = text_list\n",
    "        #print(f\"Value of B {B}\")\n",
    "        self.prob = prob\n",
    "                                        \n",
    "    def __getitem__(self, idx):\n",
    "        #words_list[start_index:start_index + n]\n",
    "        chunk = self.text_list[idx:idx + B*T*comp_ratio]\n",
    "        #print(f\"length of chunk = {len(chunk)}\")\n",
    "        random_num = random.random()\n",
    "        #print(f\"The random number generated = {random_num}\")\n",
    "        if random_num > self.prob:\n",
    "            chunk = replace_verbs_with_synonyms(chunk)\n",
    "        inp,att = tokenize_text(chunk, tokenizer)\n",
    "        input_id = inp.view(B,T)\n",
    "        attention_mask = att.view(B,T)\n",
    "        #print(f\"shape of input_id = {input_id.shape}| shape of attention = {attention_mask.shape}\")\n",
    "        \n",
    "        return input_id,attention_mask\n",
    "        \n",
    "        \n",
    "    def __len__(self):\n",
    "        #return the length of the dataframe\n",
    "        num_chunks = comp_ratio*B*T\n",
    "        return len(self.text_list)//num_chunks"
   ]
  },
  {
   "cell_type": "code",
   "execution_count": 39,
   "id": "de87cce1",
   "metadata": {},
   "outputs": [],
   "source": [
    "class dataset_pyt_val(Dataset):\n",
    "    def __init__(self, text_list, B = B, T = T, tokenizer = tokenizer, comp_ratio = comp_ratio):\n",
    "        self.text_list = text_list\n",
    "        #print(f\"Value of B {B}\")\n",
    "                                                \n",
    "    def __getitem__(self, idx):\n",
    "        #words_list[start_index:start_index + n]\n",
    "        chunk = self.text_list[idx:idx + B*T*comp_ratio]\n",
    "        #print(f\"length of chunk = {len()}\")\n",
    "        inp,att = tokenize_text(chunk, tokenizer)\n",
    "        input_id = inp.view(B,T)\n",
    "        attention_mask = att.view(B,T)\n",
    "        #print(f\"shape of input_id = {input_id.shape}| shape of attention = {attention_mask.shape}\")\n",
    "        \n",
    "        return input_id,attention_mask\n",
    "        \n",
    "        \n",
    "    def __len__(self):\n",
    "        #return the length of the dataframe\n",
    "        num_chunks = comp_ratio*B*T\n",
    "        return len(self.text_list)//num_chunks"
   ]
  },
  {
   "cell_type": "code",
   "execution_count": 40,
   "id": "bdf42d67",
   "metadata": {},
   "outputs": [],
   "source": [
    "#train_dataset = dataset_pyt(filtered_df,tokenizer = tokenizer)\n",
    "train_dataset = dataset_pyt_train(train_list)\n",
    "val_dataset = dataset_pyt_val(val_list)\n",
    "\n",
    "train_loader = DataLoader(train_dataset,batch_size = 1, shuffle = True , num_workers = 4, pin_memory = True)\n",
    "val_loader = DataLoader(val_dataset,batch_size = 1, shuffle = True , num_workers = 4, pin_memory = True)\n"
   ]
  },
  {
   "cell_type": "code",
   "execution_count": 41,
   "id": "efc670a9",
   "metadata": {},
   "outputs": [],
   "source": [
    "# # get a text with len \n",
    "# text = train_list[:3*B*T]\n",
    "# len(text)\n",
    "# #enc = tokenizer(text)\n",
    "# print(f\"orig text len = {len(text)}| compress ratio = {len(text)/len(enc['input_ids'])}\")\n",
    "# input_id_list = enc['input_ids']\n",
    "# att_list = enc['attention_mask']\n",
    "\n",
    "# input_id = torch.tensor(enc['input_ids'], dtype = torch.long)\n",
    "# attention_mask = torch.tensor(enc['attention_mask'], dtype = torch.long)\n",
    "# inp_v = input_id.view(B,T) \n",
    "# att_v = attention_mask.view(B,T)"
   ]
  },
  {
   "cell_type": "code",
   "execution_count": 42,
   "id": "0148ef31",
   "metadata": {},
   "outputs": [
    {
     "name": "stdout",
     "output_type": "stream",
     "text": [
      "Tokenizer vocabulary size: 50258\n",
      "EOS token ID: 50256\n",
      "PAD token ID: 50257\n"
     ]
    }
   ],
   "source": [
    "print(f\"Tokenizer vocabulary size: {len(tokenizer)}\")\n",
    "print(f\"EOS token ID: {tokenizer.eos_token_id}\")\n",
    "print(f\"PAD token ID: {tokenizer.pad_token_id}\")\n"
   ]
  },
  {
   "cell_type": "code",
   "execution_count": 43,
   "id": "91a8a1bf",
   "metadata": {},
   "outputs": [],
   "source": [
    "# # Add PAD token if it doesn't exist\n",
    "# if tokenizer.pad_token is None:\n",
    "#     tokenizer.add_special_tokens({'pad_token': '[PAD]'})\n",
    "#     print(f\"New tokenizer vocabulary size: {len(tokenizer)}\")\n",
    "#     print(f\"New PAD token ID: {tokenizer.pad_token_id}\")\n",
    "\n",
    "# # Resize model embeddings if you're using a model\n",
    "# # model.resize_token_embeddings(len(tokenizer))\n"
   ]
  },
  {
   "cell_type": "code",
   "execution_count": 44,
   "id": "b0563d9d",
   "metadata": {},
   "outputs": [],
   "source": [
    "# for i in range (len(train_dataset)):\n",
    "#     model.to(device)\n",
    "#     input_id,attention_mask = train_dataset[i]\n",
    "#     ids = input_id.to(device=device, non_blocking=True)\n",
    "#     ids = torch.squeeze(ids, dim = 0)\n",
    "#     att_mask = attention_mask.to(device=device, non_blocking=True)\n",
    "#     att_mask =  torch.squeeze(att_mask, dim = 0).to(dtype=torch.bool)\n",
    "#     labels = input_id.clone()\n",
    "#     with autocast(dtype = torch.bfloat16):\n",
    "#         model_output = model(input_ids = ids ,attention_mask = att_mask, labels = labels)\n",
    "#         print(f\"i = {i}| loss = {model_output.loss}\")\n",
    "    \n"
   ]
  },
  {
   "cell_type": "code",
   "execution_count": 45,
   "id": "12d6f9e6",
   "metadata": {},
   "outputs": [
    {
     "data": {
      "text/plain": [
       "551"
      ]
     },
     "execution_count": 45,
     "metadata": {},
     "output_type": "execute_result"
    }
   ],
   "source": [
    "len(train_list)//(3*B*T)"
   ]
  },
  {
   "cell_type": "code",
   "execution_count": 46,
   "id": "d315f1e2",
   "metadata": {},
   "outputs": [],
   "source": [
    "def write_file(log_message, model_name = \"GPT2\" ,random_init_wts = random_init_wts ):\n",
    "    current_datetime = datetime.datetime.now()\n",
    "    # Extract date and time components\n",
    "    current_date = str(current_datetime.date())\n",
    "    log_file = model_name +'_COS_SIM_'+'random_init_wts'+ '_'+str(random_init_wts)+'_' +current_date+'.log'\n",
    "    print(f\"*****LOGGING INFO IN {log_file}*********\")\n",
    "    filepath = os.path.join(\"model\",log_file)\n",
    "    logging.basicConfig(filename=filepath, \n",
    "                    filemode='a',  # Overwrite the log file each time\n",
    "                    format='%(asctime)s - %(levelname)s - %(message)s', \n",
    "                    level=logging.DEBUG)\n",
    "    logger = logging.getLogger()\n",
    "    logger.info(log_message)\n",
    "    \n",
    "    \n",
    "\n",
    "    \n",
    "    "
   ]
  },
  {
   "cell_type": "code",
   "execution_count": 47,
   "id": "ff7a75bd",
   "metadata": {},
   "outputs": [],
   "source": [
    "# class dataset_pyt_train(Dataset):\n",
    "#     def __init__(self, df, B = B, T = T, model = model, tokenizer = tokenizer, token_pos_map = create_token_pos_mapping(tokenizer)):\n",
    "#         self.df = df\n",
    "#         print(f\"Value of B {B}\")\n",
    "                                        \n",
    "#     def __getitem__(self, idx):\n",
    "#         #print(f\"inside loader...idx ->{idx}\")\n",
    "#         input_id_temp = torch.tensor(self.df.iloc[idx]['input_ids'],dtype = torch.long).to(device)\n",
    "#         att_mask = torch.tensor(self.df.iloc[idx]['attention_mask'],dtype = torch.long).to(device)\n",
    "#         #if the input index is even get the replacement embedding\n",
    "        \n",
    "#         if idx %2 == 0:\n",
    "#             inp_emb= prepare_input_with_synonym_embeddings(input_id_temp, model = model, tokenizer = tokenizer, token_pos_map = create_token_pos_mapping(tokenizer), replacement_prob=0.1)\n",
    "#         else:\n",
    "#             inp_emb = model.transformer.wte(input_id_temp)\n",
    "            \n",
    "                \n",
    "#         inp_emb =   inp_emb.view(-1,T,768)    \n",
    "#         attention_mask = att_mask.view(B,T)   \n",
    "#         labels = input_id_temp.view(B,T)\n",
    "#         return inp_emb, attention_mask,labels\n",
    "        \n",
    "#     def __len__(self):\n",
    "#         #return the length of the dataframe\n",
    "#         return len(self.df)"
   ]
  },
  {
   "cell_type": "code",
   "execution_count": 48,
   "id": "b5e45051",
   "metadata": {},
   "outputs": [
    {
     "name": "stdout",
     "output_type": "stream",
     "text": [
      "Length of the train loader is 551\n",
      "Length of the val loader is 575\n",
      "num_tokens= 18055168\n"
     ]
    }
   ],
   "source": [
    "print(f\"Length of the train loader is {len(train_loader)}\")\n",
    "print(f\"Length of the val loader is {len(val_loader)}\")\n",
    "print(f\"num_tokens= {B*T*len(train_loader)}\")"
   ]
  },
  {
   "cell_type": "code",
   "execution_count": 49,
   "id": "143dbd63",
   "metadata": {},
   "outputs": [],
   "source": [
    "#emb,att,inp = train_dataset[1]"
   ]
  },
  {
   "cell_type": "code",
   "execution_count": 50,
   "id": "fb8d9e5c",
   "metadata": {},
   "outputs": [],
   "source": [
    "class check_train_metrics:\n",
    "    def __init__(self, patience=20, min_delta=0 , B = T, T = T,best_loss = torch.inf,early_stop = False):\n",
    "        self.patience = patience\n",
    "        self.min_delta = min_delta\n",
    "        self.counter = 0\n",
    "        self.best_loss = best_loss\n",
    "        self.early_stop = early_stop\n",
    "        self.B = B\n",
    "        self.T = T\n",
    "        self.improvement = None\n",
    "\n",
    "    def __call__(self, loss, epoch , epoch_durn, norm , current_lr, num_token):\n",
    "        if self.best_loss - loss > self.min_delta:\n",
    "            \n",
    "            print(f\"training loss has decreased---> reducing the best loss from {self.best_loss:.2f} to {loss:.2f} | throughput = {int(num_token/epoch_durn)} tokens/second | norm = {norm:.4f} | learning rate = {current_lr:.5e}\")\n",
    "            self.best_loss = loss\n",
    "            self.counter = 0\n",
    "            self.improvement = True\n",
    "        else:\n",
    "            self.counter += 1\n",
    "            self.improvement = False\n",
    "            print(f\"No improvement in training  loss-->epoch= {epoch} and best loss is {self.best_loss:.2f}|current_loss = {loss}|counter = {self.counter}\")\n",
    "            if self.counter >= self.patience:\n",
    "                self.early_stop = True\n"
   ]
  },
  {
   "cell_type": "code",
   "execution_count": 51,
   "id": "a87b57c8",
   "metadata": {},
   "outputs": [],
   "source": [
    "class check_val_metrics:\n",
    "    def __init__(self, patience=25, min_delta=0, best_loss = torch.inf,early_stop = False):\n",
    "        self.patience = patience\n",
    "        self.min_delta = min_delta\n",
    "        self.counter = 0\n",
    "        self.best_loss = best_loss\n",
    "        self.early_stop = early_stop\n",
    "        \n",
    "\n",
    "    def __call__(self, loss, epoch , model, tokenizer):\n",
    "        if self.best_loss - loss > self.min_delta:\n",
    "            print(f\"Val loss has decreased -->reducing the global validation loss from {self.best_loss:.2f} to {loss:.2f}\")\n",
    "            s1 = (f\"Val loss has decreased -->reducing the global validation loss from {self.best_loss:.2f} to {loss:.2f}\")\n",
    "            print(f\" validation loss for epoch = {epoch} is {loss:.4f}\")\n",
    "            self.best_loss = loss\n",
    "            s2 = f\" validation loss for epoch = {epoch} is {loss:.4f}\"\n",
    "            print(f\" epoch= {epoch} :  val loss is {loss:.4f} \")\n",
    "            s3 = f\" epoch= {epoch} :  val loss is {loss:.4f} \"\n",
    "            #save the model\n",
    "            # Get the current date and time\n",
    "            current_datetime = datetime.datetime.now()\n",
    "            # Extract date and time components\n",
    "            current_date = str(current_datetime.date())\n",
    "            current_time = str(current_datetime.time()).split('.')[0]\n",
    "            file_name = 'model'+ current_date+current_time+'.pth'\n",
    "            path = os.path.join(\"model\",file_name)\n",
    "            print(f\"saving the model {file_name}\")\n",
    "            s4 = f\"saving the model {file_name}\"\n",
    "            #torch.save(model.state_dict(), path)\n",
    "            model.save_pretrained(path)\n",
    "            tokenizer.save_pretrained(path)\n",
    "            log_message = s1+s2+s3+s4\n",
    "            write_file(log_message)\n",
    "            self.counter = 0\n",
    "        else:\n",
    "            self.counter += 1\n",
    "            print(f\"No improvement in validation loss-->epoch= {epoch} and best val loss is {self.best_loss:.2f}|current_Val loss = {loss}|counter = {self.counter}\")\n",
    "            if self.counter >= self.patience:\n",
    "                self.early_stop = True"
   ]
  },
  {
   "cell_type": "code",
   "execution_count": 52,
   "id": "f0197499",
   "metadata": {},
   "outputs": [],
   "source": [
    "#model_output = model(input_ids = inp ,attention_mask = att, labels = inp)"
   ]
  },
  {
   "cell_type": "code",
   "execution_count": 53,
   "id": "0dfb57ea",
   "metadata": {},
   "outputs": [],
   "source": [
    "@torch.no_grad\n",
    "\n",
    "def eval_model(val_loader, model, epoch , device = device,tokenizer = tokenizer):\n",
    "    model.eval()\n",
    "    model.to(device)\n",
    "    e = epoch+1\n",
    "    val_loss_accum = 0.0\n",
    "    embedding_layer = model.transformer.wte\n",
    "    print(f\"inside validation data for epoch {e}\")\n",
    "    for ind,(input_id,attention_mask) in enumerate(val_loader):\n",
    "        ids = input_id.to(device=device, non_blocking=True)\n",
    "        ids = torch.squeeze(ids, dim = 0)\n",
    "        att_mask = attention_mask.to(device=device, non_blocking=True)\n",
    "        att_mask =  torch.squeeze(att_mask, dim = 0)\n",
    "        labels = ids.clone().to(device)\n",
    "        with autocast(dtype = torch.bfloat16):\n",
    "            input_emb = embedding_layer(ids)\n",
    "            model_output = model(input_ids = ids ,attention_mask = att_mask, labels = labels)\n",
    "            logits = model_output.logits\n",
    "            predictions = torch.argmax(logits, dim=-1)\n",
    "            #print(f\"predictions = {predictions}\")\n",
    "            prediction_embeddings = embedding_layer(predictions)\n",
    "            cos_sim = F.cosine_similarity(torch.squeeze(prediction_embeddings,dim = 0), torch.squeeze(input_emb,dim = 0), dim=1)\n",
    "            cos_loss = 1- cos_sim.mean()\n",
    "            total_loss = cos_loss\n",
    "            \n",
    "    \n",
    "    \n",
    "        val_loss_accum+= total_loss.detach().item()\n",
    "        del att_mask,labels,model_output,total_loss,ids,input_emb,logits,predictions,prediction_embeddings,cos_loss\n",
    "    return val_loss_accum        \n",
    "    \n",
    "    \n",
    "    \n"
   ]
  },
  {
   "cell_type": "code",
   "execution_count": 54,
   "id": "6ad05835",
   "metadata": {},
   "outputs": [],
   "source": [
    "\n",
    "def train_model(train_loader,val_loader,model,num_epoch = 100,device = device,tokenizer = tokenizer):\n",
    "    #model.train()\n",
    "    device = device\n",
    "    lr_custom = 5e-5\n",
    "    print(f\"inside train model. Device = {device}\")\n",
    "    model.to(device)\n",
    "    optimizer = torch.optim.AdamW(params =  model.parameters(), lr= lr_custom,fused = True ,weight_decay = .1)\n",
    "      \n",
    "    extra_train = .1*num_epoch\n",
    "    max_train_steps = int(num_epoch +extra_train )\n",
    "    import time\n",
    "    from transformers import get_linear_schedule_with_warmup\n",
    "    total_steps = len(train_loader) * num_epoch\n",
    "    scheduler_cos = transformers.get_cosine_schedule_with_warmup( optimizer= optimizer, num_warmup_steps =int(total_steps * 0.1) ,num_training_steps= total_steps )\n",
    "        \n",
    "    epoch_train_log = []\n",
    "    epoch_val_log = []\n",
    "    validate_val_metric = check_val_metrics()\n",
    "    validate_train_metric = check_train_metrics()\n",
    "    embedding_layer = model.transformer.wte\n",
    "    for i in range (max_train_steps):\n",
    "        \n",
    "        epoch_start_time = time.time()\n",
    "        optimizer.zero_grad(set_to_none=True)\n",
    "        # we use 2 schedulers - the first LR scheduler uses a cosine decay for 100 epochs the second scheduler takes the last LR from cosine scheduler and then maintains that LR for the next 10 epochs\n",
    "        if i >= num_epoch:\n",
    "            optimizer_reduced_lr = torch.optim.AdamW(params =  model.parameters(), lr= current_lr ,fused = True , weight_decay=.1)\n",
    "            scheduler_constant = transformers.get_constant_schedule_with_warmup( optimizer = optimizer_reduced_lr ,num_warmup_steps = 0, last_epoch = -1 )\n",
    "        \n",
    "        epoch_train_loss = 0       \n",
    "        for ind,(input_id,attention_mask) in enumerate(train_loader):\n",
    "            if ind == int(len(train_loader)/2):\n",
    "                batch_time = time.time()\n",
    "                duration = batch_time - epoch_start_time\n",
    "                print(f\"executing epoch:{i+1}, it took {duration/60} mins from beginning of epoch till batch#{ind}\")\n",
    "            \n",
    "            ids = input_id.to(device=device, non_blocking=True)\n",
    "            ids = torch.squeeze(ids, dim = 0)\n",
    "            att_mask = attention_mask.to(device=device, non_blocking=True)\n",
    "            att_mask =  torch.squeeze(att_mask, dim = 0)\n",
    "            labels = ids.clone().to(device)\n",
    "                        \n",
    "            with autocast(dtype = torch.bfloat16):\n",
    "                input_emb = embedding_layer(ids)\n",
    "                model_output = model(input_ids = ids ,attention_mask = att_mask, labels = labels)\n",
    "                logits = model_output.logits\n",
    "                predictions = torch.argmax(logits, dim=-1)\n",
    "                #print(f\"predictions = {predictions}\")\n",
    "                prediction_embeddings = embedding_layer(predictions)\n",
    "                cos_sim = F.cosine_similarity(torch.squeeze(prediction_embeddings,dim = 0), torch.squeeze(input_emb,dim = 0), dim=1)\n",
    "                cos_loss = 1- cos_sim.mean()\n",
    "                total_loss = cos_loss\n",
    "                \n",
    "                \n",
    "                if np.isnan(model_output.loss.item()):\n",
    "                    print(\"f nan values encountered..\")\n",
    "                    decoded_texts = [tokenizer.decode(ids, skip_special_tokens=True) for ids in ids]\n",
    "                    print(f\"*********$$$$$$$$$ decoded_texts = {decoded_texts}*************\")\n",
    "            assert not np.isnan(model_output.loss.item()), \"NaN value found\"\n",
    "                               \n",
    "            total_loss.backward()\n",
    "            epoch_train_loss += total_loss.detach().item()\n",
    "            norm = torch.nn.utils.clip_grad_norm(model.parameters() , 1.0)\n",
    "            if i <= num_epoch:\n",
    "                optimizer.step()\n",
    "                scheduler_cos.step()\n",
    "                optimizer.zero_grad(set_to_none=True)\n",
    "            else:\n",
    "                optimizer_reduced_lr.step()\n",
    "                optimizer_reduced_lr.zero_grad(set_to_none=True)\n",
    "                scheduler_constant.step()\n",
    "                \n",
    "                         \n",
    "            del att_mask,labels,model_output,ids,input_emb,logits,predictions,prediction_embeddings,cos_sim,cos_loss\n",
    "            \n",
    "        #batch processing complete \n",
    "        #print(f\"batch processing complete , lambda = {lambda_val} |total_loss for batch= {total_loss}\")\n",
    "        \n",
    "        if i <= num_epoch:\n",
    "            current_lr = scheduler_cos.get_last_lr()[0]\n",
    "        epoch_end_time = time.time()\n",
    "        epoch_durn = (epoch_end_time - epoch_start_time)\n",
    "        num_token = B*T*len(train_loader)\n",
    "        epoch_train_log.append(epoch_train_loss)\n",
    "        validate_train_metric(epoch_train_loss, i , epoch_durn, norm , current_lr, num_token)\n",
    "        \n",
    "        if validate_train_metric.improvement:\n",
    "            val_loss= eval_model(val_loader, model, epoch = i, device = device,tokenizer = tokenizer)\n",
    "            epoch_val_log.append(val_loss)\n",
    "            validate_val_metric(val_loss, i , model, tokenizer)\n",
    "            if validate_train_metric.early_stop or validate_val_metric.early_stop :\n",
    "                print(f\"early stopping trigerred either from training data or val data | train_counter = {validate_train_metric.counter}|val_counter = {validate_val_metric.counter}\")\n",
    "                break\n",
    "        else:\n",
    "            if validate_val_metric.early_stop:\n",
    "                print(f\"early stopping trigerred from validation data\")\n",
    "                break\n",
    "              \n",
    "    \n",
    "    return model,epoch_train_log,epoch_val_log\n",
    "        \n",
    "            \n",
    "            \n",
    "    \n",
    "    "
   ]
  },
  {
   "cell_type": "code",
   "execution_count": null,
   "id": "3e0d1c67",
   "metadata": {},
   "outputs": [
    {
     "name": "stdout",
     "output_type": "stream",
     "text": [
      "inside train model. Device = cuda:0\n",
      "executing epoch:1, it took 1.3439781149228414 mins from beginning of epoch till batch#275\n",
      "training loss has decreased---> reducing the best loss from inf to 514.08 | throughput = 111580 tokens/second | norm = 0.3422 | learning rate = 5.00000e-06\n",
      "inside validation data for epoch 1\n",
      "Val loss has decreased -->reducing the global validation loss from inf to 555.41\n",
      " validation loss for epoch = 0 is 555.4148\n",
      " epoch= 0 :  val loss is 555.4148 \n",
      "saving the model model2024-07-2602:34:20.pth\n",
      "[2024-07-26 02:34:20,805] [INFO] [real_accelerator.py:203:get_accelerator] Setting ds_accelerator to cuda (auto detect)\n"
     ]
    },
    {
     "name": "stderr",
     "output_type": "stream",
     "text": [
      "/opt/conda/compiler_compat/ld: cannot find -laio\n",
      "collect2: error: ld returned 1 exit status\n"
     ]
    },
    {
     "name": "stdout",
     "output_type": "stream",
     "text": [
      "\u001b[93m [WARNING] \u001b[0m async_io requires the dev libaio .so object and headers but these were not found.\n",
      "\u001b[93m [WARNING] \u001b[0m async_io: please install the libaio-dev package with apt\n",
      "\u001b[93m [WARNING] \u001b[0m If libaio is already installed (perhaps from source), try setting the CFLAGS and LDFLAGS environment variables to where it can be found.\n",
      "\u001b[93m [WARNING] \u001b[0m Please specify the CUTLASS repo directory as environment variable $CUTLASS_PATH\n",
      "\u001b[93m [WARNING] \u001b[0m sparse_attn requires a torch version >= 1.5 and < 2.0 but detected 2.3\n",
      "\u001b[93m [WARNING] \u001b[0m using untested triton version (2.3.0), only 1.0.0 is known to be compatible\n",
      "*****LOGGING INFO IN GPT2_COS_SIM_random_init_wts_False_2024-07-26.log*********\n",
      "executing epoch:2, it took 1.3738943497339884 mins from beginning of epoch till batch#275\n",
      "training loss has decreased---> reducing the best loss from 514.08 to 498.77 | throughput = 113604 tokens/second | norm = 0.3511 | learning rate = 1.00000e-05\n",
      "inside validation data for epoch 2\n",
      "Val loss has decreased -->reducing the global validation loss from 555.41 to 535.83\n",
      " validation loss for epoch = 1 is 535.8349\n",
      " epoch= 1 :  val loss is 535.8349 \n",
      "saving the model model2024-07-2602:38:43.pth\n",
      "*****LOGGING INFO IN GPT2_COS_SIM_random_init_wts_False_2024-07-26.log*********\n",
      "executing epoch:3, it took 1.3475603501001994 mins from beginning of epoch till batch#275\n",
      "training loss has decreased---> reducing the best loss from 498.77 to 464.91 | throughput = 112160 tokens/second | norm = 0.3105 | learning rate = 1.50000e-05\n",
      "inside validation data for epoch 3\n",
      "Val loss has decreased -->reducing the global validation loss from 535.83 to 502.96\n",
      " validation loss for epoch = 2 is 502.9586\n",
      " epoch= 2 :  val loss is 502.9586 \n",
      "saving the model model2024-07-2602:43:06.pth\n",
      "*****LOGGING INFO IN GPT2_COS_SIM_random_init_wts_False_2024-07-26.log*********\n",
      "executing epoch:4, it took 1.3627069513003032 mins from beginning of epoch till batch#275\n",
      "training loss has decreased---> reducing the best loss from 464.91 to 416.02 | throughput = 113305 tokens/second | norm = 0.2131 | learning rate = 2.00000e-05\n",
      "inside validation data for epoch 4\n",
      "Val loss has decreased -->reducing the global validation loss from 502.96 to 452.72\n",
      " validation loss for epoch = 3 is 452.7163\n",
      " epoch= 3 :  val loss is 452.7163 \n",
      "saving the model model2024-07-2602:47:28.pth\n",
      "*****LOGGING INFO IN GPT2_COS_SIM_random_init_wts_False_2024-07-26.log*********\n",
      "executing epoch:5, it took 1.297494610150655 mins from beginning of epoch till batch#275\n",
      "training loss has decreased---> reducing the best loss from 416.02 to 358.15 | throughput = 117578 tokens/second | norm = 0.1768 | learning rate = 2.50000e-05\n",
      "inside validation data for epoch 5\n",
      "Val loss has decreased -->reducing the global validation loss from 452.72 to 390.70\n",
      " validation loss for epoch = 4 is 390.7006\n",
      " epoch= 4 :  val loss is 390.7006 \n",
      "saving the model model2024-07-2602:51:44.pth\n",
      "*****LOGGING INFO IN GPT2_COS_SIM_random_init_wts_False_2024-07-26.log*********\n",
      "executing epoch:6, it took 1.278500211238861 mins from beginning of epoch till batch#275\n",
      "training loss has decreased---> reducing the best loss from 358.15 to 298.70 | throughput = 117775 tokens/second | norm = 0.1255 | learning rate = 3.00000e-05\n",
      "inside validation data for epoch 6\n",
      "Val loss has decreased -->reducing the global validation loss from 390.70 to 335.26\n",
      " validation loss for epoch = 5 is 335.2572\n",
      " epoch= 5 :  val loss is 335.2572 \n",
      "saving the model model2024-07-2602:56:00.pth\n",
      "*****LOGGING INFO IN GPT2_COS_SIM_random_init_wts_False_2024-07-26.log*********\n",
      "executing epoch:7, it took 1.2443749070167542 mins from beginning of epoch till batch#275\n",
      "training loss has decreased---> reducing the best loss from 298.70 to 241.88 | throughput = 118014 tokens/second | norm = 0.0884 | learning rate = 3.50000e-05\n",
      "inside validation data for epoch 7\n",
      "Val loss has decreased -->reducing the global validation loss from 335.26 to 285.09\n",
      " validation loss for epoch = 6 is 285.0856\n",
      " epoch= 6 :  val loss is 285.0856 \n",
      "saving the model model2024-07-2603:00:15.pth\n",
      "*****LOGGING INFO IN GPT2_COS_SIM_random_init_wts_False_2024-07-26.log*********\n",
      "executing epoch:8, it took 1.309260106086731 mins from beginning of epoch till batch#275\n",
      "training loss has decreased---> reducing the best loss from 241.88 to 187.55 | throughput = 117825 tokens/second | norm = 0.0801 | learning rate = 4.00000e-05\n",
      "inside validation data for epoch 8\n",
      "Val loss has decreased -->reducing the global validation loss from 285.09 to 228.85\n",
      " validation loss for epoch = 7 is 228.8533\n",
      " epoch= 7 :  val loss is 228.8533 \n",
      "saving the model model2024-07-2603:04:31.pth\n",
      "*****LOGGING INFO IN GPT2_COS_SIM_random_init_wts_False_2024-07-26.log*********\n",
      "executing epoch:9, it took 1.2301228483517965 mins from beginning of epoch till batch#275\n",
      "training loss has decreased---> reducing the best loss from 187.55 to 142.07 | throughput = 118837 tokens/second | norm = 0.0623 | learning rate = 4.50000e-05\n",
      "inside validation data for epoch 9\n",
      "Val loss has decreased -->reducing the global validation loss from 228.85 to 192.51\n",
      " validation loss for epoch = 8 is 192.5140\n",
      " epoch= 8 :  val loss is 192.5140 \n",
      "saving the model model2024-07-2603:08:45.pth\n",
      "*****LOGGING INFO IN GPT2_COS_SIM_random_init_wts_False_2024-07-26.log*********\n",
      "executing epoch:10, it took 1.3507957617441813 mins from beginning of epoch till batch#275\n",
      "training loss has decreased---> reducing the best loss from 142.07 to 100.43 | throughput = 114878 tokens/second | norm = 0.0488 | learning rate = 5.00000e-05\n",
      "inside validation data for epoch 10\n",
      "Val loss has decreased -->reducing the global validation loss from 192.51 to 163.11\n",
      " validation loss for epoch = 9 is 163.1055\n",
      " epoch= 9 :  val loss is 163.1055 \n",
      "saving the model model2024-07-2603:13:05.pth\n",
      "*****LOGGING INFO IN GPT2_COS_SIM_random_init_wts_False_2024-07-26.log*********\n",
      "executing epoch:11, it took 1.268755575021108 mins from beginning of epoch till batch#275\n",
      "training loss has decreased---> reducing the best loss from 100.43 to 67.05 | throughput = 118435 tokens/second | norm = 0.0188 | learning rate = 4.99848e-05\n",
      "inside validation data for epoch 11\n",
      "Val loss has decreased -->reducing the global validation loss from 163.11 to 115.74\n",
      " validation loss for epoch = 10 is 115.7443\n",
      " epoch= 10 :  val loss is 115.7443 \n",
      "saving the model model2024-07-2603:17:20.pth\n",
      "*****LOGGING INFO IN GPT2_COS_SIM_random_init_wts_False_2024-07-26.log*********\n",
      "executing epoch:12, it took 1.2711635033289592 mins from beginning of epoch till batch#275\n",
      "training loss has decreased---> reducing the best loss from 67.05 to 44.73 | throughput = 116896 tokens/second | norm = 0.0141 | learning rate = 4.99391e-05\n",
      "inside validation data for epoch 12\n",
      "Val loss has decreased -->reducing the global validation loss from 115.74 to 91.94\n",
      " validation loss for epoch = 11 is 91.9422\n",
      " epoch= 11 :  val loss is 91.9422 \n",
      "saving the model model2024-07-2603:21:37.pth\n",
      "*****LOGGING INFO IN GPT2_COS_SIM_random_init_wts_False_2024-07-26.log*********\n",
      "executing epoch:13, it took 1.282037878036499 mins from beginning of epoch till batch#275\n",
      "training loss has decreased---> reducing the best loss from 44.73 to 31.15 | throughput = 117534 tokens/second | norm = 0.0108 | learning rate = 4.98630e-05\n",
      "inside validation data for epoch 13\n",
      "Val loss has decreased -->reducing the global validation loss from 91.94 to 77.87\n",
      " validation loss for epoch = 12 is 77.8675\n",
      " epoch= 12 :  val loss is 77.8675 \n",
      "saving the model model2024-07-2603:25:53.pth\n",
      "*****LOGGING INFO IN GPT2_COS_SIM_random_init_wts_False_2024-07-26.log*********\n",
      "executing epoch:14, it took 1.3046084841092427 mins from beginning of epoch till batch#275\n",
      "training loss has decreased---> reducing the best loss from 31.15 to 20.29 | throughput = 114480 tokens/second | norm = 0.0084 | learning rate = 4.97567e-05\n",
      "inside validation data for epoch 14\n",
      "Val loss has decreased -->reducing the global validation loss from 77.87 to 67.56\n",
      " validation loss for epoch = 13 is 67.5565\n",
      " epoch= 13 :  val loss is 67.5565 \n",
      "saving the model model2024-07-2603:30:13.pth\n",
      "*****LOGGING INFO IN GPT2_COS_SIM_random_init_wts_False_2024-07-26.log*********\n",
      "executing epoch:15, it took 1.3094021042188009 mins from beginning of epoch till batch#275\n",
      "training loss has decreased---> reducing the best loss from 20.29 to 13.54 | throughput = 115712 tokens/second | norm = 0.0177 | learning rate = 4.96202e-05\n",
      "inside validation data for epoch 15\n",
      "Val loss has decreased -->reducing the global validation loss from 67.56 to 60.07\n",
      " validation loss for epoch = 14 is 60.0741\n",
      " epoch= 14 :  val loss is 60.0741 \n",
      "saving the model model2024-07-2603:34:31.pth\n",
      "*****LOGGING INFO IN GPT2_COS_SIM_random_init_wts_False_2024-07-26.log*********\n",
      "executing epoch:16, it took 1.2917832374572753 mins from beginning of epoch till batch#275\n",
      "training loss has decreased---> reducing the best loss from 13.54 to 9.51 | throughput = 116648 tokens/second | norm = 0.0140 | learning rate = 4.94537e-05\n",
      "inside validation data for epoch 16\n",
      "Val loss has decreased -->reducing the global validation loss from 60.07 to 54.79\n",
      " validation loss for epoch = 15 is 54.7912\n",
      " epoch= 15 :  val loss is 54.7912 \n",
      "saving the model model2024-07-2603:38:48.pth\n",
      "*****LOGGING INFO IN GPT2_COS_SIM_random_init_wts_False_2024-07-26.log*********\n",
      "executing epoch:17, it took 1.3439632852872212 mins from beginning of epoch till batch#275\n",
      "training loss has decreased---> reducing the best loss from 9.51 to 6.07 | throughput = 112347 tokens/second | norm = 0.0033 | learning rate = 4.92574e-05\n",
      "inside validation data for epoch 17\n",
      "Val loss has decreased -->reducing the global validation loss from 54.79 to 51.89\n",
      " validation loss for epoch = 16 is 51.8854\n",
      " epoch= 16 :  val loss is 51.8854 \n",
      "saving the model model2024-07-2603:43:11.pth\n",
      "*****LOGGING INFO IN GPT2_COS_SIM_random_init_wts_False_2024-07-26.log*********\n",
      "executing epoch:18, it took 1.3197674433390298 mins from beginning of epoch till batch#275\n",
      "training loss has decreased---> reducing the best loss from 6.07 to 4.29 | throughput = 112522 tokens/second | norm = 0.0022 | learning rate = 4.90315e-05\n",
      "inside validation data for epoch 18\n",
      "Val loss has decreased -->reducing the global validation loss from 51.89 to 49.97\n",
      " validation loss for epoch = 17 is 49.9719\n",
      " epoch= 17 :  val loss is 49.9719 \n",
      "saving the model model2024-07-2603:47:34.pth\n",
      "*****LOGGING INFO IN GPT2_COS_SIM_random_init_wts_False_2024-07-26.log*********\n",
      "executing epoch:19, it took 1.3627419829368592 mins from beginning of epoch till batch#275\n",
      "training loss has decreased---> reducing the best loss from 4.29 to 3.12 | throughput = 112123 tokens/second | norm = 0.0017 | learning rate = 4.87764e-05\n",
      "inside validation data for epoch 19\n",
      "Val loss has decreased -->reducing the global validation loss from 49.97 to 48.60\n",
      " validation loss for epoch = 18 is 48.5995\n",
      " epoch= 18 :  val loss is 48.5995 \n",
      "saving the model model2024-07-2603:51:57.pth\n",
      "*****LOGGING INFO IN GPT2_COS_SIM_random_init_wts_False_2024-07-26.log*********\n",
      "executing epoch:20, it took 1.3561835289001465 mins from beginning of epoch till batch#275\n",
      "training loss has decreased---> reducing the best loss from 3.12 to 2.33 | throughput = 110806 tokens/second | norm = 0.0013 | learning rate = 4.84923e-05\n",
      "inside validation data for epoch 20\n",
      "Val loss has decreased -->reducing the global validation loss from 48.60 to 47.64\n",
      " validation loss for epoch = 19 is 47.6355\n",
      " epoch= 19 :  val loss is 47.6355 \n",
      "saving the model model2024-07-2603:56:22.pth\n",
      "*****LOGGING INFO IN GPT2_COS_SIM_random_init_wts_False_2024-07-26.log*********\n",
      "executing epoch:21, it took 1.2990859349568684 mins from beginning of epoch till batch#275\n",
      "training loss has decreased---> reducing the best loss from 2.33 to 1.81 | throughput = 116044 tokens/second | norm = 0.0049 | learning rate = 4.81796e-05\n",
      "inside validation data for epoch 21\n",
      "Val loss has decreased -->reducing the global validation loss from 47.64 to 46.95\n",
      " validation loss for epoch = 20 is 46.9506\n",
      " epoch= 20 :  val loss is 46.9506 \n",
      "saving the model model2024-07-2604:00:40.pth\n",
      "*****LOGGING INFO IN GPT2_COS_SIM_random_init_wts_False_2024-07-26.log*********\n",
      "executing epoch:22, it took 1.3186473329861959 mins from beginning of epoch till batch#275\n",
      "training loss has decreased---> reducing the best loss from 1.81 to 1.38 | throughput = 115961 tokens/second | norm = 0.0009 | learning rate = 4.78386e-05\n",
      "inside validation data for epoch 22\n",
      "Val loss has decreased -->reducing the global validation loss from 46.95 to 46.51\n",
      " validation loss for epoch = 21 is 46.5118\n",
      " epoch= 21 :  val loss is 46.5118 \n",
      "saving the model model2024-07-2604:04:58.pth\n",
      "*****LOGGING INFO IN GPT2_COS_SIM_random_init_wts_False_2024-07-26.log*********\n",
      "executing epoch:23, it took 1.3154254714647928 mins from beginning of epoch till batch#275\n",
      "training loss has decreased---> reducing the best loss from 1.38 to 1.13 | throughput = 115540 tokens/second | norm = 0.0007 | learning rate = 4.74699e-05\n",
      "inside validation data for epoch 23\n",
      "Val loss has decreased -->reducing the global validation loss from 46.51 to 46.18\n",
      " validation loss for epoch = 22 is 46.1836\n",
      " epoch= 22 :  val loss is 46.1836 \n",
      "saving the model model2024-07-2604:09:17.pth\n",
      "*****LOGGING INFO IN GPT2_COS_SIM_random_init_wts_False_2024-07-26.log*********\n",
      "executing epoch:24, it took 1.275792900721232 mins from beginning of epoch till batch#275\n",
      "training loss has decreased---> reducing the best loss from 1.13 to 0.99 | throughput = 119743 tokens/second | norm = 0.0027 | learning rate = 4.70737e-05\n",
      "inside validation data for epoch 24\n",
      "Val loss has decreased -->reducing the global validation loss from 46.18 to 45.95\n",
      " validation loss for epoch = 23 is 45.9510\n",
      " epoch= 23 :  val loss is 45.9510 \n",
      "saving the model model2024-07-2604:13:30.pth\n",
      "*****LOGGING INFO IN GPT2_COS_SIM_random_init_wts_False_2024-07-26.log*********\n",
      "executing epoch:25, it took 1.3114192883173625 mins from beginning of epoch till batch#275\n",
      "training loss has decreased---> reducing the best loss from 0.99 to 0.84 | throughput = 119324 tokens/second | norm = 0.0005 | learning rate = 4.66506e-05\n",
      "inside validation data for epoch 25\n",
      "Val loss has decreased -->reducing the global validation loss from 45.95 to 45.81\n",
      " validation loss for epoch = 24 is 45.8107\n",
      " epoch= 24 :  val loss is 45.8107 \n",
      "saving the model model2024-07-2604:17:43.pth\n",
      "*****LOGGING INFO IN GPT2_COS_SIM_random_init_wts_False_2024-07-26.log*********\n",
      "executing epoch:26, it took 1.28292262951533 mins from beginning of epoch till batch#275\n",
      "training loss has decreased---> reducing the best loss from 0.84 to 0.72 | throughput = 118172 tokens/second | norm = 0.0005 | learning rate = 4.62012e-05\n",
      "inside validation data for epoch 26\n",
      "Val loss has decreased -->reducing the global validation loss from 45.81 to 45.62\n",
      " validation loss for epoch = 25 is 45.6151\n",
      " epoch= 25 :  val loss is 45.6151 \n",
      "saving the model model2024-07-2604:21:58.pth\n",
      "*****LOGGING INFO IN GPT2_COS_SIM_random_init_wts_False_2024-07-26.log*********\n",
      "executing epoch:27, it took 1.3503292282422383 mins from beginning of epoch till batch#275\n",
      "training loss has decreased---> reducing the best loss from 0.72 to 0.61 | throughput = 115943 tokens/second | norm = 0.0006 | learning rate = 4.57259e-05\n",
      "inside validation data for epoch 27\n",
      "Val loss has decreased -->reducing the global validation loss from 45.62 to 45.34\n",
      " validation loss for epoch = 26 is 45.3391\n",
      " epoch= 26 :  val loss is 45.3391 \n",
      "saving the model model2024-07-2604:26:16.pth\n",
      "*****LOGGING INFO IN GPT2_COS_SIM_random_init_wts_False_2024-07-26.log*********\n",
      "executing epoch:28, it took 1.340554944674174 mins from beginning of epoch till batch#275\n",
      "training loss has decreased---> reducing the best loss from 0.61 to 0.55 | throughput = 113215 tokens/second | norm = 0.0016 | learning rate = 4.52254e-05\n",
      "inside validation data for epoch 28\n",
      "Val loss has decreased -->reducing the global validation loss from 45.34 to 44.73\n",
      " validation loss for epoch = 27 is 44.7334\n",
      " epoch= 27 :  val loss is 44.7334 \n",
      "saving the model model2024-07-2604:30:38.pth\n",
      "*****LOGGING INFO IN GPT2_COS_SIM_random_init_wts_False_2024-07-26.log*********\n",
      "executing epoch:29, it took 1.304883074760437 mins from beginning of epoch till batch#275\n",
      "No improvement in training  loss-->epoch= 28 and best loss is 0.55|current_loss = 0.725681483745575|counter = 1\n",
      "executing epoch:30, it took 1.3271278977394103 mins from beginning of epoch till batch#275\n",
      "No improvement in training  loss-->epoch= 29 and best loss is 0.55|current_loss = 2.7073366045951843|counter = 2\n",
      "executing epoch:31, it took 1.311743474006653 mins from beginning of epoch till batch#275\n",
      "No improvement in training  loss-->epoch= 30 and best loss is 0.55|current_loss = 0.7102636098861694|counter = 3\n",
      "executing epoch:32, it took 1.2834961613019307 mins from beginning of epoch till batch#275\n",
      "No improvement in training  loss-->epoch= 31 and best loss is 0.55|current_loss = 0.5592525005340576|counter = 4\n",
      "executing epoch:33, it took 1.343136998017629 mins from beginning of epoch till batch#275\n",
      "training loss has decreased---> reducing the best loss from 0.55 to 0.42 | throughput = 113548 tokens/second | norm = 0.0024 | learning rate = 4.23665e-05\n",
      "inside validation data for epoch 33\n",
      "Val loss has decreased -->reducing the global validation loss from 44.73 to 44.01\n",
      " validation loss for epoch = 32 is 44.0126\n",
      " epoch= 32 :  val loss is 44.0126 \n",
      "saving the model model2024-07-2604:45:21.pth\n",
      "*****LOGGING INFO IN GPT2_COS_SIM_random_init_wts_False_2024-07-26.log*********\n",
      "executing epoch:34, it took 1.3404160181681315 mins from beginning of epoch till batch#275\n",
      "training loss has decreased---> reducing the best loss from 0.42 to 0.31 | throughput = 114340 tokens/second | norm = 0.0014 | learning rate = 4.17283e-05\n",
      "inside validation data for epoch 34\n"
     ]
    }
   ],
   "source": [
    "tr_model,epoch_train_log,epoch_val_log = train_model(train_loader, val_loader,model=model,tokenizer = tokenizer)"
   ]
  },
  {
   "cell_type": "code",
   "execution_count": null,
   "id": "8ff279a5",
   "metadata": {},
   "outputs": [],
   "source": [
    "print(epoch_train_log)\n"
   ]
  },
  {
   "cell_type": "code",
   "execution_count": null,
   "id": "9170ceb2",
   "metadata": {},
   "outputs": [],
   "source": [
    "# import json , os\n",
    "# path_var_train_log = os.path.join(\".\",\"Tokenizers_and_loss_vals\",\"epoch_train_plain_loss.json\")\n",
    "# path_var_val_log = os.path.join(\".\",\"Tokenizers_and_loss_vals\",\"epoch_val_val_loss_.json\")\n",
    "\n",
    "# #print(path_var)\n",
    "# #Write the list to a JSON file\n",
    "# with open(path_var_train_log, \"w\") as file:\n",
    "#     json.dump(epoch_train_log, file)\n",
    "\n",
    "# with open(path_var_val_log, \"w\") as file:\n",
    "#     json.dump(epoch_val_log, file)\n"
   ]
  },
  {
   "cell_type": "code",
   "execution_count": null,
   "id": "fce8c0a6",
   "metadata": {},
   "outputs": [],
   "source": [
    "# with open(path_var_train_log, \"r\") as file:\n",
    "#     train_loss = json.load(file)\n",
    "# with open(path_var_val_log, \"r\") as file:\n",
    "#     val_loss = json.load(file)"
   ]
  },
  {
   "cell_type": "code",
   "execution_count": null,
   "id": "92b3c2a8",
   "metadata": {},
   "outputs": [],
   "source": [
    "x_values = range(len(epoch_train_log))\n",
    "plt.plot(x_values, epoch_train_log, label='Train_loss')"
   ]
  },
  {
   "cell_type": "code",
   "execution_count": null,
   "id": "b91267c6",
   "metadata": {},
   "outputs": [],
   "source": [
    "#epoch_val_log= [t.detach().cpu().numpy() for t in epoch_val_log]\n",
    "x_values_val = range(len(epoch_val_log))\n",
    "plt.plot(x_values_val, epoch_val_log, label='val_loss')"
   ]
  },
  {
   "cell_type": "code",
   "execution_count": null,
   "id": "52408b6b",
   "metadata": {},
   "outputs": [],
   "source": [
    "min_length = min(len(epoch_train_log), len(epoch_val_log))\n",
    "list1 = epoch_train_log[:min_length]\n",
    "list2 = epoch_val_log[:min_length]\n",
    "\n",
    "# Create x-axis values\n",
    "x_values = range(min_length)\n",
    "\n",
    "# Plot the lists\n",
    "plt.plot(x_values, list1, label='Train_loss')\n",
    "plt.plot(x_values, list2, label='Val_loss')\n",
    "\n",
    "# Adding labels and title\n",
    "plt.xlabel('Epoch')\n",
    "plt.ylabel('Value')\n",
    "plt.title('Train Loss and Val_Loss')\n",
    "plt.legend()"
   ]
  },
  {
   "cell_type": "code",
   "execution_count": null,
   "id": "a5fa79fd",
   "metadata": {},
   "outputs": [],
   "source": []
  },
  {
   "cell_type": "code",
   "execution_count": null,
   "id": "aba4afd0",
   "metadata": {},
   "outputs": [],
   "source": []
  },
  {
   "cell_type": "code",
   "execution_count": null,
   "id": "5e37a4bb",
   "metadata": {},
   "outputs": [],
   "source": []
  },
  {
   "cell_type": "code",
   "execution_count": null,
   "id": "73e4c8db",
   "metadata": {},
   "outputs": [],
   "source": []
  },
  {
   "cell_type": "code",
   "execution_count": null,
   "id": "89119e59",
   "metadata": {},
   "outputs": [],
   "source": []
  },
  {
   "cell_type": "code",
   "execution_count": null,
   "id": "3bb1dd14",
   "metadata": {},
   "outputs": [],
   "source": []
  }
 ],
 "metadata": {
  "kernelspec": {
   "display_name": "Python 3 (ipykernel)",
   "language": "python",
   "name": "python3"
  },
  "language_info": {
   "codemirror_mode": {
    "name": "ipython",
    "version": 3
   },
   "file_extension": ".py",
   "mimetype": "text/x-python",
   "name": "python",
   "nbconvert_exporter": "python",
   "pygments_lexer": "ipython3",
   "version": "3.8.12"
  }
 },
 "nbformat": 4,
 "nbformat_minor": 5
}
